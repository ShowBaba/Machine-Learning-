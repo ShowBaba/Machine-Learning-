{
  "nbformat": 4,
  "nbformat_minor": 0,
  "metadata": {
    "kernelspec": {
      "display_name": "Python 3",
      "language": "python",
      "name": "python3"
    },
    "language_info": {
      "codemirror_mode": {
        "name": "ipython",
        "version": 3
      },
      "file_extension": ".py",
      "mimetype": "text/x-python",
      "name": "python",
      "nbconvert_exporter": "python",
      "pygments_lexer": "ipython3",
      "version": "3.6.5"
    },
    "colab": {
      "name": "001-Copy3.ipynb",
      "provenance": [],
      "include_colab_link": true
    }
  },
  "cells": [
    {
      "cell_type": "markdown",
      "metadata": {
        "id": "view-in-github",
        "colab_type": "text"
      },
      "source": [
        "<a href=\"https://colab.research.google.com/github/ShowBaba/Machine-Learning-/blob/master/001_Copy3.ipynb\" target=\"_parent\"><img src=\"https://colab.research.google.com/assets/colab-badge.svg\" alt=\"Open In Colab\"/></a>"
      ]
    },
    {
      "cell_type": "code",
      "metadata": {
        "id": "oiGeJ758H-Ky",
        "colab_type": "code",
        "colab": {}
      },
      "source": [
        "import numpy as np\n",
        "import pandas as pd\n",
        "import seaborn as sns\n",
        "import matplotlib as plt\n",
        "%matplotlib inline"
      ],
      "execution_count": 0,
      "outputs": []
    },
    {
      "cell_type": "code",
      "metadata": {
        "id": "dS960w_1H-LE",
        "colab_type": "code",
        "colab": {},
        "outputId": "986f2f70-7e3a-4baf-a74b-210f6ed97069"
      },
      "source": [
        "# load the datasets\n",
        "train_df = pd.read_csv('train.csv')\n",
        "test_df = pd.read_csv('test.csv')\n",
        "z = test_df['EmployeeNo']\n",
        "train_df.head()"
      ],
      "execution_count": 0,
      "outputs": [
        {
          "output_type": "execute_result",
          "data": {
            "text/html": [
              "<div>\n",
              "<style scoped>\n",
              "    .dataframe tbody tr th:only-of-type {\n",
              "        vertical-align: middle;\n",
              "    }\n",
              "\n",
              "    .dataframe tbody tr th {\n",
              "        vertical-align: top;\n",
              "    }\n",
              "\n",
              "    .dataframe thead th {\n",
              "        text-align: right;\n",
              "    }\n",
              "</style>\n",
              "<table border=\"1\" class=\"dataframe\">\n",
              "  <thead>\n",
              "    <tr style=\"text-align: right;\">\n",
              "      <th></th>\n",
              "      <th>EmployeeNo</th>\n",
              "      <th>Division</th>\n",
              "      <th>Qualification</th>\n",
              "      <th>Gender</th>\n",
              "      <th>Channel_of_Recruitment</th>\n",
              "      <th>Trainings_Attended</th>\n",
              "      <th>Year_of_birth</th>\n",
              "      <th>Last_performance_score</th>\n",
              "      <th>Year_of_recruitment</th>\n",
              "      <th>Targets_met</th>\n",
              "      <th>Previous_Award</th>\n",
              "      <th>Training_score_average</th>\n",
              "      <th>State_Of_Origin</th>\n",
              "      <th>Foreign_schooled</th>\n",
              "      <th>Marital_Status</th>\n",
              "      <th>Past_Disciplinary_Action</th>\n",
              "      <th>Previous_IntraDepartmental_Movement</th>\n",
              "      <th>No_of_previous_employers</th>\n",
              "      <th>Promoted_or_Not</th>\n",
              "    </tr>\n",
              "  </thead>\n",
              "  <tbody>\n",
              "    <tr>\n",
              "      <th>0</th>\n",
              "      <td>YAK/S/00001</td>\n",
              "      <td>Commercial Sales and Marketing</td>\n",
              "      <td>MSc, MBA and PhD</td>\n",
              "      <td>Female</td>\n",
              "      <td>Direct Internal process</td>\n",
              "      <td>2</td>\n",
              "      <td>1986</td>\n",
              "      <td>12.5</td>\n",
              "      <td>2011</td>\n",
              "      <td>1</td>\n",
              "      <td>0</td>\n",
              "      <td>41</td>\n",
              "      <td>ANAMBRA</td>\n",
              "      <td>No</td>\n",
              "      <td>Married</td>\n",
              "      <td>No</td>\n",
              "      <td>No</td>\n",
              "      <td>0</td>\n",
              "      <td>0</td>\n",
              "    </tr>\n",
              "    <tr>\n",
              "      <th>1</th>\n",
              "      <td>YAK/S/00002</td>\n",
              "      <td>Customer Support and Field Operations</td>\n",
              "      <td>First Degree or HND</td>\n",
              "      <td>Male</td>\n",
              "      <td>Agency and others</td>\n",
              "      <td>2</td>\n",
              "      <td>1991</td>\n",
              "      <td>12.5</td>\n",
              "      <td>2015</td>\n",
              "      <td>0</td>\n",
              "      <td>0</td>\n",
              "      <td>52</td>\n",
              "      <td>ANAMBRA</td>\n",
              "      <td>Yes</td>\n",
              "      <td>Married</td>\n",
              "      <td>No</td>\n",
              "      <td>No</td>\n",
              "      <td>0</td>\n",
              "      <td>0</td>\n",
              "    </tr>\n",
              "    <tr>\n",
              "      <th>2</th>\n",
              "      <td>YAK/S/00003</td>\n",
              "      <td>Commercial Sales and Marketing</td>\n",
              "      <td>First Degree or HND</td>\n",
              "      <td>Male</td>\n",
              "      <td>Direct Internal process</td>\n",
              "      <td>2</td>\n",
              "      <td>1987</td>\n",
              "      <td>7.5</td>\n",
              "      <td>2012</td>\n",
              "      <td>0</td>\n",
              "      <td>0</td>\n",
              "      <td>42</td>\n",
              "      <td>KATSINA</td>\n",
              "      <td>Yes</td>\n",
              "      <td>Married</td>\n",
              "      <td>No</td>\n",
              "      <td>No</td>\n",
              "      <td>0</td>\n",
              "      <td>0</td>\n",
              "    </tr>\n",
              "    <tr>\n",
              "      <th>3</th>\n",
              "      <td>YAK/S/00004</td>\n",
              "      <td>Commercial Sales and Marketing</td>\n",
              "      <td>First Degree or HND</td>\n",
              "      <td>Male</td>\n",
              "      <td>Agency and others</td>\n",
              "      <td>3</td>\n",
              "      <td>1982</td>\n",
              "      <td>2.5</td>\n",
              "      <td>2009</td>\n",
              "      <td>0</td>\n",
              "      <td>0</td>\n",
              "      <td>42</td>\n",
              "      <td>NIGER</td>\n",
              "      <td>Yes</td>\n",
              "      <td>Single</td>\n",
              "      <td>No</td>\n",
              "      <td>No</td>\n",
              "      <td>1</td>\n",
              "      <td>0</td>\n",
              "    </tr>\n",
              "    <tr>\n",
              "      <th>4</th>\n",
              "      <td>YAK/S/00006</td>\n",
              "      <td>Information and Strategy</td>\n",
              "      <td>First Degree or HND</td>\n",
              "      <td>Male</td>\n",
              "      <td>Direct Internal process</td>\n",
              "      <td>3</td>\n",
              "      <td>1990</td>\n",
              "      <td>7.5</td>\n",
              "      <td>2012</td>\n",
              "      <td>0</td>\n",
              "      <td>0</td>\n",
              "      <td>77</td>\n",
              "      <td>AKWA IBOM</td>\n",
              "      <td>Yes</td>\n",
              "      <td>Married</td>\n",
              "      <td>No</td>\n",
              "      <td>No</td>\n",
              "      <td>1</td>\n",
              "      <td>0</td>\n",
              "    </tr>\n",
              "  </tbody>\n",
              "</table>\n",
              "</div>"
            ],
            "text/plain": [
              "    EmployeeNo                               Division        Qualification  \\\n",
              "0  YAK/S/00001         Commercial Sales and Marketing     MSc, MBA and PhD   \n",
              "1  YAK/S/00002  Customer Support and Field Operations  First Degree or HND   \n",
              "2  YAK/S/00003         Commercial Sales and Marketing  First Degree or HND   \n",
              "3  YAK/S/00004         Commercial Sales and Marketing  First Degree or HND   \n",
              "4  YAK/S/00006               Information and Strategy  First Degree or HND   \n",
              "\n",
              "   Gender   Channel_of_Recruitment  Trainings_Attended  Year_of_birth  \\\n",
              "0  Female  Direct Internal process                   2           1986   \n",
              "1    Male        Agency and others                   2           1991   \n",
              "2    Male  Direct Internal process                   2           1987   \n",
              "3    Male        Agency and others                   3           1982   \n",
              "4    Male  Direct Internal process                   3           1990   \n",
              "\n",
              "   Last_performance_score  Year_of_recruitment  Targets_met  Previous_Award  \\\n",
              "0                    12.5                 2011            1               0   \n",
              "1                    12.5                 2015            0               0   \n",
              "2                     7.5                 2012            0               0   \n",
              "3                     2.5                 2009            0               0   \n",
              "4                     7.5                 2012            0               0   \n",
              "\n",
              "   Training_score_average State_Of_Origin Foreign_schooled Marital_Status  \\\n",
              "0                      41         ANAMBRA               No        Married   \n",
              "1                      52         ANAMBRA              Yes        Married   \n",
              "2                      42         KATSINA              Yes        Married   \n",
              "3                      42           NIGER              Yes         Single   \n",
              "4                      77       AKWA IBOM              Yes        Married   \n",
              "\n",
              "  Past_Disciplinary_Action Previous_IntraDepartmental_Movement  \\\n",
              "0                       No                                  No   \n",
              "1                       No                                  No   \n",
              "2                       No                                  No   \n",
              "3                       No                                  No   \n",
              "4                       No                                  No   \n",
              "\n",
              "  No_of_previous_employers  Promoted_or_Not  \n",
              "0                        0                0  \n",
              "1                        0                0  \n",
              "2                        0                0  \n",
              "3                        1                0  \n",
              "4                        1                0  "
            ]
          },
          "metadata": {
            "tags": []
          },
          "execution_count": 27
        }
      ]
    },
    {
      "cell_type": "code",
      "metadata": {
        "id": "YTVsPEB0H-LQ",
        "colab_type": "code",
        "colab": {},
        "outputId": "6dc45a79-e0d7-421c-bb9a-f97b23d02f36"
      },
      "source": [
        "train_df['Qualification'].unique()"
      ],
      "execution_count": 0,
      "outputs": [
        {
          "output_type": "execute_result",
          "data": {
            "text/plain": [
              "array(['MSc, MBA and PhD', 'First Degree or HND', nan,\n",
              "       'Non-University Education'], dtype=object)"
            ]
          },
          "metadata": {
            "tags": []
          },
          "execution_count": 28
        }
      ]
    },
    {
      "cell_type": "code",
      "metadata": {
        "id": "yazNIY_CH-Lb",
        "colab_type": "code",
        "colab": {}
      },
      "source": [
        "y = train_df.iloc[:, -1]"
      ],
      "execution_count": 0,
      "outputs": []
    },
    {
      "cell_type": "code",
      "metadata": {
        "scrolled": true,
        "id": "60MaMvviH-Lk",
        "colab_type": "code",
        "colab": {},
        "outputId": "dc2a1193-a292-4a4a-b707-d0517cb2dda6"
      },
      "source": [
        "# merge the datasets for processing\n",
        "df = [train_df, test_df]\n",
        "df = pd.concat(df, keys=['x', 'y'])\n",
        "df = df.drop(columns=['EmployeeNo', 'Promoted_or_Not'])\n",
        "df.head(10)"
      ],
      "execution_count": 0,
      "outputs": [
        {
          "output_type": "stream",
          "text": [
            "C:\\Users\\SAMUEL PC\\Anaconda\\lib\\site-packages\\ipykernel_launcher.py:3: FutureWarning: Sorting because non-concatenation axis is not aligned. A future version\n",
            "of pandas will change to not sort by default.\n",
            "\n",
            "To accept the future behavior, pass 'sort=False'.\n",
            "\n",
            "To retain the current behavior and silence the warning, pass 'sort=True'.\n",
            "\n",
            "  This is separate from the ipykernel package so we can avoid doing imports until\n"
          ],
          "name": "stderr"
        },
        {
          "output_type": "execute_result",
          "data": {
            "text/html": [
              "<div>\n",
              "<style scoped>\n",
              "    .dataframe tbody tr th:only-of-type {\n",
              "        vertical-align: middle;\n",
              "    }\n",
              "\n",
              "    .dataframe tbody tr th {\n",
              "        vertical-align: top;\n",
              "    }\n",
              "\n",
              "    .dataframe thead th {\n",
              "        text-align: right;\n",
              "    }\n",
              "</style>\n",
              "<table border=\"1\" class=\"dataframe\">\n",
              "  <thead>\n",
              "    <tr style=\"text-align: right;\">\n",
              "      <th></th>\n",
              "      <th></th>\n",
              "      <th>Channel_of_Recruitment</th>\n",
              "      <th>Division</th>\n",
              "      <th>Foreign_schooled</th>\n",
              "      <th>Gender</th>\n",
              "      <th>Last_performance_score</th>\n",
              "      <th>Marital_Status</th>\n",
              "      <th>No_of_previous_employers</th>\n",
              "      <th>Past_Disciplinary_Action</th>\n",
              "      <th>Previous_Award</th>\n",
              "      <th>Previous_IntraDepartmental_Movement</th>\n",
              "      <th>Qualification</th>\n",
              "      <th>State_Of_Origin</th>\n",
              "      <th>Targets_met</th>\n",
              "      <th>Training_score_average</th>\n",
              "      <th>Trainings_Attended</th>\n",
              "      <th>Year_of_birth</th>\n",
              "      <th>Year_of_recruitment</th>\n",
              "    </tr>\n",
              "  </thead>\n",
              "  <tbody>\n",
              "    <tr>\n",
              "      <th rowspan=\"10\" valign=\"top\">x</th>\n",
              "      <th>0</th>\n",
              "      <td>Direct Internal process</td>\n",
              "      <td>Commercial Sales and Marketing</td>\n",
              "      <td>No</td>\n",
              "      <td>Female</td>\n",
              "      <td>12.5</td>\n",
              "      <td>Married</td>\n",
              "      <td>0</td>\n",
              "      <td>No</td>\n",
              "      <td>0</td>\n",
              "      <td>No</td>\n",
              "      <td>MSc, MBA and PhD</td>\n",
              "      <td>ANAMBRA</td>\n",
              "      <td>1</td>\n",
              "      <td>41</td>\n",
              "      <td>2</td>\n",
              "      <td>1986</td>\n",
              "      <td>2011</td>\n",
              "    </tr>\n",
              "    <tr>\n",
              "      <th>1</th>\n",
              "      <td>Agency and others</td>\n",
              "      <td>Customer Support and Field Operations</td>\n",
              "      <td>Yes</td>\n",
              "      <td>Male</td>\n",
              "      <td>12.5</td>\n",
              "      <td>Married</td>\n",
              "      <td>0</td>\n",
              "      <td>No</td>\n",
              "      <td>0</td>\n",
              "      <td>No</td>\n",
              "      <td>First Degree or HND</td>\n",
              "      <td>ANAMBRA</td>\n",
              "      <td>0</td>\n",
              "      <td>52</td>\n",
              "      <td>2</td>\n",
              "      <td>1991</td>\n",
              "      <td>2015</td>\n",
              "    </tr>\n",
              "    <tr>\n",
              "      <th>2</th>\n",
              "      <td>Direct Internal process</td>\n",
              "      <td>Commercial Sales and Marketing</td>\n",
              "      <td>Yes</td>\n",
              "      <td>Male</td>\n",
              "      <td>7.5</td>\n",
              "      <td>Married</td>\n",
              "      <td>0</td>\n",
              "      <td>No</td>\n",
              "      <td>0</td>\n",
              "      <td>No</td>\n",
              "      <td>First Degree or HND</td>\n",
              "      <td>KATSINA</td>\n",
              "      <td>0</td>\n",
              "      <td>42</td>\n",
              "      <td>2</td>\n",
              "      <td>1987</td>\n",
              "      <td>2012</td>\n",
              "    </tr>\n",
              "    <tr>\n",
              "      <th>3</th>\n",
              "      <td>Agency and others</td>\n",
              "      <td>Commercial Sales and Marketing</td>\n",
              "      <td>Yes</td>\n",
              "      <td>Male</td>\n",
              "      <td>2.5</td>\n",
              "      <td>Single</td>\n",
              "      <td>1</td>\n",
              "      <td>No</td>\n",
              "      <td>0</td>\n",
              "      <td>No</td>\n",
              "      <td>First Degree or HND</td>\n",
              "      <td>NIGER</td>\n",
              "      <td>0</td>\n",
              "      <td>42</td>\n",
              "      <td>3</td>\n",
              "      <td>1982</td>\n",
              "      <td>2009</td>\n",
              "    </tr>\n",
              "    <tr>\n",
              "      <th>4</th>\n",
              "      <td>Direct Internal process</td>\n",
              "      <td>Information and Strategy</td>\n",
              "      <td>Yes</td>\n",
              "      <td>Male</td>\n",
              "      <td>7.5</td>\n",
              "      <td>Married</td>\n",
              "      <td>1</td>\n",
              "      <td>No</td>\n",
              "      <td>0</td>\n",
              "      <td>No</td>\n",
              "      <td>First Degree or HND</td>\n",
              "      <td>AKWA IBOM</td>\n",
              "      <td>0</td>\n",
              "      <td>77</td>\n",
              "      <td>3</td>\n",
              "      <td>1990</td>\n",
              "      <td>2012</td>\n",
              "    </tr>\n",
              "    <tr>\n",
              "      <th>5</th>\n",
              "      <td>Agency and others</td>\n",
              "      <td>Customer Support and Field Operations</td>\n",
              "      <td>Yes</td>\n",
              "      <td>Female</td>\n",
              "      <td>7.5</td>\n",
              "      <td>Married</td>\n",
              "      <td>1</td>\n",
              "      <td>No</td>\n",
              "      <td>0</td>\n",
              "      <td>Yes</td>\n",
              "      <td>First Degree or HND</td>\n",
              "      <td>ENUGU</td>\n",
              "      <td>0</td>\n",
              "      <td>51</td>\n",
              "      <td>2</td>\n",
              "      <td>1990</td>\n",
              "      <td>2014</td>\n",
              "    </tr>\n",
              "    <tr>\n",
              "      <th>6</th>\n",
              "      <td>Direct Internal process</td>\n",
              "      <td>Customer Support and Field Operations</td>\n",
              "      <td>No</td>\n",
              "      <td>Male</td>\n",
              "      <td>7.5</td>\n",
              "      <td>Single</td>\n",
              "      <td>1</td>\n",
              "      <td>No</td>\n",
              "      <td>0</td>\n",
              "      <td>No</td>\n",
              "      <td>MSc, MBA and PhD</td>\n",
              "      <td>OYO</td>\n",
              "      <td>0</td>\n",
              "      <td>55</td>\n",
              "      <td>2</td>\n",
              "      <td>1988</td>\n",
              "      <td>2013</td>\n",
              "    </tr>\n",
              "    <tr>\n",
              "      <th>7</th>\n",
              "      <td>Agency and others</td>\n",
              "      <td>Information and Strategy</td>\n",
              "      <td>Yes</td>\n",
              "      <td>Male</td>\n",
              "      <td>10.0</td>\n",
              "      <td>Married</td>\n",
              "      <td>0</td>\n",
              "      <td>No</td>\n",
              "      <td>0</td>\n",
              "      <td>No</td>\n",
              "      <td>First Degree or HND</td>\n",
              "      <td>LAGOS</td>\n",
              "      <td>0</td>\n",
              "      <td>75</td>\n",
              "      <td>2</td>\n",
              "      <td>1993</td>\n",
              "      <td>2014</td>\n",
              "    </tr>\n",
              "    <tr>\n",
              "      <th>8</th>\n",
              "      <td>Direct Internal process</td>\n",
              "      <td>Commercial Sales and Marketing</td>\n",
              "      <td>Yes</td>\n",
              "      <td>Male</td>\n",
              "      <td>12.5</td>\n",
              "      <td>Married</td>\n",
              "      <td>0</td>\n",
              "      <td>No</td>\n",
              "      <td>0</td>\n",
              "      <td>No</td>\n",
              "      <td>MSc, MBA and PhD</td>\n",
              "      <td>ONDO</td>\n",
              "      <td>1</td>\n",
              "      <td>46</td>\n",
              "      <td>2</td>\n",
              "      <td>1989</td>\n",
              "      <td>2014</td>\n",
              "    </tr>\n",
              "    <tr>\n",
              "      <th>9</th>\n",
              "      <td>Direct Internal process</td>\n",
              "      <td>Commercial Sales and Marketing</td>\n",
              "      <td>Yes</td>\n",
              "      <td>Female</td>\n",
              "      <td>12.5</td>\n",
              "      <td>Married</td>\n",
              "      <td>0</td>\n",
              "      <td>No</td>\n",
              "      <td>0</td>\n",
              "      <td>No</td>\n",
              "      <td>First Degree or HND</td>\n",
              "      <td>LAGOS</td>\n",
              "      <td>1</td>\n",
              "      <td>42</td>\n",
              "      <td>2</td>\n",
              "      <td>1986</td>\n",
              "      <td>2016</td>\n",
              "    </tr>\n",
              "  </tbody>\n",
              "</table>\n",
              "</div>"
            ],
            "text/plain": [
              "      Channel_of_Recruitment                               Division  \\\n",
              "x 0  Direct Internal process         Commercial Sales and Marketing   \n",
              "  1        Agency and others  Customer Support and Field Operations   \n",
              "  2  Direct Internal process         Commercial Sales and Marketing   \n",
              "  3        Agency and others         Commercial Sales and Marketing   \n",
              "  4  Direct Internal process               Information and Strategy   \n",
              "  5        Agency and others  Customer Support and Field Operations   \n",
              "  6  Direct Internal process  Customer Support and Field Operations   \n",
              "  7        Agency and others               Information and Strategy   \n",
              "  8  Direct Internal process         Commercial Sales and Marketing   \n",
              "  9  Direct Internal process         Commercial Sales and Marketing   \n",
              "\n",
              "    Foreign_schooled  Gender  Last_performance_score Marital_Status  \\\n",
              "x 0               No  Female                    12.5        Married   \n",
              "  1              Yes    Male                    12.5        Married   \n",
              "  2              Yes    Male                     7.5        Married   \n",
              "  3              Yes    Male                     2.5         Single   \n",
              "  4              Yes    Male                     7.5        Married   \n",
              "  5              Yes  Female                     7.5        Married   \n",
              "  6               No    Male                     7.5         Single   \n",
              "  7              Yes    Male                    10.0        Married   \n",
              "  8              Yes    Male                    12.5        Married   \n",
              "  9              Yes  Female                    12.5        Married   \n",
              "\n",
              "    No_of_previous_employers Past_Disciplinary_Action  Previous_Award  \\\n",
              "x 0                        0                       No               0   \n",
              "  1                        0                       No               0   \n",
              "  2                        0                       No               0   \n",
              "  3                        1                       No               0   \n",
              "  4                        1                       No               0   \n",
              "  5                        1                       No               0   \n",
              "  6                        1                       No               0   \n",
              "  7                        0                       No               0   \n",
              "  8                        0                       No               0   \n",
              "  9                        0                       No               0   \n",
              "\n",
              "    Previous_IntraDepartmental_Movement        Qualification State_Of_Origin  \\\n",
              "x 0                                  No     MSc, MBA and PhD         ANAMBRA   \n",
              "  1                                  No  First Degree or HND         ANAMBRA   \n",
              "  2                                  No  First Degree or HND         KATSINA   \n",
              "  3                                  No  First Degree or HND           NIGER   \n",
              "  4                                  No  First Degree or HND       AKWA IBOM   \n",
              "  5                                 Yes  First Degree or HND           ENUGU   \n",
              "  6                                  No     MSc, MBA and PhD             OYO   \n",
              "  7                                  No  First Degree or HND           LAGOS   \n",
              "  8                                  No     MSc, MBA and PhD            ONDO   \n",
              "  9                                  No  First Degree or HND           LAGOS   \n",
              "\n",
              "     Targets_met  Training_score_average  Trainings_Attended  Year_of_birth  \\\n",
              "x 0            1                      41                   2           1986   \n",
              "  1            0                      52                   2           1991   \n",
              "  2            0                      42                   2           1987   \n",
              "  3            0                      42                   3           1982   \n",
              "  4            0                      77                   3           1990   \n",
              "  5            0                      51                   2           1990   \n",
              "  6            0                      55                   2           1988   \n",
              "  7            0                      75                   2           1993   \n",
              "  8            1                      46                   2           1989   \n",
              "  9            1                      42                   2           1986   \n",
              "\n",
              "     Year_of_recruitment  \n",
              "x 0                 2011  \n",
              "  1                 2015  \n",
              "  2                 2012  \n",
              "  3                 2009  \n",
              "  4                 2012  \n",
              "  5                 2014  \n",
              "  6                 2013  \n",
              "  7                 2014  \n",
              "  8                 2014  \n",
              "  9                 2016  "
            ]
          },
          "metadata": {
            "tags": []
          },
          "execution_count": 30
        }
      ]
    },
    {
      "cell_type": "code",
      "metadata": {
        "id": "hUXIiFLpH-Lv",
        "colab_type": "code",
        "colab": {},
        "outputId": "09456380-0ae5-4b3d-ddae-003c0138b6c2"
      },
      "source": [
        "# check for null values\n",
        "df.isnull().sum()"
      ],
      "execution_count": 0,
      "outputs": [
        {
          "output_type": "execute_result",
          "data": {
            "text/plain": [
              "Channel_of_Recruitment                    0\n",
              "Division                                  0\n",
              "Foreign_schooled                          0\n",
              "Gender                                    0\n",
              "Last_performance_score                    0\n",
              "Marital_Status                            0\n",
              "No_of_previous_employers                  0\n",
              "Past_Disciplinary_Action                  0\n",
              "Previous_Award                            0\n",
              "Previous_IntraDepartmental_Movement       0\n",
              "Qualification                          2409\n",
              "State_Of_Origin                           0\n",
              "Targets_met                               0\n",
              "Training_score_average                    0\n",
              "Trainings_Attended                        0\n",
              "Year_of_birth                             0\n",
              "Year_of_recruitment                       0\n",
              "dtype: int64"
            ]
          },
          "metadata": {
            "tags": []
          },
          "execution_count": 31
        }
      ]
    },
    {
      "cell_type": "code",
      "metadata": {
        "id": "GV0oaypEH-L6",
        "colab_type": "code",
        "colab": {}
      },
      "source": [
        "# filling the null values based on the \"Foreign_schooled \" column\n",
        "df_null = df.groupby('Targets_met').Qualification.transform(lambda x: x.fillna(x.mode()[0]))"
      ],
      "execution_count": 0,
      "outputs": []
    },
    {
      "cell_type": "code",
      "metadata": {
        "id": "C_33ntAUH-MA",
        "colab_type": "code",
        "colab": {}
      },
      "source": [
        "# dropping the \"Qualification\" column that has null values and adding the clean coolumn\n",
        "df = df.drop(columns=['Qualification'])\n",
        "df['Qualification'] = df_null  "
      ],
      "execution_count": 0,
      "outputs": []
    },
    {
      "cell_type": "code",
      "metadata": {
        "id": "LZMS6IzwH-MR",
        "colab_type": "code",
        "colab": {},
        "outputId": "bf91eb7a-94e3-4548-e59b-ad63ce0e190c"
      },
      "source": [
        "# data visualization\n",
        "sns.heatmap(train_df.corr())"
      ],
      "execution_count": 0,
      "outputs": [
        {
          "output_type": "execute_result",
          "data": {
            "text/plain": [
              "<matplotlib.axes._subplots.AxesSubplot at 0x5d70c36240>"
            ]
          },
          "metadata": {
            "tags": []
          },
          "execution_count": 34
        },
        {
          "output_type": "display_data",
          "data": {
            "image/png": "[encoded data removed]",
            "text/plain": [
              "<Figure size 432x288 with 2 Axes>"
            ]
          },
          "metadata": {
            "tags": []
          }
        }
      ]
    },
    {
      "cell_type": "code",
      "metadata": {
        "id": "URAB2GIhH-MZ",
        "colab_type": "code",
        "colab": {},
        "outputId": "5b4b2f3f-df25-48b0-ebbf-247a1b0cc42f"
      },
      "source": [
        "df.isnull().sum()"
      ],
      "execution_count": 0,
      "outputs": [
        {
          "output_type": "execute_result",
          "data": {
            "text/plain": [
              "Channel_of_Recruitment                 0\n",
              "Division                               0\n",
              "Foreign_schooled                       0\n",
              "Gender                                 0\n",
              "Last_performance_score                 0\n",
              "Marital_Status                         0\n",
              "No_of_previous_employers               0\n",
              "Past_Disciplinary_Action               0\n",
              "Previous_Award                         0\n",
              "Previous_IntraDepartmental_Movement    0\n",
              "State_Of_Origin                        0\n",
              "Targets_met                            0\n",
              "Training_score_average                 0\n",
              "Trainings_Attended                     0\n",
              "Year_of_birth                          0\n",
              "Year_of_recruitment                    0\n",
              "Qualification                          0\n",
              "dtype: int64"
            ]
          },
          "metadata": {
            "tags": []
          },
          "execution_count": 35
        }
      ]
    },
    {
      "cell_type": "code",
      "metadata": {
        "id": "9sIlEDQ3H-Ml",
        "colab_type": "code",
        "colab": {},
        "outputId": "53f2a09d-5873-4e04-ec04-478132388b4a"
      },
      "source": [
        "# collecting columns with categorical datas\n",
        "cat_col = []\n",
        "for i in df.columns:\n",
        "    if df[i].dtype == 'O':\n",
        "        cat_col.append(i)\n",
        "    else:\n",
        "        pass\n",
        "    \n",
        "cat_col"
      ],
      "execution_count": 0,
      "outputs": [
        {
          "output_type": "execute_result",
          "data": {
            "text/plain": [
              "['Channel_of_Recruitment',\n",
              " 'Division',\n",
              " 'Foreign_schooled',\n",
              " 'Gender',\n",
              " 'Marital_Status',\n",
              " 'No_of_previous_employers',\n",
              " 'Past_Disciplinary_Action',\n",
              " 'Previous_IntraDepartmental_Movement',\n",
              " 'State_Of_Origin',\n",
              " 'Qualification']"
            ]
          },
          "metadata": {
            "tags": []
          },
          "execution_count": 36
        }
      ]
    },
    {
      "cell_type": "code",
      "metadata": {
        "scrolled": false,
        "id": "M3tE-XzNH-Mx",
        "colab_type": "code",
        "colab": {},
        "outputId": "c87104e7-c92d-48e0-cb2f-75ff84f60857"
      },
      "source": [
        "# using pandas's get dummies to encode\n",
        "df = pd.get_dummies(df, columns=cat_col)\n",
        "df.head()"
      ],
      "execution_count": 0,
      "outputs": [
        {
          "output_type": "execute_result",
          "data": {
            "text/html": [
              "<div>\n",
              "<style scoped>\n",
              "    .dataframe tbody tr th:only-of-type {\n",
              "        vertical-align: middle;\n",
              "    }\n",
              "\n",
              "    .dataframe tbody tr th {\n",
              "        vertical-align: top;\n",
              "    }\n",
              "\n",
              "    .dataframe thead th {\n",
              "        text-align: right;\n",
              "    }\n",
              "</style>\n",
              "<table border=\"1\" class=\"dataframe\">\n",
              "  <thead>\n",
              "    <tr style=\"text-align: right;\">\n",
              "      <th></th>\n",
              "      <th></th>\n",
              "      <th>Last_performance_score</th>\n",
              "      <th>Previous_Award</th>\n",
              "      <th>Targets_met</th>\n",
              "      <th>Training_score_average</th>\n",
              "      <th>Trainings_Attended</th>\n",
              "      <th>Year_of_birth</th>\n",
              "      <th>Year_of_recruitment</th>\n",
              "      <th>Channel_of_Recruitment_Agency and others</th>\n",
              "      <th>Channel_of_Recruitment_Direct Internal process</th>\n",
              "      <th>Channel_of_Recruitment_Referral and Special candidates</th>\n",
              "      <th>...</th>\n",
              "      <th>State_Of_Origin_OYO</th>\n",
              "      <th>State_Of_Origin_PLATEAU</th>\n",
              "      <th>State_Of_Origin_RIVERS</th>\n",
              "      <th>State_Of_Origin_SOKOTO</th>\n",
              "      <th>State_Of_Origin_TARABA</th>\n",
              "      <th>State_Of_Origin_YOBE</th>\n",
              "      <th>State_Of_Origin_ZAMFARA</th>\n",
              "      <th>Qualification_First Degree or HND</th>\n",
              "      <th>Qualification_MSc, MBA and PhD</th>\n",
              "      <th>Qualification_Non-University Education</th>\n",
              "    </tr>\n",
              "  </thead>\n",
              "  <tbody>\n",
              "    <tr>\n",
              "      <th rowspan=\"5\" valign=\"top\">x</th>\n",
              "      <th>0</th>\n",
              "      <td>12.5</td>\n",
              "      <td>0</td>\n",
              "      <td>1</td>\n",
              "      <td>41</td>\n",
              "      <td>2</td>\n",
              "      <td>1986</td>\n",
              "      <td>2011</td>\n",
              "      <td>0</td>\n",
              "      <td>1</td>\n",
              "      <td>0</td>\n",
              "      <td>...</td>\n",
              "      <td>0</td>\n",
              "      <td>0</td>\n",
              "      <td>0</td>\n",
              "      <td>0</td>\n",
              "      <td>0</td>\n",
              "      <td>0</td>\n",
              "      <td>0</td>\n",
              "      <td>0</td>\n",
              "      <td>1</td>\n",
              "      <td>0</td>\n",
              "    </tr>\n",
              "    <tr>\n",
              "      <th>1</th>\n",
              "      <td>12.5</td>\n",
              "      <td>0</td>\n",
              "      <td>0</td>\n",
              "      <td>52</td>\n",
              "      <td>2</td>\n",
              "      <td>1991</td>\n",
              "      <td>2015</td>\n",
              "      <td>1</td>\n",
              "      <td>0</td>\n",
              "      <td>0</td>\n",
              "      <td>...</td>\n",
              "      <td>0</td>\n",
              "      <td>0</td>\n",
              "      <td>0</td>\n",
              "      <td>0</td>\n",
              "      <td>0</td>\n",
              "      <td>0</td>\n",
              "      <td>0</td>\n",
              "      <td>1</td>\n",
              "      <td>0</td>\n",
              "      <td>0</td>\n",
              "    </tr>\n",
              "    <tr>\n",
              "      <th>2</th>\n",
              "      <td>7.5</td>\n",
              "      <td>0</td>\n",
              "      <td>0</td>\n",
              "      <td>42</td>\n",
              "      <td>2</td>\n",
              "      <td>1987</td>\n",
              "      <td>2012</td>\n",
              "      <td>0</td>\n",
              "      <td>1</td>\n",
              "      <td>0</td>\n",
              "      <td>...</td>\n",
              "      <td>0</td>\n",
              "      <td>0</td>\n",
              "      <td>0</td>\n",
              "      <td>0</td>\n",
              "      <td>0</td>\n",
              "      <td>0</td>\n",
              "      <td>0</td>\n",
              "      <td>1</td>\n",
              "      <td>0</td>\n",
              "      <td>0</td>\n",
              "    </tr>\n",
              "    <tr>\n",
              "      <th>3</th>\n",
              "      <td>2.5</td>\n",
              "      <td>0</td>\n",
              "      <td>0</td>\n",
              "      <td>42</td>\n",
              "      <td>3</td>\n",
              "      <td>1982</td>\n",
              "      <td>2009</td>\n",
              "      <td>1</td>\n",
              "      <td>0</td>\n",
              "      <td>0</td>\n",
              "      <td>...</td>\n",
              "      <td>0</td>\n",
              "      <td>0</td>\n",
              "      <td>0</td>\n",
              "      <td>0</td>\n",
              "      <td>0</td>\n",
              "      <td>0</td>\n",
              "      <td>0</td>\n",
              "      <td>1</td>\n",
              "      <td>0</td>\n",
              "      <td>0</td>\n",
              "    </tr>\n",
              "    <tr>\n",
              "      <th>4</th>\n",
              "      <td>7.5</td>\n",
              "      <td>0</td>\n",
              "      <td>0</td>\n",
              "      <td>77</td>\n",
              "      <td>3</td>\n",
              "      <td>1990</td>\n",
              "      <td>2012</td>\n",
              "      <td>0</td>\n",
              "      <td>1</td>\n",
              "      <td>0</td>\n",
              "      <td>...</td>\n",
              "      <td>0</td>\n",
              "      <td>0</td>\n",
              "      <td>0</td>\n",
              "      <td>0</td>\n",
              "      <td>0</td>\n",
              "      <td>0</td>\n",
              "      <td>0</td>\n",
              "      <td>1</td>\n",
              "      <td>0</td>\n",
              "      <td>0</td>\n",
              "    </tr>\n",
              "  </tbody>\n",
              "</table>\n",
              "<p>5 rows × 77 columns</p>\n",
              "</div>"
            ],
            "text/plain": [
              "     Last_performance_score  Previous_Award  Targets_met  \\\n",
              "x 0                    12.5               0            1   \n",
              "  1                    12.5               0            0   \n",
              "  2                     7.5               0            0   \n",
              "  3                     2.5               0            0   \n",
              "  4                     7.5               0            0   \n",
              "\n",
              "     Training_score_average  Trainings_Attended  Year_of_birth  \\\n",
              "x 0                      41                   2           1986   \n",
              "  1                      52                   2           1991   \n",
              "  2                      42                   2           1987   \n",
              "  3                      42                   3           1982   \n",
              "  4                      77                   3           1990   \n",
              "\n",
              "     Year_of_recruitment  Channel_of_Recruitment_Agency and others  \\\n",
              "x 0                 2011                                         0   \n",
              "  1                 2015                                         1   \n",
              "  2                 2012                                         0   \n",
              "  3                 2009                                         1   \n",
              "  4                 2012                                         0   \n",
              "\n",
              "     Channel_of_Recruitment_Direct Internal process  \\\n",
              "x 0                                               1   \n",
              "  1                                               0   \n",
              "  2                                               1   \n",
              "  3                                               0   \n",
              "  4                                               1   \n",
              "\n",
              "     Channel_of_Recruitment_Referral and Special candidates  ...  \\\n",
              "x 0                                                  0       ...   \n",
              "  1                                                  0       ...   \n",
              "  2                                                  0       ...   \n",
              "  3                                                  0       ...   \n",
              "  4                                                  0       ...   \n",
              "\n",
              "     State_Of_Origin_OYO  State_Of_Origin_PLATEAU  State_Of_Origin_RIVERS  \\\n",
              "x 0                    0                        0                       0   \n",
              "  1                    0                        0                       0   \n",
              "  2                    0                        0                       0   \n",
              "  3                    0                        0                       0   \n",
              "  4                    0                        0                       0   \n",
              "\n",
              "     State_Of_Origin_SOKOTO  State_Of_Origin_TARABA  State_Of_Origin_YOBE  \\\n",
              "x 0                       0                       0                     0   \n",
              "  1                       0                       0                     0   \n",
              "  2                       0                       0                     0   \n",
              "  3                       0                       0                     0   \n",
              "  4                       0                       0                     0   \n",
              "\n",
              "     State_Of_Origin_ZAMFARA  Qualification_First Degree or HND  \\\n",
              "x 0                        0                                  0   \n",
              "  1                        0                                  1   \n",
              "  2                        0                                  1   \n",
              "  3                        0                                  1   \n",
              "  4                        0                                  1   \n",
              "\n",
              "     Qualification_MSc, MBA and PhD  Qualification_Non-University Education  \n",
              "x 0                               1                                       0  \n",
              "  1                               0                                       0  \n",
              "  2                               0                                       0  \n",
              "  3                               0                                       0  \n",
              "  4                               0                                       0  \n",
              "\n",
              "[5 rows x 77 columns]"
            ]
          },
          "metadata": {
            "tags": []
          },
          "execution_count": 37
        }
      ]
    },
    {
      "cell_type": "code",
      "metadata": {
        "scrolled": false,
        "id": "4VnFL4prH-M4",
        "colab_type": "code",
        "colab": {},
        "outputId": "c1848468-673b-4c32-8f4f-5ee436514c81"
      },
      "source": [
        "df.shape"
      ],
      "execution_count": 0,
      "outputs": [
        {
          "output_type": "execute_result",
          "data": {
            "text/plain": [
              "(54808, 77)"
            ]
          },
          "metadata": {
            "tags": []
          },
          "execution_count": 38
        }
      ]
    },
    {
      "cell_type": "code",
      "metadata": {
        "id": "FITAncj9H-NB",
        "colab_type": "code",
        "colab": {},
        "outputId": "c83da08a-d438-4857-b5ea-b9154c855f1a"
      },
      "source": [
        "# splitting the dataset back to test and train using the keys 'x' & 'y'\n",
        "train_df = df.loc['x']\n",
        "test_df = df.loc['y']\n",
        "train_df.shape\n",
        "test_df.shape"
      ],
      "execution_count": 0,
      "outputs": [
        {
          "output_type": "execute_result",
          "data": {
            "text/plain": [
              "(16496, 77)"
            ]
          },
          "metadata": {
            "tags": []
          },
          "execution_count": 39
        }
      ]
    },
    {
      "cell_type": "code",
      "metadata": {
        "id": "8zISYXyJH-NI",
        "colab_type": "code",
        "colab": {},
        "outputId": "18f92b60-87b3-4738-d47f-9b5e7b7ea3b9"
      },
      "source": [
        "train_df.shape"
      ],
      "execution_count": 0,
      "outputs": [
        {
          "output_type": "execute_result",
          "data": {
            "text/plain": [
              "(38312, 77)"
            ]
          },
          "metadata": {
            "tags": []
          },
          "execution_count": 40
        }
      ]
    },
    {
      "cell_type": "code",
      "metadata": {
        "id": "1R_bGk4FH-NP",
        "colab_type": "code",
        "colab": {}
      },
      "source": [
        ""
      ],
      "execution_count": 0,
      "outputs": []
    },
    {
      "cell_type": "code",
      "metadata": {
        "id": "dArN-SZmH-NX",
        "colab_type": "code",
        "colab": {}
      },
      "source": [
        "X = train_df.iloc[:, :]\n",
        "# y = train_df.iloc[:, -1]\n",
        "Z = test_df.iloc[:,:]"
      ],
      "execution_count": 0,
      "outputs": []
    },
    {
      "cell_type": "code",
      "metadata": {
        "id": "ysCH7SUeH-Nf",
        "colab_type": "code",
        "colab": {},
        "outputId": "45fb43d7-81ac-4596-ba46-6b04e177a20d"
      },
      "source": [
        "from sklearn.feature_selection import SelectKBest\n",
        "from sklearn.feature_selection import chi2\n",
        "\n",
        "bestfeatures = SelectKBest(score_func=chi2, k=50)\n",
        "fit = bestfeatures.fit(X,y)\n",
        "dfscores = pd.DataFrame(fit.scores_)\n",
        "dfcolumns = pd.DataFrame(X.columns)\n",
        "# concat two dataframe for better visualization\n",
        "featureScores = pd.concat([dfcolumns,dfscores], axis=1)\n",
        "featureScores.columns = ['Speccs', 'Score']\n",
        "# naming the dataframe columns\n",
        "print(featureScores.nlargest(50,'Score'))\n",
        "\n",
        "'Training_score_average', 'Previous_Award', 'Targets_met', 'Last_performance_score', 'Division_Commercial Sales and Marketing',\n",
        "'Qualification_MSc, MBA and PhD', 'Division_People/HR Management', 'State_Of_Origin_ONDO', 'Division_Sourcing and Purchasing',\n",
        "'Qualification_First Degree or HND', 'Division_Regulatory and Legal services', 'Division_Research and Innovation',\n",
        "'Division_Information and Strategy', 'Trainings_Attended', 'State_Of_Origin_ABIA', 'Gender_Female',\n",
        "'State_Of_Origin_OGUN', 'State_Of_Origin_ANAMBRA', 'State_Of_Origin_KWARA', 'Marital_Status_Not_Sure',\n",
        "'Previous_IntraDepartmental_Movement_Yes', 'State_Of_Origin_NIGER', 'Division_Customer Support and Field Operations',\n",
        "'State_Of_Origin_GOMBE', 'No_of_previous_employers_2', 'Gender_Male', 'State_Of_Origin_FCT', 'State_Of_Origin_OSUN',\n",
        "'State_Of_Origin_TARABA', 'No_of_previous_employers_5', 'Past_Disciplinary_Action_Yes', 'State_Of_Origin_SOKOTO',\n",
        "'No_of_previous_employers_0', 'State_Of_Origin_JIGAWA', 'State_Of_Origin_EBONYI', 'No_of_previous_employers_4',\n",
        "'Marital_Status_Single', 'State_Of_Origin_KOGI'"
      ],
      "execution_count": 0,
      "outputs": [
        {
          "output_type": "stream",
          "text": [
            "                                               Speccs        Score\n",
            "3                              Training_score_average  3934.505005\n",
            "1                                      Previous_Award  1518.545947\n",
            "2                                         Targets_met  1249.518420\n",
            "0                              Last_performance_score   999.330013\n",
            "13  Division_Information Technology and Solution S...    33.348765\n",
            "11            Division_Commercial Sales and Marketing    24.296496\n",
            "75                     Qualification_MSc, MBA and PhD    19.699993\n",
            "15                      Division_People/HR Management    16.847330\n",
            "9   Channel_of_Recruitment_Referral and Special ca...    14.047592\n",
            "65                               State_Of_Origin_ONDO    12.394098\n",
            "18                   Division_Sourcing and Purchasing     9.707663\n",
            "74                  Qualification_First Degree or HND     7.859928\n",
            "16             Division_Regulatory and Legal services     7.775183\n",
            "17                   Division_Research and Innovation     4.677651\n",
            "14                  Division_Information and Strategy     3.830396\n",
            "4                                  Trainings_Attended     3.742026\n",
            "37                               State_Of_Origin_ABIA     3.209172\n",
            "21                                      Gender_Female     2.927819\n",
            "64                               State_Of_Origin_OGUN     2.900157\n",
            "40                            State_Of_Origin_ANAMBRA     2.825408\n",
            "60                              State_Of_Origin_KWARA     2.729108\n",
            "24                            Marital_Status_Not_Sure     2.446018\n",
            "36            Previous_IntraDepartmental_Movement_Yes     2.384867\n",
            "63                              State_Of_Origin_NIGER     1.992020\n",
            "12     Division_Customer Support and Field Operations     1.411872\n",
            "52                              State_Of_Origin_GOMBE     1.285817\n",
            "28                         No_of_previous_employers_2     1.272354\n",
            "22                                        Gender_Male     1.245195\n",
            "51                                State_Of_Origin_FCT     1.232028\n",
            "66                               State_Of_Origin_OSUN     1.231201\n",
            "71                             State_Of_Origin_TARABA     1.225833\n",
            "31                         No_of_previous_employers_5     1.053966\n",
            "34                       Past_Disciplinary_Action_Yes     0.890102\n",
            "70                             State_Of_Origin_SOKOTO     0.866703\n",
            "26                         No_of_previous_employers_0     0.860781\n",
            "54                             State_Of_Origin_JIGAWA     0.854544\n",
            "47                             State_Of_Origin_EBONYI     0.827382\n",
            "30                         No_of_previous_employers_4     0.789381\n",
            "25                              Marital_Status_Single     0.744861\n",
            "59                               State_Of_Origin_KOGI     0.560538\n",
            "8      Channel_of_Recruitment_Direct Internal process     0.419269\n",
            "38                            State_Of_Origin_ADAMAWA     0.372926\n",
            "5                                       Year_of_birth     0.364986\n",
            "19                                Foreign_schooled_No     0.358886\n",
            "43                              State_Of_Origin_BENUE     0.353369\n",
            "57                            State_Of_Origin_KATSINA     0.340319\n",
            "48                                State_Of_Origin_EDO     0.310834\n",
            "53                                State_Of_Origin_IMO     0.291796\n",
            "32               No_of_previous_employers_More than 5     0.275058\n",
            "58                              State_Of_Origin_KEBBI     0.249254\n"
          ],
          "name": "stdout"
        },
        {
          "output_type": "execute_result",
          "data": {
            "text/plain": [
              "('Marital_Status_Single', 'State_Of_Origin_KOGI')"
            ]
          },
          "metadata": {
            "tags": []
          },
          "execution_count": 42
        }
      ]
    },
    {
      "cell_type": "code",
      "metadata": {
        "id": "ueBHDs7gH-Nl",
        "colab_type": "code",
        "colab": {},
        "outputId": "be187fff-3c59-4d3f-fa25-4c4f2480269f"
      },
      "source": [
        "X.columns"
      ],
      "execution_count": 0,
      "outputs": [
        {
          "output_type": "execute_result",
          "data": {
            "text/plain": [
              "Index(['Last_performance_score', 'Previous_Award', 'Targets_met',\n",
              "       'Training_score_average', 'Trainings_Attended', 'Year_of_birth',\n",
              "       'Year_of_recruitment', 'Channel_of_Recruitment_Agency and others',\n",
              "       'Channel_of_Recruitment_Direct Internal process',\n",
              "       'Channel_of_Recruitment_Referral and Special candidates',\n",
              "       'Division_Business Finance Operations',\n",
              "       'Division_Commercial Sales and Marketing',\n",
              "       'Division_Customer Support and Field Operations',\n",
              "       'Division_Information Technology and Solution Support',\n",
              "       'Division_Information and Strategy', 'Division_People/HR Management',\n",
              "       'Division_Regulatory and Legal services',\n",
              "       'Division_Research and Innovation', 'Division_Sourcing and Purchasing',\n",
              "       'Foreign_schooled_No', 'Foreign_schooled_Yes', 'Gender_Female',\n",
              "       'Gender_Male', 'Marital_Status_Married', 'Marital_Status_Not_Sure',\n",
              "       'Marital_Status_Single', 'No_of_previous_employers_0',\n",
              "       'No_of_previous_employers_1', 'No_of_previous_employers_2',\n",
              "       'No_of_previous_employers_3', 'No_of_previous_employers_4',\n",
              "       'No_of_previous_employers_5', 'No_of_previous_employers_More than 5',\n",
              "       'Past_Disciplinary_Action_No', 'Past_Disciplinary_Action_Yes',\n",
              "       'Previous_IntraDepartmental_Movement_No',\n",
              "       'Previous_IntraDepartmental_Movement_Yes', 'State_Of_Origin_ABIA',\n",
              "       'State_Of_Origin_ADAMAWA', 'State_Of_Origin_AKWA IBOM',\n",
              "       'State_Of_Origin_ANAMBRA', 'State_Of_Origin_BAUCHI',\n",
              "       'State_Of_Origin_BAYELSA', 'State_Of_Origin_BENUE',\n",
              "       'State_Of_Origin_BORNO', 'State_Of_Origin_CROSS RIVER',\n",
              "       'State_Of_Origin_DELTA', 'State_Of_Origin_EBONYI',\n",
              "       'State_Of_Origin_EDO', 'State_Of_Origin_EKITI', 'State_Of_Origin_ENUGU',\n",
              "       'State_Of_Origin_FCT', 'State_Of_Origin_GOMBE', 'State_Of_Origin_IMO',\n",
              "       'State_Of_Origin_JIGAWA', 'State_Of_Origin_KADUNA',\n",
              "       'State_Of_Origin_KANO', 'State_Of_Origin_KATSINA',\n",
              "       'State_Of_Origin_KEBBI', 'State_Of_Origin_KOGI',\n",
              "       'State_Of_Origin_KWARA', 'State_Of_Origin_LAGOS',\n",
              "       'State_Of_Origin_NASSARAWA', 'State_Of_Origin_NIGER',\n",
              "       'State_Of_Origin_OGUN', 'State_Of_Origin_ONDO', 'State_Of_Origin_OSUN',\n",
              "       'State_Of_Origin_OYO', 'State_Of_Origin_PLATEAU',\n",
              "       'State_Of_Origin_RIVERS', 'State_Of_Origin_SOKOTO',\n",
              "       'State_Of_Origin_TARABA', 'State_Of_Origin_YOBE',\n",
              "       'State_Of_Origin_ZAMFARA', 'Qualification_First Degree or HND',\n",
              "       'Qualification_MSc, MBA and PhD',\n",
              "       'Qualification_Non-University Education'],\n",
              "      dtype='object')"
            ]
          },
          "metadata": {
            "tags": []
          },
          "execution_count": 43
        }
      ]
    },
    {
      "cell_type": "code",
      "metadata": {
        "id": "ezIKiQpqH-Nw",
        "colab_type": "code",
        "colab": {}
      },
      "source": [
        "X = X[['Training_score_average', 'Previous_Award', 'Targets_met', 'Last_performance_score', 'Division_Commercial Sales and Marketing',\n",
        "'Qualification_MSc, MBA and PhD', 'Division_People/HR Management', 'State_Of_Origin_ONDO', 'Division_Sourcing and Purchasing',\n",
        "'Qualification_First Degree or HND', 'Division_Regulatory and Legal services', 'Division_Research and Innovation',\n",
        "'Division_Information and Strategy', 'Trainings_Attended', 'State_Of_Origin_ABIA', 'Gender_Female',\n",
        "'State_Of_Origin_OGUN', 'State_Of_Origin_ANAMBRA', 'State_Of_Origin_KWARA', 'Marital_Status_Not_Sure',\n",
        "'Previous_IntraDepartmental_Movement_Yes', 'State_Of_Origin_NIGER', 'Division_Customer Support and Field Operations',\n",
        "'State_Of_Origin_GOMBE', 'No_of_previous_employers_2', 'Gender_Male', 'State_Of_Origin_FCT', 'State_Of_Origin_OSUN',\n",
        "'State_Of_Origin_TARABA', 'No_of_previous_employers_5', 'Past_Disciplinary_Action_Yes', 'State_Of_Origin_SOKOTO',\n",
        "'No_of_previous_employers_0', 'State_Of_Origin_JIGAWA', 'State_Of_Origin_EBONYI', 'No_of_previous_employers_4',\n",
        "'Marital_Status_Single', 'State_Of_Origin_KOGI']]"
      ],
      "execution_count": 0,
      "outputs": []
    },
    {
      "cell_type": "code",
      "metadata": {
        "id": "BkRNylnEH-N2",
        "colab_type": "code",
        "colab": {}
      },
      "source": [
        "X_train, X_test, y_train, y_test = train_test_split(X, y, test_size=0.1, random_state=0)"
      ],
      "execution_count": 0,
      "outputs": []
    },
    {
      "cell_type": "code",
      "metadata": {
        "scrolled": true,
        "id": "kYLyCBtAH-N8",
        "colab_type": "code",
        "colab": {},
        "outputId": "441f8831-d923-4153-ca7b-e14898b65cf1"
      },
      "source": [
        "import xgboost as xgb\n",
        "import time\n",
        "\n",
        "\n",
        "start_time = time.time()\n",
        "clf = xgb.XGBClassifier(max_depth=5,\n",
        "                n_estimators=2500,\n",
        "                learning_rate=0.1, \n",
        "                colsample_bytree=0.9,\n",
        "                min_child_weight = 3,\n",
        "                seed=1200,\n",
        "                booster='dart'\n",
        "                \n",
        "                )\n",
        "                \n",
        "clf.fit(X_train, y_train, early_stopping_rounds=50, eval_metric=\"auc\",\n",
        "        eval_set=[(X_train, y_train), (X_test, y_test)])\n",
        "\n",
        "pred = clf.predict(X_test, ntree_limit=10)\n",
        "\n",
        "clf.score(X_train, y_train)\n",
        "print(f'Done in {time.time() - start_time} seconds')"
      ],
      "execution_count": 0,
      "outputs": [
        {
          "output_type": "stream",
          "text": [
            "[0]\tvalidation_0-auc:0.831\tvalidation_1-auc:0.8089\n",
            "Multiple eval metrics have been passed: 'validation_1-auc' will be used for early stopping.\n",
            "\n",
            "Will train until validation_1-auc hasn't improved in 50 rounds.\n",
            "[1]\tvalidation_0-auc:0.831583\tvalidation_1-auc:0.811759\n",
            "[2]\tvalidation_0-auc:0.832405\tvalidation_1-auc:0.81162\n",
            "[3]\tvalidation_0-auc:0.848962\tvalidation_1-auc:0.836609\n",
            "[4]\tvalidation_0-auc:0.851747\tvalidation_1-auc:0.836362\n",
            "[5]\tvalidation_0-auc:0.851292\tvalidation_1-auc:0.838462\n",
            "[6]\tvalidation_0-auc:0.852076\tvalidation_1-auc:0.838537\n",
            "[7]\tvalidation_0-auc:0.852311\tvalidation_1-auc:0.837762\n",
            "[8]\tvalidation_0-auc:0.853401\tvalidation_1-auc:0.838609\n",
            "[9]\tvalidation_0-auc:0.855058\tvalidation_1-auc:0.839675\n",
            "[10]\tvalidation_0-auc:0.85965\tvalidation_1-auc:0.848562\n",
            "[11]\tvalidation_0-auc:0.864797\tvalidation_1-auc:0.852903\n",
            "[12]\tvalidation_0-auc:0.869165\tvalidation_1-auc:0.860303\n",
            "[13]\tvalidation_0-auc:0.871252\tvalidation_1-auc:0.863016\n",
            "[14]\tvalidation_0-auc:0.871732\tvalidation_1-auc:0.863917\n",
            "[15]\tvalidation_0-auc:0.876336\tvalidation_1-auc:0.868346\n",
            "[16]\tvalidation_0-auc:0.875822\tvalidation_1-auc:0.868096\n",
            "[17]\tvalidation_0-auc:0.877247\tvalidation_1-auc:0.86986\n",
            "[18]\tvalidation_0-auc:0.878126\tvalidation_1-auc:0.870789\n",
            "[19]\tvalidation_0-auc:0.884196\tvalidation_1-auc:0.877677\n",
            "[20]\tvalidation_0-auc:0.88547\tvalidation_1-auc:0.878986\n",
            "[21]\tvalidation_0-auc:0.886377\tvalidation_1-auc:0.879888\n",
            "[22]\tvalidation_0-auc:0.887902\tvalidation_1-auc:0.880472\n",
            "[23]\tvalidation_0-auc:0.888322\tvalidation_1-auc:0.880219\n",
            "[24]\tvalidation_0-auc:0.888676\tvalidation_1-auc:0.88042\n",
            "[25]\tvalidation_0-auc:0.889466\tvalidation_1-auc:0.880782\n",
            "[26]\tvalidation_0-auc:0.889917\tvalidation_1-auc:0.881184\n",
            "[27]\tvalidation_0-auc:0.890146\tvalidation_1-auc:0.881383\n",
            "[28]\tvalidation_0-auc:0.890436\tvalidation_1-auc:0.881685\n",
            "[29]\tvalidation_0-auc:0.890516\tvalidation_1-auc:0.882258\n",
            "[30]\tvalidation_0-auc:0.891053\tvalidation_1-auc:0.883067\n",
            "[31]\tvalidation_0-auc:0.891268\tvalidation_1-auc:0.883101\n",
            "[32]\tvalidation_0-auc:0.891537\tvalidation_1-auc:0.883318\n",
            "[33]\tvalidation_0-auc:0.892987\tvalidation_1-auc:0.884088\n",
            "[34]\tvalidation_0-auc:0.892873\tvalidation_1-auc:0.883354\n",
            "[35]\tvalidation_0-auc:0.894036\tvalidation_1-auc:0.884106\n",
            "[36]\tvalidation_0-auc:0.896828\tvalidation_1-auc:0.886438\n",
            "[37]\tvalidation_0-auc:0.89727\tvalidation_1-auc:0.886695\n",
            "[38]\tvalidation_0-auc:0.897717\tvalidation_1-auc:0.887321\n",
            "[39]\tvalidation_0-auc:0.898371\tvalidation_1-auc:0.888357\n",
            "[40]\tvalidation_0-auc:0.900509\tvalidation_1-auc:0.890434\n",
            "[41]\tvalidation_0-auc:0.900671\tvalidation_1-auc:0.890663\n",
            "[42]\tvalidation_0-auc:0.901915\tvalidation_1-auc:0.891861\n",
            "[43]\tvalidation_0-auc:0.902265\tvalidation_1-auc:0.892402\n",
            "[44]\tvalidation_0-auc:0.902229\tvalidation_1-auc:0.892415\n",
            "[45]\tvalidation_0-auc:0.90252\tvalidation_1-auc:0.892055\n",
            "[46]\tvalidation_0-auc:0.902944\tvalidation_1-auc:0.892593\n",
            "[47]\tvalidation_0-auc:0.903188\tvalidation_1-auc:0.892674\n",
            "[48]\tvalidation_0-auc:0.903423\tvalidation_1-auc:0.892543\n",
            "[49]\tvalidation_0-auc:0.903541\tvalidation_1-auc:0.892916\n",
            "[50]\tvalidation_0-auc:0.903832\tvalidation_1-auc:0.893012\n",
            "[51]\tvalidation_0-auc:0.904105\tvalidation_1-auc:0.893202\n",
            "[52]\tvalidation_0-auc:0.905503\tvalidation_1-auc:0.893694\n",
            "[53]\tvalidation_0-auc:0.90586\tvalidation_1-auc:0.894079\n",
            "[54]\tvalidation_0-auc:0.906134\tvalidation_1-auc:0.894582\n",
            "[55]\tvalidation_0-auc:0.906634\tvalidation_1-auc:0.894908\n",
            "[56]\tvalidation_0-auc:0.906884\tvalidation_1-auc:0.894741\n",
            "[57]\tvalidation_0-auc:0.907299\tvalidation_1-auc:0.894726\n",
            "[58]\tvalidation_0-auc:0.907302\tvalidation_1-auc:0.8947\n",
            "[59]\tvalidation_0-auc:0.907654\tvalidation_1-auc:0.894642\n",
            "[60]\tvalidation_0-auc:0.908142\tvalidation_1-auc:0.894642\n",
            "[61]\tvalidation_0-auc:0.908417\tvalidation_1-auc:0.89497\n",
            "[62]\tvalidation_0-auc:0.908624\tvalidation_1-auc:0.89504\n",
            "[63]\tvalidation_0-auc:0.908875\tvalidation_1-auc:0.894952\n",
            "[64]\tvalidation_0-auc:0.909016\tvalidation_1-auc:0.894765\n",
            "[65]\tvalidation_0-auc:0.909249\tvalidation_1-auc:0.894848\n",
            "[66]\tvalidation_0-auc:0.909278\tvalidation_1-auc:0.894908\n",
            "[67]\tvalidation_0-auc:0.909429\tvalidation_1-auc:0.894844\n",
            "[68]\tvalidation_0-auc:0.909508\tvalidation_1-auc:0.894946\n",
            "[69]\tvalidation_0-auc:0.909724\tvalidation_1-auc:0.894918\n",
            "[70]\tvalidation_0-auc:0.909827\tvalidation_1-auc:0.895072\n",
            "[71]\tvalidation_0-auc:0.909907\tvalidation_1-auc:0.895094\n",
            "[72]\tvalidation_0-auc:0.909992\tvalidation_1-auc:0.895076\n",
            "[73]\tvalidation_0-auc:0.910248\tvalidation_1-auc:0.894979\n",
            "[74]\tvalidation_0-auc:0.910465\tvalidation_1-auc:0.894969\n",
            "[75]\tvalidation_0-auc:0.91074\tvalidation_1-auc:0.895067\n",
            "[76]\tvalidation_0-auc:0.910745\tvalidation_1-auc:0.895131\n",
            "[77]\tvalidation_0-auc:0.910843\tvalidation_1-auc:0.895047\n",
            "[78]\tvalidation_0-auc:0.911034\tvalidation_1-auc:0.894854\n",
            "[79]\tvalidation_0-auc:0.911817\tvalidation_1-auc:0.895132\n",
            "[80]\tvalidation_0-auc:0.911865\tvalidation_1-auc:0.895074\n",
            "[81]\tvalidation_0-auc:0.912035\tvalidation_1-auc:0.894953\n",
            "[82]\tvalidation_0-auc:0.912362\tvalidation_1-auc:0.894987\n",
            "[83]\tvalidation_0-auc:0.912382\tvalidation_1-auc:0.894997\n",
            "[84]\tvalidation_0-auc:0.91249\tvalidation_1-auc:0.894997\n",
            "[85]\tvalidation_0-auc:0.912754\tvalidation_1-auc:0.894647\n",
            "[86]\tvalidation_0-auc:0.912858\tvalidation_1-auc:0.894523\n",
            "[87]\tvalidation_0-auc:0.912899\tvalidation_1-auc:0.894545\n",
            "[88]\tvalidation_0-auc:0.913198\tvalidation_1-auc:0.894997\n",
            "[89]\tvalidation_0-auc:0.913332\tvalidation_1-auc:0.895226\n",
            "[90]\tvalidation_0-auc:0.913438\tvalidation_1-auc:0.895156\n",
            "[91]\tvalidation_0-auc:0.913669\tvalidation_1-auc:0.894963\n",
            "[92]\tvalidation_0-auc:0.913902\tvalidation_1-auc:0.895252\n",
            "[93]\tvalidation_0-auc:0.914008\tvalidation_1-auc:0.895394\n",
            "[94]\tvalidation_0-auc:0.914008\tvalidation_1-auc:0.895334\n",
            "[95]\tvalidation_0-auc:0.914099\tvalidation_1-auc:0.895476\n",
            "[96]\tvalidation_0-auc:0.914365\tvalidation_1-auc:0.895393\n",
            "[97]\tvalidation_0-auc:0.914517\tvalidation_1-auc:0.89537\n",
            "[98]\tvalidation_0-auc:0.91455\tvalidation_1-auc:0.895239\n",
            "[99]\tvalidation_0-auc:0.914635\tvalidation_1-auc:0.895338\n",
            "[100]\tvalidation_0-auc:0.914857\tvalidation_1-auc:0.895085\n",
            "[101]\tvalidation_0-auc:0.915176\tvalidation_1-auc:0.895263\n",
            "[102]\tvalidation_0-auc:0.915219\tvalidation_1-auc:0.895172\n",
            "[103]\tvalidation_0-auc:0.915287\tvalidation_1-auc:0.895097\n",
            "[104]\tvalidation_0-auc:0.915455\tvalidation_1-auc:0.895024\n",
            "[105]\tvalidation_0-auc:0.915448\tvalidation_1-auc:0.895129\n",
            "[106]\tvalidation_0-auc:0.915511\tvalidation_1-auc:0.895257\n",
            "[107]\tvalidation_0-auc:0.915548\tvalidation_1-auc:0.895203\n",
            "[108]\tvalidation_0-auc:0.915603\tvalidation_1-auc:0.895174\n",
            "[109]\tvalidation_0-auc:0.915676\tvalidation_1-auc:0.895121\n",
            "[110]\tvalidation_0-auc:0.915733\tvalidation_1-auc:0.895295\n",
            "[111]\tvalidation_0-auc:0.915804\tvalidation_1-auc:0.895375\n",
            "[112]\tvalidation_0-auc:0.916023\tvalidation_1-auc:0.895127\n",
            "[113]\tvalidation_0-auc:0.91617\tvalidation_1-auc:0.895275\n",
            "[114]\tvalidation_0-auc:0.916226\tvalidation_1-auc:0.895412\n",
            "[115]\tvalidation_0-auc:0.916421\tvalidation_1-auc:0.895388\n",
            "[116]\tvalidation_0-auc:0.916716\tvalidation_1-auc:0.895101\n",
            "[117]\tvalidation_0-auc:0.916765\tvalidation_1-auc:0.894858\n",
            "[118]\tvalidation_0-auc:0.91688\tvalidation_1-auc:0.895047\n",
            "[119]\tvalidation_0-auc:0.916968\tvalidation_1-auc:0.894958\n",
            "[120]\tvalidation_0-auc:0.917225\tvalidation_1-auc:0.89541\n",
            "[121]\tvalidation_0-auc:0.917289\tvalidation_1-auc:0.895461\n",
            "[122]\tvalidation_0-auc:0.917378\tvalidation_1-auc:0.895441\n",
            "[123]\tvalidation_0-auc:0.917599\tvalidation_1-auc:0.895532\n",
            "[124]\tvalidation_0-auc:0.917627\tvalidation_1-auc:0.895598\n",
            "[125]\tvalidation_0-auc:0.917657\tvalidation_1-auc:0.895553\n",
            "[126]\tvalidation_0-auc:0.917757\tvalidation_1-auc:0.895494\n",
            "[127]\tvalidation_0-auc:0.917798\tvalidation_1-auc:0.895521\n",
            "[128]\tvalidation_0-auc:0.917853\tvalidation_1-auc:0.895427\n",
            "[129]\tvalidation_0-auc:0.917925\tvalidation_1-auc:0.895318\n",
            "[130]\tvalidation_0-auc:0.917997\tvalidation_1-auc:0.895284\n",
            "[131]\tvalidation_0-auc:0.91818\tvalidation_1-auc:0.89552\n",
            "[132]\tvalidation_0-auc:0.918214\tvalidation_1-auc:0.895541\n",
            "[133]\tvalidation_0-auc:0.918325\tvalidation_1-auc:0.895671\n",
            "[134]\tvalidation_0-auc:0.91835\tvalidation_1-auc:0.895675\n",
            "[135]\tvalidation_0-auc:0.918478\tvalidation_1-auc:0.895495\n",
            "[136]\tvalidation_0-auc:0.918983\tvalidation_1-auc:0.895575\n",
            "[137]\tvalidation_0-auc:0.919131\tvalidation_1-auc:0.895467\n",
            "[138]\tvalidation_0-auc:0.919513\tvalidation_1-auc:0.895473\n",
            "[139]\tvalidation_0-auc:0.919542\tvalidation_1-auc:0.895466\n",
            "[140]\tvalidation_0-auc:0.919665\tvalidation_1-auc:0.895453\n"
          ],
          "name": "stdout"
        },
        {
          "output_type": "stream",
          "text": [
            "[141]\tvalidation_0-auc:0.919831\tvalidation_1-auc:0.895542\n",
            "[142]\tvalidation_0-auc:0.919991\tvalidation_1-auc:0.895454\n",
            "[143]\tvalidation_0-auc:0.920078\tvalidation_1-auc:0.895599\n",
            "[144]\tvalidation_0-auc:0.920146\tvalidation_1-auc:0.895571\n",
            "[145]\tvalidation_0-auc:0.92032\tvalidation_1-auc:0.89552\n",
            "[146]\tvalidation_0-auc:0.920629\tvalidation_1-auc:0.895493\n",
            "[147]\tvalidation_0-auc:0.920714\tvalidation_1-auc:0.895424\n",
            "[148]\tvalidation_0-auc:0.92081\tvalidation_1-auc:0.895594\n",
            "[149]\tvalidation_0-auc:0.921291\tvalidation_1-auc:0.895882\n",
            "[150]\tvalidation_0-auc:0.921397\tvalidation_1-auc:0.895833\n",
            "[151]\tvalidation_0-auc:0.921424\tvalidation_1-auc:0.895805\n",
            "[152]\tvalidation_0-auc:0.921676\tvalidation_1-auc:0.895832\n",
            "[153]\tvalidation_0-auc:0.922041\tvalidation_1-auc:0.896149\n",
            "[154]\tvalidation_0-auc:0.922117\tvalidation_1-auc:0.896111\n",
            "[155]\tvalidation_0-auc:0.92216\tvalidation_1-auc:0.896205\n",
            "[156]\tvalidation_0-auc:0.922469\tvalidation_1-auc:0.896129\n",
            "[157]\tvalidation_0-auc:0.922623\tvalidation_1-auc:0.896312\n",
            "[158]\tvalidation_0-auc:0.922717\tvalidation_1-auc:0.896219\n",
            "[159]\tvalidation_0-auc:0.922925\tvalidation_1-auc:0.89632\n",
            "[160]\tvalidation_0-auc:0.922968\tvalidation_1-auc:0.896313\n",
            "[161]\tvalidation_0-auc:0.923246\tvalidation_1-auc:0.896616\n",
            "[162]\tvalidation_0-auc:0.923394\tvalidation_1-auc:0.896664\n",
            "[163]\tvalidation_0-auc:0.92345\tvalidation_1-auc:0.89665\n",
            "[164]\tvalidation_0-auc:0.923558\tvalidation_1-auc:0.896665\n",
            "[165]\tvalidation_0-auc:0.923636\tvalidation_1-auc:0.896649\n",
            "[166]\tvalidation_0-auc:0.923713\tvalidation_1-auc:0.89658\n",
            "[167]\tvalidation_0-auc:0.923776\tvalidation_1-auc:0.896573\n",
            "[168]\tvalidation_0-auc:0.923829\tvalidation_1-auc:0.896508\n",
            "[169]\tvalidation_0-auc:0.924005\tvalidation_1-auc:0.89675\n",
            "[170]\tvalidation_0-auc:0.924076\tvalidation_1-auc:0.896648\n",
            "[171]\tvalidation_0-auc:0.924231\tvalidation_1-auc:0.896587\n",
            "[172]\tvalidation_0-auc:0.924418\tvalidation_1-auc:0.896776\n",
            "[173]\tvalidation_0-auc:0.924653\tvalidation_1-auc:0.896936\n",
            "[174]\tvalidation_0-auc:0.924672\tvalidation_1-auc:0.896848\n",
            "[175]\tvalidation_0-auc:0.924889\tvalidation_1-auc:0.896651\n",
            "[176]\tvalidation_0-auc:0.924999\tvalidation_1-auc:0.896654\n",
            "[177]\tvalidation_0-auc:0.925012\tvalidation_1-auc:0.896618\n",
            "[178]\tvalidation_0-auc:0.925041\tvalidation_1-auc:0.896623\n",
            "[179]\tvalidation_0-auc:0.925106\tvalidation_1-auc:0.896569\n",
            "[180]\tvalidation_0-auc:0.925236\tvalidation_1-auc:0.896368\n",
            "[181]\tvalidation_0-auc:0.925394\tvalidation_1-auc:0.896479\n",
            "[182]\tvalidation_0-auc:0.925469\tvalidation_1-auc:0.896482\n",
            "[183]\tvalidation_0-auc:0.925553\tvalidation_1-auc:0.896556\n",
            "[184]\tvalidation_0-auc:0.92569\tvalidation_1-auc:0.896597\n",
            "[185]\tvalidation_0-auc:0.925775\tvalidation_1-auc:0.896687\n",
            "[186]\tvalidation_0-auc:0.926012\tvalidation_1-auc:0.896711\n",
            "[187]\tvalidation_0-auc:0.926071\tvalidation_1-auc:0.896486\n",
            "[188]\tvalidation_0-auc:0.926126\tvalidation_1-auc:0.896502\n",
            "[189]\tvalidation_0-auc:0.926149\tvalidation_1-auc:0.896487\n",
            "[190]\tvalidation_0-auc:0.926245\tvalidation_1-auc:0.896595\n",
            "[191]\tvalidation_0-auc:0.926349\tvalidation_1-auc:0.896641\n",
            "[192]\tvalidation_0-auc:0.926445\tvalidation_1-auc:0.896718\n",
            "[193]\tvalidation_0-auc:0.926471\tvalidation_1-auc:0.896661\n",
            "[194]\tvalidation_0-auc:0.926558\tvalidation_1-auc:0.89634\n",
            "[195]\tvalidation_0-auc:0.926673\tvalidation_1-auc:0.896153\n",
            "[196]\tvalidation_0-auc:0.92679\tvalidation_1-auc:0.896237\n",
            "[197]\tvalidation_0-auc:0.926885\tvalidation_1-auc:0.896071\n",
            "[198]\tvalidation_0-auc:0.926981\tvalidation_1-auc:0.896036\n",
            "[199]\tvalidation_0-auc:0.927156\tvalidation_1-auc:0.895844\n",
            "[200]\tvalidation_0-auc:0.927299\tvalidation_1-auc:0.895834\n",
            "[201]\tvalidation_0-auc:0.927335\tvalidation_1-auc:0.895779\n",
            "[202]\tvalidation_0-auc:0.927446\tvalidation_1-auc:0.895714\n",
            "[203]\tvalidation_0-auc:0.927519\tvalidation_1-auc:0.895813\n",
            "[204]\tvalidation_0-auc:0.927593\tvalidation_1-auc:0.895838\n",
            "[205]\tvalidation_0-auc:0.927865\tvalidation_1-auc:0.895796\n",
            "[206]\tvalidation_0-auc:0.927964\tvalidation_1-auc:0.895817\n",
            "[207]\tvalidation_0-auc:0.927976\tvalidation_1-auc:0.895831\n",
            "[208]\tvalidation_0-auc:0.928049\tvalidation_1-auc:0.895844\n",
            "[209]\tvalidation_0-auc:0.928153\tvalidation_1-auc:0.895732\n",
            "[210]\tvalidation_0-auc:0.928261\tvalidation_1-auc:0.896226\n",
            "[211]\tvalidation_0-auc:0.928446\tvalidation_1-auc:0.89641\n",
            "[212]\tvalidation_0-auc:0.92846\tvalidation_1-auc:0.896443\n",
            "[213]\tvalidation_0-auc:0.928556\tvalidation_1-auc:0.896562\n",
            "[214]\tvalidation_0-auc:0.9287\tvalidation_1-auc:0.896529\n",
            "[215]\tvalidation_0-auc:0.928742\tvalidation_1-auc:0.896534\n",
            "[216]\tvalidation_0-auc:0.928802\tvalidation_1-auc:0.89657\n",
            "[217]\tvalidation_0-auc:0.928868\tvalidation_1-auc:0.896724\n",
            "[218]\tvalidation_0-auc:0.928866\tvalidation_1-auc:0.896692\n",
            "[219]\tvalidation_0-auc:0.929037\tvalidation_1-auc:0.896675\n",
            "[220]\tvalidation_0-auc:0.929186\tvalidation_1-auc:0.896649\n",
            "[221]\tvalidation_0-auc:0.929318\tvalidation_1-auc:0.896582\n",
            "[222]\tvalidation_0-auc:0.929388\tvalidation_1-auc:0.896445\n",
            "[223]\tvalidation_0-auc:0.929412\tvalidation_1-auc:0.896376\n",
            "Stopping. Best iteration:\n",
            "[173]\tvalidation_0-auc:0.924653\tvalidation_1-auc:0.896936\n",
            "\n"
          ],
          "name": "stdout"
        },
        {
          "output_type": "stream",
          "text": [
            "C:\\Users\\SAMUEL PC\\Anaconda\\lib\\site-packages\\sklearn\\preprocessing\\label.py:151: DeprecationWarning: The truth value of an empty array is ambiguous. Returning False, but in future this will result in an error. Use `array.size > 0` to check that an array is not empty.\n",
            "  if diff:\n"
          ],
          "name": "stderr"
        },
        {
          "output_type": "stream",
          "text": [
            "Done in 108.53721857070923 seconds\n"
          ],
          "name": "stdout"
        },
        {
          "output_type": "stream",
          "text": [
            "C:\\Users\\SAMUEL PC\\Anaconda\\lib\\site-packages\\sklearn\\preprocessing\\label.py:151: DeprecationWarning: The truth value of an empty array is ambiguous. Returning False, but in future this will result in an error. Use `array.size > 0` to check that an array is not empty.\n",
            "  if diff:\n"
          ],
          "name": "stderr"
        }
      ]
    },
    {
      "cell_type": "code",
      "metadata": {
        "id": "B_EpJPTVH-OE",
        "colab_type": "code",
        "colab": {},
        "outputId": "abdd4deb-d59a-4bac-c999-50bd71d9776c"
      },
      "source": [
        "clf.score(X_train, y_train)\n",
        "# 0.9430233425311358\n",
        "# 0.9450696055684454"
      ],
      "execution_count": 0,
      "outputs": [
        {
          "output_type": "stream",
          "text": [
            "C:\\Users\\SAMUEL PC\\Anaconda\\lib\\site-packages\\sklearn\\preprocessing\\label.py:151: DeprecationWarning: The truth value of an empty array is ambiguous. Returning False, but in future this will result in an error. Use `array.size > 0` to check that an array is not empty.\n",
            "  if diff:\n"
          ],
          "name": "stderr"
        },
        {
          "output_type": "execute_result",
          "data": {
            "text/plain": [
              "0.9430974477958237"
            ]
          },
          "metadata": {
            "tags": []
          },
          "execution_count": 54
        }
      ]
    },
    {
      "cell_type": "code",
      "metadata": {
        "id": "FBTiiOztH-OK",
        "colab_type": "code",
        "colab": {}
      },
      "source": [
        "# predictions = clf.predict(Z)\n",
        "# prediction = pd.DataFrame(predictions)\n",
        "# prediction.index = z\n",
        "# prediction.index.name = 'EmployeeNo'\n",
        "# prediction.columns=['Promoted_or_Not']\n",
        "# prediction.to_csv('predictions_9X.csv')"
      ],
      "execution_count": 0,
      "outputs": []
    },
    {
      "cell_type": "code",
      "metadata": {
        "id": "ja2BjcovH-OS",
        "colab_type": "code",
        "colab": {},
        "outputId": "16e1bb1c-e57f-408c-9ea5-4188c7d49f04"
      },
      "source": [
        "# stacking\n",
        "pred = clf.predict(Z)\n",
        "merged = pd.read_csv('predictions_10X.csv')\n",
        "merged_values = merged['Promoted_or_Not'].values"
      ],
      "execution_count": 0,
      "outputs": [
        {
          "output_type": "error",
          "ename": "ValueError",
          "evalue": "feature_names mismatch: ['Training_score_average', 'Previous_Award', 'Targets_met', 'Last_performance_score', 'Division_Commercial Sales and Marketing', 'Qualification_MSc, MBA and PhD', 'Division_People/HR Management', 'State_Of_Origin_ONDO', 'Division_Sourcing and Purchasing', 'Qualification_First Degree or HND', 'Division_Regulatory and Legal services', 'Division_Research and Innovation', 'Division_Information and Strategy', 'Trainings_Attended', 'State_Of_Origin_ABIA', 'Gender_Female', 'State_Of_Origin_OGUN', 'State_Of_Origin_ANAMBRA', 'State_Of_Origin_KWARA', 'Marital_Status_Not_Sure', 'Previous_IntraDepartmental_Movement_Yes', 'State_Of_Origin_NIGER', 'Division_Customer Support and Field Operations', 'State_Of_Origin_GOMBE', 'No_of_previous_employers_2', 'Gender_Male', 'State_Of_Origin_FCT', 'State_Of_Origin_OSUN', 'State_Of_Origin_TARABA', 'No_of_previous_employers_5', 'Past_Disciplinary_Action_Yes', 'State_Of_Origin_SOKOTO', 'No_of_previous_employers_0', 'State_Of_Origin_JIGAWA', 'State_Of_Origin_EBONYI', 'No_of_previous_employers_4', 'Marital_Status_Single', 'State_Of_Origin_KOGI'] ['Last_performance_score', 'Previous_Award', 'Targets_met', 'Training_score_average', 'Trainings_Attended', 'Year_of_birth', 'Year_of_recruitment', 'Channel_of_Recruitment_Agency and others', 'Channel_of_Recruitment_Direct Internal process', 'Channel_of_Recruitment_Referral and Special candidates', 'Division_Business Finance Operations', 'Division_Commercial Sales and Marketing', 'Division_Customer Support and Field Operations', 'Division_Information Technology and Solution Support', 'Division_Information and Strategy', 'Division_People/HR Management', 'Division_Regulatory and Legal services', 'Division_Research and Innovation', 'Division_Sourcing and Purchasing', 'Foreign_schooled_No', 'Foreign_schooled_Yes', 'Gender_Female', 'Gender_Male', 'Marital_Status_Married', 'Marital_Status_Not_Sure', 'Marital_Status_Single', 'No_of_previous_employers_0', 'No_of_previous_employers_1', 'No_of_previous_employers_2', 'No_of_previous_employers_3', 'No_of_previous_employers_4', 'No_of_previous_employers_5', 'No_of_previous_employers_More than 5', 'Past_Disciplinary_Action_No', 'Past_Disciplinary_Action_Yes', 'Previous_IntraDepartmental_Movement_No', 'Previous_IntraDepartmental_Movement_Yes', 'State_Of_Origin_ABIA', 'State_Of_Origin_ADAMAWA', 'State_Of_Origin_AKWA IBOM', 'State_Of_Origin_ANAMBRA', 'State_Of_Origin_BAUCHI', 'State_Of_Origin_BAYELSA', 'State_Of_Origin_BENUE', 'State_Of_Origin_BORNO', 'State_Of_Origin_CROSS RIVER', 'State_Of_Origin_DELTA', 'State_Of_Origin_EBONYI', 'State_Of_Origin_EDO', 'State_Of_Origin_EKITI', 'State_Of_Origin_ENUGU', 'State_Of_Origin_FCT', 'State_Of_Origin_GOMBE', 'State_Of_Origin_IMO', 'State_Of_Origin_JIGAWA', 'State_Of_Origin_KADUNA', 'State_Of_Origin_KANO', 'State_Of_Origin_KATSINA', 'State_Of_Origin_KEBBI', 'State_Of_Origin_KOGI', 'State_Of_Origin_KWARA', 'State_Of_Origin_LAGOS', 'State_Of_Origin_NASSARAWA', 'State_Of_Origin_NIGER', 'State_Of_Origin_OGUN', 'State_Of_Origin_ONDO', 'State_Of_Origin_OSUN', 'State_Of_Origin_OYO', 'State_Of_Origin_PLATEAU', 'State_Of_Origin_RIVERS', 'State_Of_Origin_SOKOTO', 'State_Of_Origin_TARABA', 'State_Of_Origin_YOBE', 'State_Of_Origin_ZAMFARA', 'Qualification_First Degree or HND', 'Qualification_MSc, MBA and PhD', 'Qualification_Non-University Education']\ntraining data did not have the following fields: State_Of_Origin_ADAMAWA, Past_Disciplinary_Action_No, State_Of_Origin_LAGOS, No_of_previous_employers_1, State_Of_Origin_PLATEAU, State_Of_Origin_DELTA, Channel_of_Recruitment_Direct Internal process, State_Of_Origin_KANO, No_of_previous_employers_More than 5, State_Of_Origin_KATSINA, State_Of_Origin_ENUGU, State_Of_Origin_BAUCHI, State_Of_Origin_ZAMFARA, State_Of_Origin_AKWA IBOM, Division_Information Technology and Solution Support, State_Of_Origin_BORNO, State_Of_Origin_EDO, Year_of_birth, Division_Business Finance Operations, Foreign_schooled_Yes, Marital_Status_Married, State_Of_Origin_OYO, State_Of_Origin_CROSS RIVER, Channel_of_Recruitment_Agency and others, No_of_previous_employers_3, Foreign_schooled_No, State_Of_Origin_RIVERS, State_Of_Origin_KEBBI, State_Of_Origin_KADUNA, State_Of_Origin_BENUE, State_Of_Origin_YOBE, Year_of_recruitment, State_Of_Origin_IMO, State_Of_Origin_BAYELSA, State_Of_Origin_EKITI, State_Of_Origin_NASSARAWA, Previous_IntraDepartmental_Movement_No, Qualification_Non-University Education, Channel_of_Recruitment_Referral and Special candidates",
          "traceback": [
            "\u001b[1;31m---------------------------------------------------------------------------\u001b[0m",
            "\u001b[1;31mValueError\u001b[0m                                Traceback (most recent call last)",
            "\u001b[1;32m<ipython-input-56-9a5d637ef514>\u001b[0m in \u001b[0;36m<module>\u001b[1;34m()\u001b[0m\n\u001b[0;32m      1\u001b[0m \u001b[1;31m# stacking\u001b[0m\u001b[1;33m\u001b[0m\u001b[1;33m\u001b[0m\u001b[0m\n\u001b[1;32m----> 2\u001b[1;33m \u001b[0mpred\u001b[0m \u001b[1;33m=\u001b[0m \u001b[0mclf\u001b[0m\u001b[1;33m.\u001b[0m\u001b[0mpredict\u001b[0m\u001b[1;33m(\u001b[0m\u001b[0mZ\u001b[0m\u001b[1;33m)\u001b[0m\u001b[1;33m\u001b[0m\u001b[0m\n\u001b[0m\u001b[0;32m      3\u001b[0m \u001b[0mmerged\u001b[0m \u001b[1;33m=\u001b[0m \u001b[0mpd\u001b[0m\u001b[1;33m.\u001b[0m\u001b[0mread_csv\u001b[0m\u001b[1;33m(\u001b[0m\u001b[1;34m'predictions_10X.csv'\u001b[0m\u001b[1;33m)\u001b[0m\u001b[1;33m\u001b[0m\u001b[0m\n\u001b[0;32m      4\u001b[0m \u001b[0mmerged_values\u001b[0m \u001b[1;33m=\u001b[0m \u001b[0mmerged\u001b[0m\u001b[1;33m[\u001b[0m\u001b[1;34m'Promoted_or_Not'\u001b[0m\u001b[1;33m]\u001b[0m\u001b[1;33m.\u001b[0m\u001b[0mvalues\u001b[0m\u001b[1;33m\u001b[0m\u001b[0m\n",
            "\u001b[1;32m~\\Anaconda\\lib\\site-packages\\xgboost\\sklearn.py\u001b[0m in \u001b[0;36mpredict\u001b[1;34m(self, data, output_margin, ntree_limit, validate_features)\u001b[0m\n\u001b[0;32m    789\u001b[0m                                                  \u001b[0moutput_margin\u001b[0m\u001b[1;33m=\u001b[0m\u001b[0moutput_margin\u001b[0m\u001b[1;33m,\u001b[0m\u001b[1;33m\u001b[0m\u001b[0m\n\u001b[0;32m    790\u001b[0m                                                  \u001b[0mntree_limit\u001b[0m\u001b[1;33m=\u001b[0m\u001b[0mntree_limit\u001b[0m\u001b[1;33m,\u001b[0m\u001b[1;33m\u001b[0m\u001b[0m\n\u001b[1;32m--> 791\u001b[1;33m                                                  validate_features=validate_features)\n\u001b[0m\u001b[0;32m    792\u001b[0m         \u001b[1;32mif\u001b[0m \u001b[0moutput_margin\u001b[0m\u001b[1;33m:\u001b[0m\u001b[1;33m\u001b[0m\u001b[0m\n\u001b[0;32m    793\u001b[0m             \u001b[1;31m# If output_margin is active, simply return the scores\u001b[0m\u001b[1;33m\u001b[0m\u001b[1;33m\u001b[0m\u001b[0m\n",
            "\u001b[1;32m~\\Anaconda\\lib\\site-packages\\xgboost\\core.py\u001b[0m in \u001b[0;36mpredict\u001b[1;34m(self, data, output_margin, ntree_limit, pred_leaf, pred_contribs, approx_contribs, pred_interactions, validate_features)\u001b[0m\n\u001b[0;32m   1282\u001b[0m \u001b[1;33m\u001b[0m\u001b[0m\n\u001b[0;32m   1283\u001b[0m         \u001b[1;32mif\u001b[0m \u001b[0mvalidate_features\u001b[0m\u001b[1;33m:\u001b[0m\u001b[1;33m\u001b[0m\u001b[0m\n\u001b[1;32m-> 1284\u001b[1;33m             \u001b[0mself\u001b[0m\u001b[1;33m.\u001b[0m\u001b[0m_validate_features\u001b[0m\u001b[1;33m(\u001b[0m\u001b[0mdata\u001b[0m\u001b[1;33m)\u001b[0m\u001b[1;33m\u001b[0m\u001b[0m\n\u001b[0m\u001b[0;32m   1285\u001b[0m \u001b[1;33m\u001b[0m\u001b[0m\n\u001b[0;32m   1286\u001b[0m         \u001b[0mlength\u001b[0m \u001b[1;33m=\u001b[0m \u001b[0mc_bst_ulong\u001b[0m\u001b[1;33m(\u001b[0m\u001b[1;33m)\u001b[0m\u001b[1;33m\u001b[0m\u001b[0m\n",
            "\u001b[1;32m~\\Anaconda\\lib\\site-packages\\xgboost\\core.py\u001b[0m in \u001b[0;36m_validate_features\u001b[1;34m(self, data)\u001b[0m\n\u001b[0;32m   1688\u001b[0m \u001b[1;33m\u001b[0m\u001b[0m\n\u001b[0;32m   1689\u001b[0m                 raise ValueError(msg.format(self.feature_names,\n\u001b[1;32m-> 1690\u001b[1;33m                                             data.feature_names))\n\u001b[0m\u001b[0;32m   1691\u001b[0m \u001b[1;33m\u001b[0m\u001b[0m\n\u001b[0;32m   1692\u001b[0m     \u001b[1;32mdef\u001b[0m \u001b[0mget_split_value_histogram\u001b[0m\u001b[1;33m(\u001b[0m\u001b[0mself\u001b[0m\u001b[1;33m,\u001b[0m \u001b[0mfeature\u001b[0m\u001b[1;33m,\u001b[0m \u001b[0mfmap\u001b[0m\u001b[1;33m=\u001b[0m\u001b[1;34m''\u001b[0m\u001b[1;33m,\u001b[0m \u001b[0mbins\u001b[0m\u001b[1;33m=\u001b[0m\u001b[1;32mNone\u001b[0m\u001b[1;33m,\u001b[0m \u001b[0mas_pandas\u001b[0m\u001b[1;33m=\u001b[0m\u001b[1;32mTrue\u001b[0m\u001b[1;33m)\u001b[0m\u001b[1;33m:\u001b[0m\u001b[1;33m\u001b[0m\u001b[0m\n",
            "\u001b[1;31mValueError\u001b[0m: feature_names mismatch: ['Training_score_average', 'Previous_Award', 'Targets_met', 'Last_performance_score', 'Division_Commercial Sales and Marketing', 'Qualification_MSc, MBA and PhD', 'Division_People/HR Management', 'State_Of_Origin_ONDO', 'Division_Sourcing and Purchasing', 'Qualification_First Degree or HND', 'Division_Regulatory and Legal services', 'Division_Research and Innovation', 'Division_Information and Strategy', 'Trainings_Attended', 'State_Of_Origin_ABIA', 'Gender_Female', 'State_Of_Origin_OGUN', 'State_Of_Origin_ANAMBRA', 'State_Of_Origin_KWARA', 'Marital_Status_Not_Sure', 'Previous_IntraDepartmental_Movement_Yes', 'State_Of_Origin_NIGER', 'Division_Customer Support and Field Operations', 'State_Of_Origin_GOMBE', 'No_of_previous_employers_2', 'Gender_Male', 'State_Of_Origin_FCT', 'State_Of_Origin_OSUN', 'State_Of_Origin_TARABA', 'No_of_previous_employers_5', 'Past_Disciplinary_Action_Yes', 'State_Of_Origin_SOKOTO', 'No_of_previous_employers_0', 'State_Of_Origin_JIGAWA', 'State_Of_Origin_EBONYI', 'No_of_previous_employers_4', 'Marital_Status_Single', 'State_Of_Origin_KOGI'] ['Last_performance_score', 'Previous_Award', 'Targets_met', 'Training_score_average', 'Trainings_Attended', 'Year_of_birth', 'Year_of_recruitment', 'Channel_of_Recruitment_Agency and others', 'Channel_of_Recruitment_Direct Internal process', 'Channel_of_Recruitment_Referral and Special candidates', 'Division_Business Finance Operations', 'Division_Commercial Sales and Marketing', 'Division_Customer Support and Field Operations', 'Division_Information Technology and Solution Support', 'Division_Information and Strategy', 'Division_People/HR Management', 'Division_Regulatory and Legal services', 'Division_Research and Innovation', 'Division_Sourcing and Purchasing', 'Foreign_schooled_No', 'Foreign_schooled_Yes', 'Gender_Female', 'Gender_Male', 'Marital_Status_Married', 'Marital_Status_Not_Sure', 'Marital_Status_Single', 'No_of_previous_employers_0', 'No_of_previous_employers_1', 'No_of_previous_employers_2', 'No_of_previous_employers_3', 'No_of_previous_employers_4', 'No_of_previous_employers_5', 'No_of_previous_employers_More than 5', 'Past_Disciplinary_Action_No', 'Past_Disciplinary_Action_Yes', 'Previous_IntraDepartmental_Movement_No', 'Previous_IntraDepartmental_Movement_Yes', 'State_Of_Origin_ABIA', 'State_Of_Origin_ADAMAWA', 'State_Of_Origin_AKWA IBOM', 'State_Of_Origin_ANAMBRA', 'State_Of_Origin_BAUCHI', 'State_Of_Origin_BAYELSA', 'State_Of_Origin_BENUE', 'State_Of_Origin_BORNO', 'State_Of_Origin_CROSS RIVER', 'State_Of_Origin_DELTA', 'State_Of_Origin_EBONYI', 'State_Of_Origin_EDO', 'State_Of_Origin_EKITI', 'State_Of_Origin_ENUGU', 'State_Of_Origin_FCT', 'State_Of_Origin_GOMBE', 'State_Of_Origin_IMO', 'State_Of_Origin_JIGAWA', 'State_Of_Origin_KADUNA', 'State_Of_Origin_KANO', 'State_Of_Origin_KATSINA', 'State_Of_Origin_KEBBI', 'State_Of_Origin_KOGI', 'State_Of_Origin_KWARA', 'State_Of_Origin_LAGOS', 'State_Of_Origin_NASSARAWA', 'State_Of_Origin_NIGER', 'State_Of_Origin_OGUN', 'State_Of_Origin_ONDO', 'State_Of_Origin_OSUN', 'State_Of_Origin_OYO', 'State_Of_Origin_PLATEAU', 'State_Of_Origin_RIVERS', 'State_Of_Origin_SOKOTO', 'State_Of_Origin_TARABA', 'State_Of_Origin_YOBE', 'State_Of_Origin_ZAMFARA', 'Qualification_First Degree or HND', 'Qualification_MSc, MBA and PhD', 'Qualification_Non-University Education']\ntraining data did not have the following fields: State_Of_Origin_ADAMAWA, Past_Disciplinary_Action_No, State_Of_Origin_LAGOS, No_of_previous_employers_1, State_Of_Origin_PLATEAU, State_Of_Origin_DELTA, Channel_of_Recruitment_Direct Internal process, State_Of_Origin_KANO, No_of_previous_employers_More than 5, State_Of_Origin_KATSINA, State_Of_Origin_ENUGU, State_Of_Origin_BAUCHI, State_Of_Origin_ZAMFARA, State_Of_Origin_AKWA IBOM, Division_Information Technology and Solution Support, State_Of_Origin_BORNO, State_Of_Origin_EDO, Year_of_birth, Division_Business Finance Operations, Foreign_schooled_Yes, Marital_Status_Married, State_Of_Origin_OYO, State_Of_Origin_CROSS RIVER, Channel_of_Recruitment_Agency and others, No_of_previous_employers_3, Foreign_schooled_No, State_Of_Origin_RIVERS, State_Of_Origin_KEBBI, State_Of_Origin_KADUNA, State_Of_Origin_BENUE, State_Of_Origin_YOBE, Year_of_recruitment, State_Of_Origin_IMO, State_Of_Origin_BAYELSA, State_Of_Origin_EKITI, State_Of_Origin_NASSARAWA, Previous_IntraDepartmental_Movement_No, Qualification_Non-University Education, Channel_of_Recruitment_Referral and Special candidates"
          ]
        }
      ]
    },
    {
      "cell_type": "code",
      "metadata": {
        "id": "_Ua-S0XNH-OW",
        "colab_type": "code",
        "colab": {}
      },
      "source": [
        "sums = pred+merged_values\n",
        "merged['Promoted_or_Not'] = sums"
      ],
      "execution_count": 0,
      "outputs": []
    },
    {
      "cell_type": "code",
      "metadata": {
        "id": "KKNVGD5MH-Oc",
        "colab_type": "code",
        "colab": {}
      },
      "source": [
        "merged['Promoted_or_Not'] = merged['Promoted_or_Not'].map(lambda x: x if x==0 else 1)"
      ],
      "execution_count": 0,
      "outputs": []
    },
    {
      "cell_type": "code",
      "metadata": {
        "id": "7yjq4L7rH-Oj",
        "colab_type": "code",
        "colab": {}
      },
      "source": [
        "pd.value_counts(sums)"
      ],
      "execution_count": 0,
      "outputs": []
    },
    {
      "cell_type": "code",
      "metadata": {
        "id": "xLsx8pJ3H-Om",
        "colab_type": "code",
        "colab": {}
      },
      "source": [
        "merged.to_csv('hy_test2.csv', index=False)"
      ],
      "execution_count": 0,
      "outputs": []
    },
    {
      "cell_type": "code",
      "metadata": {
        "id": "fBgj1nOQH-Ot",
        "colab_type": "code",
        "colab": {}
      },
      "source": [
        "merged['Promoted_or_Not'].value_counts()"
      ],
      "execution_count": 0,
      "outputs": []
    },
    {
      "cell_type": "code",
      "metadata": {
        "id": "UYYjP1mQH-Ox",
        "colab_type": "code",
        "colab": {}
      },
      "source": [
        "from vecstack import stacking"
      ],
      "execution_count": 0,
      "outputs": []
    },
    {
      "cell_type": "code",
      "metadata": {
        "id": "Ct9psH3vH-O1",
        "colab_type": "code",
        "colab": {}
      },
      "source": [
        "from sklearn.svm import SVC\n",
        "from sklearn.neighbors import KNeighborsClassifier\n",
        "from sklearn.metrics import accuracy_score"
      ],
      "execution_count": 0,
      "outputs": []
    },
    {
      "cell_type": "code",
      "metadata": {
        "id": "Mt_PTg5GH-O8",
        "colab_type": "code",
        "colab": {}
      },
      "source": [
        "from sklearn.ensemble import AdaBoostClassifier\n",
        "from sklearn import model_selection\n",
        "\n",
        "seed=10\n",
        "num_trees = 70\n",
        "kfold = model_selection.KFold(n_splits=10, random_state=seed)\n",
        "adb = AdaBoostClassifier(n_estimators=num_trees, random_state=seed)\n",
        "results = model_selection.cross_val_score(adb,X, y, cv=kfold)\n",
        "# results.mean()\n",
        "\n",
        "adb.fit(X_train, y_train)\n",
        "adb.score(X_train, y_train)"
      ],
      "execution_count": 0,
      "outputs": []
    },
    {
      "cell_type": "code",
      "metadata": {
        "id": "bNAYYI-ZH-O_",
        "colab_type": "code",
        "colab": {}
      },
      "source": [
        "models = [adb,\n",
        "          clf,\n",
        "         SVC(),\n",
        "         KNeighborsClassifier(n_neighbors=5)]"
      ],
      "execution_count": 0,
      "outputs": []
    },
    {
      "cell_type": "code",
      "metadata": {
        "id": "7yM1L1N3H-PD",
        "colab_type": "code",
        "colab": {}
      },
      "source": [
        "S_train, S_test = stacking(models, X_train, y_train, X_test,\n",
        "                          regression=True, mode='oof_pred_bag',\n",
        "                          needs_proba=False, save_dir=None,\n",
        "                          metric=accuracy_score, n_folds=4,\n",
        "                          stratified=True, shuffle=True,\n",
        "                          random_state=1, verbose=2)"
      ],
      "execution_count": 0,
      "outputs": []
    },
    {
      "cell_type": "code",
      "metadata": {
        "id": "UWZ3pWFIH-PH",
        "colab_type": "code",
        "colab": {}
      },
      "source": [
        "adb.fit(S_train, y_train)\n",
        "y_pred = new_model.predict(S_test)\n",
        "adb.score(S_train, y_train)"
      ],
      "execution_count": 0,
      "outputs": []
    },
    {
      "cell_type": "code",
      "metadata": {
        "id": "VhLQhHlnH-PN",
        "colab_type": "code",
        "colab": {}
      },
      "source": [
        "# stacking\n",
        "adb.predict(Z)\n",
        "# merged = pd.read_csv('hy_test.csv')\n",
        "# merged_values = merged['Promoted_or_Not'].values"
      ],
      "execution_count": 0,
      "outputs": []
    },
    {
      "cell_type": "code",
      "metadata": {
        "id": "akVFC6M8H-PR",
        "colab_type": "code",
        "colab": {}
      },
      "source": [
        "sums = pred+merged_values\n",
        "merged['Promoted_or_Not'] = sums"
      ],
      "execution_count": 0,
      "outputs": []
    },
    {
      "cell_type": "code",
      "metadata": {
        "id": "rZ0AYwY2H-PW",
        "colab_type": "code",
        "colab": {}
      },
      "source": [
        "merged['Promoted_or_Not'] = merged['Promoted_or_Not'].map(lambda x: x if x==0 else 1)"
      ],
      "execution_count": 0,
      "outputs": []
    },
    {
      "cell_type": "code",
      "metadata": {
        "id": "xRdjjP2oH-Pb",
        "colab_type": "code",
        "colab": {}
      },
      "source": [
        "merged.to_csv('hy_test4.csv', index=False)\n",
        "merged['Promoted_or_Not'].value_counts()"
      ],
      "execution_count": 0,
      "outputs": []
    }
  ]
}