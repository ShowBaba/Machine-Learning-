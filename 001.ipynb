{
  "nbformat": 4,
  "nbformat_minor": 0,
  "metadata": {
    "kernelspec": {
      "display_name": "Python 3",
      "language": "python",
      "name": "python3"
    },
    "language_info": {
      "codemirror_mode": {
        "name": "ipython",
        "version": 3
      },
      "file_extension": ".py",
      "mimetype": "text/x-python",
      "name": "python",
      "nbconvert_exporter": "python",
      "pygments_lexer": "ipython3",
      "version": "3.6.5"
    },
    "colab": {
      "name": "001.ipynb",
      "provenance": [],
      "include_colab_link": true
    }
  },
  "cells": [
    {
      "cell_type": "markdown",
      "metadata": {
        "id": "view-in-github",
        "colab_type": "text"
      },
      "source": [
        "<a href=\"https://colab.research.google.com/github/ShowBaba/Machine-Learning-/blob/master/001.ipynb\" target=\"_parent\"><img src=\"https://colab.research.google.com/assets/colab-badge.svg\" alt=\"Open In Colab\"/></a>"
      ]
    },
    {
      "cell_type": "code",
      "metadata": {
        "id": "1cJpzmfX1yTR",
        "colab_type": "code",
        "colab": {}
      },
      "source": [
        "import numpy as np\n",
        "import pandas as pd\n",
        "import seaborn as sns\n",
        "import matplotlib as plt\n",
        "%matplotlib inline"
      ],
      "execution_count": 0,
      "outputs": []
    },
    {
      "cell_type": "markdown",
      "metadata": {
        "id": "vpailrHqAKIg",
        "colab_type": "text"
      },
      "source": [
        ""
      ]
    },
    {
      "cell_type": "code",
      "metadata": {
        "id": "8ZPnLFTO1yTh",
        "colab_type": "code",
        "outputId": "5933f262-8c9f-472c-c508-eee6ce28cc2d",
        "colab": {
          "resources": {
            "http://localhost:8080/nbextensions/google.colab/files.js": {
              "data": "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",
              "ok": true,
              "headers": [
                [
                  "content-type",
                  "application/javascript"
                ]
              ],
              "status": 200,
              "status_text": ""
            }
          },
          "base_uri": "https://localhost:8080/",
          "height": 376
        }
      },
      "source": [
        "# load the datasets\n",
        "from google.colab import files\n",
        "uploaded = files.upload()"
      ],
      "execution_count": 0,
      "outputs": [
        {
          "output_type": "display_data",
          "data": {
            "text/html": [
              "\n",
              "     <input type=\"file\" id=\"files-a89a894d-2a36-4524-9db1-ee5b778d784e\" name=\"files[]\" multiple disabled />\n",
              "     <output id=\"result-a89a894d-2a36-4524-9db1-ee5b778d784e\">\n",
              "      Upload widget is only available when the cell has been executed in the\n",
              "      current browser session. Please rerun this cell to enable.\n",
              "      </output>\n",
              "      <script src=\"/nbextensions/google.colab/files.js\"></script> "
            ],
            "text/plain": [
              "<IPython.core.display.HTML object>"
            ]
          },
          "metadata": {
            "tags": []
          }
        },
        {
          "output_type": "stream",
          "text": [
            "Saving test.csv to test.csv\n",
            "Saving train.csv to train.csv\n"
          ],
          "name": "stdout"
        },
        {
          "output_type": "error",
          "ename": "NameError",
          "evalue": "ignored",
          "traceback": [
            "\u001b[0;31m---------------------------------------------------------------------------\u001b[0m",
            "\u001b[0;31mNameError\u001b[0m                                 Traceback (most recent call last)",
            "\u001b[0;32m<ipython-input-5-c9a8646c037c>\u001b[0m in \u001b[0;36m<module>\u001b[0;34m()\u001b[0m\n\u001b[1;32m      2\u001b[0m \u001b[0muploaded\u001b[0m \u001b[0;34m=\u001b[0m \u001b[0mfiles\u001b[0m\u001b[0;34m.\u001b[0m\u001b[0mupload\u001b[0m\u001b[0;34m(\u001b[0m\u001b[0;34m)\u001b[0m\u001b[0;34m\u001b[0m\u001b[0;34m\u001b[0m\u001b[0m\n\u001b[1;32m      3\u001b[0m \u001b[0;34m\u001b[0m\u001b[0m\n\u001b[0;32m----> 4\u001b[0;31m \u001b[0mtrain_df\u001b[0m \u001b[0;34m=\u001b[0m \u001b[0mpd\u001b[0m\u001b[0;34m.\u001b[0m\u001b[0mread_csv\u001b[0m\u001b[0;34m(\u001b[0m\u001b[0mio\u001b[0m\u001b[0;34m.\u001b[0m\u001b[0mStringIO\u001b[0m\u001b[0;34m(\u001b[0m\u001b[0muploaded\u001b[0m\u001b[0;34m[\u001b[0m\u001b[0;34m'train.csv'\u001b[0m\u001b[0;34m]\u001b[0m\u001b[0;34m.\u001b[0m\u001b[0mdecode\u001b[0m\u001b[0;34m(\u001b[0m\u001b[0;34m'utf-8'\u001b[0m\u001b[0;34m)\u001b[0m\u001b[0;34m)\u001b[0m\u001b[0;34m)\u001b[0m\u001b[0;34m\u001b[0m\u001b[0;34m\u001b[0m\u001b[0m\n\u001b[0m\u001b[1;32m      5\u001b[0m \u001b[0mtest_df\u001b[0m \u001b[0;34m=\u001b[0m \u001b[0mpd\u001b[0m\u001b[0;34m.\u001b[0m\u001b[0mread_csv\u001b[0m\u001b[0;34m(\u001b[0m\u001b[0mio\u001b[0m\u001b[0;34m.\u001b[0m\u001b[0mStringIO\u001b[0m\u001b[0;34m(\u001b[0m\u001b[0muploaded\u001b[0m\u001b[0;34m[\u001b[0m\u001b[0;34m'test.csv'\u001b[0m\u001b[0;34m]\u001b[0m\u001b[0;34m.\u001b[0m\u001b[0mdecode\u001b[0m\u001b[0;34m(\u001b[0m\u001b[0;34m'utf-8'\u001b[0m\u001b[0;34m)\u001b[0m\u001b[0;34m)\u001b[0m\u001b[0;34m)\u001b[0m\u001b[0;34m\u001b[0m\u001b[0;34m\u001b[0m\u001b[0m\n\u001b[1;32m      6\u001b[0m \u001b[0mz\u001b[0m \u001b[0;34m=\u001b[0m \u001b[0mtest_df\u001b[0m\u001b[0;34m[\u001b[0m\u001b[0;34m'EmployeeNo'\u001b[0m\u001b[0;34m]\u001b[0m\u001b[0;34m\u001b[0m\u001b[0;34m\u001b[0m\u001b[0m\n",
            "\u001b[0;31mNameError\u001b[0m: name 'io' is not defined"
          ]
        }
      ]
    },
    {
      "cell_type": "code",
      "metadata": {
        "id": "zcnUX7V34apd",
        "colab_type": "code",
        "outputId": "cdb3b897-efbb-48dd-fb60-c3dc9500243b",
        "colab": {
          "base_uri": "https://localhost:8080/",
          "height": 411
        }
      },
      "source": [
        "import io\n",
        "\n",
        "train_df = pd.read_csv(io.StringIO(uploaded['train.csv'].decode('utf-8')))\n",
        "test_df = pd.read_csv(io.StringIO(uploaded['test.csv'].decode('utf-8')))\n",
        "z = test_df['EmployeeNo']\n",
        "train_df.head()"
      ],
      "execution_count": 0,
      "outputs": [
        {
          "output_type": "execute_result",
          "data": {
            "text/html": [
              "<div>\n",
              "<style scoped>\n",
              "    .dataframe tbody tr th:only-of-type {\n",
              "        vertical-align: middle;\n",
              "    }\n",
              "\n",
              "    .dataframe tbody tr th {\n",
              "        vertical-align: top;\n",
              "    }\n",
              "\n",
              "    .dataframe thead th {\n",
              "        text-align: right;\n",
              "    }\n",
              "</style>\n",
              "<table border=\"1\" class=\"dataframe\">\n",
              "  <thead>\n",
              "    <tr style=\"text-align: right;\">\n",
              "      <th></th>\n",
              "      <th>EmployeeNo</th>\n",
              "      <th>Division</th>\n",
              "      <th>Qualification</th>\n",
              "      <th>Gender</th>\n",
              "      <th>Channel_of_Recruitment</th>\n",
              "      <th>Trainings_Attended</th>\n",
              "      <th>Year_of_birth</th>\n",
              "      <th>Last_performance_score</th>\n",
              "      <th>Year_of_recruitment</th>\n",
              "      <th>Targets_met</th>\n",
              "      <th>Previous_Award</th>\n",
              "      <th>Training_score_average</th>\n",
              "      <th>State_Of_Origin</th>\n",
              "      <th>Foreign_schooled</th>\n",
              "      <th>Marital_Status</th>\n",
              "      <th>Past_Disciplinary_Action</th>\n",
              "      <th>Previous_IntraDepartmental_Movement</th>\n",
              "      <th>No_of_previous_employers</th>\n",
              "      <th>Promoted_or_Not</th>\n",
              "    </tr>\n",
              "  </thead>\n",
              "  <tbody>\n",
              "    <tr>\n",
              "      <th>0</th>\n",
              "      <td>YAK/S/00001</td>\n",
              "      <td>Commercial Sales and Marketing</td>\n",
              "      <td>MSc, MBA and PhD</td>\n",
              "      <td>Female</td>\n",
              "      <td>Direct Internal process</td>\n",
              "      <td>2</td>\n",
              "      <td>1986</td>\n",
              "      <td>12.5</td>\n",
              "      <td>2011</td>\n",
              "      <td>1</td>\n",
              "      <td>0</td>\n",
              "      <td>41</td>\n",
              "      <td>ANAMBRA</td>\n",
              "      <td>No</td>\n",
              "      <td>Married</td>\n",
              "      <td>No</td>\n",
              "      <td>No</td>\n",
              "      <td>0</td>\n",
              "      <td>0</td>\n",
              "    </tr>\n",
              "    <tr>\n",
              "      <th>1</th>\n",
              "      <td>YAK/S/00002</td>\n",
              "      <td>Customer Support and Field Operations</td>\n",
              "      <td>First Degree or HND</td>\n",
              "      <td>Male</td>\n",
              "      <td>Agency and others</td>\n",
              "      <td>2</td>\n",
              "      <td>1991</td>\n",
              "      <td>12.5</td>\n",
              "      <td>2015</td>\n",
              "      <td>0</td>\n",
              "      <td>0</td>\n",
              "      <td>52</td>\n",
              "      <td>ANAMBRA</td>\n",
              "      <td>Yes</td>\n",
              "      <td>Married</td>\n",
              "      <td>No</td>\n",
              "      <td>No</td>\n",
              "      <td>0</td>\n",
              "      <td>0</td>\n",
              "    </tr>\n",
              "    <tr>\n",
              "      <th>2</th>\n",
              "      <td>YAK/S/00003</td>\n",
              "      <td>Commercial Sales and Marketing</td>\n",
              "      <td>First Degree or HND</td>\n",
              "      <td>Male</td>\n",
              "      <td>Direct Internal process</td>\n",
              "      <td>2</td>\n",
              "      <td>1987</td>\n",
              "      <td>7.5</td>\n",
              "      <td>2012</td>\n",
              "      <td>0</td>\n",
              "      <td>0</td>\n",
              "      <td>42</td>\n",
              "      <td>KATSINA</td>\n",
              "      <td>Yes</td>\n",
              "      <td>Married</td>\n",
              "      <td>No</td>\n",
              "      <td>No</td>\n",
              "      <td>0</td>\n",
              "      <td>0</td>\n",
              "    </tr>\n",
              "    <tr>\n",
              "      <th>3</th>\n",
              "      <td>YAK/S/00004</td>\n",
              "      <td>Commercial Sales and Marketing</td>\n",
              "      <td>First Degree or HND</td>\n",
              "      <td>Male</td>\n",
              "      <td>Agency and others</td>\n",
              "      <td>3</td>\n",
              "      <td>1982</td>\n",
              "      <td>2.5</td>\n",
              "      <td>2009</td>\n",
              "      <td>0</td>\n",
              "      <td>0</td>\n",
              "      <td>42</td>\n",
              "      <td>NIGER</td>\n",
              "      <td>Yes</td>\n",
              "      <td>Single</td>\n",
              "      <td>No</td>\n",
              "      <td>No</td>\n",
              "      <td>1</td>\n",
              "      <td>0</td>\n",
              "    </tr>\n",
              "    <tr>\n",
              "      <th>4</th>\n",
              "      <td>YAK/S/00006</td>\n",
              "      <td>Information and Strategy</td>\n",
              "      <td>First Degree or HND</td>\n",
              "      <td>Male</td>\n",
              "      <td>Direct Internal process</td>\n",
              "      <td>3</td>\n",
              "      <td>1990</td>\n",
              "      <td>7.5</td>\n",
              "      <td>2012</td>\n",
              "      <td>0</td>\n",
              "      <td>0</td>\n",
              "      <td>77</td>\n",
              "      <td>AKWA IBOM</td>\n",
              "      <td>Yes</td>\n",
              "      <td>Married</td>\n",
              "      <td>No</td>\n",
              "      <td>No</td>\n",
              "      <td>1</td>\n",
              "      <td>0</td>\n",
              "    </tr>\n",
              "  </tbody>\n",
              "</table>\n",
              "</div>"
            ],
            "text/plain": [
              "    EmployeeNo  ... Promoted_or_Not\n",
              "0  YAK/S/00001  ...               0\n",
              "1  YAK/S/00002  ...               0\n",
              "2  YAK/S/00003  ...               0\n",
              "3  YAK/S/00004  ...               0\n",
              "4  YAK/S/00006  ...               0\n",
              "\n",
              "[5 rows x 19 columns]"
            ]
          },
          "metadata": {
            "tags": []
          },
          "execution_count": 7
        }
      ]
    },
    {
      "cell_type": "code",
      "metadata": {
        "id": "zgfsY19U1yTs",
        "colab_type": "code",
        "outputId": "78d405bd-b320-4b97-d8d4-385cdc85dbee",
        "colab": {
          "base_uri": "https://localhost:8080/",
          "height": 51
        }
      },
      "source": [
        "train_df['Qualification'].unique()"
      ],
      "execution_count": 0,
      "outputs": [
        {
          "output_type": "execute_result",
          "data": {
            "text/plain": [
              "array(['MSc, MBA and PhD', 'First Degree or HND', nan,\n",
              "       'Non-University Education'], dtype=object)"
            ]
          },
          "metadata": {
            "tags": []
          },
          "execution_count": 8
        }
      ]
    },
    {
      "cell_type": "code",
      "metadata": {
        "id": "WCnd2zVa1yT0",
        "colab_type": "code",
        "colab": {}
      },
      "source": [
        "y = train_df.iloc[:, -1]"
      ],
      "execution_count": 0,
      "outputs": []
    },
    {
      "cell_type": "code",
      "metadata": {
        "scrolled": true,
        "id": "B4eESTkD1yT7",
        "colab_type": "code",
        "outputId": "d9ab2791-99bf-4cc5-eef2-78381c7a10cf",
        "colab": {
          "base_uri": "https://localhost:8080/",
          "height": 906
        }
      },
      "source": [
        "# merge the datasets for processing\n",
        "df = [train_df, test_df]\n",
        "df = pd.concat(df, keys=['x', 'y'])\n",
        "df = df.drop(columns=['EmployeeNo', 'Promoted_or_Not'])\n",
        "df.head(10)"
      ],
      "execution_count": 0,
      "outputs": [
        {
          "output_type": "stream",
          "text": [
            "/usr/local/lib/python3.6/dist-packages/ipykernel_launcher.py:2: FutureWarning: Sorting because non-concatenation axis is not aligned. A future version\n",
            "of pandas will change to not sort by default.\n",
            "\n",
            "To accept the future behavior, pass 'sort=False'.\n",
            "\n",
            "To retain the current behavior and silence the warning, pass 'sort=True'.\n",
            "\n",
            "  \n"
          ],
          "name": "stderr"
        },
        {
          "output_type": "execute_result",
          "data": {
            "text/html": [
              "<div>\n",
              "<style scoped>\n",
              "    .dataframe tbody tr th:only-of-type {\n",
              "        vertical-align: middle;\n",
              "    }\n",
              "\n",
              "    .dataframe tbody tr th {\n",
              "        vertical-align: top;\n",
              "    }\n",
              "\n",
              "    .dataframe thead th {\n",
              "        text-align: right;\n",
              "    }\n",
              "</style>\n",
              "<table border=\"1\" class=\"dataframe\">\n",
              "  <thead>\n",
              "    <tr style=\"text-align: right;\">\n",
              "      <th></th>\n",
              "      <th></th>\n",
              "      <th>Channel_of_Recruitment</th>\n",
              "      <th>Division</th>\n",
              "      <th>Foreign_schooled</th>\n",
              "      <th>Gender</th>\n",
              "      <th>Last_performance_score</th>\n",
              "      <th>Marital_Status</th>\n",
              "      <th>No_of_previous_employers</th>\n",
              "      <th>Past_Disciplinary_Action</th>\n",
              "      <th>Previous_Award</th>\n",
              "      <th>Previous_IntraDepartmental_Movement</th>\n",
              "      <th>Qualification</th>\n",
              "      <th>State_Of_Origin</th>\n",
              "      <th>Targets_met</th>\n",
              "      <th>Training_score_average</th>\n",
              "      <th>Trainings_Attended</th>\n",
              "      <th>Year_of_birth</th>\n",
              "      <th>Year_of_recruitment</th>\n",
              "    </tr>\n",
              "  </thead>\n",
              "  <tbody>\n",
              "    <tr>\n",
              "      <th rowspan=\"10\" valign=\"top\">x</th>\n",
              "      <th>0</th>\n",
              "      <td>Direct Internal process</td>\n",
              "      <td>Commercial Sales and Marketing</td>\n",
              "      <td>No</td>\n",
              "      <td>Female</td>\n",
              "      <td>12.5</td>\n",
              "      <td>Married</td>\n",
              "      <td>0</td>\n",
              "      <td>No</td>\n",
              "      <td>0</td>\n",
              "      <td>No</td>\n",
              "      <td>MSc, MBA and PhD</td>\n",
              "      <td>ANAMBRA</td>\n",
              "      <td>1</td>\n",
              "      <td>41</td>\n",
              "      <td>2</td>\n",
              "      <td>1986</td>\n",
              "      <td>2011</td>\n",
              "    </tr>\n",
              "    <tr>\n",
              "      <th>1</th>\n",
              "      <td>Agency and others</td>\n",
              "      <td>Customer Support and Field Operations</td>\n",
              "      <td>Yes</td>\n",
              "      <td>Male</td>\n",
              "      <td>12.5</td>\n",
              "      <td>Married</td>\n",
              "      <td>0</td>\n",
              "      <td>No</td>\n",
              "      <td>0</td>\n",
              "      <td>No</td>\n",
              "      <td>First Degree or HND</td>\n",
              "      <td>ANAMBRA</td>\n",
              "      <td>0</td>\n",
              "      <td>52</td>\n",
              "      <td>2</td>\n",
              "      <td>1991</td>\n",
              "      <td>2015</td>\n",
              "    </tr>\n",
              "    <tr>\n",
              "      <th>2</th>\n",
              "      <td>Direct Internal process</td>\n",
              "      <td>Commercial Sales and Marketing</td>\n",
              "      <td>Yes</td>\n",
              "      <td>Male</td>\n",
              "      <td>7.5</td>\n",
              "      <td>Married</td>\n",
              "      <td>0</td>\n",
              "      <td>No</td>\n",
              "      <td>0</td>\n",
              "      <td>No</td>\n",
              "      <td>First Degree or HND</td>\n",
              "      <td>KATSINA</td>\n",
              "      <td>0</td>\n",
              "      <td>42</td>\n",
              "      <td>2</td>\n",
              "      <td>1987</td>\n",
              "      <td>2012</td>\n",
              "    </tr>\n",
              "    <tr>\n",
              "      <th>3</th>\n",
              "      <td>Agency and others</td>\n",
              "      <td>Commercial Sales and Marketing</td>\n",
              "      <td>Yes</td>\n",
              "      <td>Male</td>\n",
              "      <td>2.5</td>\n",
              "      <td>Single</td>\n",
              "      <td>1</td>\n",
              "      <td>No</td>\n",
              "      <td>0</td>\n",
              "      <td>No</td>\n",
              "      <td>First Degree or HND</td>\n",
              "      <td>NIGER</td>\n",
              "      <td>0</td>\n",
              "      <td>42</td>\n",
              "      <td>3</td>\n",
              "      <td>1982</td>\n",
              "      <td>2009</td>\n",
              "    </tr>\n",
              "    <tr>\n",
              "      <th>4</th>\n",
              "      <td>Direct Internal process</td>\n",
              "      <td>Information and Strategy</td>\n",
              "      <td>Yes</td>\n",
              "      <td>Male</td>\n",
              "      <td>7.5</td>\n",
              "      <td>Married</td>\n",
              "      <td>1</td>\n",
              "      <td>No</td>\n",
              "      <td>0</td>\n",
              "      <td>No</td>\n",
              "      <td>First Degree or HND</td>\n",
              "      <td>AKWA IBOM</td>\n",
              "      <td>0</td>\n",
              "      <td>77</td>\n",
              "      <td>3</td>\n",
              "      <td>1990</td>\n",
              "      <td>2012</td>\n",
              "    </tr>\n",
              "    <tr>\n",
              "      <th>5</th>\n",
              "      <td>Agency and others</td>\n",
              "      <td>Customer Support and Field Operations</td>\n",
              "      <td>Yes</td>\n",
              "      <td>Female</td>\n",
              "      <td>7.5</td>\n",
              "      <td>Married</td>\n",
              "      <td>1</td>\n",
              "      <td>No</td>\n",
              "      <td>0</td>\n",
              "      <td>Yes</td>\n",
              "      <td>First Degree or HND</td>\n",
              "      <td>ENUGU</td>\n",
              "      <td>0</td>\n",
              "      <td>51</td>\n",
              "      <td>2</td>\n",
              "      <td>1990</td>\n",
              "      <td>2014</td>\n",
              "    </tr>\n",
              "    <tr>\n",
              "      <th>6</th>\n",
              "      <td>Direct Internal process</td>\n",
              "      <td>Customer Support and Field Operations</td>\n",
              "      <td>No</td>\n",
              "      <td>Male</td>\n",
              "      <td>7.5</td>\n",
              "      <td>Single</td>\n",
              "      <td>1</td>\n",
              "      <td>No</td>\n",
              "      <td>0</td>\n",
              "      <td>No</td>\n",
              "      <td>MSc, MBA and PhD</td>\n",
              "      <td>OYO</td>\n",
              "      <td>0</td>\n",
              "      <td>55</td>\n",
              "      <td>2</td>\n",
              "      <td>1988</td>\n",
              "      <td>2013</td>\n",
              "    </tr>\n",
              "    <tr>\n",
              "      <th>7</th>\n",
              "      <td>Agency and others</td>\n",
              "      <td>Information and Strategy</td>\n",
              "      <td>Yes</td>\n",
              "      <td>Male</td>\n",
              "      <td>10.0</td>\n",
              "      <td>Married</td>\n",
              "      <td>0</td>\n",
              "      <td>No</td>\n",
              "      <td>0</td>\n",
              "      <td>No</td>\n",
              "      <td>First Degree or HND</td>\n",
              "      <td>LAGOS</td>\n",
              "      <td>0</td>\n",
              "      <td>75</td>\n",
              "      <td>2</td>\n",
              "      <td>1993</td>\n",
              "      <td>2014</td>\n",
              "    </tr>\n",
              "    <tr>\n",
              "      <th>8</th>\n",
              "      <td>Direct Internal process</td>\n",
              "      <td>Commercial Sales and Marketing</td>\n",
              "      <td>Yes</td>\n",
              "      <td>Male</td>\n",
              "      <td>12.5</td>\n",
              "      <td>Married</td>\n",
              "      <td>0</td>\n",
              "      <td>No</td>\n",
              "      <td>0</td>\n",
              "      <td>No</td>\n",
              "      <td>MSc, MBA and PhD</td>\n",
              "      <td>ONDO</td>\n",
              "      <td>1</td>\n",
              "      <td>46</td>\n",
              "      <td>2</td>\n",
              "      <td>1989</td>\n",
              "      <td>2014</td>\n",
              "    </tr>\n",
              "    <tr>\n",
              "      <th>9</th>\n",
              "      <td>Direct Internal process</td>\n",
              "      <td>Commercial Sales and Marketing</td>\n",
              "      <td>Yes</td>\n",
              "      <td>Female</td>\n",
              "      <td>12.5</td>\n",
              "      <td>Married</td>\n",
              "      <td>0</td>\n",
              "      <td>No</td>\n",
              "      <td>0</td>\n",
              "      <td>No</td>\n",
              "      <td>First Degree or HND</td>\n",
              "      <td>LAGOS</td>\n",
              "      <td>1</td>\n",
              "      <td>42</td>\n",
              "      <td>2</td>\n",
              "      <td>1986</td>\n",
              "      <td>2016</td>\n",
              "    </tr>\n",
              "  </tbody>\n",
              "</table>\n",
              "</div>"
            ],
            "text/plain": [
              "      Channel_of_Recruitment  ... Year_of_recruitment\n",
              "x 0  Direct Internal process  ...                2011\n",
              "  1        Agency and others  ...                2015\n",
              "  2  Direct Internal process  ...                2012\n",
              "  3        Agency and others  ...                2009\n",
              "  4  Direct Internal process  ...                2012\n",
              "  5        Agency and others  ...                2014\n",
              "  6  Direct Internal process  ...                2013\n",
              "  7        Agency and others  ...                2014\n",
              "  8  Direct Internal process  ...                2014\n",
              "  9  Direct Internal process  ...                2016\n",
              "\n",
              "[10 rows x 17 columns]"
            ]
          },
          "metadata": {
            "tags": []
          },
          "execution_count": 10
        }
      ]
    },
    {
      "cell_type": "code",
      "metadata": {
        "id": "4JkZZUwU1yUC",
        "colab_type": "code",
        "outputId": "77966f7f-2432-42c5-ed70-d4377b0d9321",
        "colab": {
          "base_uri": "https://localhost:8080/",
          "height": 323
        }
      },
      "source": [
        "# check for null values\n",
        "df.isnull().sum()"
      ],
      "execution_count": 0,
      "outputs": [
        {
          "output_type": "execute_result",
          "data": {
            "text/plain": [
              "Channel_of_Recruitment                    0\n",
              "Division                                  0\n",
              "Foreign_schooled                          0\n",
              "Gender                                    0\n",
              "Last_performance_score                    0\n",
              "Marital_Status                            0\n",
              "No_of_previous_employers                  0\n",
              "Past_Disciplinary_Action                  0\n",
              "Previous_Award                            0\n",
              "Previous_IntraDepartmental_Movement       0\n",
              "Qualification                          2409\n",
              "State_Of_Origin                           0\n",
              "Targets_met                               0\n",
              "Training_score_average                    0\n",
              "Trainings_Attended                        0\n",
              "Year_of_birth                             0\n",
              "Year_of_recruitment                       0\n",
              "dtype: int64"
            ]
          },
          "metadata": {
            "tags": []
          },
          "execution_count": 11
        }
      ]
    },
    {
      "cell_type": "code",
      "metadata": {
        "id": "51cMIDnZ1yUK",
        "colab_type": "code",
        "colab": {}
      },
      "source": [
        "# filling the null values based on the \"Foreign_schooled \" column\n",
        "df_null = df.groupby('Targets_met').Qualification.transform(lambda x: x.fillna(x.mode()[0]))"
      ],
      "execution_count": 0,
      "outputs": []
    },
    {
      "cell_type": "code",
      "metadata": {
        "id": "3E5A9QCo1yUV",
        "colab_type": "code",
        "colab": {}
      },
      "source": [
        "# dropping the \"Qualification\" column that has null values and adding the clean coolumn\n",
        "df = df.drop(columns=['Qualification'])\n",
        "df['Qualification'] = df_null  "
      ],
      "execution_count": 0,
      "outputs": []
    },
    {
      "cell_type": "code",
      "metadata": {
        "id": "4Jo_vIQP1yUc",
        "colab_type": "code",
        "outputId": "1121995e-6d25-4613-a6df-19e0a28bc2f6",
        "colab": {
          "base_uri": "https://localhost:8080/",
          "height": 398
        }
      },
      "source": [
        "# data visualization\n",
        "sns.heatmap(train_df.corr())"
      ],
      "execution_count": 0,
      "outputs": [
        {
          "output_type": "execute_result",
          "data": {
            "text/plain": [
              "<matplotlib.axes._subplots.AxesSubplot at 0x7fa25eb2b320>"
            ]
          },
          "metadata": {
            "tags": []
          },
          "execution_count": 14
        },
        {
          "output_type": "display_data",
          "data": {
            "image/png": "[encoded data removed]",
            "text/plain": [
              "<Figure size 432x288 with 2 Axes>"
            ]
          },
          "metadata": {
            "tags": []
          }
        }
      ]
    },
    {
      "cell_type": "code",
      "metadata": {
        "id": "CfRrrDfU1yUj",
        "colab_type": "code",
        "outputId": "b6eb8117-93cf-47c0-b308-e833614da07b",
        "colab": {
          "base_uri": "https://localhost:8080/",
          "height": 323
        }
      },
      "source": [
        "df.isnull().sum()"
      ],
      "execution_count": 0,
      "outputs": [
        {
          "output_type": "execute_result",
          "data": {
            "text/plain": [
              "Channel_of_Recruitment                 0\n",
              "Division                               0\n",
              "Foreign_schooled                       0\n",
              "Gender                                 0\n",
              "Last_performance_score                 0\n",
              "Marital_Status                         0\n",
              "No_of_previous_employers               0\n",
              "Past_Disciplinary_Action               0\n",
              "Previous_Award                         0\n",
              "Previous_IntraDepartmental_Movement    0\n",
              "State_Of_Origin                        0\n",
              "Targets_met                            0\n",
              "Training_score_average                 0\n",
              "Trainings_Attended                     0\n",
              "Year_of_birth                          0\n",
              "Year_of_recruitment                    0\n",
              "Qualification                          0\n",
              "dtype: int64"
            ]
          },
          "metadata": {
            "tags": []
          },
          "execution_count": 15
        }
      ]
    },
    {
      "cell_type": "code",
      "metadata": {
        "id": "D6ILiNUz1yUr",
        "colab_type": "code",
        "outputId": "56a5843a-4135-47dd-8087-fd0601cff573",
        "colab": {
          "base_uri": "https://localhost:8080/",
          "height": 187
        }
      },
      "source": [
        "# collecting columns with categorical datas\n",
        "cat_col = []\n",
        "for i in df.columns:\n",
        "    if df[i].dtype == 'O':\n",
        "        cat_col.append(i)\n",
        "    else:\n",
        "        pass\n",
        "    \n",
        "cat_col"
      ],
      "execution_count": 0,
      "outputs": [
        {
          "output_type": "execute_result",
          "data": {
            "text/plain": [
              "['Channel_of_Recruitment',\n",
              " 'Division',\n",
              " 'Foreign_schooled',\n",
              " 'Gender',\n",
              " 'Marital_Status',\n",
              " 'No_of_previous_employers',\n",
              " 'Past_Disciplinary_Action',\n",
              " 'Previous_IntraDepartmental_Movement',\n",
              " 'State_Of_Origin',\n",
              " 'Qualification']"
            ]
          },
          "metadata": {
            "tags": []
          },
          "execution_count": 16
        }
      ]
    },
    {
      "cell_type": "code",
      "metadata": {
        "scrolled": false,
        "id": "5-m_mPg11yUy",
        "colab_type": "code",
        "outputId": "b6ae3541-3a67-4ae9-fe80-bdcc4051de6c",
        "colab": {
          "base_uri": "https://localhost:8080/",
          "height": 258
        }
      },
      "source": [
        "# using pandas's get dummies to encode\n",
        "df = pd.get_dummies(df, columns=cat_col)\n",
        "df.head()"
      ],
      "execution_count": 0,
      "outputs": [
        {
          "output_type": "execute_result",
          "data": {
            "text/html": [
              "<div>\n",
              "<style scoped>\n",
              "    .dataframe tbody tr th:only-of-type {\n",
              "        vertical-align: middle;\n",
              "    }\n",
              "\n",
              "    .dataframe tbody tr th {\n",
              "        vertical-align: top;\n",
              "    }\n",
              "\n",
              "    .dataframe thead th {\n",
              "        text-align: right;\n",
              "    }\n",
              "</style>\n",
              "<table border=\"1\" class=\"dataframe\">\n",
              "  <thead>\n",
              "    <tr style=\"text-align: right;\">\n",
              "      <th></th>\n",
              "      <th></th>\n",
              "      <th>Last_performance_score</th>\n",
              "      <th>Previous_Award</th>\n",
              "      <th>Targets_met</th>\n",
              "      <th>Training_score_average</th>\n",
              "      <th>Trainings_Attended</th>\n",
              "      <th>Year_of_birth</th>\n",
              "      <th>Year_of_recruitment</th>\n",
              "      <th>Channel_of_Recruitment_Agency and others</th>\n",
              "      <th>Channel_of_Recruitment_Direct Internal process</th>\n",
              "      <th>Channel_of_Recruitment_Referral and Special candidates</th>\n",
              "      <th>Division_Business Finance Operations</th>\n",
              "      <th>Division_Commercial Sales and Marketing</th>\n",
              "      <th>Division_Customer Support and Field Operations</th>\n",
              "      <th>Division_Information Technology and Solution Support</th>\n",
              "      <th>Division_Information and Strategy</th>\n",
              "      <th>Division_People/HR Management</th>\n",
              "      <th>Division_Regulatory and Legal services</th>\n",
              "      <th>Division_Research and Innovation</th>\n",
              "      <th>Division_Sourcing and Purchasing</th>\n",
              "      <th>Foreign_schooled_No</th>\n",
              "      <th>Foreign_schooled_Yes</th>\n",
              "      <th>Gender_Female</th>\n",
              "      <th>Gender_Male</th>\n",
              "      <th>Marital_Status_Married</th>\n",
              "      <th>Marital_Status_Not_Sure</th>\n",
              "      <th>Marital_Status_Single</th>\n",
              "      <th>No_of_previous_employers_0</th>\n",
              "      <th>No_of_previous_employers_1</th>\n",
              "      <th>No_of_previous_employers_2</th>\n",
              "      <th>No_of_previous_employers_3</th>\n",
              "      <th>No_of_previous_employers_4</th>\n",
              "      <th>No_of_previous_employers_5</th>\n",
              "      <th>No_of_previous_employers_More than 5</th>\n",
              "      <th>Past_Disciplinary_Action_No</th>\n",
              "      <th>Past_Disciplinary_Action_Yes</th>\n",
              "      <th>Previous_IntraDepartmental_Movement_No</th>\n",
              "      <th>Previous_IntraDepartmental_Movement_Yes</th>\n",
              "      <th>State_Of_Origin_ABIA</th>\n",
              "      <th>State_Of_Origin_ADAMAWA</th>\n",
              "      <th>State_Of_Origin_AKWA IBOM</th>\n",
              "      <th>State_Of_Origin_ANAMBRA</th>\n",
              "      <th>State_Of_Origin_BAUCHI</th>\n",
              "      <th>State_Of_Origin_BAYELSA</th>\n",
              "      <th>State_Of_Origin_BENUE</th>\n",
              "      <th>State_Of_Origin_BORNO</th>\n",
              "      <th>State_Of_Origin_CROSS RIVER</th>\n",
              "      <th>State_Of_Origin_DELTA</th>\n",
              "      <th>State_Of_Origin_EBONYI</th>\n",
              "      <th>State_Of_Origin_EDO</th>\n",
              "      <th>State_Of_Origin_EKITI</th>\n",
              "      <th>State_Of_Origin_ENUGU</th>\n",
              "      <th>State_Of_Origin_FCT</th>\n",
              "      <th>State_Of_Origin_GOMBE</th>\n",
              "      <th>State_Of_Origin_IMO</th>\n",
              "      <th>State_Of_Origin_JIGAWA</th>\n",
              "      <th>State_Of_Origin_KADUNA</th>\n",
              "      <th>State_Of_Origin_KANO</th>\n",
              "      <th>State_Of_Origin_KATSINA</th>\n",
              "      <th>State_Of_Origin_KEBBI</th>\n",
              "      <th>State_Of_Origin_KOGI</th>\n",
              "      <th>State_Of_Origin_KWARA</th>\n",
              "      <th>State_Of_Origin_LAGOS</th>\n",
              "      <th>State_Of_Origin_NASSARAWA</th>\n",
              "      <th>State_Of_Origin_NIGER</th>\n",
              "      <th>State_Of_Origin_OGUN</th>\n",
              "      <th>State_Of_Origin_ONDO</th>\n",
              "      <th>State_Of_Origin_OSUN</th>\n",
              "      <th>State_Of_Origin_OYO</th>\n",
              "      <th>State_Of_Origin_PLATEAU</th>\n",
              "      <th>State_Of_Origin_RIVERS</th>\n",
              "      <th>State_Of_Origin_SOKOTO</th>\n",
              "      <th>State_Of_Origin_TARABA</th>\n",
              "      <th>State_Of_Origin_YOBE</th>\n",
              "      <th>State_Of_Origin_ZAMFARA</th>\n",
              "      <th>Qualification_First Degree or HND</th>\n",
              "      <th>Qualification_MSc, MBA and PhD</th>\n",
              "      <th>Qualification_Non-University Education</th>\n",
              "    </tr>\n",
              "  </thead>\n",
              "  <tbody>\n",
              "    <tr>\n",
              "      <th rowspan=\"5\" valign=\"top\">x</th>\n",
              "      <th>0</th>\n",
              "      <td>12.5</td>\n",
              "      <td>0</td>\n",
              "      <td>1</td>\n",
              "      <td>41</td>\n",
              "      <td>2</td>\n",
              "      <td>1986</td>\n",
              "      <td>2011</td>\n",
              "      <td>0</td>\n",
              "      <td>1</td>\n",
              "      <td>0</td>\n",
              "      <td>0</td>\n",
              "      <td>1</td>\n",
              "      <td>0</td>\n",
              "      <td>0</td>\n",
              "      <td>0</td>\n",
              "      <td>0</td>\n",
              "      <td>0</td>\n",
              "      <td>0</td>\n",
              "      <td>0</td>\n",
              "      <td>1</td>\n",
              "      <td>0</td>\n",
              "      <td>1</td>\n",
              "      <td>0</td>\n",
              "      <td>1</td>\n",
              "      <td>0</td>\n",
              "      <td>0</td>\n",
              "      <td>1</td>\n",
              "      <td>0</td>\n",
              "      <td>0</td>\n",
              "      <td>0</td>\n",
              "      <td>0</td>\n",
              "      <td>0</td>\n",
              "      <td>0</td>\n",
              "      <td>1</td>\n",
              "      <td>0</td>\n",
              "      <td>1</td>\n",
              "      <td>0</td>\n",
              "      <td>0</td>\n",
              "      <td>0</td>\n",
              "      <td>0</td>\n",
              "      <td>1</td>\n",
              "      <td>0</td>\n",
              "      <td>0</td>\n",
              "      <td>0</td>\n",
              "      <td>0</td>\n",
              "      <td>0</td>\n",
              "      <td>0</td>\n",
              "      <td>0</td>\n",
              "      <td>0</td>\n",
              "      <td>0</td>\n",
              "      <td>0</td>\n",
              "      <td>0</td>\n",
              "      <td>0</td>\n",
              "      <td>0</td>\n",
              "      <td>0</td>\n",
              "      <td>0</td>\n",
              "      <td>0</td>\n",
              "      <td>0</td>\n",
              "      <td>0</td>\n",
              "      <td>0</td>\n",
              "      <td>0</td>\n",
              "      <td>0</td>\n",
              "      <td>0</td>\n",
              "      <td>0</td>\n",
              "      <td>0</td>\n",
              "      <td>0</td>\n",
              "      <td>0</td>\n",
              "      <td>0</td>\n",
              "      <td>0</td>\n",
              "      <td>0</td>\n",
              "      <td>0</td>\n",
              "      <td>0</td>\n",
              "      <td>0</td>\n",
              "      <td>0</td>\n",
              "      <td>0</td>\n",
              "      <td>1</td>\n",
              "      <td>0</td>\n",
              "    </tr>\n",
              "    <tr>\n",
              "      <th>1</th>\n",
              "      <td>12.5</td>\n",
              "      <td>0</td>\n",
              "      <td>0</td>\n",
              "      <td>52</td>\n",
              "      <td>2</td>\n",
              "      <td>1991</td>\n",
              "      <td>2015</td>\n",
              "      <td>1</td>\n",
              "      <td>0</td>\n",
              "      <td>0</td>\n",
              "      <td>0</td>\n",
              "      <td>0</td>\n",
              "      <td>1</td>\n",
              "      <td>0</td>\n",
              "      <td>0</td>\n",
              "      <td>0</td>\n",
              "      <td>0</td>\n",
              "      <td>0</td>\n",
              "      <td>0</td>\n",
              "      <td>0</td>\n",
              "      <td>1</td>\n",
              "      <td>0</td>\n",
              "      <td>1</td>\n",
              "      <td>1</td>\n",
              "      <td>0</td>\n",
              "      <td>0</td>\n",
              "      <td>1</td>\n",
              "      <td>0</td>\n",
              "      <td>0</td>\n",
              "      <td>0</td>\n",
              "      <td>0</td>\n",
              "      <td>0</td>\n",
              "      <td>0</td>\n",
              "      <td>1</td>\n",
              "      <td>0</td>\n",
              "      <td>1</td>\n",
              "      <td>0</td>\n",
              "      <td>0</td>\n",
              "      <td>0</td>\n",
              "      <td>0</td>\n",
              "      <td>1</td>\n",
              "      <td>0</td>\n",
              "      <td>0</td>\n",
              "      <td>0</td>\n",
              "      <td>0</td>\n",
              "      <td>0</td>\n",
              "      <td>0</td>\n",
              "      <td>0</td>\n",
              "      <td>0</td>\n",
              "      <td>0</td>\n",
              "      <td>0</td>\n",
              "      <td>0</td>\n",
              "      <td>0</td>\n",
              "      <td>0</td>\n",
              "      <td>0</td>\n",
              "      <td>0</td>\n",
              "      <td>0</td>\n",
              "      <td>0</td>\n",
              "      <td>0</td>\n",
              "      <td>0</td>\n",
              "      <td>0</td>\n",
              "      <td>0</td>\n",
              "      <td>0</td>\n",
              "      <td>0</td>\n",
              "      <td>0</td>\n",
              "      <td>0</td>\n",
              "      <td>0</td>\n",
              "      <td>0</td>\n",
              "      <td>0</td>\n",
              "      <td>0</td>\n",
              "      <td>0</td>\n",
              "      <td>0</td>\n",
              "      <td>0</td>\n",
              "      <td>0</td>\n",
              "      <td>1</td>\n",
              "      <td>0</td>\n",
              "      <td>0</td>\n",
              "    </tr>\n",
              "    <tr>\n",
              "      <th>2</th>\n",
              "      <td>7.5</td>\n",
              "      <td>0</td>\n",
              "      <td>0</td>\n",
              "      <td>42</td>\n",
              "      <td>2</td>\n",
              "      <td>1987</td>\n",
              "      <td>2012</td>\n",
              "      <td>0</td>\n",
              "      <td>1</td>\n",
              "      <td>0</td>\n",
              "      <td>0</td>\n",
              "      <td>1</td>\n",
              "      <td>0</td>\n",
              "      <td>0</td>\n",
              "      <td>0</td>\n",
              "      <td>0</td>\n",
              "      <td>0</td>\n",
              "      <td>0</td>\n",
              "      <td>0</td>\n",
              "      <td>0</td>\n",
              "      <td>1</td>\n",
              "      <td>0</td>\n",
              "      <td>1</td>\n",
              "      <td>1</td>\n",
              "      <td>0</td>\n",
              "      <td>0</td>\n",
              "      <td>1</td>\n",
              "      <td>0</td>\n",
              "      <td>0</td>\n",
              "      <td>0</td>\n",
              "      <td>0</td>\n",
              "      <td>0</td>\n",
              "      <td>0</td>\n",
              "      <td>1</td>\n",
              "      <td>0</td>\n",
              "      <td>1</td>\n",
              "      <td>0</td>\n",
              "      <td>0</td>\n",
              "      <td>0</td>\n",
              "      <td>0</td>\n",
              "      <td>0</td>\n",
              "      <td>0</td>\n",
              "      <td>0</td>\n",
              "      <td>0</td>\n",
              "      <td>0</td>\n",
              "      <td>0</td>\n",
              "      <td>0</td>\n",
              "      <td>0</td>\n",
              "      <td>0</td>\n",
              "      <td>0</td>\n",
              "      <td>0</td>\n",
              "      <td>0</td>\n",
              "      <td>0</td>\n",
              "      <td>0</td>\n",
              "      <td>0</td>\n",
              "      <td>0</td>\n",
              "      <td>0</td>\n",
              "      <td>1</td>\n",
              "      <td>0</td>\n",
              "      <td>0</td>\n",
              "      <td>0</td>\n",
              "      <td>0</td>\n",
              "      <td>0</td>\n",
              "      <td>0</td>\n",
              "      <td>0</td>\n",
              "      <td>0</td>\n",
              "      <td>0</td>\n",
              "      <td>0</td>\n",
              "      <td>0</td>\n",
              "      <td>0</td>\n",
              "      <td>0</td>\n",
              "      <td>0</td>\n",
              "      <td>0</td>\n",
              "      <td>0</td>\n",
              "      <td>1</td>\n",
              "      <td>0</td>\n",
              "      <td>0</td>\n",
              "    </tr>\n",
              "    <tr>\n",
              "      <th>3</th>\n",
              "      <td>2.5</td>\n",
              "      <td>0</td>\n",
              "      <td>0</td>\n",
              "      <td>42</td>\n",
              "      <td>3</td>\n",
              "      <td>1982</td>\n",
              "      <td>2009</td>\n",
              "      <td>1</td>\n",
              "      <td>0</td>\n",
              "      <td>0</td>\n",
              "      <td>0</td>\n",
              "      <td>1</td>\n",
              "      <td>0</td>\n",
              "      <td>0</td>\n",
              "      <td>0</td>\n",
              "      <td>0</td>\n",
              "      <td>0</td>\n",
              "      <td>0</td>\n",
              "      <td>0</td>\n",
              "      <td>0</td>\n",
              "      <td>1</td>\n",
              "      <td>0</td>\n",
              "      <td>1</td>\n",
              "      <td>0</td>\n",
              "      <td>0</td>\n",
              "      <td>1</td>\n",
              "      <td>0</td>\n",
              "      <td>1</td>\n",
              "      <td>0</td>\n",
              "      <td>0</td>\n",
              "      <td>0</td>\n",
              "      <td>0</td>\n",
              "      <td>0</td>\n",
              "      <td>1</td>\n",
              "      <td>0</td>\n",
              "      <td>1</td>\n",
              "      <td>0</td>\n",
              "      <td>0</td>\n",
              "      <td>0</td>\n",
              "      <td>0</td>\n",
              "      <td>0</td>\n",
              "      <td>0</td>\n",
              "      <td>0</td>\n",
              "      <td>0</td>\n",
              "      <td>0</td>\n",
              "      <td>0</td>\n",
              "      <td>0</td>\n",
              "      <td>0</td>\n",
              "      <td>0</td>\n",
              "      <td>0</td>\n",
              "      <td>0</td>\n",
              "      <td>0</td>\n",
              "      <td>0</td>\n",
              "      <td>0</td>\n",
              "      <td>0</td>\n",
              "      <td>0</td>\n",
              "      <td>0</td>\n",
              "      <td>0</td>\n",
              "      <td>0</td>\n",
              "      <td>0</td>\n",
              "      <td>0</td>\n",
              "      <td>0</td>\n",
              "      <td>0</td>\n",
              "      <td>1</td>\n",
              "      <td>0</td>\n",
              "      <td>0</td>\n",
              "      <td>0</td>\n",
              "      <td>0</td>\n",
              "      <td>0</td>\n",
              "      <td>0</td>\n",
              "      <td>0</td>\n",
              "      <td>0</td>\n",
              "      <td>0</td>\n",
              "      <td>0</td>\n",
              "      <td>1</td>\n",
              "      <td>0</td>\n",
              "      <td>0</td>\n",
              "    </tr>\n",
              "    <tr>\n",
              "      <th>4</th>\n",
              "      <td>7.5</td>\n",
              "      <td>0</td>\n",
              "      <td>0</td>\n",
              "      <td>77</td>\n",
              "      <td>3</td>\n",
              "      <td>1990</td>\n",
              "      <td>2012</td>\n",
              "      <td>0</td>\n",
              "      <td>1</td>\n",
              "      <td>0</td>\n",
              "      <td>0</td>\n",
              "      <td>0</td>\n",
              "      <td>0</td>\n",
              "      <td>0</td>\n",
              "      <td>1</td>\n",
              "      <td>0</td>\n",
              "      <td>0</td>\n",
              "      <td>0</td>\n",
              "      <td>0</td>\n",
              "      <td>0</td>\n",
              "      <td>1</td>\n",
              "      <td>0</td>\n",
              "      <td>1</td>\n",
              "      <td>1</td>\n",
              "      <td>0</td>\n",
              "      <td>0</td>\n",
              "      <td>0</td>\n",
              "      <td>1</td>\n",
              "      <td>0</td>\n",
              "      <td>0</td>\n",
              "      <td>0</td>\n",
              "      <td>0</td>\n",
              "      <td>0</td>\n",
              "      <td>1</td>\n",
              "      <td>0</td>\n",
              "      <td>1</td>\n",
              "      <td>0</td>\n",
              "      <td>0</td>\n",
              "      <td>0</td>\n",
              "      <td>1</td>\n",
              "      <td>0</td>\n",
              "      <td>0</td>\n",
              "      <td>0</td>\n",
              "      <td>0</td>\n",
              "      <td>0</td>\n",
              "      <td>0</td>\n",
              "      <td>0</td>\n",
              "      <td>0</td>\n",
              "      <td>0</td>\n",
              "      <td>0</td>\n",
              "      <td>0</td>\n",
              "      <td>0</td>\n",
              "      <td>0</td>\n",
              "      <td>0</td>\n",
              "      <td>0</td>\n",
              "      <td>0</td>\n",
              "      <td>0</td>\n",
              "      <td>0</td>\n",
              "      <td>0</td>\n",
              "      <td>0</td>\n",
              "      <td>0</td>\n",
              "      <td>0</td>\n",
              "      <td>0</td>\n",
              "      <td>0</td>\n",
              "      <td>0</td>\n",
              "      <td>0</td>\n",
              "      <td>0</td>\n",
              "      <td>0</td>\n",
              "      <td>0</td>\n",
              "      <td>0</td>\n",
              "      <td>0</td>\n",
              "      <td>0</td>\n",
              "      <td>0</td>\n",
              "      <td>0</td>\n",
              "      <td>1</td>\n",
              "      <td>0</td>\n",
              "      <td>0</td>\n",
              "    </tr>\n",
              "  </tbody>\n",
              "</table>\n",
              "</div>"
            ],
            "text/plain": [
              "     Last_performance_score  ...  Qualification_Non-University Education\n",
              "x 0                    12.5  ...                                       0\n",
              "  1                    12.5  ...                                       0\n",
              "  2                     7.5  ...                                       0\n",
              "  3                     2.5  ...                                       0\n",
              "  4                     7.5  ...                                       0\n",
              "\n",
              "[5 rows x 77 columns]"
            ]
          },
          "metadata": {
            "tags": []
          },
          "execution_count": 17
        }
      ]
    },
    {
      "cell_type": "code",
      "metadata": {
        "scrolled": false,
        "id": "NE_Sya5T1yU5",
        "colab_type": "code",
        "outputId": "f405d187-7abe-422e-fb08-aafe85b383c6",
        "colab": {
          "base_uri": "https://localhost:8080/",
          "height": 34
        }
      },
      "source": [
        "df.shape"
      ],
      "execution_count": 0,
      "outputs": [
        {
          "output_type": "execute_result",
          "data": {
            "text/plain": [
              "(54808, 77)"
            ]
          },
          "metadata": {
            "tags": []
          },
          "execution_count": 18
        }
      ]
    },
    {
      "cell_type": "code",
      "metadata": {
        "id": "25Kfy2441yVB",
        "colab_type": "code",
        "outputId": "2a032f52-af26-4699-f36e-57037cd39b92",
        "colab": {
          "base_uri": "https://localhost:8080/",
          "height": 34
        }
      },
      "source": [
        "# splitting the dataset back to test and train using the keys 'x' & 'y'\n",
        "train_df = df.loc['x']\n",
        "test_df = df.loc['y']\n",
        "train_df.shape\n",
        "test_df.shape"
      ],
      "execution_count": 0,
      "outputs": [
        {
          "output_type": "execute_result",
          "data": {
            "text/plain": [
              "(16496, 77)"
            ]
          },
          "metadata": {
            "tags": []
          },
          "execution_count": 19
        }
      ]
    },
    {
      "cell_type": "code",
      "metadata": {
        "id": "WOZXMNoQ1yVI",
        "colab_type": "code",
        "outputId": "9bce14e5-9df2-4c5b-b4b9-9aca1d41cbb8",
        "colab": {
          "base_uri": "https://localhost:8080/",
          "height": 34
        }
      },
      "source": [
        "train_df.shape"
      ],
      "execution_count": 0,
      "outputs": [
        {
          "output_type": "execute_result",
          "data": {
            "text/plain": [
              "(38312, 77)"
            ]
          },
          "metadata": {
            "tags": []
          },
          "execution_count": 20
        }
      ]
    },
    {
      "cell_type": "code",
      "metadata": {
        "id": "vj60x2pI1yVP",
        "colab_type": "code",
        "colab": {}
      },
      "source": [
        ""
      ],
      "execution_count": 0,
      "outputs": []
    },
    {
      "cell_type": "code",
      "metadata": {
        "id": "Fuf2q5t11yVW",
        "colab_type": "code",
        "colab": {}
      },
      "source": [
        "X = train_df.iloc[:, :]\n",
        "# y = train_df.iloc[:, -1]\n",
        "Z = test_df.iloc[:,:]"
      ],
      "execution_count": 0,
      "outputs": []
    },
    {
      "cell_type": "code",
      "metadata": {
        "id": "DHnfr0FB1yVc",
        "colab_type": "code",
        "colab": {}
      },
      "source": [
        "from sklearn.model_selection import train_test_split\n",
        "X_train, X_test, y_train, y_test = train_test_split(X, y, test_size=0.1, random_state=0)"
      ],
      "execution_count": 0,
      "outputs": []
    },
    {
      "cell_type": "code",
      "metadata": {
        "scrolled": true,
        "id": "006_UXZy1yVj",
        "colab_type": "code",
        "outputId": "c60aa3f2-2941-4668-cba4-b06c087dfb9f",
        "colab": {
          "base_uri": "https://localhost:8080/",
          "height": 1000
        }
      },
      "source": [
        "import xgboost as xgb\n",
        "import time\n",
        "\n",
        "\n",
        "start_time = time.time()\n",
        "clf = xgb.XGBClassifier(max_depth=5,\n",
        "                n_estimators=2500,\n",
        "                learning_rate=0.1, \n",
        "                colsample_bytree=0.9,\n",
        "                min_child_weight = 3,\n",
        "                seed=1200,\n",
        "                booster='dart'\n",
        "                \n",
        "                )\n",
        "                \n",
        "clf.fit(X_train, y_train, early_stopping_rounds=50, eval_metric=\"auc\",\n",
        "        eval_set=[(X_train, y_train), (X_test, y_test)])\n",
        "\n",
        "pred = clf.predict(X_test, ntree_limit=10)\n",
        "\n",
        "clf.score(X_train, y_train)\n",
        "print(f'Done in {time.time() - start_time} seconds')"
      ],
      "execution_count": 0,
      "outputs": [
        {
          "output_type": "stream",
          "text": [
            "[0]\tvalidation_0-auc:0.832766\tvalidation_1-auc:0.810909\n",
            "Multiple eval metrics have been passed: 'validation_1-auc' will be used for early stopping.\n",
            "\n",
            "Will train until validation_1-auc hasn't improved in 50 rounds.\n",
            "[1]\tvalidation_0-auc:0.85007\tvalidation_1-auc:0.835853\n",
            "[2]\tvalidation_0-auc:0.850923\tvalidation_1-auc:0.837689\n",
            "[3]\tvalidation_0-auc:0.856394\tvalidation_1-auc:0.839458\n",
            "[4]\tvalidation_0-auc:0.857242\tvalidation_1-auc:0.840332\n",
            "[5]\tvalidation_0-auc:0.859734\tvalidation_1-auc:0.842359\n",
            "[6]\tvalidation_0-auc:0.857511\tvalidation_1-auc:0.839923\n",
            "[7]\tvalidation_0-auc:0.863541\tvalidation_1-auc:0.84441\n",
            "[8]\tvalidation_0-auc:0.864257\tvalidation_1-auc:0.84519\n",
            "[9]\tvalidation_0-auc:0.864576\tvalidation_1-auc:0.845027\n",
            "[10]\tvalidation_0-auc:0.868193\tvalidation_1-auc:0.851632\n",
            "[11]\tvalidation_0-auc:0.868949\tvalidation_1-auc:0.851038\n",
            "[12]\tvalidation_0-auc:0.876959\tvalidation_1-auc:0.863403\n",
            "[13]\tvalidation_0-auc:0.883988\tvalidation_1-auc:0.873553\n",
            "[14]\tvalidation_0-auc:0.884381\tvalidation_1-auc:0.873413\n",
            "[15]\tvalidation_0-auc:0.885791\tvalidation_1-auc:0.875949\n",
            "[16]\tvalidation_0-auc:0.887836\tvalidation_1-auc:0.878374\n",
            "[17]\tvalidation_0-auc:0.888567\tvalidation_1-auc:0.878133\n",
            "[18]\tvalidation_0-auc:0.888941\tvalidation_1-auc:0.878242\n",
            "[19]\tvalidation_0-auc:0.889378\tvalidation_1-auc:0.877915\n",
            "[20]\tvalidation_0-auc:0.889793\tvalidation_1-auc:0.877918\n",
            "[21]\tvalidation_0-auc:0.890322\tvalidation_1-auc:0.879329\n",
            "[22]\tvalidation_0-auc:0.890665\tvalidation_1-auc:0.879545\n",
            "[23]\tvalidation_0-auc:0.891161\tvalidation_1-auc:0.879915\n",
            "[24]\tvalidation_0-auc:0.893184\tvalidation_1-auc:0.881967\n",
            "[25]\tvalidation_0-auc:0.894275\tvalidation_1-auc:0.882723\n",
            "[26]\tvalidation_0-auc:0.894719\tvalidation_1-auc:0.882486\n",
            "[27]\tvalidation_0-auc:0.895175\tvalidation_1-auc:0.882336\n",
            "[28]\tvalidation_0-auc:0.895424\tvalidation_1-auc:0.882807\n",
            "[29]\tvalidation_0-auc:0.89721\tvalidation_1-auc:0.883946\n",
            "[30]\tvalidation_0-auc:0.897305\tvalidation_1-auc:0.884277\n",
            "[31]\tvalidation_0-auc:0.899202\tvalidation_1-auc:0.886344\n",
            "[32]\tvalidation_0-auc:0.900226\tvalidation_1-auc:0.887096\n",
            "[33]\tvalidation_0-auc:0.900906\tvalidation_1-auc:0.886892\n",
            "[34]\tvalidation_0-auc:0.901133\tvalidation_1-auc:0.887622\n",
            "[35]\tvalidation_0-auc:0.901678\tvalidation_1-auc:0.888054\n",
            "[36]\tvalidation_0-auc:0.903904\tvalidation_1-auc:0.889833\n",
            "[37]\tvalidation_0-auc:0.904191\tvalidation_1-auc:0.890344\n",
            "[38]\tvalidation_0-auc:0.904634\tvalidation_1-auc:0.890429\n",
            "[39]\tvalidation_0-auc:0.906521\tvalidation_1-auc:0.891707\n",
            "[40]\tvalidation_0-auc:0.906647\tvalidation_1-auc:0.89183\n",
            "[41]\tvalidation_0-auc:0.907341\tvalidation_1-auc:0.892588\n",
            "[42]\tvalidation_0-auc:0.908538\tvalidation_1-auc:0.893365\n",
            "[43]\tvalidation_0-auc:0.908739\tvalidation_1-auc:0.893485\n",
            "[44]\tvalidation_0-auc:0.909019\tvalidation_1-auc:0.893956\n",
            "[45]\tvalidation_0-auc:0.909503\tvalidation_1-auc:0.894207\n",
            "[46]\tvalidation_0-auc:0.909819\tvalidation_1-auc:0.89467\n",
            "[47]\tvalidation_0-auc:0.910301\tvalidation_1-auc:0.895025\n",
            "[48]\tvalidation_0-auc:0.910847\tvalidation_1-auc:0.895088\n",
            "[49]\tvalidation_0-auc:0.911023\tvalidation_1-auc:0.895179\n",
            "[50]\tvalidation_0-auc:0.911199\tvalidation_1-auc:0.895369\n",
            "[51]\tvalidation_0-auc:0.911278\tvalidation_1-auc:0.895335\n",
            "[52]\tvalidation_0-auc:0.912017\tvalidation_1-auc:0.896398\n",
            "[53]\tvalidation_0-auc:0.912509\tvalidation_1-auc:0.896486\n",
            "[54]\tvalidation_0-auc:0.912819\tvalidation_1-auc:0.896112\n",
            "[55]\tvalidation_0-auc:0.913246\tvalidation_1-auc:0.89651\n",
            "[56]\tvalidation_0-auc:0.913871\tvalidation_1-auc:0.896486\n",
            "[57]\tvalidation_0-auc:0.914534\tvalidation_1-auc:0.897056\n",
            "[58]\tvalidation_0-auc:0.914887\tvalidation_1-auc:0.897098\n",
            "[59]\tvalidation_0-auc:0.915418\tvalidation_1-auc:0.897357\n",
            "[60]\tvalidation_0-auc:0.915739\tvalidation_1-auc:0.897571\n",
            "[61]\tvalidation_0-auc:0.916042\tvalidation_1-auc:0.897691\n",
            "[62]\tvalidation_0-auc:0.916219\tvalidation_1-auc:0.897914\n",
            "[63]\tvalidation_0-auc:0.916532\tvalidation_1-auc:0.898068\n",
            "[64]\tvalidation_0-auc:0.917026\tvalidation_1-auc:0.898089\n",
            "[65]\tvalidation_0-auc:0.917222\tvalidation_1-auc:0.898195\n",
            "[66]\tvalidation_0-auc:0.917621\tvalidation_1-auc:0.898292\n",
            "[67]\tvalidation_0-auc:0.917872\tvalidation_1-auc:0.898348\n",
            "[68]\tvalidation_0-auc:0.918442\tvalidation_1-auc:0.898727\n",
            "[69]\tvalidation_0-auc:0.919407\tvalidation_1-auc:0.899252\n",
            "[70]\tvalidation_0-auc:0.919905\tvalidation_1-auc:0.899972\n",
            "[71]\tvalidation_0-auc:0.920494\tvalidation_1-auc:0.900599\n",
            "[72]\tvalidation_0-auc:0.920815\tvalidation_1-auc:0.900039\n",
            "[73]\tvalidation_0-auc:0.921058\tvalidation_1-auc:0.900144\n",
            "[74]\tvalidation_0-auc:0.921389\tvalidation_1-auc:0.900499\n",
            "[75]\tvalidation_0-auc:0.921868\tvalidation_1-auc:0.900965\n",
            "[76]\tvalidation_0-auc:0.922063\tvalidation_1-auc:0.900795\n",
            "[77]\tvalidation_0-auc:0.922181\tvalidation_1-auc:0.900582\n",
            "[78]\tvalidation_0-auc:0.922494\tvalidation_1-auc:0.900442\n",
            "[79]\tvalidation_0-auc:0.922697\tvalidation_1-auc:0.900364\n",
            "[80]\tvalidation_0-auc:0.923276\tvalidation_1-auc:0.90099\n",
            "[81]\tvalidation_0-auc:0.923465\tvalidation_1-auc:0.901029\n",
            "[82]\tvalidation_0-auc:0.923667\tvalidation_1-auc:0.901022\n",
            "[83]\tvalidation_0-auc:0.923799\tvalidation_1-auc:0.900943\n",
            "[84]\tvalidation_0-auc:0.924029\tvalidation_1-auc:0.901044\n",
            "[85]\tvalidation_0-auc:0.924306\tvalidation_1-auc:0.900695\n",
            "[86]\tvalidation_0-auc:0.924477\tvalidation_1-auc:0.900698\n",
            "[87]\tvalidation_0-auc:0.924699\tvalidation_1-auc:0.900588\n",
            "[88]\tvalidation_0-auc:0.924861\tvalidation_1-auc:0.900687\n",
            "[89]\tvalidation_0-auc:0.925082\tvalidation_1-auc:0.900818\n",
            "[90]\tvalidation_0-auc:0.925216\tvalidation_1-auc:0.900977\n",
            "[91]\tvalidation_0-auc:0.925274\tvalidation_1-auc:0.900901\n",
            "[92]\tvalidation_0-auc:0.9255\tvalidation_1-auc:0.900848\n",
            "[93]\tvalidation_0-auc:0.925632\tvalidation_1-auc:0.900726\n",
            "[94]\tvalidation_0-auc:0.925843\tvalidation_1-auc:0.900805\n",
            "[95]\tvalidation_0-auc:0.926033\tvalidation_1-auc:0.900569\n",
            "[96]\tvalidation_0-auc:0.926182\tvalidation_1-auc:0.900415\n",
            "[97]\tvalidation_0-auc:0.926627\tvalidation_1-auc:0.900189\n",
            "[98]\tvalidation_0-auc:0.926906\tvalidation_1-auc:0.900258\n",
            "[99]\tvalidation_0-auc:0.927398\tvalidation_1-auc:0.900572\n",
            "[100]\tvalidation_0-auc:0.927513\tvalidation_1-auc:0.900508\n",
            "[101]\tvalidation_0-auc:0.92764\tvalidation_1-auc:0.900491\n",
            "[102]\tvalidation_0-auc:0.928055\tvalidation_1-auc:0.900707\n",
            "[103]\tvalidation_0-auc:0.928367\tvalidation_1-auc:0.900811\n",
            "[104]\tvalidation_0-auc:0.928476\tvalidation_1-auc:0.900712\n",
            "[105]\tvalidation_0-auc:0.928576\tvalidation_1-auc:0.90075\n",
            "[106]\tvalidation_0-auc:0.92871\tvalidation_1-auc:0.900906\n",
            "[107]\tvalidation_0-auc:0.928906\tvalidation_1-auc:0.900948\n",
            "[108]\tvalidation_0-auc:0.929063\tvalidation_1-auc:0.901044\n",
            "[109]\tvalidation_0-auc:0.929207\tvalidation_1-auc:0.901173\n",
            "[110]\tvalidation_0-auc:0.929351\tvalidation_1-auc:0.901213\n",
            "[111]\tvalidation_0-auc:0.929542\tvalidation_1-auc:0.901295\n",
            "[112]\tvalidation_0-auc:0.929722\tvalidation_1-auc:0.901574\n",
            "[113]\tvalidation_0-auc:0.92979\tvalidation_1-auc:0.901307\n",
            "[114]\tvalidation_0-auc:0.930083\tvalidation_1-auc:0.901079\n",
            "[115]\tvalidation_0-auc:0.930228\tvalidation_1-auc:0.900964\n",
            "[116]\tvalidation_0-auc:0.930473\tvalidation_1-auc:0.901434\n",
            "[117]\tvalidation_0-auc:0.930691\tvalidation_1-auc:0.90151\n",
            "[118]\tvalidation_0-auc:0.93072\tvalidation_1-auc:0.901473\n",
            "[119]\tvalidation_0-auc:0.930758\tvalidation_1-auc:0.901352\n",
            "[120]\tvalidation_0-auc:0.931005\tvalidation_1-auc:0.901469\n",
            "[121]\tvalidation_0-auc:0.931098\tvalidation_1-auc:0.901322\n",
            "[122]\tvalidation_0-auc:0.931265\tvalidation_1-auc:0.901158\n",
            "[123]\tvalidation_0-auc:0.93149\tvalidation_1-auc:0.901414\n",
            "[124]\tvalidation_0-auc:0.931547\tvalidation_1-auc:0.901312\n",
            "[125]\tvalidation_0-auc:0.931816\tvalidation_1-auc:0.901532\n",
            "[126]\tvalidation_0-auc:0.932005\tvalidation_1-auc:0.901566\n",
            "[127]\tvalidation_0-auc:0.932163\tvalidation_1-auc:0.90184\n",
            "[128]\tvalidation_0-auc:0.932298\tvalidation_1-auc:0.901713\n",
            "[129]\tvalidation_0-auc:0.932505\tvalidation_1-auc:0.901643\n",
            "[130]\tvalidation_0-auc:0.932667\tvalidation_1-auc:0.901653\n",
            "[131]\tvalidation_0-auc:0.932741\tvalidation_1-auc:0.901566\n",
            "[132]\tvalidation_0-auc:0.932879\tvalidation_1-auc:0.901576\n",
            "[133]\tvalidation_0-auc:0.933066\tvalidation_1-auc:0.901427\n",
            "[134]\tvalidation_0-auc:0.933166\tvalidation_1-auc:0.901197\n",
            "[135]\tvalidation_0-auc:0.933304\tvalidation_1-auc:0.901156\n",
            "[136]\tvalidation_0-auc:0.933337\tvalidation_1-auc:0.901271\n",
            "[137]\tvalidation_0-auc:0.933459\tvalidation_1-auc:0.901229\n",
            "[138]\tvalidation_0-auc:0.933759\tvalidation_1-auc:0.901148\n",
            "[139]\tvalidation_0-auc:0.933864\tvalidation_1-auc:0.901083\n",
            "[140]\tvalidation_0-auc:0.934013\tvalidation_1-auc:0.901116\n",
            "[141]\tvalidation_0-auc:0.934166\tvalidation_1-auc:0.90094\n",
            "[142]\tvalidation_0-auc:0.934331\tvalidation_1-auc:0.901218\n",
            "[143]\tvalidation_0-auc:0.934478\tvalidation_1-auc:0.901402\n",
            "[144]\tvalidation_0-auc:0.934522\tvalidation_1-auc:0.901445\n",
            "[145]\tvalidation_0-auc:0.93478\tvalidation_1-auc:0.901268\n",
            "[146]\tvalidation_0-auc:0.934967\tvalidation_1-auc:0.901432\n",
            "[147]\tvalidation_0-auc:0.935039\tvalidation_1-auc:0.901516\n",
            "[148]\tvalidation_0-auc:0.935026\tvalidation_1-auc:0.901554\n",
            "[149]\tvalidation_0-auc:0.935212\tvalidation_1-auc:0.90148\n",
            "[150]\tvalidation_0-auc:0.935265\tvalidation_1-auc:0.90155\n",
            "[151]\tvalidation_0-auc:0.935366\tvalidation_1-auc:0.901696\n",
            "[152]\tvalidation_0-auc:0.935619\tvalidation_1-auc:0.901638\n",
            "[153]\tvalidation_0-auc:0.935783\tvalidation_1-auc:0.901596\n",
            "[154]\tvalidation_0-auc:0.93608\tvalidation_1-auc:0.901559\n",
            "[155]\tvalidation_0-auc:0.93611\tvalidation_1-auc:0.901607\n",
            "[156]\tvalidation_0-auc:0.93618\tvalidation_1-auc:0.901491\n",
            "[157]\tvalidation_0-auc:0.936289\tvalidation_1-auc:0.901425\n",
            "[158]\tvalidation_0-auc:0.936437\tvalidation_1-auc:0.901372\n",
            "[159]\tvalidation_0-auc:0.936631\tvalidation_1-auc:0.901582\n",
            "[160]\tvalidation_0-auc:0.936761\tvalidation_1-auc:0.901518\n",
            "[161]\tvalidation_0-auc:0.937031\tvalidation_1-auc:0.901491\n",
            "[162]\tvalidation_0-auc:0.937315\tvalidation_1-auc:0.90143\n",
            "[163]\tvalidation_0-auc:0.937388\tvalidation_1-auc:0.90134\n",
            "[164]\tvalidation_0-auc:0.93753\tvalidation_1-auc:0.901316\n",
            "[165]\tvalidation_0-auc:0.93766\tvalidation_1-auc:0.901255\n",
            "[166]\tvalidation_0-auc:0.937763\tvalidation_1-auc:0.901273\n",
            "[167]\tvalidation_0-auc:0.938003\tvalidation_1-auc:0.901081\n",
            "[168]\tvalidation_0-auc:0.938126\tvalidation_1-auc:0.900945\n",
            "[169]\tvalidation_0-auc:0.938238\tvalidation_1-auc:0.900796\n",
            "[170]\tvalidation_0-auc:0.93841\tvalidation_1-auc:0.900749\n",
            "[171]\tvalidation_0-auc:0.938529\tvalidation_1-auc:0.900782\n",
            "[172]\tvalidation_0-auc:0.938578\tvalidation_1-auc:0.90079\n",
            "[173]\tvalidation_0-auc:0.938822\tvalidation_1-auc:0.90078\n",
            "[174]\tvalidation_0-auc:0.938861\tvalidation_1-auc:0.900679\n",
            "[175]\tvalidation_0-auc:0.938931\tvalidation_1-auc:0.900711\n",
            "[176]\tvalidation_0-auc:0.939036\tvalidation_1-auc:0.900719\n",
            "[177]\tvalidation_0-auc:0.939116\tvalidation_1-auc:0.900644\n",
            "Stopping. Best iteration:\n",
            "[127]\tvalidation_0-auc:0.932163\tvalidation_1-auc:0.90184\n",
            "\n",
            "Done in 62.30147576332092 seconds\n"
          ],
          "name": "stdout"
        }
      ]
    },
    {
      "cell_type": "code",
      "metadata": {
        "id": "IKEPAy6M1yVq",
        "colab_type": "code",
        "outputId": "2c6221a1-7201-447d-826c-05f6b8dfdbed",
        "colab": {
          "base_uri": "https://localhost:8080/",
          "height": 34
        }
      },
      "source": [
        "clf.score(X_train, y_train)\n",
        "# 0.9430233425311358\n",
        "# 0.9450696055684454"
      ],
      "execution_count": 0,
      "outputs": [
        {
          "output_type": "execute_result",
          "data": {
            "text/plain": [
              "0.9434164733178654"
            ]
          },
          "metadata": {
            "tags": []
          },
          "execution_count": 27
        }
      ]
    },
    {
      "cell_type": "code",
      "metadata": {
        "id": "BuLHQYbn1yVz",
        "colab_type": "code",
        "colab": {}
      },
      "source": [
        "# predictions = clf.predict(Z)\n",
        "# prediction = pd.DataFrame(predictions)\n",
        "# prediction.index = z\n",
        "# prediction.index.name = 'EmployeeNo'\n",
        "# prediction.columns=['Promoted_or_Not']\n",
        "# prediction.to_csv('predictions_9X.csv')"
      ],
      "execution_count": 0,
      "outputs": []
    },
    {
      "cell_type": "code",
      "metadata": {
        "id": "KuX_YKFn7OV4",
        "colab_type": "code",
        "outputId": "a329da0f-ce58-4dfe-a322-3d344baa06db",
        "colab": {
          "resources": {
            "http://localhost:8080/nbextensions/google.colab/files.js": {
              "data": "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",
              "ok": true,
              "headers": [
                [
                  "content-type",
                  "application/javascript"
                ]
              ],
              "status": 200,
              "status_text": ""
            }
          },
          "base_uri": "https://localhost:8080/",
          "height": 74
        }
      },
      "source": [
        "uploaded = files.upload()"
      ],
      "execution_count": 0,
      "outputs": [
        {
          "output_type": "display_data",
          "data": {
            "text/html": [
              "\n",
              "     <input type=\"file\" id=\"files-0ebc1e33-666e-4581-96e5-2cbd601e963d\" name=\"files[]\" multiple disabled />\n",
              "     <output id=\"result-0ebc1e33-666e-4581-96e5-2cbd601e963d\">\n",
              "      Upload widget is only available when the cell has been executed in the\n",
              "      current browser session. Please rerun this cell to enable.\n",
              "      </output>\n",
              "      <script src=\"/nbextensions/google.colab/files.js\"></script> "
            ],
            "text/plain": [
              "<IPython.core.display.HTML object>"
            ]
          },
          "metadata": {
            "tags": []
          }
        },
        {
          "output_type": "stream",
          "text": [
            "Saving hy.csv to hy.csv\n"
          ],
          "name": "stdout"
        }
      ]
    },
    {
      "cell_type": "code",
      "metadata": {
        "id": "mB4qJSyj1yV8",
        "colab_type": "code",
        "colab": {}
      },
      "source": [
        "# stacking\n",
        "\n",
        "pred = clf.predict(Z)\n",
        "merged = pd.read_csv('hy.csv')\n",
        "merged_values = merged['Promoted_or_Not'].values"
      ],
      "execution_count": 0,
      "outputs": []
    },
    {
      "cell_type": "code",
      "metadata": {
        "id": "z8ggSWRh1yWD",
        "colab_type": "code",
        "colab": {}
      },
      "source": [
        "sums = pred+merged_values\n",
        "merged['Promoted_or_Not'] = sums"
      ],
      "execution_count": 0,
      "outputs": []
    },
    {
      "cell_type": "code",
      "metadata": {
        "id": "agBSqlaW1yWJ",
        "colab_type": "code",
        "colab": {}
      },
      "source": [
        "merged['Promoted_or_Not'] = merged['Promoted_or_Not'].map(lambda x: x if x==0 else 1)"
      ],
      "execution_count": 0,
      "outputs": []
    },
    {
      "cell_type": "code",
      "metadata": {
        "id": "vOAgJ9fl1yWN",
        "colab_type": "code",
        "outputId": "c655246e-ed82-41b7-904c-903f1e9b564f",
        "colab": {
          "base_uri": "https://localhost:8080/",
          "height": 85
        }
      },
      "source": [
        "pd.value_counts(sums)"
      ],
      "execution_count": 0,
      "outputs": [
        {
          "output_type": "execute_result",
          "data": {
            "text/plain": [
              "0    15971\n",
              "2      470\n",
              "1       55\n",
              "dtype: int64"
            ]
          },
          "metadata": {
            "tags": []
          },
          "execution_count": 36
        }
      ]
    },
    {
      "cell_type": "code",
      "metadata": {
        "id": "C4mlOLqa1yWQ",
        "colab_type": "code",
        "colab": {}
      },
      "source": [
        "merged.to_csv('hy_test2.csv', index=False)"
      ],
      "execution_count": 0,
      "outputs": []
    },
    {
      "cell_type": "code",
      "metadata": {
        "id": "rbX3Zo7j1yWU",
        "colab_type": "code",
        "outputId": "af756180-3c95-4c9e-b1d7-02e34cb901a8",
        "colab": {
          "base_uri": "https://localhost:8080/",
          "height": 68
        }
      },
      "source": [
        "merged['Promoted_or_Not'].value_counts()"
      ],
      "execution_count": 0,
      "outputs": [
        {
          "output_type": "execute_result",
          "data": {
            "text/plain": [
              "0    15971\n",
              "1      525\n",
              "Name: Promoted_or_Not, dtype: int64"
            ]
          },
          "metadata": {
            "tags": []
          },
          "execution_count": 38
        }
      ]
    },
    {
      "cell_type": "code",
      "metadata": {
        "id": "JyTBUJB279xA",
        "colab_type": "code",
        "outputId": "ccadd4b8-199b-426b-b467-82ab28aa8e6a",
        "colab": {
          "base_uri": "https://localhost:8080/",
          "height": 122
        }
      },
      "source": [
        "!pip install vecstack"
      ],
      "execution_count": 0,
      "outputs": [
        {
          "output_type": "stream",
          "text": [
            "Requirement already satisfied: vecstack in /usr/local/lib/python3.6/dist-packages (0.4.0)\n",
            "Requirement already satisfied: scikit-learn>=0.18 in /usr/local/lib/python3.6/dist-packages (from vecstack) (0.21.3)\n",
            "Requirement already satisfied: numpy in /usr/local/lib/python3.6/dist-packages (from vecstack) (1.16.5)\n",
            "Requirement already satisfied: scipy in /usr/local/lib/python3.6/dist-packages (from vecstack) (1.3.1)\n",
            "Requirement already satisfied: joblib>=0.11 in /usr/local/lib/python3.6/dist-packages (from scikit-learn>=0.18->vecstack) (0.14.0)\n"
          ],
          "name": "stdout"
        }
      ]
    },
    {
      "cell_type": "code",
      "metadata": {
        "id": "DyF-GROw1yWY",
        "colab_type": "code",
        "colab": {}
      },
      "source": [
        "from vecstack import stacking"
      ],
      "execution_count": 0,
      "outputs": []
    },
    {
      "cell_type": "code",
      "metadata": {
        "id": "lEM1uQV81yWf",
        "colab_type": "code",
        "colab": {}
      },
      "source": [
        "from sklearn.svm import SVC\n",
        "from sklearn.neighbors import KNeighborsClassifier\n",
        "from sklearn.metrics import accuracy_score"
      ],
      "execution_count": 0,
      "outputs": []
    },
    {
      "cell_type": "code",
      "metadata": {
        "id": "OJhbw6Ny1yWn",
        "colab_type": "code",
        "colab": {}
      },
      "source": [
        "models = [clf,\n",
        "         SVC(),\n",
        "         KNeighborsClassifier(n_neighbors=5)]"
      ],
      "execution_count": 0,
      "outputs": []
    },
    {
      "cell_type": "code",
      "metadata": {
        "id": "IhPZuKIX1yWt",
        "colab_type": "code",
        "outputId": "15c881aa-231e-4357-d99a-f9f4211f9538",
        "colab": {
          "base_uri": "https://localhost:8080/",
          "height": 136
        }
      },
      "source": [
        "S_train, S_test = stacking(models, X_train, y_train, X_test,\n",
        "                          regression=False, mode='oof_pred_bag',\n",
        "                          needs_proba=False, save_dir=None,\n",
        "                          metric=accuracy_score, n_folds=4,\n",
        "                          stratified=True, shuffle=True,\n",
        "                          random_state=1, verbose=2)"
      ],
      "execution_count": 0,
      "outputs": [
        {
          "output_type": "stream",
          "text": [
            "task:         [classification]\n",
            "n_classes:    [2]\n",
            "metric:       [accuracy_score]\n",
            "mode:         [oof_pred_bag]\n",
            "n_models:     [3]\n",
            "\n",
            "model  0:     [XGBClassifier]\n"
          ],
          "name": "stdout"
        }
      ]
    },
    {
      "cell_type": "code",
      "metadata": {
        "id": "dZmcwkKp1yW1",
        "colab_type": "code",
        "colab": {}
      },
      "source": [
        "new_model = clf.fit(S_train, y_train)\n",
        "y_pred = new_model.predict(S_test)\n",
        "score = accuracy_score(y_test, y_pred)"
      ],
      "execution_count": 0,
      "outputs": []
    }
  ]
}