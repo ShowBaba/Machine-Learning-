{
  "nbformat": 4,
  "nbformat_minor": 0,
  "metadata": {
    "kernelspec": {
      "display_name": "Python 3",
      "language": "python",
      "name": "python3"
    },
    "language_info": {
      "codemirror_mode": {
        "name": "ipython",
        "version": 3
      },
      "file_extension": ".py",
      "mimetype": "text/x-python",
      "name": "python",
      "nbconvert_exporter": "python",
      "pygments_lexer": "ipython3",
      "version": "3.6.5"
    },
    "colab": {
      "name": "steps_implementation.ipynb",
      "provenance": [],
      "include_colab_link": true
    }
  },
  "cells": [
    {
      "cell_type": "markdown",
      "metadata": {
        "id": "view-in-github",
        "colab_type": "text"
      },
      "source": [
        "<a href=\"https://colab.research.google.com/github/ShowBaba/Machine-Learning-/blob/master/steps_implementation.ipynb\" target=\"_parent\"><img src=\"https://colab.research.google.com/assets/colab-badge.svg\" alt=\"Open In Colab\"/></a>"
      ]
    },
    {
      "cell_type": "code",
      "metadata": {
        "id": "n-SoH3TeKJ6D",
        "colab_type": "code",
        "colab": {}
      },
      "source": [
        "import numpy as np\n",
        "import pandas as pd\n",
        "import seaborn as sns\n",
        "import matplotlib as plt\n",
        "%matplotlib inline"
      ],
      "execution_count": 0,
      "outputs": []
    },
    {
      "cell_type": "code",
      "metadata": {
        "id": "Xa8BnHyZKJ6a",
        "colab_type": "code",
        "colab": {},
        "outputId": "9807b797-e2e1-47cf-8534-2a81b179f55a"
      },
      "source": [
        "# load the datasets\n",
        "train_df = pd.read_csv('train.csv')\n",
        "test_df = pd.read_csv('test.csv')\n",
        "z = test_df['EmployeeNo']\n",
        "train_df.head()"
      ],
      "execution_count": 0,
      "outputs": [
        {
          "output_type": "execute_result",
          "data": {
            "text/html": [
              "<div>\n",
              "<style scoped>\n",
              "    .dataframe tbody tr th:only-of-type {\n",
              "        vertical-align: middle;\n",
              "    }\n",
              "\n",
              "    .dataframe tbody tr th {\n",
              "        vertical-align: top;\n",
              "    }\n",
              "\n",
              "    .dataframe thead th {\n",
              "        text-align: right;\n",
              "    }\n",
              "</style>\n",
              "<table border=\"1\" class=\"dataframe\">\n",
              "  <thead>\n",
              "    <tr style=\"text-align: right;\">\n",
              "      <th></th>\n",
              "      <th>EmployeeNo</th>\n",
              "      <th>Division</th>\n",
              "      <th>Qualification</th>\n",
              "      <th>Gender</th>\n",
              "      <th>Channel_of_Recruitment</th>\n",
              "      <th>Trainings_Attended</th>\n",
              "      <th>Year_of_birth</th>\n",
              "      <th>Last_performance_score</th>\n",
              "      <th>Year_of_recruitment</th>\n",
              "      <th>Targets_met</th>\n",
              "      <th>Previous_Award</th>\n",
              "      <th>Training_score_average</th>\n",
              "      <th>State_Of_Origin</th>\n",
              "      <th>Foreign_schooled</th>\n",
              "      <th>Marital_Status</th>\n",
              "      <th>Past_Disciplinary_Action</th>\n",
              "      <th>Previous_IntraDepartmental_Movement</th>\n",
              "      <th>No_of_previous_employers</th>\n",
              "      <th>Promoted_or_Not</th>\n",
              "    </tr>\n",
              "  </thead>\n",
              "  <tbody>\n",
              "    <tr>\n",
              "      <th>0</th>\n",
              "      <td>YAK/S/00001</td>\n",
              "      <td>Commercial Sales and Marketing</td>\n",
              "      <td>MSc, MBA and PhD</td>\n",
              "      <td>Female</td>\n",
              "      <td>Direct Internal process</td>\n",
              "      <td>2</td>\n",
              "      <td>1986</td>\n",
              "      <td>12.5</td>\n",
              "      <td>2011</td>\n",
              "      <td>1</td>\n",
              "      <td>0</td>\n",
              "      <td>41</td>\n",
              "      <td>ANAMBRA</td>\n",
              "      <td>No</td>\n",
              "      <td>Married</td>\n",
              "      <td>No</td>\n",
              "      <td>No</td>\n",
              "      <td>0</td>\n",
              "      <td>0</td>\n",
              "    </tr>\n",
              "    <tr>\n",
              "      <th>1</th>\n",
              "      <td>YAK/S/00002</td>\n",
              "      <td>Customer Support and Field Operations</td>\n",
              "      <td>First Degree or HND</td>\n",
              "      <td>Male</td>\n",
              "      <td>Agency and others</td>\n",
              "      <td>2</td>\n",
              "      <td>1991</td>\n",
              "      <td>12.5</td>\n",
              "      <td>2015</td>\n",
              "      <td>0</td>\n",
              "      <td>0</td>\n",
              "      <td>52</td>\n",
              "      <td>ANAMBRA</td>\n",
              "      <td>Yes</td>\n",
              "      <td>Married</td>\n",
              "      <td>No</td>\n",
              "      <td>No</td>\n",
              "      <td>0</td>\n",
              "      <td>0</td>\n",
              "    </tr>\n",
              "    <tr>\n",
              "      <th>2</th>\n",
              "      <td>YAK/S/00003</td>\n",
              "      <td>Commercial Sales and Marketing</td>\n",
              "      <td>First Degree or HND</td>\n",
              "      <td>Male</td>\n",
              "      <td>Direct Internal process</td>\n",
              "      <td>2</td>\n",
              "      <td>1987</td>\n",
              "      <td>7.5</td>\n",
              "      <td>2012</td>\n",
              "      <td>0</td>\n",
              "      <td>0</td>\n",
              "      <td>42</td>\n",
              "      <td>KATSINA</td>\n",
              "      <td>Yes</td>\n",
              "      <td>Married</td>\n",
              "      <td>No</td>\n",
              "      <td>No</td>\n",
              "      <td>0</td>\n",
              "      <td>0</td>\n",
              "    </tr>\n",
              "    <tr>\n",
              "      <th>3</th>\n",
              "      <td>YAK/S/00004</td>\n",
              "      <td>Commercial Sales and Marketing</td>\n",
              "      <td>First Degree or HND</td>\n",
              "      <td>Male</td>\n",
              "      <td>Agency and others</td>\n",
              "      <td>3</td>\n",
              "      <td>1982</td>\n",
              "      <td>2.5</td>\n",
              "      <td>2009</td>\n",
              "      <td>0</td>\n",
              "      <td>0</td>\n",
              "      <td>42</td>\n",
              "      <td>NIGER</td>\n",
              "      <td>Yes</td>\n",
              "      <td>Single</td>\n",
              "      <td>No</td>\n",
              "      <td>No</td>\n",
              "      <td>1</td>\n",
              "      <td>0</td>\n",
              "    </tr>\n",
              "    <tr>\n",
              "      <th>4</th>\n",
              "      <td>YAK/S/00006</td>\n",
              "      <td>Information and Strategy</td>\n",
              "      <td>First Degree or HND</td>\n",
              "      <td>Male</td>\n",
              "      <td>Direct Internal process</td>\n",
              "      <td>3</td>\n",
              "      <td>1990</td>\n",
              "      <td>7.5</td>\n",
              "      <td>2012</td>\n",
              "      <td>0</td>\n",
              "      <td>0</td>\n",
              "      <td>77</td>\n",
              "      <td>AKWA IBOM</td>\n",
              "      <td>Yes</td>\n",
              "      <td>Married</td>\n",
              "      <td>No</td>\n",
              "      <td>No</td>\n",
              "      <td>1</td>\n",
              "      <td>0</td>\n",
              "    </tr>\n",
              "  </tbody>\n",
              "</table>\n",
              "</div>"
            ],
            "text/plain": [
              "    EmployeeNo                               Division        Qualification  \\\n",
              "0  YAK/S/00001         Commercial Sales and Marketing     MSc, MBA and PhD   \n",
              "1  YAK/S/00002  Customer Support and Field Operations  First Degree or HND   \n",
              "2  YAK/S/00003         Commercial Sales and Marketing  First Degree or HND   \n",
              "3  YAK/S/00004         Commercial Sales and Marketing  First Degree or HND   \n",
              "4  YAK/S/00006               Information and Strategy  First Degree or HND   \n",
              "\n",
              "   Gender   Channel_of_Recruitment  Trainings_Attended  Year_of_birth  \\\n",
              "0  Female  Direct Internal process                   2           1986   \n",
              "1    Male        Agency and others                   2           1991   \n",
              "2    Male  Direct Internal process                   2           1987   \n",
              "3    Male        Agency and others                   3           1982   \n",
              "4    Male  Direct Internal process                   3           1990   \n",
              "\n",
              "   Last_performance_score  Year_of_recruitment  Targets_met  Previous_Award  \\\n",
              "0                    12.5                 2011            1               0   \n",
              "1                    12.5                 2015            0               0   \n",
              "2                     7.5                 2012            0               0   \n",
              "3                     2.5                 2009            0               0   \n",
              "4                     7.5                 2012            0               0   \n",
              "\n",
              "   Training_score_average State_Of_Origin Foreign_schooled Marital_Status  \\\n",
              "0                      41         ANAMBRA               No        Married   \n",
              "1                      52         ANAMBRA              Yes        Married   \n",
              "2                      42         KATSINA              Yes        Married   \n",
              "3                      42           NIGER              Yes         Single   \n",
              "4                      77       AKWA IBOM              Yes        Married   \n",
              "\n",
              "  Past_Disciplinary_Action Previous_IntraDepartmental_Movement  \\\n",
              "0                       No                                  No   \n",
              "1                       No                                  No   \n",
              "2                       No                                  No   \n",
              "3                       No                                  No   \n",
              "4                       No                                  No   \n",
              "\n",
              "  No_of_previous_employers  Promoted_or_Not  \n",
              "0                        0                0  \n",
              "1                        0                0  \n",
              "2                        0                0  \n",
              "3                        1                0  \n",
              "4                        1                0  "
            ]
          },
          "metadata": {
            "tags": []
          },
          "execution_count": 39
        }
      ]
    },
    {
      "cell_type": "code",
      "metadata": {
        "id": "iZnpme8DKJ6t",
        "colab_type": "code",
        "colab": {},
        "outputId": "3f71d601-447d-440a-d244-6014147b28fe"
      },
      "source": [
        "train_df.shape"
      ],
      "execution_count": 0,
      "outputs": [
        {
          "output_type": "execute_result",
          "data": {
            "text/plain": [
              "(38312, 19)"
            ]
          },
          "metadata": {
            "tags": []
          },
          "execution_count": 40
        }
      ]
    },
    {
      "cell_type": "code",
      "metadata": {
        "id": "UPkXuZjAKJ66",
        "colab_type": "code",
        "colab": {},
        "outputId": "1fdb554e-8309-45e8-f04b-7530ef74baed"
      },
      "source": [
        "test_df.shape"
      ],
      "execution_count": 0,
      "outputs": [
        {
          "output_type": "execute_result",
          "data": {
            "text/plain": [
              "(16496, 18)"
            ]
          },
          "metadata": {
            "tags": []
          },
          "execution_count": 41
        }
      ]
    },
    {
      "cell_type": "code",
      "metadata": {
        "id": "hmTMYIMQKJ7G",
        "colab_type": "code",
        "colab": {}
      },
      "source": [
        "y = train_df.iloc[:, -1]"
      ],
      "execution_count": 0,
      "outputs": []
    },
    {
      "cell_type": "code",
      "metadata": {
        "scrolled": true,
        "id": "2UbSds59KJ7R",
        "colab_type": "code",
        "colab": {},
        "outputId": "ed94dc93-0b4d-458a-b0d5-ac5f88f09d13"
      },
      "source": [
        "# merge the datasets for processing\n",
        "df = [train_df, test_df]\n",
        "df = pd.concat(df, keys=['a', 'b'], sort=False)\n",
        "df = df.drop(columns=['EmployeeNo', 'Promoted_or_Not'])\n",
        "df.head(10)"
      ],
      "execution_count": 0,
      "outputs": [
        {
          "output_type": "execute_result",
          "data": {
            "text/html": [
              "<div>\n",
              "<style scoped>\n",
              "    .dataframe tbody tr th:only-of-type {\n",
              "        vertical-align: middle;\n",
              "    }\n",
              "\n",
              "    .dataframe tbody tr th {\n",
              "        vertical-align: top;\n",
              "    }\n",
              "\n",
              "    .dataframe thead th {\n",
              "        text-align: right;\n",
              "    }\n",
              "</style>\n",
              "<table border=\"1\" class=\"dataframe\">\n",
              "  <thead>\n",
              "    <tr style=\"text-align: right;\">\n",
              "      <th></th>\n",
              "      <th></th>\n",
              "      <th>Division</th>\n",
              "      <th>Qualification</th>\n",
              "      <th>Gender</th>\n",
              "      <th>Channel_of_Recruitment</th>\n",
              "      <th>Trainings_Attended</th>\n",
              "      <th>Year_of_birth</th>\n",
              "      <th>Last_performance_score</th>\n",
              "      <th>Year_of_recruitment</th>\n",
              "      <th>Targets_met</th>\n",
              "      <th>Previous_Award</th>\n",
              "      <th>Training_score_average</th>\n",
              "      <th>State_Of_Origin</th>\n",
              "      <th>Foreign_schooled</th>\n",
              "      <th>Marital_Status</th>\n",
              "      <th>Past_Disciplinary_Action</th>\n",
              "      <th>Previous_IntraDepartmental_Movement</th>\n",
              "      <th>No_of_previous_employers</th>\n",
              "    </tr>\n",
              "  </thead>\n",
              "  <tbody>\n",
              "    <tr>\n",
              "      <th rowspan=\"10\" valign=\"top\">a</th>\n",
              "      <th>0</th>\n",
              "      <td>Commercial Sales and Marketing</td>\n",
              "      <td>MSc, MBA and PhD</td>\n",
              "      <td>Female</td>\n",
              "      <td>Direct Internal process</td>\n",
              "      <td>2</td>\n",
              "      <td>1986</td>\n",
              "      <td>12.5</td>\n",
              "      <td>2011</td>\n",
              "      <td>1</td>\n",
              "      <td>0</td>\n",
              "      <td>41</td>\n",
              "      <td>ANAMBRA</td>\n",
              "      <td>No</td>\n",
              "      <td>Married</td>\n",
              "      <td>No</td>\n",
              "      <td>No</td>\n",
              "      <td>0</td>\n",
              "    </tr>\n",
              "    <tr>\n",
              "      <th>1</th>\n",
              "      <td>Customer Support and Field Operations</td>\n",
              "      <td>First Degree or HND</td>\n",
              "      <td>Male</td>\n",
              "      <td>Agency and others</td>\n",
              "      <td>2</td>\n",
              "      <td>1991</td>\n",
              "      <td>12.5</td>\n",
              "      <td>2015</td>\n",
              "      <td>0</td>\n",
              "      <td>0</td>\n",
              "      <td>52</td>\n",
              "      <td>ANAMBRA</td>\n",
              "      <td>Yes</td>\n",
              "      <td>Married</td>\n",
              "      <td>No</td>\n",
              "      <td>No</td>\n",
              "      <td>0</td>\n",
              "    </tr>\n",
              "    <tr>\n",
              "      <th>2</th>\n",
              "      <td>Commercial Sales and Marketing</td>\n",
              "      <td>First Degree or HND</td>\n",
              "      <td>Male</td>\n",
              "      <td>Direct Internal process</td>\n",
              "      <td>2</td>\n",
              "      <td>1987</td>\n",
              "      <td>7.5</td>\n",
              "      <td>2012</td>\n",
              "      <td>0</td>\n",
              "      <td>0</td>\n",
              "      <td>42</td>\n",
              "      <td>KATSINA</td>\n",
              "      <td>Yes</td>\n",
              "      <td>Married</td>\n",
              "      <td>No</td>\n",
              "      <td>No</td>\n",
              "      <td>0</td>\n",
              "    </tr>\n",
              "    <tr>\n",
              "      <th>3</th>\n",
              "      <td>Commercial Sales and Marketing</td>\n",
              "      <td>First Degree or HND</td>\n",
              "      <td>Male</td>\n",
              "      <td>Agency and others</td>\n",
              "      <td>3</td>\n",
              "      <td>1982</td>\n",
              "      <td>2.5</td>\n",
              "      <td>2009</td>\n",
              "      <td>0</td>\n",
              "      <td>0</td>\n",
              "      <td>42</td>\n",
              "      <td>NIGER</td>\n",
              "      <td>Yes</td>\n",
              "      <td>Single</td>\n",
              "      <td>No</td>\n",
              "      <td>No</td>\n",
              "      <td>1</td>\n",
              "    </tr>\n",
              "    <tr>\n",
              "      <th>4</th>\n",
              "      <td>Information and Strategy</td>\n",
              "      <td>First Degree or HND</td>\n",
              "      <td>Male</td>\n",
              "      <td>Direct Internal process</td>\n",
              "      <td>3</td>\n",
              "      <td>1990</td>\n",
              "      <td>7.5</td>\n",
              "      <td>2012</td>\n",
              "      <td>0</td>\n",
              "      <td>0</td>\n",
              "      <td>77</td>\n",
              "      <td>AKWA IBOM</td>\n",
              "      <td>Yes</td>\n",
              "      <td>Married</td>\n",
              "      <td>No</td>\n",
              "      <td>No</td>\n",
              "      <td>1</td>\n",
              "    </tr>\n",
              "    <tr>\n",
              "      <th>5</th>\n",
              "      <td>Customer Support and Field Operations</td>\n",
              "      <td>First Degree or HND</td>\n",
              "      <td>Female</td>\n",
              "      <td>Agency and others</td>\n",
              "      <td>2</td>\n",
              "      <td>1990</td>\n",
              "      <td>7.5</td>\n",
              "      <td>2014</td>\n",
              "      <td>0</td>\n",
              "      <td>0</td>\n",
              "      <td>51</td>\n",
              "      <td>ENUGU</td>\n",
              "      <td>Yes</td>\n",
              "      <td>Married</td>\n",
              "      <td>No</td>\n",
              "      <td>Yes</td>\n",
              "      <td>1</td>\n",
              "    </tr>\n",
              "    <tr>\n",
              "      <th>6</th>\n",
              "      <td>Customer Support and Field Operations</td>\n",
              "      <td>MSc, MBA and PhD</td>\n",
              "      <td>Male</td>\n",
              "      <td>Direct Internal process</td>\n",
              "      <td>2</td>\n",
              "      <td>1988</td>\n",
              "      <td>7.5</td>\n",
              "      <td>2013</td>\n",
              "      <td>0</td>\n",
              "      <td>0</td>\n",
              "      <td>55</td>\n",
              "      <td>OYO</td>\n",
              "      <td>No</td>\n",
              "      <td>Single</td>\n",
              "      <td>No</td>\n",
              "      <td>No</td>\n",
              "      <td>1</td>\n",
              "    </tr>\n",
              "    <tr>\n",
              "      <th>7</th>\n",
              "      <td>Information and Strategy</td>\n",
              "      <td>First Degree or HND</td>\n",
              "      <td>Male</td>\n",
              "      <td>Agency and others</td>\n",
              "      <td>2</td>\n",
              "      <td>1993</td>\n",
              "      <td>10.0</td>\n",
              "      <td>2014</td>\n",
              "      <td>0</td>\n",
              "      <td>0</td>\n",
              "      <td>75</td>\n",
              "      <td>LAGOS</td>\n",
              "      <td>Yes</td>\n",
              "      <td>Married</td>\n",
              "      <td>No</td>\n",
              "      <td>No</td>\n",
              "      <td>0</td>\n",
              "    </tr>\n",
              "    <tr>\n",
              "      <th>8</th>\n",
              "      <td>Commercial Sales and Marketing</td>\n",
              "      <td>MSc, MBA and PhD</td>\n",
              "      <td>Male</td>\n",
              "      <td>Direct Internal process</td>\n",
              "      <td>2</td>\n",
              "      <td>1989</td>\n",
              "      <td>12.5</td>\n",
              "      <td>2014</td>\n",
              "      <td>1</td>\n",
              "      <td>0</td>\n",
              "      <td>46</td>\n",
              "      <td>ONDO</td>\n",
              "      <td>Yes</td>\n",
              "      <td>Married</td>\n",
              "      <td>No</td>\n",
              "      <td>No</td>\n",
              "      <td>0</td>\n",
              "    </tr>\n",
              "    <tr>\n",
              "      <th>9</th>\n",
              "      <td>Commercial Sales and Marketing</td>\n",
              "      <td>First Degree or HND</td>\n",
              "      <td>Female</td>\n",
              "      <td>Direct Internal process</td>\n",
              "      <td>2</td>\n",
              "      <td>1986</td>\n",
              "      <td>12.5</td>\n",
              "      <td>2016</td>\n",
              "      <td>1</td>\n",
              "      <td>0</td>\n",
              "      <td>42</td>\n",
              "      <td>LAGOS</td>\n",
              "      <td>Yes</td>\n",
              "      <td>Married</td>\n",
              "      <td>No</td>\n",
              "      <td>No</td>\n",
              "      <td>0</td>\n",
              "    </tr>\n",
              "  </tbody>\n",
              "</table>\n",
              "</div>"
            ],
            "text/plain": [
              "                                  Division        Qualification  Gender  \\\n",
              "a 0         Commercial Sales and Marketing     MSc, MBA and PhD  Female   \n",
              "  1  Customer Support and Field Operations  First Degree or HND    Male   \n",
              "  2         Commercial Sales and Marketing  First Degree or HND    Male   \n",
              "  3         Commercial Sales and Marketing  First Degree or HND    Male   \n",
              "  4               Information and Strategy  First Degree or HND    Male   \n",
              "  5  Customer Support and Field Operations  First Degree or HND  Female   \n",
              "  6  Customer Support and Field Operations     MSc, MBA and PhD    Male   \n",
              "  7               Information and Strategy  First Degree or HND    Male   \n",
              "  8         Commercial Sales and Marketing     MSc, MBA and PhD    Male   \n",
              "  9         Commercial Sales and Marketing  First Degree or HND  Female   \n",
              "\n",
              "      Channel_of_Recruitment  Trainings_Attended  Year_of_birth  \\\n",
              "a 0  Direct Internal process                   2           1986   \n",
              "  1        Agency and others                   2           1991   \n",
              "  2  Direct Internal process                   2           1987   \n",
              "  3        Agency and others                   3           1982   \n",
              "  4  Direct Internal process                   3           1990   \n",
              "  5        Agency and others                   2           1990   \n",
              "  6  Direct Internal process                   2           1988   \n",
              "  7        Agency and others                   2           1993   \n",
              "  8  Direct Internal process                   2           1989   \n",
              "  9  Direct Internal process                   2           1986   \n",
              "\n",
              "     Last_performance_score  Year_of_recruitment  Targets_met  Previous_Award  \\\n",
              "a 0                    12.5                 2011            1               0   \n",
              "  1                    12.5                 2015            0               0   \n",
              "  2                     7.5                 2012            0               0   \n",
              "  3                     2.5                 2009            0               0   \n",
              "  4                     7.5                 2012            0               0   \n",
              "  5                     7.5                 2014            0               0   \n",
              "  6                     7.5                 2013            0               0   \n",
              "  7                    10.0                 2014            0               0   \n",
              "  8                    12.5                 2014            1               0   \n",
              "  9                    12.5                 2016            1               0   \n",
              "\n",
              "     Training_score_average State_Of_Origin Foreign_schooled Marital_Status  \\\n",
              "a 0                      41         ANAMBRA               No        Married   \n",
              "  1                      52         ANAMBRA              Yes        Married   \n",
              "  2                      42         KATSINA              Yes        Married   \n",
              "  3                      42           NIGER              Yes         Single   \n",
              "  4                      77       AKWA IBOM              Yes        Married   \n",
              "  5                      51           ENUGU              Yes        Married   \n",
              "  6                      55             OYO               No         Single   \n",
              "  7                      75           LAGOS              Yes        Married   \n",
              "  8                      46            ONDO              Yes        Married   \n",
              "  9                      42           LAGOS              Yes        Married   \n",
              "\n",
              "    Past_Disciplinary_Action Previous_IntraDepartmental_Movement  \\\n",
              "a 0                       No                                  No   \n",
              "  1                       No                                  No   \n",
              "  2                       No                                  No   \n",
              "  3                       No                                  No   \n",
              "  4                       No                                  No   \n",
              "  5                       No                                 Yes   \n",
              "  6                       No                                  No   \n",
              "  7                       No                                  No   \n",
              "  8                       No                                  No   \n",
              "  9                       No                                  No   \n",
              "\n",
              "    No_of_previous_employers  \n",
              "a 0                        0  \n",
              "  1                        0  \n",
              "  2                        0  \n",
              "  3                        1  \n",
              "  4                        1  \n",
              "  5                        1  \n",
              "  6                        1  \n",
              "  7                        0  \n",
              "  8                        0  \n",
              "  9                        0  "
            ]
          },
          "metadata": {
            "tags": []
          },
          "execution_count": 43
        }
      ]
    },
    {
      "cell_type": "code",
      "metadata": {
        "id": "cYPl5plCKJ7Y",
        "colab_type": "code",
        "colab": {},
        "outputId": "b8b19efa-8936-4895-d956-6d48059e0ee4"
      },
      "source": [
        "df.shape"
      ],
      "execution_count": 0,
      "outputs": [
        {
          "output_type": "execute_result",
          "data": {
            "text/plain": [
              "(54808, 17)"
            ]
          },
          "metadata": {
            "tags": []
          },
          "execution_count": 44
        }
      ]
    },
    {
      "cell_type": "code",
      "metadata": {
        "id": "pCyuVR8WKJ7h",
        "colab_type": "code",
        "colab": {},
        "outputId": "0cfc5627-8d28-4f6c-9902-f58cd37d6c1c"
      },
      "source": [
        "# get columns\n",
        "df.columns"
      ],
      "execution_count": 0,
      "outputs": [
        {
          "output_type": "execute_result",
          "data": {
            "text/plain": [
              "Index(['Division', 'Qualification', 'Gender', 'Channel_of_Recruitment',\n",
              "       'Trainings_Attended', 'Year_of_birth', 'Last_performance_score',\n",
              "       'Year_of_recruitment', 'Targets_met', 'Previous_Award',\n",
              "       'Training_score_average', 'State_Of_Origin', 'Foreign_schooled',\n",
              "       'Marital_Status', 'Past_Disciplinary_Action',\n",
              "       'Previous_IntraDepartmental_Movement', 'No_of_previous_employers'],\n",
              "      dtype='object')"
            ]
          },
          "metadata": {
            "tags": []
          },
          "execution_count": 45
        }
      ]
    },
    {
      "cell_type": "code",
      "metadata": {
        "id": "LLc40gtlKJ7q",
        "colab_type": "code",
        "colab": {},
        "outputId": "6216f331-49cb-48a2-99f4-4c9927152258"
      },
      "source": [
        "# check for unique values in each columns\n",
        "df['Previous_IntraDepartmental_Movement'].unique()"
      ],
      "execution_count": 0,
      "outputs": [
        {
          "output_type": "execute_result",
          "data": {
            "text/plain": [
              "array(['No', 'Yes'], dtype=object)"
            ]
          },
          "metadata": {
            "tags": []
          },
          "execution_count": 46
        }
      ]
    },
    {
      "cell_type": "code",
      "metadata": {
        "id": "wb48IzpgKJ7w",
        "colab_type": "code",
        "colab": {}
      },
      "source": [
        "# Trainings_Attended, Year_of_birth, Previous_Award, Training_score_average, State_Of_Origin, Past_Disciplinary_Action"
      ],
      "execution_count": 0,
      "outputs": []
    },
    {
      "cell_type": "code",
      "metadata": {
        "id": "cmtl-Q5IKJ77",
        "colab_type": "code",
        "colab": {},
        "outputId": "a274bb32-55f2-4e21-8bcc-95a526a727af"
      },
      "source": [
        "pd.crosstab(train_df.Qualification, train_df.Division).plot(kind='bar')"
      ],
      "execution_count": 0,
      "outputs": [
        {
          "output_type": "execute_result",
          "data": {
            "text/plain": [
              "<matplotlib.axes._subplots.AxesSubplot at 0xb50fd7c4e0>"
            ]
          },
          "metadata": {
            "tags": []
          },
          "execution_count": 48
        },
        {
          "output_type": "display_data",
          "data": {
            "image/png": "[encoded data removed]",
            "text/plain": [
              "<Figure size 432x288 with 1 Axes>"
            ]
          },
          "metadata": {
            "tags": []
          }
        }
      ]
    },
    {
      "cell_type": "code",
      "metadata": {
        "id": "xRNq0meyKJ8I",
        "colab_type": "code",
        "colab": {},
        "outputId": "facf62d8-2ea8-4b9f-a327-198b031bd243"
      },
      "source": [
        "df.isnull().sum()"
      ],
      "execution_count": 0,
      "outputs": [
        {
          "output_type": "execute_result",
          "data": {
            "text/plain": [
              "Division                                  0\n",
              "Qualification                          2409\n",
              "Gender                                    0\n",
              "Channel_of_Recruitment                    0\n",
              "Trainings_Attended                        0\n",
              "Year_of_birth                             0\n",
              "Last_performance_score                    0\n",
              "Year_of_recruitment                       0\n",
              "Targets_met                               0\n",
              "Previous_Award                            0\n",
              "Training_score_average                    0\n",
              "State_Of_Origin                           0\n",
              "Foreign_schooled                          0\n",
              "Marital_Status                            0\n",
              "Past_Disciplinary_Action                  0\n",
              "Previous_IntraDepartmental_Movement       0\n",
              "No_of_previous_employers                  0\n",
              "dtype: int64"
            ]
          },
          "metadata": {
            "tags": []
          },
          "execution_count": 49
        }
      ]
    },
    {
      "cell_type": "code",
      "metadata": {
        "id": "3hRbe2TaKJ8N",
        "colab_type": "code",
        "colab": {}
      },
      "source": [
        "# filling the null values based on the \"Division \" column\n",
        "df_null = df.groupby('Division').Qualification.transform(lambda x: x.fillna(x.mode()[0]))"
      ],
      "execution_count": 0,
      "outputs": []
    },
    {
      "cell_type": "code",
      "metadata": {
        "id": "xYqWWxq4KJ8U",
        "colab_type": "code",
        "colab": {}
      },
      "source": [
        "# dropping the \"Qualification\" column that has null values and adding the clean coolumn\n",
        "df = df.drop(columns=['Qualification'])\n",
        "df['Qualification'] = df_null  "
      ],
      "execution_count": 0,
      "outputs": []
    },
    {
      "cell_type": "code",
      "metadata": {
        "id": "HBtSAqH_KJ8b",
        "colab_type": "code",
        "colab": {},
        "outputId": "cecd8e47-e7b4-4d5d-d430-9759a7a22911"
      },
      "source": [
        "# Encoding\n",
        "df = pd.get_dummies(df)\n",
        "df.head()"
      ],
      "execution_count": 0,
      "outputs": [
        {
          "output_type": "execute_result",
          "data": {
            "text/html": [
              "<div>\n",
              "<style scoped>\n",
              "    .dataframe tbody tr th:only-of-type {\n",
              "        vertical-align: middle;\n",
              "    }\n",
              "\n",
              "    .dataframe tbody tr th {\n",
              "        vertical-align: top;\n",
              "    }\n",
              "\n",
              "    .dataframe thead th {\n",
              "        text-align: right;\n",
              "    }\n",
              "</style>\n",
              "<table border=\"1\" class=\"dataframe\">\n",
              "  <thead>\n",
              "    <tr style=\"text-align: right;\">\n",
              "      <th></th>\n",
              "      <th></th>\n",
              "      <th>Trainings_Attended</th>\n",
              "      <th>Year_of_birth</th>\n",
              "      <th>Last_performance_score</th>\n",
              "      <th>Year_of_recruitment</th>\n",
              "      <th>Targets_met</th>\n",
              "      <th>Previous_Award</th>\n",
              "      <th>Training_score_average</th>\n",
              "      <th>Division_Business Finance Operations</th>\n",
              "      <th>Division_Commercial Sales and Marketing</th>\n",
              "      <th>Division_Customer Support and Field Operations</th>\n",
              "      <th>...</th>\n",
              "      <th>No_of_previous_employers_0</th>\n",
              "      <th>No_of_previous_employers_1</th>\n",
              "      <th>No_of_previous_employers_2</th>\n",
              "      <th>No_of_previous_employers_3</th>\n",
              "      <th>No_of_previous_employers_4</th>\n",
              "      <th>No_of_previous_employers_5</th>\n",
              "      <th>No_of_previous_employers_More than 5</th>\n",
              "      <th>Qualification_First Degree or HND</th>\n",
              "      <th>Qualification_MSc, MBA and PhD</th>\n",
              "      <th>Qualification_Non-University Education</th>\n",
              "    </tr>\n",
              "  </thead>\n",
              "  <tbody>\n",
              "    <tr>\n",
              "      <th rowspan=\"5\" valign=\"top\">a</th>\n",
              "      <th>0</th>\n",
              "      <td>2</td>\n",
              "      <td>1986</td>\n",
              "      <td>12.5</td>\n",
              "      <td>2011</td>\n",
              "      <td>1</td>\n",
              "      <td>0</td>\n",
              "      <td>41</td>\n",
              "      <td>0</td>\n",
              "      <td>1</td>\n",
              "      <td>0</td>\n",
              "      <td>...</td>\n",
              "      <td>1</td>\n",
              "      <td>0</td>\n",
              "      <td>0</td>\n",
              "      <td>0</td>\n",
              "      <td>0</td>\n",
              "      <td>0</td>\n",
              "      <td>0</td>\n",
              "      <td>0</td>\n",
              "      <td>1</td>\n",
              "      <td>0</td>\n",
              "    </tr>\n",
              "    <tr>\n",
              "      <th>1</th>\n",
              "      <td>2</td>\n",
              "      <td>1991</td>\n",
              "      <td>12.5</td>\n",
              "      <td>2015</td>\n",
              "      <td>0</td>\n",
              "      <td>0</td>\n",
              "      <td>52</td>\n",
              "      <td>0</td>\n",
              "      <td>0</td>\n",
              "      <td>1</td>\n",
              "      <td>...</td>\n",
              "      <td>1</td>\n",
              "      <td>0</td>\n",
              "      <td>0</td>\n",
              "      <td>0</td>\n",
              "      <td>0</td>\n",
              "      <td>0</td>\n",
              "      <td>0</td>\n",
              "      <td>1</td>\n",
              "      <td>0</td>\n",
              "      <td>0</td>\n",
              "    </tr>\n",
              "    <tr>\n",
              "      <th>2</th>\n",
              "      <td>2</td>\n",
              "      <td>1987</td>\n",
              "      <td>7.5</td>\n",
              "      <td>2012</td>\n",
              "      <td>0</td>\n",
              "      <td>0</td>\n",
              "      <td>42</td>\n",
              "      <td>0</td>\n",
              "      <td>1</td>\n",
              "      <td>0</td>\n",
              "      <td>...</td>\n",
              "      <td>1</td>\n",
              "      <td>0</td>\n",
              "      <td>0</td>\n",
              "      <td>0</td>\n",
              "      <td>0</td>\n",
              "      <td>0</td>\n",
              "      <td>0</td>\n",
              "      <td>1</td>\n",
              "      <td>0</td>\n",
              "      <td>0</td>\n",
              "    </tr>\n",
              "    <tr>\n",
              "      <th>3</th>\n",
              "      <td>3</td>\n",
              "      <td>1982</td>\n",
              "      <td>2.5</td>\n",
              "      <td>2009</td>\n",
              "      <td>0</td>\n",
              "      <td>0</td>\n",
              "      <td>42</td>\n",
              "      <td>0</td>\n",
              "      <td>1</td>\n",
              "      <td>0</td>\n",
              "      <td>...</td>\n",
              "      <td>0</td>\n",
              "      <td>1</td>\n",
              "      <td>0</td>\n",
              "      <td>0</td>\n",
              "      <td>0</td>\n",
              "      <td>0</td>\n",
              "      <td>0</td>\n",
              "      <td>1</td>\n",
              "      <td>0</td>\n",
              "      <td>0</td>\n",
              "    </tr>\n",
              "    <tr>\n",
              "      <th>4</th>\n",
              "      <td>3</td>\n",
              "      <td>1990</td>\n",
              "      <td>7.5</td>\n",
              "      <td>2012</td>\n",
              "      <td>0</td>\n",
              "      <td>0</td>\n",
              "      <td>77</td>\n",
              "      <td>0</td>\n",
              "      <td>0</td>\n",
              "      <td>0</td>\n",
              "      <td>...</td>\n",
              "      <td>0</td>\n",
              "      <td>1</td>\n",
              "      <td>0</td>\n",
              "      <td>0</td>\n",
              "      <td>0</td>\n",
              "      <td>0</td>\n",
              "      <td>0</td>\n",
              "      <td>1</td>\n",
              "      <td>0</td>\n",
              "      <td>0</td>\n",
              "    </tr>\n",
              "  </tbody>\n",
              "</table>\n",
              "<p>5 rows × 77 columns</p>\n",
              "</div>"
            ],
            "text/plain": [
              "     Trainings_Attended  Year_of_birth  Last_performance_score  \\\n",
              "a 0                   2           1986                    12.5   \n",
              "  1                   2           1991                    12.5   \n",
              "  2                   2           1987                     7.5   \n",
              "  3                   3           1982                     2.5   \n",
              "  4                   3           1990                     7.5   \n",
              "\n",
              "     Year_of_recruitment  Targets_met  Previous_Award  Training_score_average  \\\n",
              "a 0                 2011            1               0                      41   \n",
              "  1                 2015            0               0                      52   \n",
              "  2                 2012            0               0                      42   \n",
              "  3                 2009            0               0                      42   \n",
              "  4                 2012            0               0                      77   \n",
              "\n",
              "     Division_Business Finance Operations  \\\n",
              "a 0                                     0   \n",
              "  1                                     0   \n",
              "  2                                     0   \n",
              "  3                                     0   \n",
              "  4                                     0   \n",
              "\n",
              "     Division_Commercial Sales and Marketing  \\\n",
              "a 0                                        1   \n",
              "  1                                        0   \n",
              "  2                                        1   \n",
              "  3                                        1   \n",
              "  4                                        0   \n",
              "\n",
              "     Division_Customer Support and Field Operations  ...  \\\n",
              "a 0                                               0  ...   \n",
              "  1                                               1  ...   \n",
              "  2                                               0  ...   \n",
              "  3                                               0  ...   \n",
              "  4                                               0  ...   \n",
              "\n",
              "     No_of_previous_employers_0  No_of_previous_employers_1  \\\n",
              "a 0                           1                           0   \n",
              "  1                           1                           0   \n",
              "  2                           1                           0   \n",
              "  3                           0                           1   \n",
              "  4                           0                           1   \n",
              "\n",
              "     No_of_previous_employers_2  No_of_previous_employers_3  \\\n",
              "a 0                           0                           0   \n",
              "  1                           0                           0   \n",
              "  2                           0                           0   \n",
              "  3                           0                           0   \n",
              "  4                           0                           0   \n",
              "\n",
              "     No_of_previous_employers_4  No_of_previous_employers_5  \\\n",
              "a 0                           0                           0   \n",
              "  1                           0                           0   \n",
              "  2                           0                           0   \n",
              "  3                           0                           0   \n",
              "  4                           0                           0   \n",
              "\n",
              "     No_of_previous_employers_More than 5  Qualification_First Degree or HND  \\\n",
              "a 0                                     0                                  0   \n",
              "  1                                     0                                  1   \n",
              "  2                                     0                                  1   \n",
              "  3                                     0                                  1   \n",
              "  4                                     0                                  1   \n",
              "\n",
              "     Qualification_MSc, MBA and PhD  Qualification_Non-University Education  \n",
              "a 0                               1                                       0  \n",
              "  1                               0                                       0  \n",
              "  2                               0                                       0  \n",
              "  3                               0                                       0  \n",
              "  4                               0                                       0  \n",
              "\n",
              "[5 rows x 77 columns]"
            ]
          },
          "metadata": {
            "tags": []
          },
          "execution_count": 54
        }
      ]
    },
    {
      "cell_type": "code",
      "metadata": {
        "id": "kbzInrTzKJ8h",
        "colab_type": "code",
        "colab": {}
      },
      "source": [
        "# splitting the dataset back to test and train using the keys 'x' & 'y'\n",
        "train_df = df.loc['a']\n",
        "test_df = df.loc['b']"
      ],
      "execution_count": 0,
      "outputs": []
    },
    {
      "cell_type": "code",
      "metadata": {
        "id": "Q5GXMG3_KJ8n",
        "colab_type": "code",
        "colab": {},
        "outputId": "e2285ce3-f494-4e4d-bccf-356b24a171dc"
      },
      "source": [
        "X = train_df.iloc[:, :]\n",
        "Z = test_df.iloc[:,:]"
      ],
      "execution_count": 0,
      "outputs": [
        {
          "output_type": "error",
          "ename": "NameError",
          "evalue": "name 'train_df' is not defined",
          "traceback": [
            "\u001b[1;31m---------------------------------------------------------------------------\u001b[0m",
            "\u001b[1;31mNameError\u001b[0m                                 Traceback (most recent call last)",
            "\u001b[1;32m<ipython-input-1-b55f0a831163>\u001b[0m in \u001b[0;36m<module>\u001b[1;34m()\u001b[0m\n\u001b[1;32m----> 1\u001b[1;33m \u001b[0mX\u001b[0m \u001b[1;33m=\u001b[0m \u001b[0mtrain_df\u001b[0m\u001b[1;33m.\u001b[0m\u001b[0miloc\u001b[0m\u001b[1;33m[\u001b[0m\u001b[1;33m:\u001b[0m\u001b[1;33m,\u001b[0m \u001b[1;33m:\u001b[0m\u001b[1;33m]\u001b[0m\u001b[1;33m\u001b[0m\u001b[0m\n\u001b[0m\u001b[0;32m      2\u001b[0m \u001b[0mZ\u001b[0m \u001b[1;33m=\u001b[0m \u001b[0mtest_df\u001b[0m\u001b[1;33m.\u001b[0m\u001b[0miloc\u001b[0m\u001b[1;33m[\u001b[0m\u001b[1;33m:\u001b[0m\u001b[1;33m,\u001b[0m\u001b[1;33m:\u001b[0m\u001b[1;33m]\u001b[0m\u001b[1;33m\u001b[0m\u001b[0m\n",
            "\u001b[1;31mNameError\u001b[0m: name 'train_df' is not defined"
          ]
        }
      ]
    },
    {
      "cell_type": "code",
      "metadata": {
        "id": "h8z4ka50KJ8x",
        "colab_type": "code",
        "colab": {}
      },
      "source": [
        ""
      ],
      "execution_count": 0,
      "outputs": []
    },
    {
      "cell_type": "code",
      "metadata": {
        "id": "Db887i_OKJ81",
        "colab_type": "code",
        "colab": {},
        "outputId": "ab48e9d6-a8c1-4061-a5ea-1bb3db1fc860"
      },
      "source": [
        "# feature extraction with Recursive Feature Elimination (RFE)\n",
        "\n",
        "import time\n",
        "from sklearn import datasets\n",
        "from sklearn.feature_selection import RFE\n",
        "from sklearn.linear_model import LogisticRegression\n",
        "\n",
        "start_time = time.time()\n",
        "logreg = LogisticRegression()\n",
        "\n",
        "rfe = RFE(logreg, 45)\n",
        "rfe = rfe.fit(X,y)\n",
        "print(rfe.support_)\n",
        "print(rfe.ranking_)\n",
        "print(len(rfe.support_))\n",
        "\n",
        "print(f'Done in {time.time() - start_time} seconds')"
      ],
      "execution_count": 0,
      "outputs": [
        {
          "output_type": "stream",
          "text": [
            "[ True False False False  True  True  True  True  True  True  True  True\n",
            "  True  True  True  True False False False False  True  True  True  True\n",
            "  True False False  True False False False  True False False False  True\n",
            "  True False  True  True False  True  True  True  True False False  True\n",
            "  True  True  True False False False  True  True  True False False False\n",
            " False  True  True  True  True  True  True False False False False False\n",
            "  True False  True  True  True]\n",
            "[ 1 14  9 13  1  1  1  1  1  1  1  1  1  1  1  1 22 30 26 17  1  1  1  1\n",
            "  1  5 19  1 21 23  8  1 12 24  2  1  1 15  1  1  4  1  1  1  1 16 11  1\n",
            "  1  1  1 25  3 31  1  1  1 28 27 32 33  1  1  1  1  1  1 18 20 29  7  6\n",
            "  1 10  1  1  1]\n",
            "77\n",
            "Done in 19.460365295410156 seconds\n"
          ],
          "name": "stdout"
        }
      ]
    },
    {
      "cell_type": "code",
      "metadata": {
        "id": "BCnWGb7WKJ8-",
        "colab_type": "code",
        "colab": {}
      },
      "source": [
        "cols = ['Qualification_MSc, MBA and PhD',\n",
        "       'Qualification_Non-University Education', 'No_of_previous_employers_More than 5', 'Marital_Status_Single',\n",
        "       'Past_Disciplinary_Action_No', 'Past_Disciplinary_Action_Yes',\n",
        "       'Previous_IntraDepartmental_Movement_No',\n",
        "       'Previous_IntraDepartmental_Movement_Yes', 'No_of_previous_employers_0','State_Of_Origin_TARABA', 'State_Of_Origin_YOBE',\n",
        "       'State_Of_Origin_ZAMFARA', 'State_Of_Origin_SOKOTO',\n",
        "       'State_Of_Origin_TARABA', 'State_Of_Origin_PLATEAU',\n",
        "       'State_Of_Origin_RIVERS', 'State_Of_Origin_OGUN', 'State_Of_Origin_KWARA', 'State_Of_Origin_IMO',\n",
        "       'State_Of_Origin_JIGAWA', 'State_Of_Origin_KADUNA',\n",
        "       'State_Of_Origin_KANO', 'State_Of_Origin_KATSINA', 'State_Of_Origin_ABIA', 'State_Of_Origin_ADAMAWA',\n",
        "       'State_Of_Origin_AKWA IBOM', 'State_Of_Origin_ANAMBRA',\n",
        "       'State_Of_Origin_BAUCHI', 'State_Of_Origin_BAYELSA',\n",
        "       'State_Of_Origin_BENUE', 'State_Of_Origin_BORNO',\n",
        "       'State_Of_Origin_CROSS RIVER', 'State_Of_Origin_DELTA',\n",
        "       'State_Of_Origin_EBONYI', 'State_Of_Origin_EDO', 'Trainings_Attended']"
      ],
      "execution_count": 0,
      "outputs": []
    },
    {
      "cell_type": "code",
      "metadata": {
        "id": "zl2HxCdiKJ9E",
        "colab_type": "code",
        "colab": {}
      },
      "source": [
        "df = df[cols]"
      ],
      "execution_count": 0,
      "outputs": []
    },
    {
      "cell_type": "code",
      "metadata": {
        "id": "YNM1lsmqKJ9M",
        "colab_type": "code",
        "colab": {},
        "outputId": "2848a4ff-771f-4842-e8af-509797296a50"
      },
      "source": [
        "df.shape"
      ],
      "execution_count": 0,
      "outputs": [
        {
          "output_type": "execute_result",
          "data": {
            "text/plain": [
              "(54808, 36)"
            ]
          },
          "metadata": {
            "tags": []
          },
          "execution_count": 60
        }
      ]
    },
    {
      "cell_type": "code",
      "metadata": {
        "id": "p08zB48vKJ9g",
        "colab_type": "code",
        "colab": {}
      },
      "source": [
        "train_df = df.loc['a']\n",
        "test_df = df.loc['b']"
      ],
      "execution_count": 0,
      "outputs": []
    },
    {
      "cell_type": "code",
      "metadata": {
        "id": "Rp7AIuvrKJ9k",
        "colab_type": "code",
        "colab": {},
        "outputId": "54986be7-28dc-4eb6-e4c6-f57e99b403b2"
      },
      "source": [
        "test_df.shape"
      ],
      "execution_count": 0,
      "outputs": [
        {
          "output_type": "execute_result",
          "data": {
            "text/plain": [
              "(16496, 36)"
            ]
          },
          "metadata": {
            "tags": []
          },
          "execution_count": 62
        }
      ]
    },
    {
      "cell_type": "code",
      "metadata": {
        "id": "9RJyqu9-KJ9r",
        "colab_type": "code",
        "colab": {}
      },
      "source": [
        "X = train_df.iloc[:, :]\n",
        "Z = test_df.iloc[:,:]"
      ],
      "execution_count": 0,
      "outputs": []
    },
    {
      "cell_type": "code",
      "metadata": {
        "id": "jBnXc5z_KJ9x",
        "colab_type": "code",
        "colab": {},
        "outputId": "8d6e6b0f-f545-4857-c93a-d88eff94de69"
      },
      "source": [
        "X.head()"
      ],
      "execution_count": 0,
      "outputs": [
        {
          "output_type": "execute_result",
          "data": {
            "text/html": [
              "<div>\n",
              "<style scoped>\n",
              "    .dataframe tbody tr th:only-of-type {\n",
              "        vertical-align: middle;\n",
              "    }\n",
              "\n",
              "    .dataframe tbody tr th {\n",
              "        vertical-align: top;\n",
              "    }\n",
              "\n",
              "    .dataframe thead th {\n",
              "        text-align: right;\n",
              "    }\n",
              "</style>\n",
              "<table border=\"1\" class=\"dataframe\">\n",
              "  <thead>\n",
              "    <tr style=\"text-align: right;\">\n",
              "      <th></th>\n",
              "      <th>Qualification_MSc, MBA and PhD</th>\n",
              "      <th>Qualification_Non-University Education</th>\n",
              "      <th>No_of_previous_employers_More than 5</th>\n",
              "      <th>Marital_Status_Single</th>\n",
              "      <th>Past_Disciplinary_Action_No</th>\n",
              "      <th>Past_Disciplinary_Action_Yes</th>\n",
              "      <th>Previous_IntraDepartmental_Movement_No</th>\n",
              "      <th>Previous_IntraDepartmental_Movement_Yes</th>\n",
              "      <th>No_of_previous_employers_0</th>\n",
              "      <th>State_Of_Origin_TARABA</th>\n",
              "      <th>...</th>\n",
              "      <th>State_Of_Origin_ANAMBRA</th>\n",
              "      <th>State_Of_Origin_BAUCHI</th>\n",
              "      <th>State_Of_Origin_BAYELSA</th>\n",
              "      <th>State_Of_Origin_BENUE</th>\n",
              "      <th>State_Of_Origin_BORNO</th>\n",
              "      <th>State_Of_Origin_CROSS RIVER</th>\n",
              "      <th>State_Of_Origin_DELTA</th>\n",
              "      <th>State_Of_Origin_EBONYI</th>\n",
              "      <th>State_Of_Origin_EDO</th>\n",
              "      <th>Trainings_Attended</th>\n",
              "    </tr>\n",
              "  </thead>\n",
              "  <tbody>\n",
              "    <tr>\n",
              "      <th>0</th>\n",
              "      <td>1</td>\n",
              "      <td>0</td>\n",
              "      <td>0</td>\n",
              "      <td>0</td>\n",
              "      <td>1</td>\n",
              "      <td>0</td>\n",
              "      <td>1</td>\n",
              "      <td>0</td>\n",
              "      <td>1</td>\n",
              "      <td>0</td>\n",
              "      <td>...</td>\n",
              "      <td>1</td>\n",
              "      <td>0</td>\n",
              "      <td>0</td>\n",
              "      <td>0</td>\n",
              "      <td>0</td>\n",
              "      <td>0</td>\n",
              "      <td>0</td>\n",
              "      <td>0</td>\n",
              "      <td>0</td>\n",
              "      <td>2</td>\n",
              "    </tr>\n",
              "    <tr>\n",
              "      <th>1</th>\n",
              "      <td>0</td>\n",
              "      <td>0</td>\n",
              "      <td>0</td>\n",
              "      <td>0</td>\n",
              "      <td>1</td>\n",
              "      <td>0</td>\n",
              "      <td>1</td>\n",
              "      <td>0</td>\n",
              "      <td>1</td>\n",
              "      <td>0</td>\n",
              "      <td>...</td>\n",
              "      <td>1</td>\n",
              "      <td>0</td>\n",
              "      <td>0</td>\n",
              "      <td>0</td>\n",
              "      <td>0</td>\n",
              "      <td>0</td>\n",
              "      <td>0</td>\n",
              "      <td>0</td>\n",
              "      <td>0</td>\n",
              "      <td>2</td>\n",
              "    </tr>\n",
              "    <tr>\n",
              "      <th>2</th>\n",
              "      <td>0</td>\n",
              "      <td>0</td>\n",
              "      <td>0</td>\n",
              "      <td>0</td>\n",
              "      <td>1</td>\n",
              "      <td>0</td>\n",
              "      <td>1</td>\n",
              "      <td>0</td>\n",
              "      <td>1</td>\n",
              "      <td>0</td>\n",
              "      <td>...</td>\n",
              "      <td>0</td>\n",
              "      <td>0</td>\n",
              "      <td>0</td>\n",
              "      <td>0</td>\n",
              "      <td>0</td>\n",
              "      <td>0</td>\n",
              "      <td>0</td>\n",
              "      <td>0</td>\n",
              "      <td>0</td>\n",
              "      <td>2</td>\n",
              "    </tr>\n",
              "    <tr>\n",
              "      <th>3</th>\n",
              "      <td>0</td>\n",
              "      <td>0</td>\n",
              "      <td>0</td>\n",
              "      <td>1</td>\n",
              "      <td>1</td>\n",
              "      <td>0</td>\n",
              "      <td>1</td>\n",
              "      <td>0</td>\n",
              "      <td>0</td>\n",
              "      <td>0</td>\n",
              "      <td>...</td>\n",
              "      <td>0</td>\n",
              "      <td>0</td>\n",
              "      <td>0</td>\n",
              "      <td>0</td>\n",
              "      <td>0</td>\n",
              "      <td>0</td>\n",
              "      <td>0</td>\n",
              "      <td>0</td>\n",
              "      <td>0</td>\n",
              "      <td>3</td>\n",
              "    </tr>\n",
              "    <tr>\n",
              "      <th>4</th>\n",
              "      <td>0</td>\n",
              "      <td>0</td>\n",
              "      <td>0</td>\n",
              "      <td>0</td>\n",
              "      <td>1</td>\n",
              "      <td>0</td>\n",
              "      <td>1</td>\n",
              "      <td>0</td>\n",
              "      <td>0</td>\n",
              "      <td>0</td>\n",
              "      <td>...</td>\n",
              "      <td>0</td>\n",
              "      <td>0</td>\n",
              "      <td>0</td>\n",
              "      <td>0</td>\n",
              "      <td>0</td>\n",
              "      <td>0</td>\n",
              "      <td>0</td>\n",
              "      <td>0</td>\n",
              "      <td>0</td>\n",
              "      <td>3</td>\n",
              "    </tr>\n",
              "  </tbody>\n",
              "</table>\n",
              "<p>5 rows × 36 columns</p>\n",
              "</div>"
            ],
            "text/plain": [
              "   Qualification_MSc, MBA and PhD  Qualification_Non-University Education  \\\n",
              "0                               1                                       0   \n",
              "1                               0                                       0   \n",
              "2                               0                                       0   \n",
              "3                               0                                       0   \n",
              "4                               0                                       0   \n",
              "\n",
              "   No_of_previous_employers_More than 5  Marital_Status_Single  \\\n",
              "0                                     0                      0   \n",
              "1                                     0                      0   \n",
              "2                                     0                      0   \n",
              "3                                     0                      1   \n",
              "4                                     0                      0   \n",
              "\n",
              "   Past_Disciplinary_Action_No  Past_Disciplinary_Action_Yes  \\\n",
              "0                            1                             0   \n",
              "1                            1                             0   \n",
              "2                            1                             0   \n",
              "3                            1                             0   \n",
              "4                            1                             0   \n",
              "\n",
              "   Previous_IntraDepartmental_Movement_No  \\\n",
              "0                                       1   \n",
              "1                                       1   \n",
              "2                                       1   \n",
              "3                                       1   \n",
              "4                                       1   \n",
              "\n",
              "   Previous_IntraDepartmental_Movement_Yes  No_of_previous_employers_0  \\\n",
              "0                                        0                           1   \n",
              "1                                        0                           1   \n",
              "2                                        0                           1   \n",
              "3                                        0                           0   \n",
              "4                                        0                           0   \n",
              "\n",
              "   State_Of_Origin_TARABA  ...  State_Of_Origin_ANAMBRA  \\\n",
              "0                       0  ...                        1   \n",
              "1                       0  ...                        1   \n",
              "2                       0  ...                        0   \n",
              "3                       0  ...                        0   \n",
              "4                       0  ...                        0   \n",
              "\n",
              "   State_Of_Origin_BAUCHI  State_Of_Origin_BAYELSA  State_Of_Origin_BENUE  \\\n",
              "0                       0                        0                      0   \n",
              "1                       0                        0                      0   \n",
              "2                       0                        0                      0   \n",
              "3                       0                        0                      0   \n",
              "4                       0                        0                      0   \n",
              "\n",
              "   State_Of_Origin_BORNO  State_Of_Origin_CROSS RIVER  State_Of_Origin_DELTA  \\\n",
              "0                      0                            0                      0   \n",
              "1                      0                            0                      0   \n",
              "2                      0                            0                      0   \n",
              "3                      0                            0                      0   \n",
              "4                      0                            0                      0   \n",
              "\n",
              "   State_Of_Origin_EBONYI  State_Of_Origin_EDO  Trainings_Attended  \n",
              "0                       0                    0                   2  \n",
              "1                       0                    0                   2  \n",
              "2                       0                    0                   2  \n",
              "3                       0                    0                   3  \n",
              "4                       0                    0                   3  \n",
              "\n",
              "[5 rows x 36 columns]"
            ]
          },
          "metadata": {
            "tags": []
          },
          "execution_count": 68
        }
      ]
    },
    {
      "cell_type": "code",
      "metadata": {
        "scrolled": true,
        "id": "jEmpuD-EKJ93",
        "colab_type": "code",
        "colab": {},
        "outputId": "a2aca985-2f1a-45b6-ef77-d3c231c3f3ab"
      },
      "source": [
        "import statsmodels.api as sm\n",
        "logit_model=sm.Logit(y,X)\n",
        "result=logit_model.fit()\n",
        "print(result.summary()) "
      ],
      "execution_count": 0,
      "outputs": [
        {
          "output_type": "stream",
          "text": [
            "Warning: Maximum number of iterations has been exceeded.\n",
            "         Current function value: 0.288861\n",
            "         Iterations: 35\n",
            "                           Logit Regression Results                           \n",
            "==============================================================================\n",
            "Dep. Variable:        Promoted_or_Not   No. Observations:                38312\n",
            "Model:                          Logit   Df Residuals:                    38278\n",
            "Method:                           MLE   Df Model:                           33\n",
            "Date:                Fri, 08 Nov 2019   Pseudo R-squ.:                0.003416\n",
            "Time:                        15:42:58   Log-Likelihood:                -11067.\n",
            "converged:                      False   LL-Null:                       -11105.\n",
            "                                        LLR p-value:                 3.171e-05\n",
            "===========================================================================================================\n",
            "                                              coef    std err          z      P>|z|      [0.025      0.975]\n",
            "-----------------------------------------------------------------------------------------------------------\n",
            "Qualification_MSc, MBA and PhD              0.2012      0.040      5.035      0.000       0.123       0.280\n",
            "Qualification_Non-University Education      0.1141      0.147      0.776      0.438      -0.174       0.403\n",
            "No_of_previous_employers_More than 5       -0.1139      0.189     -0.604      0.546      -0.484       0.256\n",
            "Marital_Status_Single                      -0.0471      0.048     -0.975      0.330      -0.142       0.048\n",
            "Past_Disciplinary_Action_No                -1.0988   5.49e+06     -2e-07      1.000   -1.08e+07    1.08e+07\n",
            "Past_Disciplinary_Action_Yes               -0.8460   5.49e+06  -1.54e-07      1.000   -1.08e+07    1.08e+07\n",
            "Previous_IntraDepartmental_Movement_No     -0.9244   5.49e+06  -1.69e-07      1.000   -1.08e+07    1.08e+07\n",
            "Previous_IntraDepartmental_Movement_Yes    -1.0323   5.49e+06  -1.88e-07      1.000   -1.08e+07    1.08e+07\n",
            "No_of_previous_employers_0                 -0.0471      0.039     -1.209      0.227      -0.123       0.029\n",
            "State_Of_Origin_TARABA                      0.0821   1.55e+07   5.29e-09      1.000   -3.04e+07    3.04e+07\n",
            "State_Of_Origin_YOBE                       -0.0650      0.230     -0.283      0.777      -0.515       0.385\n",
            "State_Of_Origin_ZAMFARA                    -0.1030      0.219     -0.470      0.639      -0.533       0.327\n",
            "State_Of_Origin_SOKOTO                      0.1132      0.155      0.732      0.464      -0.190       0.416\n",
            "State_Of_Origin_TARABA                      0.0821   1.55e+07   5.29e-09      1.000   -3.04e+07    3.04e+07\n",
            "State_Of_Origin_PLATEAU                     0.0091      0.133      0.068      0.945      -0.252       0.270\n",
            "State_Of_Origin_RIVERS                     -0.0105      0.081     -0.129      0.897      -0.169       0.148\n",
            "State_Of_Origin_OGUN                       -0.1609      0.084     -1.913      0.056      -0.326       0.004\n",
            "State_Of_Origin_KWARA                      -0.2557      0.146     -1.746      0.081      -0.543       0.031\n",
            "State_Of_Origin_IMO                         0.0240      0.101      0.237      0.813      -0.175       0.223\n",
            "State_Of_Origin_JIGAWA                     -0.2568      0.246     -1.044      0.297      -0.739       0.225\n",
            "State_Of_Origin_KADUNA                     -0.0588      0.101     -0.580      0.562      -0.257       0.140\n",
            "State_Of_Origin_KANO                        0.0166      0.091      0.182      0.856      -0.163       0.196\n",
            "State_Of_Origin_KATSINA                    -0.1100      0.153     -0.719      0.472      -0.410       0.190\n",
            "State_Of_Origin_ABIA                       -0.2573      0.132     -1.955      0.051      -0.515       0.001\n",
            "State_Of_Origin_ADAMAWA                    -0.1237      0.155     -0.800      0.423      -0.427       0.179\n",
            "State_Of_Origin_AKWA IBOM                  -0.0275      0.141     -0.195      0.846      -0.305       0.250\n",
            "State_Of_Origin_ANAMBRA                     0.1105      0.087      1.272      0.203      -0.060       0.281\n",
            "State_Of_Origin_BAUCHI                     -0.0797      0.158     -0.504      0.614      -0.390       0.230\n",
            "State_Of_Origin_BAYELSA                    -0.1295      0.210     -0.616      0.538      -0.542       0.282\n",
            "State_Of_Origin_BENUE                      -0.1193      0.158     -0.756      0.450      -0.429       0.190\n",
            "State_Of_Origin_BORNO                       0.0301      0.168      0.179      0.858      -0.300       0.360\n",
            "State_Of_Origin_CROSS RIVER                -0.0481      0.166     -0.290      0.772      -0.373       0.276\n",
            "State_Of_Origin_DELTA                      -0.0030      0.093     -0.032      0.975      -0.186       0.180\n",
            "State_Of_Origin_EBONYI                     -0.2144      0.223     -0.961      0.336      -0.652       0.223\n",
            "State_Of_Origin_EDO                        -0.0842      0.108     -0.783      0.433      -0.295       0.127\n",
            "Trainings_Attended                         -0.1600      0.035     -4.618      0.000      -0.228      -0.092\n",
            "===========================================================================================================\n"
          ],
          "name": "stdout"
        },
        {
          "output_type": "stream",
          "text": [
            "C:\\Users\\SAMUEL PC\\Anaconda\\lib\\site-packages\\statsmodels\\base\\model.py:508: ConvergenceWarning: Maximum Likelihood optimization failed to converge. Check mle_retvals\n",
            "  \"Check mle_retvals\", ConvergenceWarning)\n"
          ],
          "name": "stderr"
        }
      ]
    },
    {
      "cell_type": "code",
      "metadata": {
        "id": "3ydEiCHDKJ9-",
        "colab_type": "code",
        "colab": {}
      },
      "source": [
        "X_train, X_test, y_train, y_test = train_test_split(X, y, test_size=0.3, random_state=0)"
      ],
      "execution_count": 0,
      "outputs": []
    },
    {
      "cell_type": "code",
      "metadata": {
        "id": "zBoGNf4lKJ-B",
        "colab_type": "code",
        "colab": {},
        "outputId": "ae5026ed-21ef-4a63-c7e4-31fff083a481"
      },
      "source": [
        "import xgboost as xgb\n",
        "import time\n",
        "\n",
        "\n",
        "start_time = time.time()\n",
        "clf = xgb.XGBClassifier(max_depth=5,\n",
        "                n_estimators=2500,\n",
        "                learning_rate=0.1, \n",
        "                colsample_bytree=0.9,\n",
        "                min_child_weight = 3,\n",
        "                seed=1200,\n",
        "                booster='dart'\n",
        "                \n",
        "                )\n",
        "                \n",
        "clf.fit(X_train, y_train, early_stopping_rounds=50, eval_metric=\"auc\",\n",
        "        eval_set=[(X_train, y_train), (X_test, y_test)])\n",
        "\n",
        "pred = clf.predict(X_test)\n",
        "print(f'Done in {time.time() - start_time} seconds')"
      ],
      "execution_count": 0,
      "outputs": [
        {
          "output_type": "error",
          "ename": "ValueError",
          "evalue": "feature_names must be unique",
          "traceback": [
            "\u001b[1;31m---------------------------------------------------------------------------\u001b[0m",
            "\u001b[1;31mValueError\u001b[0m                                Traceback (most recent call last)",
            "\u001b[1;32m<ipython-input-67-0c7c8e2b1c9a>\u001b[0m in \u001b[0;36m<module>\u001b[1;34m()\u001b[0m\n\u001b[0;32m     15\u001b[0m \u001b[1;33m\u001b[0m\u001b[0m\n\u001b[0;32m     16\u001b[0m clf.fit(X_train, y_train, early_stopping_rounds=50, eval_metric=\"auc\",\n\u001b[1;32m---> 17\u001b[1;33m         eval_set=[(X_train, y_train), (X_test, y_test)])\n\u001b[0m\u001b[0;32m     18\u001b[0m \u001b[1;33m\u001b[0m\u001b[0m\n\u001b[0;32m     19\u001b[0m \u001b[0mpred\u001b[0m \u001b[1;33m=\u001b[0m \u001b[0mclf\u001b[0m\u001b[1;33m.\u001b[0m\u001b[0mpredict\u001b[0m\u001b[1;33m(\u001b[0m\u001b[0mX_test\u001b[0m\u001b[1;33m)\u001b[0m\u001b[1;33m\u001b[0m\u001b[0m\n",
            "\u001b[1;32m~\\Anaconda\\lib\\site-packages\\xgboost\\sklearn.py\u001b[0m in \u001b[0;36mfit\u001b[1;34m(self, X, y, sample_weight, eval_set, eval_metric, early_stopping_rounds, verbose, xgb_model, sample_weight_eval_set, callbacks)\u001b[0m\n\u001b[0;32m    709\u001b[0m                         \u001b[0mmissing\u001b[0m\u001b[1;33m=\u001b[0m\u001b[0mself\u001b[0m\u001b[1;33m.\u001b[0m\u001b[0mmissing\u001b[0m\u001b[1;33m,\u001b[0m \u001b[0mweight\u001b[0m\u001b[1;33m=\u001b[0m\u001b[0msample_weight_eval_set\u001b[0m\u001b[1;33m[\u001b[0m\u001b[0mi\u001b[0m\u001b[1;33m]\u001b[0m\u001b[1;33m,\u001b[0m\u001b[1;33m\u001b[0m\u001b[0m\n\u001b[0;32m    710\u001b[0m                         nthread=self.n_jobs)\n\u001b[1;32m--> 711\u001b[1;33m                 \u001b[1;32mfor\u001b[0m \u001b[0mi\u001b[0m \u001b[1;32min\u001b[0m \u001b[0mrange\u001b[0m\u001b[1;33m(\u001b[0m\u001b[0mlen\u001b[0m\u001b[1;33m(\u001b[0m\u001b[0meval_set\u001b[0m\u001b[1;33m)\u001b[0m\u001b[1;33m)\u001b[0m\u001b[1;33m\u001b[0m\u001b[0m\n\u001b[0m\u001b[0;32m    712\u001b[0m             )\n\u001b[0;32m    713\u001b[0m             \u001b[0mnevals\u001b[0m \u001b[1;33m=\u001b[0m \u001b[0mlen\u001b[0m\u001b[1;33m(\u001b[0m\u001b[0mevals\u001b[0m\u001b[1;33m)\u001b[0m\u001b[1;33m\u001b[0m\u001b[0m\n",
            "\u001b[1;32m~\\Anaconda\\lib\\site-packages\\xgboost\\sklearn.py\u001b[0m in \u001b[0;36m<genexpr>\u001b[1;34m(.0)\u001b[0m\n\u001b[0;32m    709\u001b[0m                         \u001b[0mmissing\u001b[0m\u001b[1;33m=\u001b[0m\u001b[0mself\u001b[0m\u001b[1;33m.\u001b[0m\u001b[0mmissing\u001b[0m\u001b[1;33m,\u001b[0m \u001b[0mweight\u001b[0m\u001b[1;33m=\u001b[0m\u001b[0msample_weight_eval_set\u001b[0m\u001b[1;33m[\u001b[0m\u001b[0mi\u001b[0m\u001b[1;33m]\u001b[0m\u001b[1;33m,\u001b[0m\u001b[1;33m\u001b[0m\u001b[0m\n\u001b[0;32m    710\u001b[0m                         nthread=self.n_jobs)\n\u001b[1;32m--> 711\u001b[1;33m                 \u001b[1;32mfor\u001b[0m \u001b[0mi\u001b[0m \u001b[1;32min\u001b[0m \u001b[0mrange\u001b[0m\u001b[1;33m(\u001b[0m\u001b[0mlen\u001b[0m\u001b[1;33m(\u001b[0m\u001b[0meval_set\u001b[0m\u001b[1;33m)\u001b[0m\u001b[1;33m)\u001b[0m\u001b[1;33m\u001b[0m\u001b[0m\n\u001b[0m\u001b[0;32m    712\u001b[0m             )\n\u001b[0;32m    713\u001b[0m             \u001b[0mnevals\u001b[0m \u001b[1;33m=\u001b[0m \u001b[0mlen\u001b[0m\u001b[1;33m(\u001b[0m\u001b[0mevals\u001b[0m\u001b[1;33m)\u001b[0m\u001b[1;33m\u001b[0m\u001b[0m\n",
            "\u001b[1;32m~\\Anaconda\\lib\\site-packages\\xgboost\\core.py\u001b[0m in \u001b[0;36m__init__\u001b[1;34m(self, data, label, missing, weight, silent, feature_names, feature_types, nthread)\u001b[0m\n\u001b[0;32m    424\u001b[0m                 \u001b[0mself\u001b[0m\u001b[1;33m.\u001b[0m\u001b[0mset_weight\u001b[0m\u001b[1;33m(\u001b[0m\u001b[0mweight\u001b[0m\u001b[1;33m)\u001b[0m\u001b[1;33m\u001b[0m\u001b[0m\n\u001b[0;32m    425\u001b[0m \u001b[1;33m\u001b[0m\u001b[0m\n\u001b[1;32m--> 426\u001b[1;33m         \u001b[0mself\u001b[0m\u001b[1;33m.\u001b[0m\u001b[0mfeature_names\u001b[0m \u001b[1;33m=\u001b[0m \u001b[0mfeature_names\u001b[0m\u001b[1;33m\u001b[0m\u001b[0m\n\u001b[0m\u001b[0;32m    427\u001b[0m         \u001b[0mself\u001b[0m\u001b[1;33m.\u001b[0m\u001b[0mfeature_types\u001b[0m \u001b[1;33m=\u001b[0m \u001b[0mfeature_types\u001b[0m\u001b[1;33m\u001b[0m\u001b[0m\n\u001b[0;32m    428\u001b[0m \u001b[1;33m\u001b[0m\u001b[0m\n",
            "\u001b[1;32m~\\Anaconda\\lib\\site-packages\\xgboost\\core.py\u001b[0m in \u001b[0;36mfeature_names\u001b[1;34m(self, feature_names)\u001b[0m\n\u001b[0;32m    860\u001b[0m \u001b[1;33m\u001b[0m\u001b[0m\n\u001b[0;32m    861\u001b[0m             \u001b[1;32mif\u001b[0m \u001b[0mlen\u001b[0m\u001b[1;33m(\u001b[0m\u001b[0mfeature_names\u001b[0m\u001b[1;33m)\u001b[0m \u001b[1;33m!=\u001b[0m \u001b[0mlen\u001b[0m\u001b[1;33m(\u001b[0m\u001b[0mset\u001b[0m\u001b[1;33m(\u001b[0m\u001b[0mfeature_names\u001b[0m\u001b[1;33m)\u001b[0m\u001b[1;33m)\u001b[0m\u001b[1;33m:\u001b[0m\u001b[1;33m\u001b[0m\u001b[0m\n\u001b[1;32m--> 862\u001b[1;33m                 \u001b[1;32mraise\u001b[0m \u001b[0mValueError\u001b[0m\u001b[1;33m(\u001b[0m\u001b[1;34m'feature_names must be unique'\u001b[0m\u001b[1;33m)\u001b[0m\u001b[1;33m\u001b[0m\u001b[0m\n\u001b[0m\u001b[0;32m    863\u001b[0m             \u001b[1;32mif\u001b[0m \u001b[0mlen\u001b[0m\u001b[1;33m(\u001b[0m\u001b[0mfeature_names\u001b[0m\u001b[1;33m)\u001b[0m \u001b[1;33m!=\u001b[0m \u001b[0mself\u001b[0m\u001b[1;33m.\u001b[0m\u001b[0mnum_col\u001b[0m\u001b[1;33m(\u001b[0m\u001b[1;33m)\u001b[0m\u001b[1;33m:\u001b[0m\u001b[1;33m\u001b[0m\u001b[0m\n\u001b[0;32m    864\u001b[0m                 \u001b[0mmsg\u001b[0m \u001b[1;33m=\u001b[0m \u001b[1;34m'feature_names must have the same length as data'\u001b[0m\u001b[1;33m\u001b[0m\u001b[0m\n",
            "\u001b[1;31mValueError\u001b[0m: feature_names must be unique"
          ]
        }
      ]
    }
  ]
}