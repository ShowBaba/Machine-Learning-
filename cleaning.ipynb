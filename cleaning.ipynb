{
  "nbformat": 4,
  "nbformat_minor": 0,
  "metadata": {
    "kernelspec": {
      "display_name": "Python 3",
      "language": "python",
      "name": "python3"
    },
    "language_info": {
      "codemirror_mode": {
        "name": "ipython",
        "version": 3
      },
      "file_extension": ".py",
      "mimetype": "text/x-python",
      "name": "python",
      "nbconvert_exporter": "python",
      "pygments_lexer": "ipython3",
      "version": "3.6.5"
    },
    "colab": {
      "name": "cleaning.ipynb",
      "provenance": [],
      "include_colab_link": true
    }
  },
  "cells": [
    {
      "cell_type": "markdown",
      "metadata": {
        "id": "view-in-github",
        "colab_type": "text"
      },
      "source": [
        "<a href=\"https://colab.research.google.com/github/ShowBaba/Machine-Learning-/blob/master/cleaning.ipynb\" target=\"_parent\"><img src=\"https://colab.research.google.com/assets/colab-badge.svg\" alt=\"Open In Colab\"/></a>"
      ]
    },
    {
      "cell_type": "code",
      "metadata": {
        "id": "vJ8PqV6BIYeO",
        "colab_type": "code",
        "colab": {}
      },
      "source": [
        "import numpy as np\n",
        "import pandas as pd\n",
        "import seaborn as sns\n",
        "import matplotlib as plt\n",
        "%matplotlib inline\n",
        "from sklearn.linear_model import LinearRegression\n",
        "from sklearn.linear_model import LogisticRegression\n",
        "from sklearn.preprocessing import LabelEncoder"
      ],
      "execution_count": 0,
      "outputs": []
    },
    {
      "cell_type": "code",
      "metadata": {
        "id": "UKoO94CTIYen",
        "colab_type": "code",
        "colab": {},
        "outputId": "be5ce795-0822-4073-acfd-7b11ae13934b"
      },
      "source": [
        "# load the datasets\n",
        "train_df = pd.read_csv('train.csv')\n",
        "test_df = pd.read_csv('test.csv')\n",
        "z = test_df['EmployeeNo']\n",
        "b = train_df['Promoted_or_Not']\n",
        "train_df.shape"
      ],
      "execution_count": 0,
      "outputs": [
        {
          "output_type": "execute_result",
          "data": {
            "text/plain": [
              "(38312, 19)"
            ]
          },
          "metadata": {
            "tags": []
          },
          "execution_count": 46
        }
      ]
    },
    {
      "cell_type": "code",
      "metadata": {
        "id": "hu2xTL7hIYfD",
        "colab_type": "code",
        "colab": {},
        "outputId": "8dde83f5-0668-4ecb-d052-92498e7b8010"
      },
      "source": [
        "# merge the datasets for processing\n",
        "df = [train_df, test_df]\n",
        "df = pd.concat(df, keys=['x', 'y'])\n",
        "a = df['EmployeeNo']\n",
        "df = df.drop(columns=['EmployeeNo', 'Promoted_or_Not'])\n",
        "df.shape"
      ],
      "execution_count": 0,
      "outputs": [
        {
          "output_type": "stream",
          "text": [
            "C:\\Users\\SAMUEL PC\\Anaconda\\lib\\site-packages\\ipykernel_launcher.py:3: FutureWarning: Sorting because non-concatenation axis is not aligned. A future version\n",
            "of pandas will change to not sort by default.\n",
            "\n",
            "To accept the future behavior, pass 'sort=True'.\n",
            "\n",
            "To retain the current behavior and silence the warning, pass sort=False\n",
            "\n",
            "  This is separate from the ipykernel package so we can avoid doing imports until\n"
          ],
          "name": "stderr"
        },
        {
          "output_type": "execute_result",
          "data": {
            "text/plain": [
              "(54808, 17)"
            ]
          },
          "metadata": {
            "tags": []
          },
          "execution_count": 47
        }
      ]
    },
    {
      "cell_type": "code",
      "metadata": {
        "id": "Wmx5Ydx8IYfW",
        "colab_type": "code",
        "colab": {}
      },
      "source": [
        ""
      ],
      "execution_count": 0,
      "outputs": []
    },
    {
      "cell_type": "code",
      "metadata": {
        "id": "KseZZlTNIYfi",
        "colab_type": "code",
        "colab": {},
        "outputId": "15e255d6-0bb6-4882-a8b0-518fb88504e0"
      },
      "source": [
        "df.isnull().sum()"
      ],
      "execution_count": 0,
      "outputs": [
        {
          "output_type": "execute_result",
          "data": {
            "text/plain": [
              "Channel_of_Recruitment                    0\n",
              "Division                                  0\n",
              "Foreign_schooled                          0\n",
              "Gender                                    0\n",
              "Last_performance_score                    0\n",
              "Marital_Status                            0\n",
              "No_of_previous_employers                  0\n",
              "Past_Disciplinary_Action                  0\n",
              "Previous_Award                            0\n",
              "Previous_IntraDepartmental_Movement       0\n",
              "Qualification                          2409\n",
              "State_Of_Origin                           0\n",
              "Targets_met                               0\n",
              "Training_score_average                    0\n",
              "Trainings_Attended                        0\n",
              "Year_of_birth                             0\n",
              "Year_of_recruitment                       0\n",
              "dtype: int64"
            ]
          },
          "metadata": {
            "tags": []
          },
          "execution_count": 48
        }
      ]
    },
    {
      "cell_type": "code",
      "metadata": {
        "id": "G3yOuezBIYfy",
        "colab_type": "code",
        "colab": {}
      },
      "source": [
        "# for column in df.columns:\n",
        "#     if df[column].dtype == type(object):\n",
        "#         le = LabelEncoder()\n",
        "#         df[column] = le.fit_transform(df[column].astype(str))\n",
        "# df.head()"
      ],
      "execution_count": 0,
      "outputs": []
    },
    {
      "cell_type": "code",
      "metadata": {
        "scrolled": true,
        "id": "4vyOYRoCIYgB",
        "colab_type": "code",
        "colab": {}
      },
      "source": [
        "df = pd.DataFrame(df)\n",
        "df_null = df[df['Qualification'].isnull()]"
      ],
      "execution_count": 0,
      "outputs": []
    },
    {
      "cell_type": "code",
      "metadata": {
        "id": "U5tLb1vhIYgJ",
        "colab_type": "code",
        "colab": {},
        "outputId": "a9b25e95-0be4-46e7-84df-ccbf46d700a2"
      },
      "source": [
        "df_null.shape"
      ],
      "execution_count": 0,
      "outputs": [
        {
          "output_type": "execute_result",
          "data": {
            "text/plain": [
              "(2409, 17)"
            ]
          },
          "metadata": {
            "tags": []
          },
          "execution_count": 51
        }
      ]
    },
    {
      "cell_type": "code",
      "metadata": {
        "id": "1x-2n3d7IYga",
        "colab_type": "code",
        "colab": {}
      },
      "source": [
        "df_null = df_null.drop(columns=['Qualification'])"
      ],
      "execution_count": 0,
      "outputs": []
    },
    {
      "cell_type": "code",
      "metadata": {
        "id": "GKyESTzGIYgm",
        "colab_type": "code",
        "colab": {},
        "outputId": "43ca84f7-026f-4f45-b943-eda5cad275ce"
      },
      "source": [
        "df.shape"
      ],
      "execution_count": 0,
      "outputs": [
        {
          "output_type": "execute_result",
          "data": {
            "text/plain": [
              "(54808, 17)"
            ]
          },
          "metadata": {
            "tags": []
          },
          "execution_count": 53
        }
      ]
    },
    {
      "cell_type": "code",
      "metadata": {
        "id": "FfpUYvfeIYg1",
        "colab_type": "code",
        "colab": {}
      },
      "source": [
        "df = df.dropna()"
      ],
      "execution_count": 0,
      "outputs": []
    },
    {
      "cell_type": "code",
      "metadata": {
        "id": "3W7yiU2gIYhD",
        "colab_type": "code",
        "colab": {},
        "outputId": "5b335164-d55b-4129-e8e4-7da2fa649012"
      },
      "source": [
        "df.shape"
      ],
      "execution_count": 0,
      "outputs": [
        {
          "output_type": "execute_result",
          "data": {
            "text/plain": [
              "(52399, 17)"
            ]
          },
          "metadata": {
            "tags": []
          },
          "execution_count": 55
        }
      ]
    },
    {
      "cell_type": "code",
      "metadata": {
        "id": "FIOS_nW7IYhP",
        "colab_type": "code",
        "colab": {},
        "outputId": "94a6fce6-5e46-4d26-cda6-7ac0a4a18d91"
      },
      "source": [
        "from sklearn.preprocessing import LabelEncoder\n",
        "\n",
        "le = LabelEncoder()\n",
        "df_null = df_null.apply(le.fit_transform)\n",
        "df_null.head()"
      ],
      "execution_count": 0,
      "outputs": [
        {
          "output_type": "execute_result",
          "data": {
            "text/html": [
              "<div>\n",
              "<style scoped>\n",
              "    .dataframe tbody tr th:only-of-type {\n",
              "        vertical-align: middle;\n",
              "    }\n",
              "\n",
              "    .dataframe tbody tr th {\n",
              "        vertical-align: top;\n",
              "    }\n",
              "\n",
              "    .dataframe thead th {\n",
              "        text-align: right;\n",
              "    }\n",
              "</style>\n",
              "<table border=\"1\" class=\"dataframe\">\n",
              "  <thead>\n",
              "    <tr style=\"text-align: right;\">\n",
              "      <th></th>\n",
              "      <th></th>\n",
              "      <th>Channel_of_Recruitment</th>\n",
              "      <th>Division</th>\n",
              "      <th>Foreign_schooled</th>\n",
              "      <th>Gender</th>\n",
              "      <th>Last_performance_score</th>\n",
              "      <th>Marital_Status</th>\n",
              "      <th>No_of_previous_employers</th>\n",
              "      <th>Past_Disciplinary_Action</th>\n",
              "      <th>Previous_Award</th>\n",
              "      <th>Previous_IntraDepartmental_Movement</th>\n",
              "      <th>State_Of_Origin</th>\n",
              "      <th>Targets_met</th>\n",
              "      <th>Training_score_average</th>\n",
              "      <th>Trainings_Attended</th>\n",
              "      <th>Year_of_birth</th>\n",
              "      <th>Year_of_recruitment</th>\n",
              "    </tr>\n",
              "  </thead>\n",
              "  <tbody>\n",
              "    <tr>\n",
              "      <th rowspan=\"5\" valign=\"top\">x</th>\n",
              "      <th>15</th>\n",
              "      <td>1</td>\n",
              "      <td>2</td>\n",
              "      <td>1</td>\n",
              "      <td>1</td>\n",
              "      <td>4</td>\n",
              "      <td>0</td>\n",
              "      <td>1</td>\n",
              "      <td>0</td>\n",
              "      <td>0</td>\n",
              "      <td>0</td>\n",
              "      <td>32</td>\n",
              "      <td>0</td>\n",
              "      <td>16</td>\n",
              "      <td>0</td>\n",
              "      <td>19</td>\n",
              "      <td>16</td>\n",
              "    </tr>\n",
              "    <tr>\n",
              "      <th>22</th>\n",
              "      <td>1</td>\n",
              "      <td>1</td>\n",
              "      <td>1</td>\n",
              "      <td>0</td>\n",
              "      <td>1</td>\n",
              "      <td>0</td>\n",
              "      <td>1</td>\n",
              "      <td>0</td>\n",
              "      <td>0</td>\n",
              "      <td>0</td>\n",
              "      <td>11</td>\n",
              "      <td>0</td>\n",
              "      <td>7</td>\n",
              "      <td>0</td>\n",
              "      <td>36</td>\n",
              "      <td>25</td>\n",
              "    </tr>\n",
              "    <tr>\n",
              "      <th>28</th>\n",
              "      <td>0</td>\n",
              "      <td>1</td>\n",
              "      <td>1</td>\n",
              "      <td>1</td>\n",
              "      <td>2</td>\n",
              "      <td>0</td>\n",
              "      <td>1</td>\n",
              "      <td>0</td>\n",
              "      <td>0</td>\n",
              "      <td>0</td>\n",
              "      <td>8</td>\n",
              "      <td>0</td>\n",
              "      <td>7</td>\n",
              "      <td>2</td>\n",
              "      <td>36</td>\n",
              "      <td>25</td>\n",
              "    </tr>\n",
              "    <tr>\n",
              "      <th>60</th>\n",
              "      <td>1</td>\n",
              "      <td>1</td>\n",
              "      <td>1</td>\n",
              "      <td>0</td>\n",
              "      <td>0</td>\n",
              "      <td>2</td>\n",
              "      <td>2</td>\n",
              "      <td>0</td>\n",
              "      <td>0</td>\n",
              "      <td>0</td>\n",
              "      <td>36</td>\n",
              "      <td>0</td>\n",
              "      <td>14</td>\n",
              "      <td>0</td>\n",
              "      <td>40</td>\n",
              "      <td>26</td>\n",
              "    </tr>\n",
              "    <tr>\n",
              "      <th>137</th>\n",
              "      <td>0</td>\n",
              "      <td>2</td>\n",
              "      <td>1</td>\n",
              "      <td>0</td>\n",
              "      <td>4</td>\n",
              "      <td>2</td>\n",
              "      <td>5</td>\n",
              "      <td>0</td>\n",
              "      <td>0</td>\n",
              "      <td>0</td>\n",
              "      <td>24</td>\n",
              "      <td>0</td>\n",
              "      <td>23</td>\n",
              "      <td>0</td>\n",
              "      <td>27</td>\n",
              "      <td>18</td>\n",
              "    </tr>\n",
              "  </tbody>\n",
              "</table>\n",
              "</div>"
            ],
            "text/plain": [
              "       Channel_of_Recruitment  Division  Foreign_schooled  Gender  \\\n",
              "x 15                        1         2                 1       1   \n",
              "  22                        1         1                 1       0   \n",
              "  28                        0         1                 1       1   \n",
              "  60                        1         1                 1       0   \n",
              "  137                       0         2                 1       0   \n",
              "\n",
              "       Last_performance_score  Marital_Status  No_of_previous_employers  \\\n",
              "x 15                        4               0                         1   \n",
              "  22                        1               0                         1   \n",
              "  28                        2               0                         1   \n",
              "  60                        0               2                         2   \n",
              "  137                       4               2                         5   \n",
              "\n",
              "       Past_Disciplinary_Action  Previous_Award  \\\n",
              "x 15                          0               0   \n",
              "  22                          0               0   \n",
              "  28                          0               0   \n",
              "  60                          0               0   \n",
              "  137                         0               0   \n",
              "\n",
              "       Previous_IntraDepartmental_Movement  State_Of_Origin  Targets_met  \\\n",
              "x 15                                     0               32            0   \n",
              "  22                                     0               11            0   \n",
              "  28                                     0                8            0   \n",
              "  60                                     0               36            0   \n",
              "  137                                    0               24            0   \n",
              "\n",
              "       Training_score_average  Trainings_Attended  Year_of_birth  \\\n",
              "x 15                       16                   0             19   \n",
              "  22                        7                   0             36   \n",
              "  28                        7                   2             36   \n",
              "  60                       14                   0             40   \n",
              "  137                      23                   0             27   \n",
              "\n",
              "       Year_of_recruitment  \n",
              "x 15                    16  \n",
              "  22                    25  \n",
              "  28                    25  \n",
              "  60                    26  \n",
              "  137                   18  "
            ]
          },
          "metadata": {
            "tags": []
          },
          "execution_count": 56
        }
      ]
    },
    {
      "cell_type": "code",
      "metadata": {
        "id": "Rh555kddIYhW",
        "colab_type": "code",
        "colab": {},
        "outputId": "6f1008da-4d1b-4c85-ad16-0f7241da5a2e"
      },
      "source": [
        "df.shape"
      ],
      "execution_count": 0,
      "outputs": [
        {
          "output_type": "execute_result",
          "data": {
            "text/plain": [
              "(52399, 17)"
            ]
          },
          "metadata": {
            "tags": []
          },
          "execution_count": 57
        }
      ]
    },
    {
      "cell_type": "code",
      "metadata": {
        "id": "dZTTyBA-IYhd",
        "colab_type": "code",
        "colab": {}
      },
      "source": [
        ""
      ],
      "execution_count": 0,
      "outputs": []
    },
    {
      "cell_type": "code",
      "metadata": {
        "id": "qZyAq7ZGIYhm",
        "colab_type": "code",
        "colab": {},
        "outputId": "2d886011-5fb1-4858-986d-ad9d0156ceff"
      },
      "source": [
        "from sklearn.preprocessing import LabelEncoder\n",
        "\n",
        "le = LabelEncoder()\n",
        "df = df.apply(le.fit_transform)\n",
        "df.head()"
      ],
      "execution_count": 0,
      "outputs": [
        {
          "output_type": "execute_result",
          "data": {
            "text/html": [
              "<div>\n",
              "<style scoped>\n",
              "    .dataframe tbody tr th:only-of-type {\n",
              "        vertical-align: middle;\n",
              "    }\n",
              "\n",
              "    .dataframe tbody tr th {\n",
              "        vertical-align: top;\n",
              "    }\n",
              "\n",
              "    .dataframe thead th {\n",
              "        text-align: right;\n",
              "    }\n",
              "</style>\n",
              "<table border=\"1\" class=\"dataframe\">\n",
              "  <thead>\n",
              "    <tr style=\"text-align: right;\">\n",
              "      <th></th>\n",
              "      <th></th>\n",
              "      <th>Channel_of_Recruitment</th>\n",
              "      <th>Division</th>\n",
              "      <th>Foreign_schooled</th>\n",
              "      <th>Gender</th>\n",
              "      <th>Last_performance_score</th>\n",
              "      <th>Marital_Status</th>\n",
              "      <th>No_of_previous_employers</th>\n",
              "      <th>Past_Disciplinary_Action</th>\n",
              "      <th>Previous_Award</th>\n",
              "      <th>Previous_IntraDepartmental_Movement</th>\n",
              "      <th>Qualification</th>\n",
              "      <th>State_Of_Origin</th>\n",
              "      <th>Targets_met</th>\n",
              "      <th>Training_score_average</th>\n",
              "      <th>Trainings_Attended</th>\n",
              "      <th>Year_of_birth</th>\n",
              "      <th>Year_of_recruitment</th>\n",
              "    </tr>\n",
              "  </thead>\n",
              "  <tbody>\n",
              "    <tr>\n",
              "      <th rowspan=\"5\" valign=\"top\">x</th>\n",
              "      <th>0</th>\n",
              "      <td>1</td>\n",
              "      <td>1</td>\n",
              "      <td>0</td>\n",
              "      <td>0</td>\n",
              "      <td>5</td>\n",
              "      <td>0</td>\n",
              "      <td>0</td>\n",
              "      <td>0</td>\n",
              "      <td>0</td>\n",
              "      <td>0</td>\n",
              "      <td>1</td>\n",
              "      <td>3</td>\n",
              "      <td>1</td>\n",
              "      <td>10</td>\n",
              "      <td>0</td>\n",
              "      <td>33</td>\n",
              "      <td>27</td>\n",
              "    </tr>\n",
              "    <tr>\n",
              "      <th>1</th>\n",
              "      <td>0</td>\n",
              "      <td>2</td>\n",
              "      <td>1</td>\n",
              "      <td>1</td>\n",
              "      <td>5</td>\n",
              "      <td>0</td>\n",
              "      <td>0</td>\n",
              "      <td>0</td>\n",
              "      <td>0</td>\n",
              "      <td>0</td>\n",
              "      <td>0</td>\n",
              "      <td>3</td>\n",
              "      <td>0</td>\n",
              "      <td>21</td>\n",
              "      <td>0</td>\n",
              "      <td>38</td>\n",
              "      <td>31</td>\n",
              "    </tr>\n",
              "    <tr>\n",
              "      <th>2</th>\n",
              "      <td>1</td>\n",
              "      <td>1</td>\n",
              "      <td>1</td>\n",
              "      <td>1</td>\n",
              "      <td>3</td>\n",
              "      <td>0</td>\n",
              "      <td>0</td>\n",
              "      <td>0</td>\n",
              "      <td>0</td>\n",
              "      <td>0</td>\n",
              "      <td>0</td>\n",
              "      <td>20</td>\n",
              "      <td>0</td>\n",
              "      <td>11</td>\n",
              "      <td>0</td>\n",
              "      <td>34</td>\n",
              "      <td>28</td>\n",
              "    </tr>\n",
              "    <tr>\n",
              "      <th>3</th>\n",
              "      <td>0</td>\n",
              "      <td>1</td>\n",
              "      <td>1</td>\n",
              "      <td>1</td>\n",
              "      <td>1</td>\n",
              "      <td>2</td>\n",
              "      <td>1</td>\n",
              "      <td>0</td>\n",
              "      <td>0</td>\n",
              "      <td>0</td>\n",
              "      <td>0</td>\n",
              "      <td>26</td>\n",
              "      <td>0</td>\n",
              "      <td>11</td>\n",
              "      <td>1</td>\n",
              "      <td>29</td>\n",
              "      <td>25</td>\n",
              "    </tr>\n",
              "    <tr>\n",
              "      <th>4</th>\n",
              "      <td>1</td>\n",
              "      <td>4</td>\n",
              "      <td>1</td>\n",
              "      <td>1</td>\n",
              "      <td>3</td>\n",
              "      <td>0</td>\n",
              "      <td>1</td>\n",
              "      <td>0</td>\n",
              "      <td>0</td>\n",
              "      <td>0</td>\n",
              "      <td>0</td>\n",
              "      <td>2</td>\n",
              "      <td>0</td>\n",
              "      <td>46</td>\n",
              "      <td>1</td>\n",
              "      <td>37</td>\n",
              "      <td>28</td>\n",
              "    </tr>\n",
              "  </tbody>\n",
              "</table>\n",
              "</div>"
            ],
            "text/plain": [
              "     Channel_of_Recruitment  Division  Foreign_schooled  Gender  \\\n",
              "x 0                       1         1                 0       0   \n",
              "  1                       0         2                 1       1   \n",
              "  2                       1         1                 1       1   \n",
              "  3                       0         1                 1       1   \n",
              "  4                       1         4                 1       1   \n",
              "\n",
              "     Last_performance_score  Marital_Status  No_of_previous_employers  \\\n",
              "x 0                       5               0                         0   \n",
              "  1                       5               0                         0   \n",
              "  2                       3               0                         0   \n",
              "  3                       1               2                         1   \n",
              "  4                       3               0                         1   \n",
              "\n",
              "     Past_Disciplinary_Action  Previous_Award  \\\n",
              "x 0                         0               0   \n",
              "  1                         0               0   \n",
              "  2                         0               0   \n",
              "  3                         0               0   \n",
              "  4                         0               0   \n",
              "\n",
              "     Previous_IntraDepartmental_Movement  Qualification  State_Of_Origin  \\\n",
              "x 0                                    0              1                3   \n",
              "  1                                    0              0                3   \n",
              "  2                                    0              0               20   \n",
              "  3                                    0              0               26   \n",
              "  4                                    0              0                2   \n",
              "\n",
              "     Targets_met  Training_score_average  Trainings_Attended  Year_of_birth  \\\n",
              "x 0            1                      10                   0             33   \n",
              "  1            0                      21                   0             38   \n",
              "  2            0                      11                   0             34   \n",
              "  3            0                      11                   1             29   \n",
              "  4            0                      46                   1             37   \n",
              "\n",
              "     Year_of_recruitment  \n",
              "x 0                   27  \n",
              "  1                   31  \n",
              "  2                   28  \n",
              "  3                   25  \n",
              "  4                   28  "
            ]
          },
          "metadata": {
            "tags": []
          },
          "execution_count": 58
        }
      ]
    },
    {
      "cell_type": "code",
      "metadata": {
        "id": "z2rCCugtIYhs",
        "colab_type": "code",
        "colab": {}
      },
      "source": [
        "X = df.drop(columns=['Qualification'])\n",
        "y = df['Qualification']"
      ],
      "execution_count": 0,
      "outputs": []
    },
    {
      "cell_type": "code",
      "metadata": {
        "id": "OjNvq47cIYhy",
        "colab_type": "code",
        "colab": {}
      },
      "source": [
        "X_train, X_test, y_train, y_test = train_test_split(X, y, test_size=0.2, random_state=0)"
      ],
      "execution_count": 0,
      "outputs": []
    },
    {
      "cell_type": "code",
      "metadata": {
        "id": "JSKEtL4tIYh5",
        "colab_type": "code",
        "colab": {},
        "outputId": "1f1a4f61-5fd9-4776-c88e-ef52306e659a"
      },
      "source": [
        "# reg = LogisticRegression()\n",
        "# reg.fit(X_train, y_train)"
      ],
      "execution_count": 0,
      "outputs": [
        {
          "output_type": "execute_result",
          "data": {
            "text/plain": [
              "LogisticRegression(C=1.0, class_weight=None, dual=False, fit_intercept=True,\n",
              "          intercept_scaling=1, max_iter=100, multi_class='ovr', n_jobs=1,\n",
              "          penalty='l2', random_state=None, solver='liblinear', tol=0.0001,\n",
              "          verbose=0, warm_start=False)"
            ]
          },
          "metadata": {
            "tags": []
          },
          "execution_count": 61
        }
      ]
    },
    {
      "cell_type": "code",
      "metadata": {
        "id": "zj99UgitIYiE",
        "colab_type": "code",
        "colab": {},
        "outputId": "3e9b484c-11e1-4dda-819a-2345dc682e5d"
      },
      "source": [
        "c_space = np.logspace(-5, 10, 25)\n",
        "param_grid = {'C': c_space}\n",
        "# C_param_range = [0.001, 0.01, 0.1, 1, 10, 100]\n",
        "# for i in C_param_range:\n",
        "logreg = LogisticRegression(\n",
        "                           C=1,\n",
        "                           max_iter=3000,\n",
        "                           penalty='l1',\n",
        "                          random_state=8,\n",
        "                          verbose=3)\n",
        "logreg_cv = GridSearchCV(logreg, param_grid, cv=9)\n",
        "logreg_cv.fit(X, y)"
      ],
      "execution_count": 0,
      "outputs": [
        {
          "output_type": "stream",
          "text": [
            "[LibLinear][LibLinear][LibLinear][LibLinear][LibLinear][LibLinear][LibLinear][LibLinear][LibLinear][LibLinear][LibLinear][LibLinear][LibLinear][LibLinear][LibLinear][LibLinear][LibLinear][LibLinear][LibLinear][LibLinear][LibLinear][LibLinear][LibLinear][LibLinear][LibLinear][LibLinear][LibLinear][LibLinear][LibLinear][LibLinear][LibLinear][LibLinear][LibLinear][LibLinear][LibLinear][LibLinear][LibLinear][LibLinear][LibLinear][LibLinear][LibLinear][LibLinear][LibLinear][LibLinear][LibLinear][LibLinear][LibLinear][LibLinear][LibLinear][LibLinear][LibLinear][LibLinear][LibLinear][LibLinear][LibLinear][LibLinear][LibLinear][LibLinear][LibLinear]"
          ],
          "name": "stdout"
        },
        {
          "output_type": "error",
          "ename": "KeyboardInterrupt",
          "evalue": "",
          "traceback": [
            "\u001b[1;31m---------------------------------------------------------------------------\u001b[0m",
            "\u001b[1;31mKeyboardInterrupt\u001b[0m                         Traceback (most recent call last)",
            "\u001b[1;32m<ipython-input-88-351ae692be61>\u001b[0m in \u001b[0;36m<module>\u001b[1;34m()\u001b[0m\n\u001b[0;32m     10\u001b[0m                           verbose=3)\n\u001b[0;32m     11\u001b[0m \u001b[0mlogreg_cv\u001b[0m \u001b[1;33m=\u001b[0m \u001b[0mGridSearchCV\u001b[0m\u001b[1;33m(\u001b[0m\u001b[0mlogreg\u001b[0m\u001b[1;33m,\u001b[0m \u001b[0mparam_grid\u001b[0m\u001b[1;33m,\u001b[0m \u001b[0mcv\u001b[0m\u001b[1;33m=\u001b[0m\u001b[1;36m9\u001b[0m\u001b[1;33m)\u001b[0m\u001b[1;33m\u001b[0m\u001b[0m\n\u001b[1;32m---> 12\u001b[1;33m \u001b[0mlogreg_cv\u001b[0m\u001b[1;33m.\u001b[0m\u001b[0mfit\u001b[0m\u001b[1;33m(\u001b[0m\u001b[0mX\u001b[0m\u001b[1;33m,\u001b[0m \u001b[0my\u001b[0m\u001b[1;33m)\u001b[0m\u001b[1;33m\u001b[0m\u001b[0m\n\u001b[0m",
            "\u001b[1;32m~\\Anaconda\\lib\\site-packages\\sklearn\\model_selection\\_search.py\u001b[0m in \u001b[0;36mfit\u001b[1;34m(self, X, y, groups, **fit_params)\u001b[0m\n\u001b[0;32m    637\u001b[0m                                   error_score=self.error_score)\n\u001b[0;32m    638\u001b[0m           for parameters, (train, test) in product(candidate_params,\n\u001b[1;32m--> 639\u001b[1;33m                                                    cv.split(X, y, groups)))\n\u001b[0m\u001b[0;32m    640\u001b[0m \u001b[1;33m\u001b[0m\u001b[0m\n\u001b[0;32m    641\u001b[0m         \u001b[1;31m# if one choose to see train score, \"out\" will contain train score info\u001b[0m\u001b[1;33m\u001b[0m\u001b[1;33m\u001b[0m\u001b[0m\n",
            "\u001b[1;32m~\\Anaconda\\lib\\site-packages\\sklearn\\externals\\joblib\\parallel.py\u001b[0m in \u001b[0;36m__call__\u001b[1;34m(self, iterable)\u001b[0m\n\u001b[0;32m    777\u001b[0m             \u001b[1;31m# was dispatched. In particular this covers the edge\u001b[0m\u001b[1;33m\u001b[0m\u001b[1;33m\u001b[0m\u001b[0m\n\u001b[0;32m    778\u001b[0m             \u001b[1;31m# case of Parallel used with an exhausted iterator.\u001b[0m\u001b[1;33m\u001b[0m\u001b[1;33m\u001b[0m\u001b[0m\n\u001b[1;32m--> 779\u001b[1;33m             \u001b[1;32mwhile\u001b[0m \u001b[0mself\u001b[0m\u001b[1;33m.\u001b[0m\u001b[0mdispatch_one_batch\u001b[0m\u001b[1;33m(\u001b[0m\u001b[0miterator\u001b[0m\u001b[1;33m)\u001b[0m\u001b[1;33m:\u001b[0m\u001b[1;33m\u001b[0m\u001b[0m\n\u001b[0m\u001b[0;32m    780\u001b[0m                 \u001b[0mself\u001b[0m\u001b[1;33m.\u001b[0m\u001b[0m_iterating\u001b[0m \u001b[1;33m=\u001b[0m \u001b[1;32mTrue\u001b[0m\u001b[1;33m\u001b[0m\u001b[0m\n\u001b[0;32m    781\u001b[0m             \u001b[1;32melse\u001b[0m\u001b[1;33m:\u001b[0m\u001b[1;33m\u001b[0m\u001b[0m\n",
            "\u001b[1;32m~\\Anaconda\\lib\\site-packages\\sklearn\\externals\\joblib\\parallel.py\u001b[0m in \u001b[0;36mdispatch_one_batch\u001b[1;34m(self, iterator)\u001b[0m\n\u001b[0;32m    623\u001b[0m                 \u001b[1;32mreturn\u001b[0m \u001b[1;32mFalse\u001b[0m\u001b[1;33m\u001b[0m\u001b[0m\n\u001b[0;32m    624\u001b[0m             \u001b[1;32melse\u001b[0m\u001b[1;33m:\u001b[0m\u001b[1;33m\u001b[0m\u001b[0m\n\u001b[1;32m--> 625\u001b[1;33m                 \u001b[0mself\u001b[0m\u001b[1;33m.\u001b[0m\u001b[0m_dispatch\u001b[0m\u001b[1;33m(\u001b[0m\u001b[0mtasks\u001b[0m\u001b[1;33m)\u001b[0m\u001b[1;33m\u001b[0m\u001b[0m\n\u001b[0m\u001b[0;32m    626\u001b[0m                 \u001b[1;32mreturn\u001b[0m \u001b[1;32mTrue\u001b[0m\u001b[1;33m\u001b[0m\u001b[0m\n\u001b[0;32m    627\u001b[0m \u001b[1;33m\u001b[0m\u001b[0m\n",
            "\u001b[1;32m~\\Anaconda\\lib\\site-packages\\sklearn\\externals\\joblib\\parallel.py\u001b[0m in \u001b[0;36m_dispatch\u001b[1;34m(self, batch)\u001b[0m\n\u001b[0;32m    586\u001b[0m         \u001b[0mdispatch_timestamp\u001b[0m \u001b[1;33m=\u001b[0m \u001b[0mtime\u001b[0m\u001b[1;33m.\u001b[0m\u001b[0mtime\u001b[0m\u001b[1;33m(\u001b[0m\u001b[1;33m)\u001b[0m\u001b[1;33m\u001b[0m\u001b[0m\n\u001b[0;32m    587\u001b[0m         \u001b[0mcb\u001b[0m \u001b[1;33m=\u001b[0m \u001b[0mBatchCompletionCallBack\u001b[0m\u001b[1;33m(\u001b[0m\u001b[0mdispatch_timestamp\u001b[0m\u001b[1;33m,\u001b[0m \u001b[0mlen\u001b[0m\u001b[1;33m(\u001b[0m\u001b[0mbatch\u001b[0m\u001b[1;33m)\u001b[0m\u001b[1;33m,\u001b[0m \u001b[0mself\u001b[0m\u001b[1;33m)\u001b[0m\u001b[1;33m\u001b[0m\u001b[0m\n\u001b[1;32m--> 588\u001b[1;33m         \u001b[0mjob\u001b[0m \u001b[1;33m=\u001b[0m \u001b[0mself\u001b[0m\u001b[1;33m.\u001b[0m\u001b[0m_backend\u001b[0m\u001b[1;33m.\u001b[0m\u001b[0mapply_async\u001b[0m\u001b[1;33m(\u001b[0m\u001b[0mbatch\u001b[0m\u001b[1;33m,\u001b[0m \u001b[0mcallback\u001b[0m\u001b[1;33m=\u001b[0m\u001b[0mcb\u001b[0m\u001b[1;33m)\u001b[0m\u001b[1;33m\u001b[0m\u001b[0m\n\u001b[0m\u001b[0;32m    589\u001b[0m         \u001b[0mself\u001b[0m\u001b[1;33m.\u001b[0m\u001b[0m_jobs\u001b[0m\u001b[1;33m.\u001b[0m\u001b[0mappend\u001b[0m\u001b[1;33m(\u001b[0m\u001b[0mjob\u001b[0m\u001b[1;33m)\u001b[0m\u001b[1;33m\u001b[0m\u001b[0m\n\u001b[0;32m    590\u001b[0m \u001b[1;33m\u001b[0m\u001b[0m\n",
            "\u001b[1;32m~\\Anaconda\\lib\\site-packages\\sklearn\\externals\\joblib\\_parallel_backends.py\u001b[0m in \u001b[0;36mapply_async\u001b[1;34m(self, func, callback)\u001b[0m\n\u001b[0;32m    109\u001b[0m     \u001b[1;32mdef\u001b[0m \u001b[0mapply_async\u001b[0m\u001b[1;33m(\u001b[0m\u001b[0mself\u001b[0m\u001b[1;33m,\u001b[0m \u001b[0mfunc\u001b[0m\u001b[1;33m,\u001b[0m \u001b[0mcallback\u001b[0m\u001b[1;33m=\u001b[0m\u001b[1;32mNone\u001b[0m\u001b[1;33m)\u001b[0m\u001b[1;33m:\u001b[0m\u001b[1;33m\u001b[0m\u001b[0m\n\u001b[0;32m    110\u001b[0m         \u001b[1;34m\"\"\"Schedule a func to be run\"\"\"\u001b[0m\u001b[1;33m\u001b[0m\u001b[0m\n\u001b[1;32m--> 111\u001b[1;33m         \u001b[0mresult\u001b[0m \u001b[1;33m=\u001b[0m \u001b[0mImmediateResult\u001b[0m\u001b[1;33m(\u001b[0m\u001b[0mfunc\u001b[0m\u001b[1;33m)\u001b[0m\u001b[1;33m\u001b[0m\u001b[0m\n\u001b[0m\u001b[0;32m    112\u001b[0m         \u001b[1;32mif\u001b[0m \u001b[0mcallback\u001b[0m\u001b[1;33m:\u001b[0m\u001b[1;33m\u001b[0m\u001b[0m\n\u001b[0;32m    113\u001b[0m             \u001b[0mcallback\u001b[0m\u001b[1;33m(\u001b[0m\u001b[0mresult\u001b[0m\u001b[1;33m)\u001b[0m\u001b[1;33m\u001b[0m\u001b[0m\n",
            "\u001b[1;32m~\\Anaconda\\lib\\site-packages\\sklearn\\externals\\joblib\\_parallel_backends.py\u001b[0m in \u001b[0;36m__init__\u001b[1;34m(self, batch)\u001b[0m\n\u001b[0;32m    330\u001b[0m         \u001b[1;31m# Don't delay the application, to avoid keeping the input\u001b[0m\u001b[1;33m\u001b[0m\u001b[1;33m\u001b[0m\u001b[0m\n\u001b[0;32m    331\u001b[0m         \u001b[1;31m# arguments in memory\u001b[0m\u001b[1;33m\u001b[0m\u001b[1;33m\u001b[0m\u001b[0m\n\u001b[1;32m--> 332\u001b[1;33m         \u001b[0mself\u001b[0m\u001b[1;33m.\u001b[0m\u001b[0mresults\u001b[0m \u001b[1;33m=\u001b[0m \u001b[0mbatch\u001b[0m\u001b[1;33m(\u001b[0m\u001b[1;33m)\u001b[0m\u001b[1;33m\u001b[0m\u001b[0m\n\u001b[0m\u001b[0;32m    333\u001b[0m \u001b[1;33m\u001b[0m\u001b[0m\n\u001b[0;32m    334\u001b[0m     \u001b[1;32mdef\u001b[0m \u001b[0mget\u001b[0m\u001b[1;33m(\u001b[0m\u001b[0mself\u001b[0m\u001b[1;33m)\u001b[0m\u001b[1;33m:\u001b[0m\u001b[1;33m\u001b[0m\u001b[0m\n",
            "\u001b[1;32m~\\Anaconda\\lib\\site-packages\\sklearn\\externals\\joblib\\parallel.py\u001b[0m in \u001b[0;36m__call__\u001b[1;34m(self)\u001b[0m\n\u001b[0;32m    129\u001b[0m \u001b[1;33m\u001b[0m\u001b[0m\n\u001b[0;32m    130\u001b[0m     \u001b[1;32mdef\u001b[0m \u001b[0m__call__\u001b[0m\u001b[1;33m(\u001b[0m\u001b[0mself\u001b[0m\u001b[1;33m)\u001b[0m\u001b[1;33m:\u001b[0m\u001b[1;33m\u001b[0m\u001b[0m\n\u001b[1;32m--> 131\u001b[1;33m         \u001b[1;32mreturn\u001b[0m \u001b[1;33m[\u001b[0m\u001b[0mfunc\u001b[0m\u001b[1;33m(\u001b[0m\u001b[1;33m*\u001b[0m\u001b[0margs\u001b[0m\u001b[1;33m,\u001b[0m \u001b[1;33m**\u001b[0m\u001b[0mkwargs\u001b[0m\u001b[1;33m)\u001b[0m \u001b[1;32mfor\u001b[0m \u001b[0mfunc\u001b[0m\u001b[1;33m,\u001b[0m \u001b[0margs\u001b[0m\u001b[1;33m,\u001b[0m \u001b[0mkwargs\u001b[0m \u001b[1;32min\u001b[0m \u001b[0mself\u001b[0m\u001b[1;33m.\u001b[0m\u001b[0mitems\u001b[0m\u001b[1;33m]\u001b[0m\u001b[1;33m\u001b[0m\u001b[0m\n\u001b[0m\u001b[0;32m    132\u001b[0m \u001b[1;33m\u001b[0m\u001b[0m\n\u001b[0;32m    133\u001b[0m     \u001b[1;32mdef\u001b[0m \u001b[0m__len__\u001b[0m\u001b[1;33m(\u001b[0m\u001b[0mself\u001b[0m\u001b[1;33m)\u001b[0m\u001b[1;33m:\u001b[0m\u001b[1;33m\u001b[0m\u001b[0m\n",
            "\u001b[1;32m~\\Anaconda\\lib\\site-packages\\sklearn\\externals\\joblib\\parallel.py\u001b[0m in \u001b[0;36m<listcomp>\u001b[1;34m(.0)\u001b[0m\n\u001b[0;32m    129\u001b[0m \u001b[1;33m\u001b[0m\u001b[0m\n\u001b[0;32m    130\u001b[0m     \u001b[1;32mdef\u001b[0m \u001b[0m__call__\u001b[0m\u001b[1;33m(\u001b[0m\u001b[0mself\u001b[0m\u001b[1;33m)\u001b[0m\u001b[1;33m:\u001b[0m\u001b[1;33m\u001b[0m\u001b[0m\n\u001b[1;32m--> 131\u001b[1;33m         \u001b[1;32mreturn\u001b[0m \u001b[1;33m[\u001b[0m\u001b[0mfunc\u001b[0m\u001b[1;33m(\u001b[0m\u001b[1;33m*\u001b[0m\u001b[0margs\u001b[0m\u001b[1;33m,\u001b[0m \u001b[1;33m**\u001b[0m\u001b[0mkwargs\u001b[0m\u001b[1;33m)\u001b[0m \u001b[1;32mfor\u001b[0m \u001b[0mfunc\u001b[0m\u001b[1;33m,\u001b[0m \u001b[0margs\u001b[0m\u001b[1;33m,\u001b[0m \u001b[0mkwargs\u001b[0m \u001b[1;32min\u001b[0m \u001b[0mself\u001b[0m\u001b[1;33m.\u001b[0m\u001b[0mitems\u001b[0m\u001b[1;33m]\u001b[0m\u001b[1;33m\u001b[0m\u001b[0m\n\u001b[0m\u001b[0;32m    132\u001b[0m \u001b[1;33m\u001b[0m\u001b[0m\n\u001b[0;32m    133\u001b[0m     \u001b[1;32mdef\u001b[0m \u001b[0m__len__\u001b[0m\u001b[1;33m(\u001b[0m\u001b[0mself\u001b[0m\u001b[1;33m)\u001b[0m\u001b[1;33m:\u001b[0m\u001b[1;33m\u001b[0m\u001b[0m\n",
            "\u001b[1;32m~\\Anaconda\\lib\\site-packages\\sklearn\\model_selection\\_validation.py\u001b[0m in \u001b[0;36m_fit_and_score\u001b[1;34m(estimator, X, y, scorer, train, test, verbose, parameters, fit_params, return_train_score, return_parameters, return_n_test_samples, return_times, error_score)\u001b[0m\n\u001b[0;32m    456\u001b[0m             \u001b[0mestimator\u001b[0m\u001b[1;33m.\u001b[0m\u001b[0mfit\u001b[0m\u001b[1;33m(\u001b[0m\u001b[0mX_train\u001b[0m\u001b[1;33m,\u001b[0m \u001b[1;33m**\u001b[0m\u001b[0mfit_params\u001b[0m\u001b[1;33m)\u001b[0m\u001b[1;33m\u001b[0m\u001b[0m\n\u001b[0;32m    457\u001b[0m         \u001b[1;32melse\u001b[0m\u001b[1;33m:\u001b[0m\u001b[1;33m\u001b[0m\u001b[0m\n\u001b[1;32m--> 458\u001b[1;33m             \u001b[0mestimator\u001b[0m\u001b[1;33m.\u001b[0m\u001b[0mfit\u001b[0m\u001b[1;33m(\u001b[0m\u001b[0mX_train\u001b[0m\u001b[1;33m,\u001b[0m \u001b[0my_train\u001b[0m\u001b[1;33m,\u001b[0m \u001b[1;33m**\u001b[0m\u001b[0mfit_params\u001b[0m\u001b[1;33m)\u001b[0m\u001b[1;33m\u001b[0m\u001b[0m\n\u001b[0m\u001b[0;32m    459\u001b[0m \u001b[1;33m\u001b[0m\u001b[0m\n\u001b[0;32m    460\u001b[0m     \u001b[1;32mexcept\u001b[0m \u001b[0mException\u001b[0m \u001b[1;32mas\u001b[0m \u001b[0me\u001b[0m\u001b[1;33m:\u001b[0m\u001b[1;33m\u001b[0m\u001b[0m\n",
            "\u001b[1;32m~\\Anaconda\\lib\\site-packages\\sklearn\\linear_model\\logistic.py\u001b[0m in \u001b[0;36mfit\u001b[1;34m(self, X, y, sample_weight)\u001b[0m\n\u001b[0;32m   1231\u001b[0m                 \u001b[0mself\u001b[0m\u001b[1;33m.\u001b[0m\u001b[0mclass_weight\u001b[0m\u001b[1;33m,\u001b[0m \u001b[0mself\u001b[0m\u001b[1;33m.\u001b[0m\u001b[0mpenalty\u001b[0m\u001b[1;33m,\u001b[0m \u001b[0mself\u001b[0m\u001b[1;33m.\u001b[0m\u001b[0mdual\u001b[0m\u001b[1;33m,\u001b[0m \u001b[0mself\u001b[0m\u001b[1;33m.\u001b[0m\u001b[0mverbose\u001b[0m\u001b[1;33m,\u001b[0m\u001b[1;33m\u001b[0m\u001b[0m\n\u001b[0;32m   1232\u001b[0m                 \u001b[0mself\u001b[0m\u001b[1;33m.\u001b[0m\u001b[0mmax_iter\u001b[0m\u001b[1;33m,\u001b[0m \u001b[0mself\u001b[0m\u001b[1;33m.\u001b[0m\u001b[0mtol\u001b[0m\u001b[1;33m,\u001b[0m \u001b[0mself\u001b[0m\u001b[1;33m.\u001b[0m\u001b[0mrandom_state\u001b[0m\u001b[1;33m,\u001b[0m\u001b[1;33m\u001b[0m\u001b[0m\n\u001b[1;32m-> 1233\u001b[1;33m                 sample_weight=sample_weight)\n\u001b[0m\u001b[0;32m   1234\u001b[0m             \u001b[0mself\u001b[0m\u001b[1;33m.\u001b[0m\u001b[0mn_iter_\u001b[0m \u001b[1;33m=\u001b[0m \u001b[0mnp\u001b[0m\u001b[1;33m.\u001b[0m\u001b[0marray\u001b[0m\u001b[1;33m(\u001b[0m\u001b[1;33m[\u001b[0m\u001b[0mn_iter_\u001b[0m\u001b[1;33m]\u001b[0m\u001b[1;33m)\u001b[0m\u001b[1;33m\u001b[0m\u001b[0m\n\u001b[0;32m   1235\u001b[0m             \u001b[1;32mreturn\u001b[0m \u001b[0mself\u001b[0m\u001b[1;33m\u001b[0m\u001b[0m\n",
            "\u001b[1;32m~\\Anaconda\\lib\\site-packages\\sklearn\\svm\\base.py\u001b[0m in \u001b[0;36m_fit_liblinear\u001b[1;34m(X, y, C, fit_intercept, intercept_scaling, class_weight, penalty, dual, verbose, max_iter, tol, random_state, multi_class, loss, epsilon, sample_weight)\u001b[0m\n\u001b[0;32m    888\u001b[0m         \u001b[0mX\u001b[0m\u001b[1;33m,\u001b[0m \u001b[0my_ind\u001b[0m\u001b[1;33m,\u001b[0m \u001b[0msp\u001b[0m\u001b[1;33m.\u001b[0m\u001b[0misspmatrix\u001b[0m\u001b[1;33m(\u001b[0m\u001b[0mX\u001b[0m\u001b[1;33m)\u001b[0m\u001b[1;33m,\u001b[0m \u001b[0msolver_type\u001b[0m\u001b[1;33m,\u001b[0m \u001b[0mtol\u001b[0m\u001b[1;33m,\u001b[0m \u001b[0mbias\u001b[0m\u001b[1;33m,\u001b[0m \u001b[0mC\u001b[0m\u001b[1;33m,\u001b[0m\u001b[1;33m\u001b[0m\u001b[0m\n\u001b[0;32m    889\u001b[0m         \u001b[0mclass_weight_\u001b[0m\u001b[1;33m,\u001b[0m \u001b[0mmax_iter\u001b[0m\u001b[1;33m,\u001b[0m \u001b[0mrnd\u001b[0m\u001b[1;33m.\u001b[0m\u001b[0mrandint\u001b[0m\u001b[1;33m(\u001b[0m\u001b[0mnp\u001b[0m\u001b[1;33m.\u001b[0m\u001b[0miinfo\u001b[0m\u001b[1;33m(\u001b[0m\u001b[1;34m'i'\u001b[0m\u001b[1;33m)\u001b[0m\u001b[1;33m.\u001b[0m\u001b[0mmax\u001b[0m\u001b[1;33m)\u001b[0m\u001b[1;33m,\u001b[0m\u001b[1;33m\u001b[0m\u001b[0m\n\u001b[1;32m--> 890\u001b[1;33m         epsilon, sample_weight)\n\u001b[0m\u001b[0;32m    891\u001b[0m     \u001b[1;31m# Regarding rnd.randint(..) in the above signature:\u001b[0m\u001b[1;33m\u001b[0m\u001b[1;33m\u001b[0m\u001b[0m\n\u001b[0;32m    892\u001b[0m     \u001b[1;31m# seed for srand in range [0..INT_MAX); due to limitations in Numpy\u001b[0m\u001b[1;33m\u001b[0m\u001b[1;33m\u001b[0m\u001b[0m\n",
            "\u001b[1;31mKeyboardInterrupt\u001b[0m: "
          ]
        }
      ]
    },
    {
      "cell_type": "code",
      "metadata": {
        "id": "92qUL8FVIYiM",
        "colab_type": "code",
        "colab": {}
      },
      "source": [
        "# from sklearn.linear_model import LogisticRegression\n",
        "# reg = LogisticRegression(penalty='l1',dual=False,max_iter=1000)\n",
        "\n",
        "# reg.fit(X_train, y_train)"
      ],
      "execution_count": 0,
      "outputs": []
    },
    {
      "cell_type": "code",
      "metadata": {
        "id": "FRwLlzleIYiU",
        "colab_type": "code",
        "colab": {}
      },
      "source": [
        "# coeff_df = pd.DataFrame(reg.coef_, X.columns, columns=['Coefficient'])\n",
        "# coeff_df"
      ],
      "execution_count": 0,
      "outputs": []
    },
    {
      "cell_type": "code",
      "metadata": {
        "scrolled": true,
        "id": "b_gWnVbnIYif",
        "colab_type": "code",
        "colab": {},
        "outputId": "a828ab58-1f71-4b01-e656-38ba1b17ba0f"
      },
      "source": [
        "pred = reg.predict(X_test)\n",
        "\n",
        "reg.score(X_train, y_train)"
      ],
      "execution_count": 0,
      "outputs": [
        {
          "output_type": "execute_result",
          "data": {
            "text/plain": [
              "0.7048116605835063"
            ]
          },
          "metadata": {
            "tags": []
          },
          "execution_count": 63
        }
      ]
    },
    {
      "cell_type": "code",
      "metadata": {
        "id": "GCiJC5OxIYim",
        "colab_type": "code",
        "colab": {}
      },
      "source": [
        "pred = reg.predict(df_null)"
      ],
      "execution_count": 0,
      "outputs": []
    },
    {
      "cell_type": "code",
      "metadata": {
        "id": "r2cJw1zNIYix",
        "colab_type": "code",
        "colab": {},
        "outputId": "f1fbcde5-c40e-4ec0-c684-627cfca6ec87"
      },
      "source": [
        "df_null.head()"
      ],
      "execution_count": 0,
      "outputs": [
        {
          "output_type": "execute_result",
          "data": {
            "text/html": [
              "<div>\n",
              "<style scoped>\n",
              "    .dataframe tbody tr th:only-of-type {\n",
              "        vertical-align: middle;\n",
              "    }\n",
              "\n",
              "    .dataframe tbody tr th {\n",
              "        vertical-align: top;\n",
              "    }\n",
              "\n",
              "    .dataframe thead th {\n",
              "        text-align: right;\n",
              "    }\n",
              "</style>\n",
              "<table border=\"1\" class=\"dataframe\">\n",
              "  <thead>\n",
              "    <tr style=\"text-align: right;\">\n",
              "      <th></th>\n",
              "      <th></th>\n",
              "      <th>Channel_of_Recruitment</th>\n",
              "      <th>Division</th>\n",
              "      <th>Foreign_schooled</th>\n",
              "      <th>Gender</th>\n",
              "      <th>Last_performance_score</th>\n",
              "      <th>Marital_Status</th>\n",
              "      <th>No_of_previous_employers</th>\n",
              "      <th>Past_Disciplinary_Action</th>\n",
              "      <th>Previous_Award</th>\n",
              "      <th>Previous_IntraDepartmental_Movement</th>\n",
              "      <th>State_Of_Origin</th>\n",
              "      <th>Targets_met</th>\n",
              "      <th>Training_score_average</th>\n",
              "      <th>Trainings_Attended</th>\n",
              "      <th>Year_of_birth</th>\n",
              "      <th>Year_of_recruitment</th>\n",
              "    </tr>\n",
              "  </thead>\n",
              "  <tbody>\n",
              "    <tr>\n",
              "      <th rowspan=\"5\" valign=\"top\">x</th>\n",
              "      <th>15</th>\n",
              "      <td>1</td>\n",
              "      <td>2</td>\n",
              "      <td>1</td>\n",
              "      <td>1</td>\n",
              "      <td>4</td>\n",
              "      <td>0</td>\n",
              "      <td>1</td>\n",
              "      <td>0</td>\n",
              "      <td>0</td>\n",
              "      <td>0</td>\n",
              "      <td>32</td>\n",
              "      <td>0</td>\n",
              "      <td>16</td>\n",
              "      <td>0</td>\n",
              "      <td>19</td>\n",
              "      <td>16</td>\n",
              "    </tr>\n",
              "    <tr>\n",
              "      <th>22</th>\n",
              "      <td>1</td>\n",
              "      <td>1</td>\n",
              "      <td>1</td>\n",
              "      <td>0</td>\n",
              "      <td>1</td>\n",
              "      <td>0</td>\n",
              "      <td>1</td>\n",
              "      <td>0</td>\n",
              "      <td>0</td>\n",
              "      <td>0</td>\n",
              "      <td>11</td>\n",
              "      <td>0</td>\n",
              "      <td>7</td>\n",
              "      <td>0</td>\n",
              "      <td>36</td>\n",
              "      <td>25</td>\n",
              "    </tr>\n",
              "    <tr>\n",
              "      <th>28</th>\n",
              "      <td>0</td>\n",
              "      <td>1</td>\n",
              "      <td>1</td>\n",
              "      <td>1</td>\n",
              "      <td>2</td>\n",
              "      <td>0</td>\n",
              "      <td>1</td>\n",
              "      <td>0</td>\n",
              "      <td>0</td>\n",
              "      <td>0</td>\n",
              "      <td>8</td>\n",
              "      <td>0</td>\n",
              "      <td>7</td>\n",
              "      <td>2</td>\n",
              "      <td>36</td>\n",
              "      <td>25</td>\n",
              "    </tr>\n",
              "    <tr>\n",
              "      <th>60</th>\n",
              "      <td>1</td>\n",
              "      <td>1</td>\n",
              "      <td>1</td>\n",
              "      <td>0</td>\n",
              "      <td>0</td>\n",
              "      <td>2</td>\n",
              "      <td>2</td>\n",
              "      <td>0</td>\n",
              "      <td>0</td>\n",
              "      <td>0</td>\n",
              "      <td>36</td>\n",
              "      <td>0</td>\n",
              "      <td>14</td>\n",
              "      <td>0</td>\n",
              "      <td>40</td>\n",
              "      <td>26</td>\n",
              "    </tr>\n",
              "    <tr>\n",
              "      <th>137</th>\n",
              "      <td>0</td>\n",
              "      <td>2</td>\n",
              "      <td>1</td>\n",
              "      <td>0</td>\n",
              "      <td>4</td>\n",
              "      <td>2</td>\n",
              "      <td>5</td>\n",
              "      <td>0</td>\n",
              "      <td>0</td>\n",
              "      <td>0</td>\n",
              "      <td>24</td>\n",
              "      <td>0</td>\n",
              "      <td>23</td>\n",
              "      <td>0</td>\n",
              "      <td>27</td>\n",
              "      <td>18</td>\n",
              "    </tr>\n",
              "  </tbody>\n",
              "</table>\n",
              "</div>"
            ],
            "text/plain": [
              "       Channel_of_Recruitment  Division  Foreign_schooled  Gender  \\\n",
              "x 15                        1         2                 1       1   \n",
              "  22                        1         1                 1       0   \n",
              "  28                        0         1                 1       1   \n",
              "  60                        1         1                 1       0   \n",
              "  137                       0         2                 1       0   \n",
              "\n",
              "       Last_performance_score  Marital_Status  No_of_previous_employers  \\\n",
              "x 15                        4               0                         1   \n",
              "  22                        1               0                         1   \n",
              "  28                        2               0                         1   \n",
              "  60                        0               2                         2   \n",
              "  137                       4               2                         5   \n",
              "\n",
              "       Past_Disciplinary_Action  Previous_Award  \\\n",
              "x 15                          0               0   \n",
              "  22                          0               0   \n",
              "  28                          0               0   \n",
              "  60                          0               0   \n",
              "  137                         0               0   \n",
              "\n",
              "       Previous_IntraDepartmental_Movement  State_Of_Origin  Targets_met  \\\n",
              "x 15                                     0               32            0   \n",
              "  22                                     0               11            0   \n",
              "  28                                     0                8            0   \n",
              "  60                                     0               36            0   \n",
              "  137                                    0               24            0   \n",
              "\n",
              "       Training_score_average  Trainings_Attended  Year_of_birth  \\\n",
              "x 15                       16                   0             19   \n",
              "  22                        7                   0             36   \n",
              "  28                        7                   2             36   \n",
              "  60                       14                   0             40   \n",
              "  137                      23                   0             27   \n",
              "\n",
              "       Year_of_recruitment  \n",
              "x 15                    16  \n",
              "  22                    25  \n",
              "  28                    25  \n",
              "  60                    26  \n",
              "  137                   18  "
            ]
          },
          "metadata": {
            "tags": []
          },
          "execution_count": 65
        }
      ]
    },
    {
      "cell_type": "code",
      "metadata": {
        "id": "cCoWp57EIYi4",
        "colab_type": "code",
        "colab": {},
        "outputId": "e5599246-70a1-4f2f-927d-faaf2980c5b6"
      },
      "source": [
        "df_null['Qualification'] = pred\n",
        "df_null.shape"
      ],
      "execution_count": 0,
      "outputs": [
        {
          "output_type": "execute_result",
          "data": {
            "text/plain": [
              "(2409, 17)"
            ]
          },
          "metadata": {
            "tags": []
          },
          "execution_count": 66
        }
      ]
    },
    {
      "cell_type": "code",
      "metadata": {
        "id": "q3MjzzSjIYjB",
        "colab_type": "code",
        "colab": {},
        "outputId": "e52de91e-b8d7-4029-810a-c68fefd21134"
      },
      "source": [
        "df_null.head()"
      ],
      "execution_count": 0,
      "outputs": [
        {
          "output_type": "execute_result",
          "data": {
            "text/html": [
              "<div>\n",
              "<style scoped>\n",
              "    .dataframe tbody tr th:only-of-type {\n",
              "        vertical-align: middle;\n",
              "    }\n",
              "\n",
              "    .dataframe tbody tr th {\n",
              "        vertical-align: top;\n",
              "    }\n",
              "\n",
              "    .dataframe thead th {\n",
              "        text-align: right;\n",
              "    }\n",
              "</style>\n",
              "<table border=\"1\" class=\"dataframe\">\n",
              "  <thead>\n",
              "    <tr style=\"text-align: right;\">\n",
              "      <th></th>\n",
              "      <th></th>\n",
              "      <th>Channel_of_Recruitment</th>\n",
              "      <th>Division</th>\n",
              "      <th>Foreign_schooled</th>\n",
              "      <th>Gender</th>\n",
              "      <th>Last_performance_score</th>\n",
              "      <th>Marital_Status</th>\n",
              "      <th>No_of_previous_employers</th>\n",
              "      <th>Past_Disciplinary_Action</th>\n",
              "      <th>Previous_Award</th>\n",
              "      <th>Previous_IntraDepartmental_Movement</th>\n",
              "      <th>State_Of_Origin</th>\n",
              "      <th>Targets_met</th>\n",
              "      <th>Training_score_average</th>\n",
              "      <th>Trainings_Attended</th>\n",
              "      <th>Year_of_birth</th>\n",
              "      <th>Year_of_recruitment</th>\n",
              "      <th>Qualification</th>\n",
              "    </tr>\n",
              "  </thead>\n",
              "  <tbody>\n",
              "    <tr>\n",
              "      <th rowspan=\"5\" valign=\"top\">x</th>\n",
              "      <th>15</th>\n",
              "      <td>1</td>\n",
              "      <td>2</td>\n",
              "      <td>1</td>\n",
              "      <td>1</td>\n",
              "      <td>4</td>\n",
              "      <td>0</td>\n",
              "      <td>1</td>\n",
              "      <td>0</td>\n",
              "      <td>0</td>\n",
              "      <td>0</td>\n",
              "      <td>32</td>\n",
              "      <td>0</td>\n",
              "      <td>16</td>\n",
              "      <td>0</td>\n",
              "      <td>19</td>\n",
              "      <td>16</td>\n",
              "      <td>1</td>\n",
              "    </tr>\n",
              "    <tr>\n",
              "      <th>22</th>\n",
              "      <td>1</td>\n",
              "      <td>1</td>\n",
              "      <td>1</td>\n",
              "      <td>0</td>\n",
              "      <td>1</td>\n",
              "      <td>0</td>\n",
              "      <td>1</td>\n",
              "      <td>0</td>\n",
              "      <td>0</td>\n",
              "      <td>0</td>\n",
              "      <td>11</td>\n",
              "      <td>0</td>\n",
              "      <td>7</td>\n",
              "      <td>0</td>\n",
              "      <td>36</td>\n",
              "      <td>25</td>\n",
              "      <td>0</td>\n",
              "    </tr>\n",
              "    <tr>\n",
              "      <th>28</th>\n",
              "      <td>0</td>\n",
              "      <td>1</td>\n",
              "      <td>1</td>\n",
              "      <td>1</td>\n",
              "      <td>2</td>\n",
              "      <td>0</td>\n",
              "      <td>1</td>\n",
              "      <td>0</td>\n",
              "      <td>0</td>\n",
              "      <td>0</td>\n",
              "      <td>8</td>\n",
              "      <td>0</td>\n",
              "      <td>7</td>\n",
              "      <td>2</td>\n",
              "      <td>36</td>\n",
              "      <td>25</td>\n",
              "      <td>0</td>\n",
              "    </tr>\n",
              "    <tr>\n",
              "      <th>60</th>\n",
              "      <td>1</td>\n",
              "      <td>1</td>\n",
              "      <td>1</td>\n",
              "      <td>0</td>\n",
              "      <td>0</td>\n",
              "      <td>2</td>\n",
              "      <td>2</td>\n",
              "      <td>0</td>\n",
              "      <td>0</td>\n",
              "      <td>0</td>\n",
              "      <td>36</td>\n",
              "      <td>0</td>\n",
              "      <td>14</td>\n",
              "      <td>0</td>\n",
              "      <td>40</td>\n",
              "      <td>26</td>\n",
              "      <td>0</td>\n",
              "    </tr>\n",
              "    <tr>\n",
              "      <th>137</th>\n",
              "      <td>0</td>\n",
              "      <td>2</td>\n",
              "      <td>1</td>\n",
              "      <td>0</td>\n",
              "      <td>4</td>\n",
              "      <td>2</td>\n",
              "      <td>5</td>\n",
              "      <td>0</td>\n",
              "      <td>0</td>\n",
              "      <td>0</td>\n",
              "      <td>24</td>\n",
              "      <td>0</td>\n",
              "      <td>23</td>\n",
              "      <td>0</td>\n",
              "      <td>27</td>\n",
              "      <td>18</td>\n",
              "      <td>0</td>\n",
              "    </tr>\n",
              "  </tbody>\n",
              "</table>\n",
              "</div>"
            ],
            "text/plain": [
              "       Channel_of_Recruitment  Division  Foreign_schooled  Gender  \\\n",
              "x 15                        1         2                 1       1   \n",
              "  22                        1         1                 1       0   \n",
              "  28                        0         1                 1       1   \n",
              "  60                        1         1                 1       0   \n",
              "  137                       0         2                 1       0   \n",
              "\n",
              "       Last_performance_score  Marital_Status  No_of_previous_employers  \\\n",
              "x 15                        4               0                         1   \n",
              "  22                        1               0                         1   \n",
              "  28                        2               0                         1   \n",
              "  60                        0               2                         2   \n",
              "  137                       4               2                         5   \n",
              "\n",
              "       Past_Disciplinary_Action  Previous_Award  \\\n",
              "x 15                          0               0   \n",
              "  22                          0               0   \n",
              "  28                          0               0   \n",
              "  60                          0               0   \n",
              "  137                         0               0   \n",
              "\n",
              "       Previous_IntraDepartmental_Movement  State_Of_Origin  Targets_met  \\\n",
              "x 15                                     0               32            0   \n",
              "  22                                     0               11            0   \n",
              "  28                                     0                8            0   \n",
              "  60                                     0               36            0   \n",
              "  137                                    0               24            0   \n",
              "\n",
              "       Training_score_average  Trainings_Attended  Year_of_birth  \\\n",
              "x 15                       16                   0             19   \n",
              "  22                        7                   0             36   \n",
              "  28                        7                   2             36   \n",
              "  60                       14                   0             40   \n",
              "  137                      23                   0             27   \n",
              "\n",
              "       Year_of_recruitment  Qualification  \n",
              "x 15                    16              1  \n",
              "  22                    25              0  \n",
              "  28                    25              0  \n",
              "  60                    26              0  \n",
              "  137                   18              0  "
            ]
          },
          "metadata": {
            "tags": []
          },
          "execution_count": 67
        }
      ]
    },
    {
      "cell_type": "code",
      "metadata": {
        "id": "ooTx8tLmIYjM",
        "colab_type": "code",
        "colab": {},
        "outputId": "d75de780-2ba5-4d86-d2e0-6f9976df6a0b"
      },
      "source": [
        "df_null.shape"
      ],
      "execution_count": 0,
      "outputs": [
        {
          "output_type": "execute_result",
          "data": {
            "text/plain": [
              "(2409, 17)"
            ]
          },
          "metadata": {
            "tags": []
          },
          "execution_count": 68
        }
      ]
    },
    {
      "cell_type": "code",
      "metadata": {
        "id": "CWHpIX_TIYjR",
        "colab_type": "code",
        "colab": {},
        "outputId": "22ca65e6-771c-40c8-b6f2-43be62780d1d"
      },
      "source": [
        "# df = df.append(df_null)\n",
        "df.isnull().sum()"
      ],
      "execution_count": 0,
      "outputs": [
        {
          "output_type": "execute_result",
          "data": {
            "text/plain": [
              "Channel_of_Recruitment                 0\n",
              "Division                               0\n",
              "Foreign_schooled                       0\n",
              "Gender                                 0\n",
              "Last_performance_score                 0\n",
              "Marital_Status                         0\n",
              "No_of_previous_employers               0\n",
              "Past_Disciplinary_Action               0\n",
              "Previous_Award                         0\n",
              "Previous_IntraDepartmental_Movement    0\n",
              "Qualification                          0\n",
              "State_Of_Origin                        0\n",
              "Targets_met                            0\n",
              "Training_score_average                 0\n",
              "Trainings_Attended                     0\n",
              "Year_of_birth                          0\n",
              "Year_of_recruitment                    0\n",
              "dtype: int64"
            ]
          },
          "metadata": {
            "tags": []
          },
          "execution_count": 69
        }
      ]
    },
    {
      "cell_type": "code",
      "metadata": {
        "id": "PciVA8R1IYja",
        "colab_type": "code",
        "colab": {},
        "outputId": "76bf0cb6-c991-4c4b-93f1-bdd92f8fe306"
      },
      "source": [
        "df.shape"
      ],
      "execution_count": 0,
      "outputs": [
        {
          "output_type": "execute_result",
          "data": {
            "text/plain": [
              "(52399, 17)"
            ]
          },
          "metadata": {
            "tags": []
          },
          "execution_count": 70
        }
      ]
    },
    {
      "cell_type": "code",
      "metadata": {
        "id": "pwGrapoJIYjl",
        "colab_type": "code",
        "colab": {},
        "outputId": "71ba5d7e-b4fe-4be3-9aed-751aea5c7e2f"
      },
      "source": [
        "df = df.append(df_null)"
      ],
      "execution_count": 0,
      "outputs": [
        {
          "output_type": "stream",
          "text": [
            "C:\\Users\\SAMUEL PC\\Anaconda\\lib\\site-packages\\pandas\\core\\frame.py:6201: FutureWarning: Sorting because non-concatenation axis is not aligned. A future version\n",
            "of pandas will change to not sort by default.\n",
            "\n",
            "To accept the future behavior, pass 'sort=True'.\n",
            "\n",
            "To retain the current behavior and silence the warning, pass sort=False\n",
            "\n",
            "  sort=sort)\n"
          ],
          "name": "stderr"
        }
      ]
    },
    {
      "cell_type": "code",
      "metadata": {
        "id": "gP2UXTrtIYjq",
        "colab_type": "code",
        "colab": {}
      },
      "source": [
        "a = pd.DataFrame(a)"
      ],
      "execution_count": 0,
      "outputs": []
    },
    {
      "cell_type": "code",
      "metadata": {
        "id": "EQbi2JPDIYjx",
        "colab_type": "code",
        "colab": {},
        "outputId": "dbed2e51-6f75-4e93-8099-1478e5b24cef"
      },
      "source": [
        "df.shape"
      ],
      "execution_count": 0,
      "outputs": [
        {
          "output_type": "execute_result",
          "data": {
            "text/plain": [
              "(54808, 17)"
            ]
          },
          "metadata": {
            "tags": []
          },
          "execution_count": 73
        }
      ]
    },
    {
      "cell_type": "code",
      "metadata": {
        "id": "GN02nRWOIYj2",
        "colab_type": "code",
        "colab": {},
        "outputId": "d2ea55e5-9681-4471-c345-4c7da6f2a88b"
      },
      "source": [
        "df.isnull().sum()"
      ],
      "execution_count": 0,
      "outputs": [
        {
          "output_type": "execute_result",
          "data": {
            "text/plain": [
              "Channel_of_Recruitment                 0\n",
              "Division                               0\n",
              "Foreign_schooled                       0\n",
              "Gender                                 0\n",
              "Last_performance_score                 0\n",
              "Marital_Status                         0\n",
              "No_of_previous_employers               0\n",
              "Past_Disciplinary_Action               0\n",
              "Previous_Award                         0\n",
              "Previous_IntraDepartmental_Movement    0\n",
              "Qualification                          0\n",
              "State_Of_Origin                        0\n",
              "Targets_met                            0\n",
              "Training_score_average                 0\n",
              "Trainings_Attended                     0\n",
              "Year_of_birth                          0\n",
              "Year_of_recruitment                    0\n",
              "dtype: int64"
            ]
          },
          "metadata": {
            "tags": []
          },
          "execution_count": 74
        }
      ]
    },
    {
      "cell_type": "code",
      "metadata": {
        "id": "kHj1BQtpIYkC",
        "colab_type": "code",
        "colab": {}
      },
      "source": [
        "df['EmployeeNo'] = a"
      ],
      "execution_count": 0,
      "outputs": []
    },
    {
      "cell_type": "code",
      "metadata": {
        "id": "cn_2Li7-IYkH",
        "colab_type": "code",
        "colab": {},
        "outputId": "0792c87b-4c63-4ae5-d972-207278e6b34c"
      },
      "source": [
        "df.shape"
      ],
      "execution_count": 0,
      "outputs": [
        {
          "output_type": "execute_result",
          "data": {
            "text/plain": [
              "(54808, 18)"
            ]
          },
          "metadata": {
            "tags": []
          },
          "execution_count": 76
        }
      ]
    },
    {
      "cell_type": "code",
      "metadata": {
        "id": "YZvvNRj3IYkN",
        "colab_type": "code",
        "colab": {},
        "outputId": "a03f92b6-a1b3-43ca-a5fa-b3007a3c7f3e"
      },
      "source": [
        "df.head()"
      ],
      "execution_count": 0,
      "outputs": [
        {
          "output_type": "execute_result",
          "data": {
            "text/html": [
              "<div>\n",
              "<style scoped>\n",
              "    .dataframe tbody tr th:only-of-type {\n",
              "        vertical-align: middle;\n",
              "    }\n",
              "\n",
              "    .dataframe tbody tr th {\n",
              "        vertical-align: top;\n",
              "    }\n",
              "\n",
              "    .dataframe thead th {\n",
              "        text-align: right;\n",
              "    }\n",
              "</style>\n",
              "<table border=\"1\" class=\"dataframe\">\n",
              "  <thead>\n",
              "    <tr style=\"text-align: right;\">\n",
              "      <th></th>\n",
              "      <th></th>\n",
              "      <th>Channel_of_Recruitment</th>\n",
              "      <th>Division</th>\n",
              "      <th>Foreign_schooled</th>\n",
              "      <th>Gender</th>\n",
              "      <th>Last_performance_score</th>\n",
              "      <th>Marital_Status</th>\n",
              "      <th>No_of_previous_employers</th>\n",
              "      <th>Past_Disciplinary_Action</th>\n",
              "      <th>Previous_Award</th>\n",
              "      <th>Previous_IntraDepartmental_Movement</th>\n",
              "      <th>Qualification</th>\n",
              "      <th>State_Of_Origin</th>\n",
              "      <th>Targets_met</th>\n",
              "      <th>Training_score_average</th>\n",
              "      <th>Trainings_Attended</th>\n",
              "      <th>Year_of_birth</th>\n",
              "      <th>Year_of_recruitment</th>\n",
              "      <th>EmployeeNo</th>\n",
              "    </tr>\n",
              "  </thead>\n",
              "  <tbody>\n",
              "    <tr>\n",
              "      <th rowspan=\"5\" valign=\"top\">x</th>\n",
              "      <th>0</th>\n",
              "      <td>1</td>\n",
              "      <td>1</td>\n",
              "      <td>0</td>\n",
              "      <td>0</td>\n",
              "      <td>5</td>\n",
              "      <td>0</td>\n",
              "      <td>0</td>\n",
              "      <td>0</td>\n",
              "      <td>0</td>\n",
              "      <td>0</td>\n",
              "      <td>1</td>\n",
              "      <td>3</td>\n",
              "      <td>1</td>\n",
              "      <td>10</td>\n",
              "      <td>0</td>\n",
              "      <td>33</td>\n",
              "      <td>27</td>\n",
              "      <td>YAK/S/00001</td>\n",
              "    </tr>\n",
              "    <tr>\n",
              "      <th>1</th>\n",
              "      <td>0</td>\n",
              "      <td>2</td>\n",
              "      <td>1</td>\n",
              "      <td>1</td>\n",
              "      <td>5</td>\n",
              "      <td>0</td>\n",
              "      <td>0</td>\n",
              "      <td>0</td>\n",
              "      <td>0</td>\n",
              "      <td>0</td>\n",
              "      <td>0</td>\n",
              "      <td>3</td>\n",
              "      <td>0</td>\n",
              "      <td>21</td>\n",
              "      <td>0</td>\n",
              "      <td>38</td>\n",
              "      <td>31</td>\n",
              "      <td>YAK/S/00002</td>\n",
              "    </tr>\n",
              "    <tr>\n",
              "      <th>2</th>\n",
              "      <td>1</td>\n",
              "      <td>1</td>\n",
              "      <td>1</td>\n",
              "      <td>1</td>\n",
              "      <td>3</td>\n",
              "      <td>0</td>\n",
              "      <td>0</td>\n",
              "      <td>0</td>\n",
              "      <td>0</td>\n",
              "      <td>0</td>\n",
              "      <td>0</td>\n",
              "      <td>20</td>\n",
              "      <td>0</td>\n",
              "      <td>11</td>\n",
              "      <td>0</td>\n",
              "      <td>34</td>\n",
              "      <td>28</td>\n",
              "      <td>YAK/S/00003</td>\n",
              "    </tr>\n",
              "    <tr>\n",
              "      <th>3</th>\n",
              "      <td>0</td>\n",
              "      <td>1</td>\n",
              "      <td>1</td>\n",
              "      <td>1</td>\n",
              "      <td>1</td>\n",
              "      <td>2</td>\n",
              "      <td>1</td>\n",
              "      <td>0</td>\n",
              "      <td>0</td>\n",
              "      <td>0</td>\n",
              "      <td>0</td>\n",
              "      <td>26</td>\n",
              "      <td>0</td>\n",
              "      <td>11</td>\n",
              "      <td>1</td>\n",
              "      <td>29</td>\n",
              "      <td>25</td>\n",
              "      <td>YAK/S/00004</td>\n",
              "    </tr>\n",
              "    <tr>\n",
              "      <th>4</th>\n",
              "      <td>1</td>\n",
              "      <td>4</td>\n",
              "      <td>1</td>\n",
              "      <td>1</td>\n",
              "      <td>3</td>\n",
              "      <td>0</td>\n",
              "      <td>1</td>\n",
              "      <td>0</td>\n",
              "      <td>0</td>\n",
              "      <td>0</td>\n",
              "      <td>0</td>\n",
              "      <td>2</td>\n",
              "      <td>0</td>\n",
              "      <td>46</td>\n",
              "      <td>1</td>\n",
              "      <td>37</td>\n",
              "      <td>28</td>\n",
              "      <td>YAK/S/00006</td>\n",
              "    </tr>\n",
              "  </tbody>\n",
              "</table>\n",
              "</div>"
            ],
            "text/plain": [
              "     Channel_of_Recruitment  Division  Foreign_schooled  Gender  \\\n",
              "x 0                       1         1                 0       0   \n",
              "  1                       0         2                 1       1   \n",
              "  2                       1         1                 1       1   \n",
              "  3                       0         1                 1       1   \n",
              "  4                       1         4                 1       1   \n",
              "\n",
              "     Last_performance_score  Marital_Status  No_of_previous_employers  \\\n",
              "x 0                       5               0                         0   \n",
              "  1                       5               0                         0   \n",
              "  2                       3               0                         0   \n",
              "  3                       1               2                         1   \n",
              "  4                       3               0                         1   \n",
              "\n",
              "     Past_Disciplinary_Action  Previous_Award  \\\n",
              "x 0                         0               0   \n",
              "  1                         0               0   \n",
              "  2                         0               0   \n",
              "  3                         0               0   \n",
              "  4                         0               0   \n",
              "\n",
              "     Previous_IntraDepartmental_Movement  Qualification  State_Of_Origin  \\\n",
              "x 0                                    0              1                3   \n",
              "  1                                    0              0                3   \n",
              "  2                                    0              0               20   \n",
              "  3                                    0              0               26   \n",
              "  4                                    0              0                2   \n",
              "\n",
              "     Targets_met  Training_score_average  Trainings_Attended  Year_of_birth  \\\n",
              "x 0            1                      10                   0             33   \n",
              "  1            0                      21                   0             38   \n",
              "  2            0                      11                   0             34   \n",
              "  3            0                      11                   1             29   \n",
              "  4            0                      46                   1             37   \n",
              "\n",
              "     Year_of_recruitment   EmployeeNo  \n",
              "x 0                   27  YAK/S/00001  \n",
              "  1                   31  YAK/S/00002  \n",
              "  2                   28  YAK/S/00003  \n",
              "  3                   25  YAK/S/00004  \n",
              "  4                   28  YAK/S/00006  "
            ]
          },
          "metadata": {
            "tags": []
          },
          "execution_count": 77
        }
      ]
    },
    {
      "cell_type": "code",
      "metadata": {
        "id": "Y_I3-ntHIYkW",
        "colab_type": "code",
        "colab": {},
        "outputId": "5d7ecf34-e13f-4d87-e6a5-7eaddc8a6c2c"
      },
      "source": [
        "df.shape"
      ],
      "execution_count": 0,
      "outputs": [
        {
          "output_type": "execute_result",
          "data": {
            "text/plain": [
              "(54808, 18)"
            ]
          },
          "metadata": {
            "tags": []
          },
          "execution_count": 78
        }
      ]
    },
    {
      "cell_type": "code",
      "metadata": {
        "id": "aCLq8YhSIYkb",
        "colab_type": "code",
        "colab": {},
        "outputId": "e6ea6291-2cbc-4238-f605-84cfd1cf265f"
      },
      "source": [
        "df.tail()"
      ],
      "execution_count": 0,
      "outputs": [
        {
          "output_type": "execute_result",
          "data": {
            "text/html": [
              "<div>\n",
              "<style scoped>\n",
              "    .dataframe tbody tr th:only-of-type {\n",
              "        vertical-align: middle;\n",
              "    }\n",
              "\n",
              "    .dataframe tbody tr th {\n",
              "        vertical-align: top;\n",
              "    }\n",
              "\n",
              "    .dataframe thead th {\n",
              "        text-align: right;\n",
              "    }\n",
              "</style>\n",
              "<table border=\"1\" class=\"dataframe\">\n",
              "  <thead>\n",
              "    <tr style=\"text-align: right;\">\n",
              "      <th></th>\n",
              "      <th></th>\n",
              "      <th>Channel_of_Recruitment</th>\n",
              "      <th>Division</th>\n",
              "      <th>Foreign_schooled</th>\n",
              "      <th>Gender</th>\n",
              "      <th>Last_performance_score</th>\n",
              "      <th>Marital_Status</th>\n",
              "      <th>No_of_previous_employers</th>\n",
              "      <th>Past_Disciplinary_Action</th>\n",
              "      <th>Previous_Award</th>\n",
              "      <th>Previous_IntraDepartmental_Movement</th>\n",
              "      <th>Qualification</th>\n",
              "      <th>State_Of_Origin</th>\n",
              "      <th>Targets_met</th>\n",
              "      <th>Training_score_average</th>\n",
              "      <th>Trainings_Attended</th>\n",
              "      <th>Year_of_birth</th>\n",
              "      <th>Year_of_recruitment</th>\n",
              "      <th>EmployeeNo</th>\n",
              "    </tr>\n",
              "  </thead>\n",
              "  <tbody>\n",
              "    <tr>\n",
              "      <th rowspan=\"5\" valign=\"top\">y</th>\n",
              "      <th>16386</th>\n",
              "      <td>1</td>\n",
              "      <td>2</td>\n",
              "      <td>1</td>\n",
              "      <td>1</td>\n",
              "      <td>5</td>\n",
              "      <td>0</td>\n",
              "      <td>5</td>\n",
              "      <td>0</td>\n",
              "      <td>0</td>\n",
              "      <td>0</td>\n",
              "      <td>0</td>\n",
              "      <td>27</td>\n",
              "      <td>0</td>\n",
              "      <td>15</td>\n",
              "      <td>0</td>\n",
              "      <td>27</td>\n",
              "      <td>25</td>\n",
              "      <td>YAK/S/54466</td>\n",
              "    </tr>\n",
              "    <tr>\n",
              "      <th>16429</th>\n",
              "      <td>0</td>\n",
              "      <td>1</td>\n",
              "      <td>1</td>\n",
              "      <td>1</td>\n",
              "      <td>2</td>\n",
              "      <td>0</td>\n",
              "      <td>1</td>\n",
              "      <td>0</td>\n",
              "      <td>0</td>\n",
              "      <td>0</td>\n",
              "      <td>0</td>\n",
              "      <td>16</td>\n",
              "      <td>0</td>\n",
              "      <td>7</td>\n",
              "      <td>0</td>\n",
              "      <td>36</td>\n",
              "      <td>24</td>\n",
              "      <td>YAK/S/54600</td>\n",
              "    </tr>\n",
              "    <tr>\n",
              "      <th>16454</th>\n",
              "      <td>1</td>\n",
              "      <td>4</td>\n",
              "      <td>1</td>\n",
              "      <td>0</td>\n",
              "      <td>3</td>\n",
              "      <td>0</td>\n",
              "      <td>0</td>\n",
              "      <td>0</td>\n",
              "      <td>0</td>\n",
              "      <td>0</td>\n",
              "      <td>0</td>\n",
              "      <td>14</td>\n",
              "      <td>0</td>\n",
              "      <td>45</td>\n",
              "      <td>0</td>\n",
              "      <td>32</td>\n",
              "      <td>26</td>\n",
              "      <td>YAK/S/54687</td>\n",
              "    </tr>\n",
              "    <tr>\n",
              "      <th>16464</th>\n",
              "      <td>1</td>\n",
              "      <td>4</td>\n",
              "      <td>1</td>\n",
              "      <td>1</td>\n",
              "      <td>3</td>\n",
              "      <td>0</td>\n",
              "      <td>1</td>\n",
              "      <td>0</td>\n",
              "      <td>0</td>\n",
              "      <td>0</td>\n",
              "      <td>0</td>\n",
              "      <td>13</td>\n",
              "      <td>0</td>\n",
              "      <td>45</td>\n",
              "      <td>0</td>\n",
              "      <td>28</td>\n",
              "      <td>23</td>\n",
              "      <td>YAK/S/54718</td>\n",
              "    </tr>\n",
              "    <tr>\n",
              "      <th>16469</th>\n",
              "      <td>0</td>\n",
              "      <td>1</td>\n",
              "      <td>1</td>\n",
              "      <td>1</td>\n",
              "      <td>4</td>\n",
              "      <td>2</td>\n",
              "      <td>1</td>\n",
              "      <td>0</td>\n",
              "      <td>0</td>\n",
              "      <td>0</td>\n",
              "      <td>0</td>\n",
              "      <td>13</td>\n",
              "      <td>0</td>\n",
              "      <td>6</td>\n",
              "      <td>0</td>\n",
              "      <td>32</td>\n",
              "      <td>24</td>\n",
              "      <td>YAK/S/54743</td>\n",
              "    </tr>\n",
              "  </tbody>\n",
              "</table>\n",
              "</div>"
            ],
            "text/plain": [
              "         Channel_of_Recruitment  Division  Foreign_schooled  Gender  \\\n",
              "y 16386                       1         2                 1       1   \n",
              "  16429                       0         1                 1       1   \n",
              "  16454                       1         4                 1       0   \n",
              "  16464                       1         4                 1       1   \n",
              "  16469                       0         1                 1       1   \n",
              "\n",
              "         Last_performance_score  Marital_Status  No_of_previous_employers  \\\n",
              "y 16386                       5               0                         5   \n",
              "  16429                       2               0                         1   \n",
              "  16454                       3               0                         0   \n",
              "  16464                       3               0                         1   \n",
              "  16469                       4               2                         1   \n",
              "\n",
              "         Past_Disciplinary_Action  Previous_Award  \\\n",
              "y 16386                         0               0   \n",
              "  16429                         0               0   \n",
              "  16454                         0               0   \n",
              "  16464                         0               0   \n",
              "  16469                         0               0   \n",
              "\n",
              "         Previous_IntraDepartmental_Movement  Qualification  State_Of_Origin  \\\n",
              "y 16386                                    0              0               27   \n",
              "  16429                                    0              0               16   \n",
              "  16454                                    0              0               14   \n",
              "  16464                                    0              0               13   \n",
              "  16469                                    0              0               13   \n",
              "\n",
              "         Targets_met  Training_score_average  Trainings_Attended  \\\n",
              "y 16386            0                      15                   0   \n",
              "  16429            0                       7                   0   \n",
              "  16454            0                      45                   0   \n",
              "  16464            0                      45                   0   \n",
              "  16469            0                       6                   0   \n",
              "\n",
              "         Year_of_birth  Year_of_recruitment   EmployeeNo  \n",
              "y 16386             27                   25  YAK/S/54466  \n",
              "  16429             36                   24  YAK/S/54600  \n",
              "  16454             32                   26  YAK/S/54687  \n",
              "  16464             28                   23  YAK/S/54718  \n",
              "  16469             32                   24  YAK/S/54743  "
            ]
          },
          "metadata": {
            "tags": []
          },
          "execution_count": 79
        }
      ]
    },
    {
      "cell_type": "code",
      "metadata": {
        "id": "GHLisR51IYkh",
        "colab_type": "code",
        "colab": {}
      },
      "source": [
        "df.to_csv('clean_df.csv')"
      ],
      "execution_count": 0,
      "outputs": []
    },
    {
      "cell_type": "code",
      "metadata": {
        "id": "XHAcbJEbIYkp",
        "colab_type": "code",
        "colab": {},
        "outputId": "c35f2951-5868-4e65-b111-6027d2c3274a"
      },
      "source": [
        "# splitting the dataset back to test and train using the keys 'x' & 'y'\n",
        "clean_train_df = df.loc['x']\n",
        "clean_test_df = df.loc['y']\n",
        "clean_train_df.shape\n",
        "# clean_test_df.shape"
      ],
      "execution_count": 0,
      "outputs": [
        {
          "output_type": "execute_result",
          "data": {
            "text/plain": [
              "(38312, 18)"
            ]
          },
          "metadata": {
            "tags": []
          },
          "execution_count": 81
        }
      ]
    },
    {
      "cell_type": "code",
      "metadata": {
        "id": "L-wg9QATIYky",
        "colab_type": "code",
        "colab": {},
        "outputId": "464cc03a-317a-49a4-f219-99e2c067e1fe"
      },
      "source": [
        "clean_train_df['Promoted_or_Not'] = b"
      ],
      "execution_count": 0,
      "outputs": [
        {
          "output_type": "stream",
          "text": [
            "C:\\Users\\SAMUEL PC\\Anaconda\\lib\\site-packages\\ipykernel_launcher.py:1: SettingWithCopyWarning: \n",
            "A value is trying to be set on a copy of a slice from a DataFrame.\n",
            "Try using .loc[row_indexer,col_indexer] = value instead\n",
            "\n",
            "See the caveats in the documentation: http://pandas.pydata.org/pandas-docs/stable/indexing.html#indexing-view-versus-copy\n",
            "  \"\"\"Entry point for launching an IPython kernel.\n"
          ],
          "name": "stderr"
        }
      ]
    },
    {
      "cell_type": "code",
      "metadata": {
        "id": "ZC9H_X_MIYk9",
        "colab_type": "code",
        "colab": {},
        "outputId": "5be6462f-79c4-4134-a615-28a198613f80"
      },
      "source": [
        "clean_train_df.head()"
      ],
      "execution_count": 0,
      "outputs": [
        {
          "output_type": "execute_result",
          "data": {
            "text/html": [
              "<div>\n",
              "<style scoped>\n",
              "    .dataframe tbody tr th:only-of-type {\n",
              "        vertical-align: middle;\n",
              "    }\n",
              "\n",
              "    .dataframe tbody tr th {\n",
              "        vertical-align: top;\n",
              "    }\n",
              "\n",
              "    .dataframe thead th {\n",
              "        text-align: right;\n",
              "    }\n",
              "</style>\n",
              "<table border=\"1\" class=\"dataframe\">\n",
              "  <thead>\n",
              "    <tr style=\"text-align: right;\">\n",
              "      <th></th>\n",
              "      <th>Channel_of_Recruitment</th>\n",
              "      <th>Division</th>\n",
              "      <th>Foreign_schooled</th>\n",
              "      <th>Gender</th>\n",
              "      <th>Last_performance_score</th>\n",
              "      <th>Marital_Status</th>\n",
              "      <th>No_of_previous_employers</th>\n",
              "      <th>Past_Disciplinary_Action</th>\n",
              "      <th>Previous_Award</th>\n",
              "      <th>Previous_IntraDepartmental_Movement</th>\n",
              "      <th>Qualification</th>\n",
              "      <th>State_Of_Origin</th>\n",
              "      <th>Targets_met</th>\n",
              "      <th>Training_score_average</th>\n",
              "      <th>Trainings_Attended</th>\n",
              "      <th>Year_of_birth</th>\n",
              "      <th>Year_of_recruitment</th>\n",
              "      <th>EmployeeNo</th>\n",
              "      <th>Promoted_or_Not</th>\n",
              "    </tr>\n",
              "  </thead>\n",
              "  <tbody>\n",
              "    <tr>\n",
              "      <th>0</th>\n",
              "      <td>1</td>\n",
              "      <td>1</td>\n",
              "      <td>0</td>\n",
              "      <td>0</td>\n",
              "      <td>5</td>\n",
              "      <td>0</td>\n",
              "      <td>0</td>\n",
              "      <td>0</td>\n",
              "      <td>0</td>\n",
              "      <td>0</td>\n",
              "      <td>1</td>\n",
              "      <td>3</td>\n",
              "      <td>1</td>\n",
              "      <td>10</td>\n",
              "      <td>0</td>\n",
              "      <td>33</td>\n",
              "      <td>27</td>\n",
              "      <td>YAK/S/00001</td>\n",
              "      <td>0</td>\n",
              "    </tr>\n",
              "    <tr>\n",
              "      <th>1</th>\n",
              "      <td>0</td>\n",
              "      <td>2</td>\n",
              "      <td>1</td>\n",
              "      <td>1</td>\n",
              "      <td>5</td>\n",
              "      <td>0</td>\n",
              "      <td>0</td>\n",
              "      <td>0</td>\n",
              "      <td>0</td>\n",
              "      <td>0</td>\n",
              "      <td>0</td>\n",
              "      <td>3</td>\n",
              "      <td>0</td>\n",
              "      <td>21</td>\n",
              "      <td>0</td>\n",
              "      <td>38</td>\n",
              "      <td>31</td>\n",
              "      <td>YAK/S/00002</td>\n",
              "      <td>0</td>\n",
              "    </tr>\n",
              "    <tr>\n",
              "      <th>2</th>\n",
              "      <td>1</td>\n",
              "      <td>1</td>\n",
              "      <td>1</td>\n",
              "      <td>1</td>\n",
              "      <td>3</td>\n",
              "      <td>0</td>\n",
              "      <td>0</td>\n",
              "      <td>0</td>\n",
              "      <td>0</td>\n",
              "      <td>0</td>\n",
              "      <td>0</td>\n",
              "      <td>20</td>\n",
              "      <td>0</td>\n",
              "      <td>11</td>\n",
              "      <td>0</td>\n",
              "      <td>34</td>\n",
              "      <td>28</td>\n",
              "      <td>YAK/S/00003</td>\n",
              "      <td>0</td>\n",
              "    </tr>\n",
              "    <tr>\n",
              "      <th>3</th>\n",
              "      <td>0</td>\n",
              "      <td>1</td>\n",
              "      <td>1</td>\n",
              "      <td>1</td>\n",
              "      <td>1</td>\n",
              "      <td>2</td>\n",
              "      <td>1</td>\n",
              "      <td>0</td>\n",
              "      <td>0</td>\n",
              "      <td>0</td>\n",
              "      <td>0</td>\n",
              "      <td>26</td>\n",
              "      <td>0</td>\n",
              "      <td>11</td>\n",
              "      <td>1</td>\n",
              "      <td>29</td>\n",
              "      <td>25</td>\n",
              "      <td>YAK/S/00004</td>\n",
              "      <td>0</td>\n",
              "    </tr>\n",
              "    <tr>\n",
              "      <th>4</th>\n",
              "      <td>1</td>\n",
              "      <td>4</td>\n",
              "      <td>1</td>\n",
              "      <td>1</td>\n",
              "      <td>3</td>\n",
              "      <td>0</td>\n",
              "      <td>1</td>\n",
              "      <td>0</td>\n",
              "      <td>0</td>\n",
              "      <td>0</td>\n",
              "      <td>0</td>\n",
              "      <td>2</td>\n",
              "      <td>0</td>\n",
              "      <td>46</td>\n",
              "      <td>1</td>\n",
              "      <td>37</td>\n",
              "      <td>28</td>\n",
              "      <td>YAK/S/00006</td>\n",
              "      <td>0</td>\n",
              "    </tr>\n",
              "  </tbody>\n",
              "</table>\n",
              "</div>"
            ],
            "text/plain": [
              "   Channel_of_Recruitment  Division  Foreign_schooled  Gender  \\\n",
              "0                       1         1                 0       0   \n",
              "1                       0         2                 1       1   \n",
              "2                       1         1                 1       1   \n",
              "3                       0         1                 1       1   \n",
              "4                       1         4                 1       1   \n",
              "\n",
              "   Last_performance_score  Marital_Status  No_of_previous_employers  \\\n",
              "0                       5               0                         0   \n",
              "1                       5               0                         0   \n",
              "2                       3               0                         0   \n",
              "3                       1               2                         1   \n",
              "4                       3               0                         1   \n",
              "\n",
              "   Past_Disciplinary_Action  Previous_Award  \\\n",
              "0                         0               0   \n",
              "1                         0               0   \n",
              "2                         0               0   \n",
              "3                         0               0   \n",
              "4                         0               0   \n",
              "\n",
              "   Previous_IntraDepartmental_Movement  Qualification  State_Of_Origin  \\\n",
              "0                                    0              1                3   \n",
              "1                                    0              0                3   \n",
              "2                                    0              0               20   \n",
              "3                                    0              0               26   \n",
              "4                                    0              0                2   \n",
              "\n",
              "   Targets_met  Training_score_average  Trainings_Attended  Year_of_birth  \\\n",
              "0            1                      10                   0             33   \n",
              "1            0                      21                   0             38   \n",
              "2            0                      11                   0             34   \n",
              "3            0                      11                   1             29   \n",
              "4            0                      46                   1             37   \n",
              "\n",
              "   Year_of_recruitment   EmployeeNo  Promoted_or_Not  \n",
              "0                   27  YAK/S/00001                0  \n",
              "1                   31  YAK/S/00002                0  \n",
              "2                   28  YAK/S/00003                0  \n",
              "3                   25  YAK/S/00004                0  \n",
              "4                   28  YAK/S/00006                0  "
            ]
          },
          "metadata": {
            "tags": []
          },
          "execution_count": 83
        }
      ]
    },
    {
      "cell_type": "code",
      "metadata": {
        "id": "gL51srhdIYlI",
        "colab_type": "code",
        "colab": {},
        "outputId": "4cce9bca-37b4-47ac-e6a9-c773363d47d8"
      },
      "source": [
        "clean_test_df.head()"
      ],
      "execution_count": 0,
      "outputs": [
        {
          "output_type": "execute_result",
          "data": {
            "text/html": [
              "<div>\n",
              "<style scoped>\n",
              "    .dataframe tbody tr th:only-of-type {\n",
              "        vertical-align: middle;\n",
              "    }\n",
              "\n",
              "    .dataframe tbody tr th {\n",
              "        vertical-align: top;\n",
              "    }\n",
              "\n",
              "    .dataframe thead th {\n",
              "        text-align: right;\n",
              "    }\n",
              "</style>\n",
              "<table border=\"1\" class=\"dataframe\">\n",
              "  <thead>\n",
              "    <tr style=\"text-align: right;\">\n",
              "      <th></th>\n",
              "      <th>Channel_of_Recruitment</th>\n",
              "      <th>Division</th>\n",
              "      <th>Foreign_schooled</th>\n",
              "      <th>Gender</th>\n",
              "      <th>Last_performance_score</th>\n",
              "      <th>Marital_Status</th>\n",
              "      <th>No_of_previous_employers</th>\n",
              "      <th>Past_Disciplinary_Action</th>\n",
              "      <th>Previous_Award</th>\n",
              "      <th>Previous_IntraDepartmental_Movement</th>\n",
              "      <th>Qualification</th>\n",
              "      <th>State_Of_Origin</th>\n",
              "      <th>Targets_met</th>\n",
              "      <th>Training_score_average</th>\n",
              "      <th>Trainings_Attended</th>\n",
              "      <th>Year_of_birth</th>\n",
              "      <th>Year_of_recruitment</th>\n",
              "      <th>EmployeeNo</th>\n",
              "    </tr>\n",
              "  </thead>\n",
              "  <tbody>\n",
              "    <tr>\n",
              "      <th>0</th>\n",
              "      <td>0</td>\n",
              "      <td>3</td>\n",
              "      <td>1</td>\n",
              "      <td>1</td>\n",
              "      <td>3</td>\n",
              "      <td>0</td>\n",
              "      <td>1</td>\n",
              "      <td>0</td>\n",
              "      <td>0</td>\n",
              "      <td>0</td>\n",
              "      <td>0</td>\n",
              "      <td>14</td>\n",
              "      <td>0</td>\n",
              "      <td>34</td>\n",
              "      <td>0</td>\n",
              "      <td>23</td>\n",
              "      <td>33</td>\n",
              "      <td>YAK/S/00005</td>\n",
              "    </tr>\n",
              "    <tr>\n",
              "      <th>2</th>\n",
              "      <td>1</td>\n",
              "      <td>7</td>\n",
              "      <td>1</td>\n",
              "      <td>1</td>\n",
              "      <td>3</td>\n",
              "      <td>0</td>\n",
              "      <td>1</td>\n",
              "      <td>0</td>\n",
              "      <td>0</td>\n",
              "      <td>0</td>\n",
              "      <td>1</td>\n",
              "      <td>19</td>\n",
              "      <td>0</td>\n",
              "      <td>45</td>\n",
              "      <td>0</td>\n",
              "      <td>31</td>\n",
              "      <td>28</td>\n",
              "      <td>YAK/S/00015</td>\n",
              "    </tr>\n",
              "    <tr>\n",
              "      <th>3</th>\n",
              "      <td>0</td>\n",
              "      <td>2</td>\n",
              "      <td>0</td>\n",
              "      <td>1</td>\n",
              "      <td>1</td>\n",
              "      <td>2</td>\n",
              "      <td>1</td>\n",
              "      <td>0</td>\n",
              "      <td>0</td>\n",
              "      <td>0</td>\n",
              "      <td>0</td>\n",
              "      <td>32</td>\n",
              "      <td>0</td>\n",
              "      <td>21</td>\n",
              "      <td>0</td>\n",
              "      <td>31</td>\n",
              "      <td>25</td>\n",
              "      <td>YAK/S/00016</td>\n",
              "    </tr>\n",
              "    <tr>\n",
              "      <th>4</th>\n",
              "      <td>0</td>\n",
              "      <td>3</td>\n",
              "      <td>1</td>\n",
              "      <td>1</td>\n",
              "      <td>3</td>\n",
              "      <td>0</td>\n",
              "      <td>0</td>\n",
              "      <td>0</td>\n",
              "      <td>0</td>\n",
              "      <td>0</td>\n",
              "      <td>0</td>\n",
              "      <td>14</td>\n",
              "      <td>1</td>\n",
              "      <td>38</td>\n",
              "      <td>0</td>\n",
              "      <td>30</td>\n",
              "      <td>30</td>\n",
              "      <td>YAK/S/00017</td>\n",
              "    </tr>\n",
              "    <tr>\n",
              "      <th>5</th>\n",
              "      <td>0</td>\n",
              "      <td>1</td>\n",
              "      <td>1</td>\n",
              "      <td>1</td>\n",
              "      <td>5</td>\n",
              "      <td>0</td>\n",
              "      <td>1</td>\n",
              "      <td>0</td>\n",
              "      <td>0</td>\n",
              "      <td>0</td>\n",
              "      <td>0</td>\n",
              "      <td>6</td>\n",
              "      <td>1</td>\n",
              "      <td>7</td>\n",
              "      <td>0</td>\n",
              "      <td>34</td>\n",
              "      <td>27</td>\n",
              "      <td>YAK/S/00019</td>\n",
              "    </tr>\n",
              "  </tbody>\n",
              "</table>\n",
              "</div>"
            ],
            "text/plain": [
              "   Channel_of_Recruitment  Division  Foreign_schooled  Gender  \\\n",
              "0                       0         3                 1       1   \n",
              "2                       1         7                 1       1   \n",
              "3                       0         2                 0       1   \n",
              "4                       0         3                 1       1   \n",
              "5                       0         1                 1       1   \n",
              "\n",
              "   Last_performance_score  Marital_Status  No_of_previous_employers  \\\n",
              "0                       3               0                         1   \n",
              "2                       3               0                         1   \n",
              "3                       1               2                         1   \n",
              "4                       3               0                         0   \n",
              "5                       5               0                         1   \n",
              "\n",
              "   Past_Disciplinary_Action  Previous_Award  \\\n",
              "0                         0               0   \n",
              "2                         0               0   \n",
              "3                         0               0   \n",
              "4                         0               0   \n",
              "5                         0               0   \n",
              "\n",
              "   Previous_IntraDepartmental_Movement  Qualification  State_Of_Origin  \\\n",
              "0                                    0              0               14   \n",
              "2                                    0              1               19   \n",
              "3                                    0              0               32   \n",
              "4                                    0              0               14   \n",
              "5                                    0              0                6   \n",
              "\n",
              "   Targets_met  Training_score_average  Trainings_Attended  Year_of_birth  \\\n",
              "0            0                      34                   0             23   \n",
              "2            0                      45                   0             31   \n",
              "3            0                      21                   0             31   \n",
              "4            1                      38                   0             30   \n",
              "5            1                       7                   0             34   \n",
              "\n",
              "   Year_of_recruitment   EmployeeNo  \n",
              "0                   33  YAK/S/00005  \n",
              "2                   28  YAK/S/00015  \n",
              "3                   25  YAK/S/00016  \n",
              "4                   30  YAK/S/00017  \n",
              "5                   27  YAK/S/00019  "
            ]
          },
          "metadata": {
            "tags": []
          },
          "execution_count": 84
        }
      ]
    },
    {
      "cell_type": "code",
      "metadata": {
        "id": "lbokhbokIYlN",
        "colab_type": "code",
        "colab": {}
      },
      "source": [
        "# clean_train_df.to_csv('clean_train.csv')\n",
        "# clean_test_df.to_csv('clean_test.csv')"
      ],
      "execution_count": 0,
      "outputs": []
    }
  ]
}