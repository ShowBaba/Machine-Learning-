{
  "nbformat": 4,
  "nbformat_minor": 0,
  "metadata": {
    "kernelspec": {
      "display_name": "Python 3",
      "language": "python",
      "name": "python3"
    },
    "language_info": {
      "codemirror_mode": {
        "name": "ipython",
        "version": 3
      },
      "file_extension": ".py",
      "mimetype": "text/x-python",
      "name": "python",
      "nbconvert_exporter": "python",
      "pygments_lexer": "ipython3",
      "version": "3.6.5"
    },
    "colab": {
      "name": "001-Copy1.ipynb",
      "provenance": [],
      "include_colab_link": true
    }
  },
  "cells": [
    {
      "cell_type": "markdown",
      "metadata": {
        "id": "view-in-github",
        "colab_type": "text"
      },
      "source": [
        "<a href=\"https://colab.research.google.com/github/ShowBaba/Machine-Learning-/blob/master/001_Copy1.ipynb\" target=\"_parent\"><img src=\"https://colab.research.google.com/assets/colab-badge.svg\" alt=\"Open In Colab\"/></a>"
      ]
    },
    {
      "cell_type": "code",
      "metadata": {
        "id": "zUVybhWsHFdt",
        "colab_type": "code",
        "colab": {}
      },
      "source": [
        "import numpy as np\n",
        "import pandas as pd\n",
        "import seaborn as sns\n",
        "import matplotlib as plt\n",
        "%matplotlib inline"
      ],
      "execution_count": 0,
      "outputs": []
    },
    {
      "cell_type": "code",
      "metadata": {
        "id": "zmKo461YHFeB",
        "colab_type": "code",
        "colab": {},
        "outputId": "27df749d-a482-43d5-d4bf-407f38b00b9a"
      },
      "source": [
        "clean_train_df = pd.read_csv('clean_train.csv').drop(columns=['EmployeeNo', 'Unnamed: 0'])\n",
        "clean_test_df = pd.read_csv('clean_test.csv')\n",
        "z = clean_test_df['EmployeeNo']\n",
        "clean_test_df = clean_test_df.drop(columns=['EmployeeNo', 'Unnamed: 0'])\n",
        "clean_test_df.columns"
      ],
      "execution_count": 0,
      "outputs": [
        {
          "output_type": "execute_result",
          "data": {
            "text/plain": [
              "Index(['Channel_of_Recruitment', 'Division', 'Foreign_schooled', 'Gender',\n",
              "       'Last_performance_score', 'Marital_Status', 'No_of_previous_employers',\n",
              "       'Past_Disciplinary_Action', 'Previous_Award',\n",
              "       'Previous_IntraDepartmental_Movement', 'Qualification',\n",
              "       'State_Of_Origin', 'Targets_met', 'Training_score_average',\n",
              "       'Trainings_Attended', 'Year_of_birth', 'Year_of_recruitment'],\n",
              "      dtype='object')"
            ]
          },
          "metadata": {
            "tags": []
          },
          "execution_count": 21
        }
      ]
    },
    {
      "cell_type": "code",
      "metadata": {
        "id": "CtJH4riSHFeP",
        "colab_type": "code",
        "colab": {},
        "outputId": "bb5708a4-fdb6-4168-a2c4-88f03035eeb2"
      },
      "source": [
        "clean_train_df.head()"
      ],
      "execution_count": 0,
      "outputs": [
        {
          "output_type": "execute_result",
          "data": {
            "text/html": [
              "<div>\n",
              "<style scoped>\n",
              "    .dataframe tbody tr th:only-of-type {\n",
              "        vertical-align: middle;\n",
              "    }\n",
              "\n",
              "    .dataframe tbody tr th {\n",
              "        vertical-align: top;\n",
              "    }\n",
              "\n",
              "    .dataframe thead th {\n",
              "        text-align: right;\n",
              "    }\n",
              "</style>\n",
              "<table border=\"1\" class=\"dataframe\">\n",
              "  <thead>\n",
              "    <tr style=\"text-align: right;\">\n",
              "      <th></th>\n",
              "      <th>Channel_of_Recruitment</th>\n",
              "      <th>Division</th>\n",
              "      <th>Foreign_schooled</th>\n",
              "      <th>Gender</th>\n",
              "      <th>Last_performance_score</th>\n",
              "      <th>Marital_Status</th>\n",
              "      <th>No_of_previous_employers</th>\n",
              "      <th>Past_Disciplinary_Action</th>\n",
              "      <th>Previous_Award</th>\n",
              "      <th>Previous_IntraDepartmental_Movement</th>\n",
              "      <th>Qualification</th>\n",
              "      <th>State_Of_Origin</th>\n",
              "      <th>Targets_met</th>\n",
              "      <th>Training_score_average</th>\n",
              "      <th>Trainings_Attended</th>\n",
              "      <th>Year_of_birth</th>\n",
              "      <th>Year_of_recruitment</th>\n",
              "      <th>Promoted_or_Not</th>\n",
              "    </tr>\n",
              "  </thead>\n",
              "  <tbody>\n",
              "    <tr>\n",
              "      <th>0</th>\n",
              "      <td>1</td>\n",
              "      <td>1</td>\n",
              "      <td>0</td>\n",
              "      <td>0</td>\n",
              "      <td>5</td>\n",
              "      <td>0</td>\n",
              "      <td>0</td>\n",
              "      <td>0</td>\n",
              "      <td>0</td>\n",
              "      <td>0</td>\n",
              "      <td>1</td>\n",
              "      <td>3</td>\n",
              "      <td>1</td>\n",
              "      <td>10</td>\n",
              "      <td>0</td>\n",
              "      <td>33</td>\n",
              "      <td>27</td>\n",
              "      <td>0</td>\n",
              "    </tr>\n",
              "    <tr>\n",
              "      <th>1</th>\n",
              "      <td>0</td>\n",
              "      <td>2</td>\n",
              "      <td>1</td>\n",
              "      <td>1</td>\n",
              "      <td>5</td>\n",
              "      <td>0</td>\n",
              "      <td>0</td>\n",
              "      <td>0</td>\n",
              "      <td>0</td>\n",
              "      <td>0</td>\n",
              "      <td>0</td>\n",
              "      <td>3</td>\n",
              "      <td>0</td>\n",
              "      <td>21</td>\n",
              "      <td>0</td>\n",
              "      <td>38</td>\n",
              "      <td>31</td>\n",
              "      <td>0</td>\n",
              "    </tr>\n",
              "    <tr>\n",
              "      <th>2</th>\n",
              "      <td>1</td>\n",
              "      <td>1</td>\n",
              "      <td>1</td>\n",
              "      <td>1</td>\n",
              "      <td>3</td>\n",
              "      <td>0</td>\n",
              "      <td>0</td>\n",
              "      <td>0</td>\n",
              "      <td>0</td>\n",
              "      <td>0</td>\n",
              "      <td>0</td>\n",
              "      <td>20</td>\n",
              "      <td>0</td>\n",
              "      <td>11</td>\n",
              "      <td>0</td>\n",
              "      <td>34</td>\n",
              "      <td>28</td>\n",
              "      <td>0</td>\n",
              "    </tr>\n",
              "    <tr>\n",
              "      <th>3</th>\n",
              "      <td>0</td>\n",
              "      <td>1</td>\n",
              "      <td>1</td>\n",
              "      <td>1</td>\n",
              "      <td>1</td>\n",
              "      <td>2</td>\n",
              "      <td>1</td>\n",
              "      <td>0</td>\n",
              "      <td>0</td>\n",
              "      <td>0</td>\n",
              "      <td>0</td>\n",
              "      <td>26</td>\n",
              "      <td>0</td>\n",
              "      <td>11</td>\n",
              "      <td>1</td>\n",
              "      <td>29</td>\n",
              "      <td>25</td>\n",
              "      <td>0</td>\n",
              "    </tr>\n",
              "    <tr>\n",
              "      <th>4</th>\n",
              "      <td>1</td>\n",
              "      <td>4</td>\n",
              "      <td>1</td>\n",
              "      <td>1</td>\n",
              "      <td>3</td>\n",
              "      <td>0</td>\n",
              "      <td>1</td>\n",
              "      <td>0</td>\n",
              "      <td>0</td>\n",
              "      <td>0</td>\n",
              "      <td>0</td>\n",
              "      <td>2</td>\n",
              "      <td>0</td>\n",
              "      <td>46</td>\n",
              "      <td>1</td>\n",
              "      <td>37</td>\n",
              "      <td>28</td>\n",
              "      <td>0</td>\n",
              "    </tr>\n",
              "  </tbody>\n",
              "</table>\n",
              "</div>"
            ],
            "text/plain": [
              "   Channel_of_Recruitment  Division  Foreign_schooled  Gender  \\\n",
              "0                       1         1                 0       0   \n",
              "1                       0         2                 1       1   \n",
              "2                       1         1                 1       1   \n",
              "3                       0         1                 1       1   \n",
              "4                       1         4                 1       1   \n",
              "\n",
              "   Last_performance_score  Marital_Status  No_of_previous_employers  \\\n",
              "0                       5               0                         0   \n",
              "1                       5               0                         0   \n",
              "2                       3               0                         0   \n",
              "3                       1               2                         1   \n",
              "4                       3               0                         1   \n",
              "\n",
              "   Past_Disciplinary_Action  Previous_Award  \\\n",
              "0                         0               0   \n",
              "1                         0               0   \n",
              "2                         0               0   \n",
              "3                         0               0   \n",
              "4                         0               0   \n",
              "\n",
              "   Previous_IntraDepartmental_Movement  Qualification  State_Of_Origin  \\\n",
              "0                                    0              1                3   \n",
              "1                                    0              0                3   \n",
              "2                                    0              0               20   \n",
              "3                                    0              0               26   \n",
              "4                                    0              0                2   \n",
              "\n",
              "   Targets_met  Training_score_average  Trainings_Attended  Year_of_birth  \\\n",
              "0            1                      10                   0             33   \n",
              "1            0                      21                   0             38   \n",
              "2            0                      11                   0             34   \n",
              "3            0                      11                   1             29   \n",
              "4            0                      46                   1             37   \n",
              "\n",
              "   Year_of_recruitment  Promoted_or_Not  \n",
              "0                   27                0  \n",
              "1                   31                0  \n",
              "2                   28                0  \n",
              "3                   25                0  \n",
              "4                   28                0  "
            ]
          },
          "metadata": {
            "tags": []
          },
          "execution_count": 22
        }
      ]
    },
    {
      "cell_type": "code",
      "metadata": {
        "id": "wSDB-Vw4HFef",
        "colab_type": "code",
        "colab": {},
        "outputId": "7ea6e803-46af-4071-811a-a4caf3b0643f"
      },
      "source": [
        "clean_test_df.shape"
      ],
      "execution_count": 0,
      "outputs": [
        {
          "output_type": "execute_result",
          "data": {
            "text/plain": [
              "(16496, 17)"
            ]
          },
          "metadata": {
            "tags": []
          },
          "execution_count": 23
        }
      ]
    },
    {
      "cell_type": "code",
      "metadata": {
        "id": "_HlMnEk_HFes",
        "colab_type": "code",
        "colab": {}
      },
      "source": [
        "X = clean_train_df.iloc[:, :-1]\n",
        "y = clean_train_df.iloc[:, -1]\n",
        "Z = clean_test_df.iloc[:,:]"
      ],
      "execution_count": 0,
      "outputs": []
    },
    {
      "cell_type": "code",
      "metadata": {
        "id": "4rZffwUjHFe3",
        "colab_type": "code",
        "colab": {}
      },
      "source": [
        "X_train, X_test, y_train, y_test = train_test_split(X, y, test_size=0.1, random_state=0)"
      ],
      "execution_count": 0,
      "outputs": []
    },
    {
      "cell_type": "code",
      "metadata": {
        "scrolled": true,
        "id": "ZVvrZuKwHFfD",
        "colab_type": "code",
        "colab": {},
        "outputId": "27d041a8-48cf-4fe7-83f0-99f9670e327f"
      },
      "source": [
        "import xgboost as xgb\n",
        "import time\n",
        "\n",
        "\n",
        "start_time = time.time()\n",
        "clf = xgb.XGBClassifier(max_depth=5,\n",
        "                n_estimators=2500,\n",
        "                learning_rate=0.1, \n",
        "                colsample_bytree=0.9,\n",
        "                min_child_weight = 3,\n",
        "                seed=1200,\n",
        "                booster='dart'\n",
        "                \n",
        "                )\n",
        "                \n",
        "clf.fit(X_train, y_train, early_stopping_rounds=50, eval_metric=\"auc\",\n",
        "        eval_set=[(X_train, y_train), (X_test, y_test)])\n",
        "\n",
        "pred = clf.predict(X_test)\n",
        "\n",
        "clf.score(X_train, y_train)\n",
        "print(f'Done in {time.time() - start_time} seconds')"
      ],
      "execution_count": 0,
      "outputs": [
        {
          "output_type": "stream",
          "text": [
            "[0]\tvalidation_0-auc:0.826026\tvalidation_1-auc:0.802878\n",
            "Multiple eval metrics have been passed: 'validation_1-auc' will be used for early stopping.\n",
            "\n",
            "Will train until validation_1-auc hasn't improved in 50 rounds.\n",
            "[1]\tvalidation_0-auc:0.82937\tvalidation_1-auc:0.809578\n",
            "[2]\tvalidation_0-auc:0.833395\tvalidation_1-auc:0.815338\n",
            "[3]\tvalidation_0-auc:0.835813\tvalidation_1-auc:0.814015\n",
            "[4]\tvalidation_0-auc:0.843009\tvalidation_1-auc:0.824038\n",
            "[5]\tvalidation_0-auc:0.849655\tvalidation_1-auc:0.827082\n",
            "[6]\tvalidation_0-auc:0.859636\tvalidation_1-auc:0.837509\n",
            "[7]\tvalidation_0-auc:0.8575\tvalidation_1-auc:0.833398\n",
            "[8]\tvalidation_0-auc:0.860302\tvalidation_1-auc:0.838513\n",
            "[9]\tvalidation_0-auc:0.859726\tvalidation_1-auc:0.835311\n",
            "[10]\tvalidation_0-auc:0.869091\tvalidation_1-auc:0.846573\n",
            "[11]\tvalidation_0-auc:0.871917\tvalidation_1-auc:0.848979\n",
            "[12]\tvalidation_0-auc:0.882626\tvalidation_1-auc:0.855252\n",
            "[13]\tvalidation_0-auc:0.889545\tvalidation_1-auc:0.862311\n",
            "[14]\tvalidation_0-auc:0.890386\tvalidation_1-auc:0.862455\n",
            "[15]\tvalidation_0-auc:0.895037\tvalidation_1-auc:0.867292\n",
            "[16]\tvalidation_0-auc:0.894914\tvalidation_1-auc:0.866949\n",
            "[17]\tvalidation_0-auc:0.896885\tvalidation_1-auc:0.868934\n",
            "[18]\tvalidation_0-auc:0.896786\tvalidation_1-auc:0.869925\n",
            "[19]\tvalidation_0-auc:0.897941\tvalidation_1-auc:0.869457\n",
            "[20]\tvalidation_0-auc:0.89869\tvalidation_1-auc:0.870536\n",
            "[21]\tvalidation_0-auc:0.899394\tvalidation_1-auc:0.870988\n",
            "[22]\tvalidation_0-auc:0.900295\tvalidation_1-auc:0.872666\n",
            "[23]\tvalidation_0-auc:0.900468\tvalidation_1-auc:0.872385\n",
            "[24]\tvalidation_0-auc:0.901955\tvalidation_1-auc:0.872759\n",
            "[25]\tvalidation_0-auc:0.902342\tvalidation_1-auc:0.872837\n",
            "[26]\tvalidation_0-auc:0.902673\tvalidation_1-auc:0.872846\n",
            "[27]\tvalidation_0-auc:0.903814\tvalidation_1-auc:0.872605\n",
            "[28]\tvalidation_0-auc:0.904703\tvalidation_1-auc:0.873742\n",
            "[29]\tvalidation_0-auc:0.905175\tvalidation_1-auc:0.873738\n",
            "[30]\tvalidation_0-auc:0.905274\tvalidation_1-auc:0.874394\n",
            "[31]\tvalidation_0-auc:0.905846\tvalidation_1-auc:0.875103\n",
            "[32]\tvalidation_0-auc:0.90609\tvalidation_1-auc:0.875565\n",
            "[33]\tvalidation_0-auc:0.907134\tvalidation_1-auc:0.876927\n",
            "[34]\tvalidation_0-auc:0.907614\tvalidation_1-auc:0.877405\n",
            "[35]\tvalidation_0-auc:0.907691\tvalidation_1-auc:0.878043\n",
            "[36]\tvalidation_0-auc:0.908138\tvalidation_1-auc:0.877859\n",
            "[37]\tvalidation_0-auc:0.908476\tvalidation_1-auc:0.878355\n",
            "[38]\tvalidation_0-auc:0.90901\tvalidation_1-auc:0.877595\n",
            "[39]\tvalidation_0-auc:0.909521\tvalidation_1-auc:0.877827\n",
            "[40]\tvalidation_0-auc:0.909766\tvalidation_1-auc:0.878233\n",
            "[41]\tvalidation_0-auc:0.909912\tvalidation_1-auc:0.878573\n",
            "[42]\tvalidation_0-auc:0.910182\tvalidation_1-auc:0.878993\n",
            "[43]\tvalidation_0-auc:0.910273\tvalidation_1-auc:0.87886\n",
            "[44]\tvalidation_0-auc:0.910533\tvalidation_1-auc:0.878793\n",
            "[45]\tvalidation_0-auc:0.911087\tvalidation_1-auc:0.879378\n",
            "[46]\tvalidation_0-auc:0.911577\tvalidation_1-auc:0.879656\n",
            "[47]\tvalidation_0-auc:0.91166\tvalidation_1-auc:0.879579\n",
            "[48]\tvalidation_0-auc:0.911917\tvalidation_1-auc:0.879529\n",
            "[49]\tvalidation_0-auc:0.912124\tvalidation_1-auc:0.879579\n",
            "[50]\tvalidation_0-auc:0.912395\tvalidation_1-auc:0.879008\n",
            "[51]\tvalidation_0-auc:0.91245\tvalidation_1-auc:0.879026\n",
            "[52]\tvalidation_0-auc:0.913354\tvalidation_1-auc:0.878835\n",
            "[53]\tvalidation_0-auc:0.913443\tvalidation_1-auc:0.878807\n",
            "[54]\tvalidation_0-auc:0.913677\tvalidation_1-auc:0.878833\n",
            "[55]\tvalidation_0-auc:0.914017\tvalidation_1-auc:0.879445\n",
            "[56]\tvalidation_0-auc:0.914166\tvalidation_1-auc:0.879593\n",
            "[57]\tvalidation_0-auc:0.914263\tvalidation_1-auc:0.879686\n",
            "[58]\tvalidation_0-auc:0.914442\tvalidation_1-auc:0.879438\n",
            "[59]\tvalidation_0-auc:0.914634\tvalidation_1-auc:0.879426\n",
            "[60]\tvalidation_0-auc:0.914801\tvalidation_1-auc:0.879413\n",
            "[61]\tvalidation_0-auc:0.914928\tvalidation_1-auc:0.879517\n",
            "[62]\tvalidation_0-auc:0.915012\tvalidation_1-auc:0.879476\n",
            "[63]\tvalidation_0-auc:0.9152\tvalidation_1-auc:0.879309\n",
            "[64]\tvalidation_0-auc:0.915455\tvalidation_1-auc:0.87896\n",
            "[65]\tvalidation_0-auc:0.915494\tvalidation_1-auc:0.878723\n",
            "[66]\tvalidation_0-auc:0.915571\tvalidation_1-auc:0.878895\n",
            "[67]\tvalidation_0-auc:0.915745\tvalidation_1-auc:0.878834\n",
            "[68]\tvalidation_0-auc:0.916049\tvalidation_1-auc:0.879021\n",
            "[69]\tvalidation_0-auc:0.916678\tvalidation_1-auc:0.878993\n",
            "[70]\tvalidation_0-auc:0.916846\tvalidation_1-auc:0.879038\n",
            "[71]\tvalidation_0-auc:0.917327\tvalidation_1-auc:0.879241\n",
            "[72]\tvalidation_0-auc:0.917496\tvalidation_1-auc:0.879364\n",
            "[73]\tvalidation_0-auc:0.917968\tvalidation_1-auc:0.880117\n",
            "[74]\tvalidation_0-auc:0.918201\tvalidation_1-auc:0.880526\n",
            "[75]\tvalidation_0-auc:0.91838\tvalidation_1-auc:0.880696\n",
            "[76]\tvalidation_0-auc:0.918751\tvalidation_1-auc:0.880787\n",
            "[77]\tvalidation_0-auc:0.918976\tvalidation_1-auc:0.880422\n",
            "[78]\tvalidation_0-auc:0.919453\tvalidation_1-auc:0.880995\n",
            "[79]\tvalidation_0-auc:0.919931\tvalidation_1-auc:0.881537\n",
            "[80]\tvalidation_0-auc:0.920381\tvalidation_1-auc:0.881733\n",
            "[81]\tvalidation_0-auc:0.920942\tvalidation_1-auc:0.881375\n",
            "[82]\tvalidation_0-auc:0.921296\tvalidation_1-auc:0.881778\n",
            "[83]\tvalidation_0-auc:0.921437\tvalidation_1-auc:0.881439\n",
            "[84]\tvalidation_0-auc:0.921865\tvalidation_1-auc:0.881727\n",
            "[85]\tvalidation_0-auc:0.922228\tvalidation_1-auc:0.881511\n",
            "[86]\tvalidation_0-auc:0.922872\tvalidation_1-auc:0.882033\n",
            "[87]\tvalidation_0-auc:0.923106\tvalidation_1-auc:0.882432\n",
            "[88]\tvalidation_0-auc:0.923221\tvalidation_1-auc:0.882621\n",
            "[89]\tvalidation_0-auc:0.923373\tvalidation_1-auc:0.882816\n",
            "[90]\tvalidation_0-auc:0.923683\tvalidation_1-auc:0.882906\n",
            "[91]\tvalidation_0-auc:0.923894\tvalidation_1-auc:0.883248\n",
            "[92]\tvalidation_0-auc:0.924258\tvalidation_1-auc:0.883216\n",
            "[93]\tvalidation_0-auc:0.924414\tvalidation_1-auc:0.883268\n",
            "[94]\tvalidation_0-auc:0.924852\tvalidation_1-auc:0.883697\n",
            "[95]\tvalidation_0-auc:0.925379\tvalidation_1-auc:0.88387\n",
            "[96]\tvalidation_0-auc:0.925746\tvalidation_1-auc:0.883981\n",
            "[97]\tvalidation_0-auc:0.925858\tvalidation_1-auc:0.884046\n",
            "[98]\tvalidation_0-auc:0.926304\tvalidation_1-auc:0.884323\n",
            "[99]\tvalidation_0-auc:0.926871\tvalidation_1-auc:0.884169\n",
            "[100]\tvalidation_0-auc:0.927094\tvalidation_1-auc:0.883914\n",
            "[101]\tvalidation_0-auc:0.927352\tvalidation_1-auc:0.883907\n",
            "[102]\tvalidation_0-auc:0.927491\tvalidation_1-auc:0.883656\n",
            "[103]\tvalidation_0-auc:0.928061\tvalidation_1-auc:0.883873\n",
            "[104]\tvalidation_0-auc:0.928201\tvalidation_1-auc:0.883919\n",
            "[105]\tvalidation_0-auc:0.928502\tvalidation_1-auc:0.884072\n",
            "[106]\tvalidation_0-auc:0.928754\tvalidation_1-auc:0.883967\n",
            "[107]\tvalidation_0-auc:0.929107\tvalidation_1-auc:0.88364\n",
            "[108]\tvalidation_0-auc:0.92963\tvalidation_1-auc:0.883722\n",
            "[109]\tvalidation_0-auc:0.929778\tvalidation_1-auc:0.883636\n",
            "[110]\tvalidation_0-auc:0.929806\tvalidation_1-auc:0.88365\n",
            "[111]\tvalidation_0-auc:0.930277\tvalidation_1-auc:0.883458\n",
            "[112]\tvalidation_0-auc:0.930422\tvalidation_1-auc:0.883363\n",
            "[113]\tvalidation_0-auc:0.930646\tvalidation_1-auc:0.882911\n",
            "[114]\tvalidation_0-auc:0.931054\tvalidation_1-auc:0.882528\n",
            "[115]\tvalidation_0-auc:0.931261\tvalidation_1-auc:0.882526\n",
            "[116]\tvalidation_0-auc:0.931414\tvalidation_1-auc:0.882564\n",
            "[117]\tvalidation_0-auc:0.931694\tvalidation_1-auc:0.882951\n",
            "[118]\tvalidation_0-auc:0.931782\tvalidation_1-auc:0.882884\n",
            "[119]\tvalidation_0-auc:0.931993\tvalidation_1-auc:0.883327\n",
            "[120]\tvalidation_0-auc:0.932088\tvalidation_1-auc:0.883451\n",
            "[121]\tvalidation_0-auc:0.932257\tvalidation_1-auc:0.883207\n",
            "[122]\tvalidation_0-auc:0.932355\tvalidation_1-auc:0.883054\n",
            "[123]\tvalidation_0-auc:0.932661\tvalidation_1-auc:0.883315\n",
            "[124]\tvalidation_0-auc:0.932931\tvalidation_1-auc:0.883532\n",
            "[125]\tvalidation_0-auc:0.933044\tvalidation_1-auc:0.883477\n",
            "[126]\tvalidation_0-auc:0.933056\tvalidation_1-auc:0.883448\n",
            "[127]\tvalidation_0-auc:0.933373\tvalidation_1-auc:0.883995\n",
            "[128]\tvalidation_0-auc:0.933493\tvalidation_1-auc:0.884011\n",
            "[129]\tvalidation_0-auc:0.933637\tvalidation_1-auc:0.884084\n",
            "[130]\tvalidation_0-auc:0.933811\tvalidation_1-auc:0.884467\n",
            "[131]\tvalidation_0-auc:0.933994\tvalidation_1-auc:0.884852\n",
            "[132]\tvalidation_0-auc:0.934146\tvalidation_1-auc:0.884829\n",
            "[133]\tvalidation_0-auc:0.934275\tvalidation_1-auc:0.885017\n",
            "[134]\tvalidation_0-auc:0.934381\tvalidation_1-auc:0.885044\n",
            "[135]\tvalidation_0-auc:0.934569\tvalidation_1-auc:0.885\n",
            "[136]\tvalidation_0-auc:0.934762\tvalidation_1-auc:0.885239\n",
            "[137]\tvalidation_0-auc:0.935172\tvalidation_1-auc:0.885178\n",
            "[138]\tvalidation_0-auc:0.935401\tvalidation_1-auc:0.885602\n",
            "[139]\tvalidation_0-auc:0.935608\tvalidation_1-auc:0.885227\n",
            "[140]\tvalidation_0-auc:0.935836\tvalidation_1-auc:0.885497\n"
          ],
          "name": "stdout"
        },
        {
          "output_type": "stream",
          "text": [
            "[141]\tvalidation_0-auc:0.936071\tvalidation_1-auc:0.885425\n",
            "[142]\tvalidation_0-auc:0.936251\tvalidation_1-auc:0.885399\n",
            "[143]\tvalidation_0-auc:0.936602\tvalidation_1-auc:0.88563\n",
            "[144]\tvalidation_0-auc:0.93684\tvalidation_1-auc:0.885845\n",
            "[145]\tvalidation_0-auc:0.936958\tvalidation_1-auc:0.885929\n",
            "[146]\tvalidation_0-auc:0.936969\tvalidation_1-auc:0.885873\n",
            "[147]\tvalidation_0-auc:0.937085\tvalidation_1-auc:0.885923\n",
            "[148]\tvalidation_0-auc:0.93737\tvalidation_1-auc:0.885736\n",
            "[149]\tvalidation_0-auc:0.93768\tvalidation_1-auc:0.886008\n",
            "[150]\tvalidation_0-auc:0.937975\tvalidation_1-auc:0.886386\n",
            "[151]\tvalidation_0-auc:0.938063\tvalidation_1-auc:0.886202\n",
            "[152]\tvalidation_0-auc:0.938138\tvalidation_1-auc:0.886057\n",
            "[153]\tvalidation_0-auc:0.938303\tvalidation_1-auc:0.885969\n",
            "[154]\tvalidation_0-auc:0.938361\tvalidation_1-auc:0.885926\n",
            "[155]\tvalidation_0-auc:0.938649\tvalidation_1-auc:0.886243\n",
            "[156]\tvalidation_0-auc:0.938843\tvalidation_1-auc:0.886296\n",
            "[157]\tvalidation_0-auc:0.938978\tvalidation_1-auc:0.886621\n",
            "[158]\tvalidation_0-auc:0.939383\tvalidation_1-auc:0.887003\n",
            "[159]\tvalidation_0-auc:0.939875\tvalidation_1-auc:0.886757\n",
            "[160]\tvalidation_0-auc:0.939983\tvalidation_1-auc:0.886921\n",
            "[161]\tvalidation_0-auc:0.940139\tvalidation_1-auc:0.886899\n",
            "[162]\tvalidation_0-auc:0.940144\tvalidation_1-auc:0.88685\n",
            "[163]\tvalidation_0-auc:0.940497\tvalidation_1-auc:0.887034\n",
            "[164]\tvalidation_0-auc:0.940676\tvalidation_1-auc:0.887185\n",
            "[165]\tvalidation_0-auc:0.940756\tvalidation_1-auc:0.887286\n",
            "[166]\tvalidation_0-auc:0.940936\tvalidation_1-auc:0.887074\n",
            "[167]\tvalidation_0-auc:0.941117\tvalidation_1-auc:0.887058\n",
            "[168]\tvalidation_0-auc:0.941265\tvalidation_1-auc:0.886961\n",
            "[169]\tvalidation_0-auc:0.941401\tvalidation_1-auc:0.886884\n",
            "[170]\tvalidation_0-auc:0.941567\tvalidation_1-auc:0.88685\n",
            "[171]\tvalidation_0-auc:0.941865\tvalidation_1-auc:0.886889\n",
            "[172]\tvalidation_0-auc:0.942052\tvalidation_1-auc:0.886813\n",
            "[173]\tvalidation_0-auc:0.942386\tvalidation_1-auc:0.886942\n",
            "[174]\tvalidation_0-auc:0.942515\tvalidation_1-auc:0.886904\n",
            "[175]\tvalidation_0-auc:0.942603\tvalidation_1-auc:0.886914\n",
            "[176]\tvalidation_0-auc:0.94261\tvalidation_1-auc:0.88691\n",
            "[177]\tvalidation_0-auc:0.94271\tvalidation_1-auc:0.886866\n",
            "[178]\tvalidation_0-auc:0.942834\tvalidation_1-auc:0.886899\n",
            "[179]\tvalidation_0-auc:0.942858\tvalidation_1-auc:0.886789\n",
            "[180]\tvalidation_0-auc:0.942894\tvalidation_1-auc:0.886971\n",
            "[181]\tvalidation_0-auc:0.943088\tvalidation_1-auc:0.886773\n",
            "[182]\tvalidation_0-auc:0.943268\tvalidation_1-auc:0.886638\n",
            "[183]\tvalidation_0-auc:0.943377\tvalidation_1-auc:0.886719\n",
            "[184]\tvalidation_0-auc:0.94382\tvalidation_1-auc:0.886908\n",
            "[185]\tvalidation_0-auc:0.943928\tvalidation_1-auc:0.887012\n",
            "[186]\tvalidation_0-auc:0.944065\tvalidation_1-auc:0.886965\n",
            "[187]\tvalidation_0-auc:0.944442\tvalidation_1-auc:0.887102\n",
            "[188]\tvalidation_0-auc:0.944529\tvalidation_1-auc:0.886948\n",
            "[189]\tvalidation_0-auc:0.944677\tvalidation_1-auc:0.886914\n",
            "[190]\tvalidation_0-auc:0.944831\tvalidation_1-auc:0.886783\n",
            "[191]\tvalidation_0-auc:0.94505\tvalidation_1-auc:0.886716\n",
            "[192]\tvalidation_0-auc:0.945154\tvalidation_1-auc:0.886633\n",
            "[193]\tvalidation_0-auc:0.945262\tvalidation_1-auc:0.886524\n",
            "[194]\tvalidation_0-auc:0.945381\tvalidation_1-auc:0.886557\n",
            "[195]\tvalidation_0-auc:0.945429\tvalidation_1-auc:0.886554\n",
            "[196]\tvalidation_0-auc:0.945572\tvalidation_1-auc:0.886406\n",
            "[197]\tvalidation_0-auc:0.945643\tvalidation_1-auc:0.886164\n",
            "[198]\tvalidation_0-auc:0.945727\tvalidation_1-auc:0.886253\n",
            "[199]\tvalidation_0-auc:0.945867\tvalidation_1-auc:0.886387\n",
            "[200]\tvalidation_0-auc:0.94591\tvalidation_1-auc:0.886463\n",
            "[201]\tvalidation_0-auc:0.946002\tvalidation_1-auc:0.886408\n",
            "[202]\tvalidation_0-auc:0.946118\tvalidation_1-auc:0.886428\n",
            "[203]\tvalidation_0-auc:0.946239\tvalidation_1-auc:0.886527\n",
            "[204]\tvalidation_0-auc:0.946297\tvalidation_1-auc:0.886388\n",
            "[205]\tvalidation_0-auc:0.946402\tvalidation_1-auc:0.886289\n",
            "[206]\tvalidation_0-auc:0.94645\tvalidation_1-auc:0.886098\n",
            "[207]\tvalidation_0-auc:0.946611\tvalidation_1-auc:0.886042\n",
            "[208]\tvalidation_0-auc:0.946634\tvalidation_1-auc:0.885959\n",
            "[209]\tvalidation_0-auc:0.946784\tvalidation_1-auc:0.885932\n",
            "[210]\tvalidation_0-auc:0.946843\tvalidation_1-auc:0.885947\n",
            "[211]\tvalidation_0-auc:0.94711\tvalidation_1-auc:0.885937\n",
            "[212]\tvalidation_0-auc:0.947269\tvalidation_1-auc:0.885916\n",
            "[213]\tvalidation_0-auc:0.947339\tvalidation_1-auc:0.885853\n",
            "[214]\tvalidation_0-auc:0.947487\tvalidation_1-auc:0.886038\n",
            "[215]\tvalidation_0-auc:0.947548\tvalidation_1-auc:0.886055\n",
            "Stopping. Best iteration:\n",
            "[165]\tvalidation_0-auc:0.940756\tvalidation_1-auc:0.887286\n",
            "\n"
          ],
          "name": "stdout"
        },
        {
          "output_type": "stream",
          "text": [
            "C:\\Users\\SAMUEL PC\\Anaconda\\lib\\site-packages\\sklearn\\preprocessing\\label.py:151: DeprecationWarning: The truth value of an empty array is ambiguous. Returning False, but in future this will result in an error. Use `array.size > 0` to check that an array is not empty.\n",
            "  if diff:\n"
          ],
          "name": "stderr"
        },
        {
          "output_type": "stream",
          "text": [
            "Done in 5087.196418523788 seconds\n"
          ],
          "name": "stdout"
        },
        {
          "output_type": "stream",
          "text": [
            "C:\\Users\\SAMUEL PC\\Anaconda\\lib\\site-packages\\sklearn\\preprocessing\\label.py:151: DeprecationWarning: The truth value of an empty array is ambiguous. Returning False, but in future this will result in an error. Use `array.size > 0` to check that an array is not empty.\n",
            "  if diff:\n"
          ],
          "name": "stderr"
        }
      ]
    },
    {
      "cell_type": "code",
      "metadata": {
        "id": "neMaX2kPHFfO",
        "colab_type": "code",
        "colab": {},
        "outputId": "c90b631e-9ed7-4755-905e-365c70645392"
      },
      "source": [
        "clf.score(X_train, y_train)\n",
        "# 0.9430233425311358\n",
        "# 0.9450696055684454"
      ],
      "execution_count": 0,
      "outputs": [
        {
          "output_type": "stream",
          "text": [
            "C:\\Users\\SAMUEL PC\\Anaconda\\lib\\site-packages\\sklearn\\preprocessing\\label.py:151: DeprecationWarning: The truth value of an empty array is ambiguous. Returning False, but in future this will result in an error. Use `array.size > 0` to check that an array is not empty.\n",
            "  if diff:\n"
          ],
          "name": "stderr"
        },
        {
          "output_type": "execute_result",
          "data": {
            "text/plain": [
              "0.9443445475638051"
            ]
          },
          "metadata": {
            "tags": []
          },
          "execution_count": 27
        }
      ]
    },
    {
      "cell_type": "code",
      "metadata": {
        "id": "mEXrQp4lHFfY",
        "colab_type": "code",
        "colab": {}
      },
      "source": [
        "# from catboost import CatBoostRegressor"
      ],
      "execution_count": 0,
      "outputs": []
    },
    {
      "cell_type": "code",
      "metadata": {
        "id": "ys1uuP-lHFff",
        "colab_type": "code",
        "colab": {},
        "outputId": "da6db6cd-a94c-4ede-869e-20858e195df5"
      },
      "source": [
        "predictions = clf.predict(Z)\n",
        "prediction = pd.DataFrame(predictions)\n",
        "prediction.index = z\n",
        "prediction.index.name = 'EmployeeNo'\n",
        "prediction.columns=['Promoted_or_Not']\n",
        "prediction.to_csv('predictions_10X.csv')"
      ],
      "execution_count": 0,
      "outputs": [
        {
          "output_type": "stream",
          "text": [
            "C:\\Users\\SAMUEL PC\\Anaconda\\lib\\site-packages\\sklearn\\preprocessing\\label.py:151: DeprecationWarning: The truth value of an empty array is ambiguous. Returning False, but in future this will result in an error. Use `array.size > 0` to check that an array is not empty.\n",
            "  if diff:\n"
          ],
          "name": "stderr"
        }
      ]
    },
    {
      "cell_type": "code",
      "metadata": {
        "id": "dv9q9volHFfr",
        "colab_type": "code",
        "colab": {}
      },
      "source": [
        ""
      ],
      "execution_count": 0,
      "outputs": []
    }
  ]
}