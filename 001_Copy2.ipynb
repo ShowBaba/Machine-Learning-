{
  "nbformat": 4,
  "nbformat_minor": 0,
  "metadata": {
    "kernelspec": {
      "display_name": "Python 3",
      "language": "python",
      "name": "python3"
    },
    "language_info": {
      "codemirror_mode": {
        "name": "ipython",
        "version": 3
      },
      "file_extension": ".py",
      "mimetype": "text/x-python",
      "name": "python",
      "nbconvert_exporter": "python",
      "pygments_lexer": "ipython3",
      "version": "3.6.5"
    },
    "colab": {
      "name": "001-Copy2.ipynb",
      "provenance": [],
      "include_colab_link": true
    }
  },
  "cells": [
    {
      "cell_type": "markdown",
      "metadata": {
        "id": "view-in-github",
        "colab_type": "text"
      },
      "source": [
        "<a href=\"https://colab.research.google.com/github/ShowBaba/Machine-Learning-/blob/master/001_Copy2.ipynb\" target=\"_parent\"><img src=\"https://colab.research.google.com/assets/colab-badge.svg\" alt=\"Open In Colab\"/></a>"
      ]
    },
    {
      "cell_type": "code",
      "metadata": {
        "id": "__kpZnwpHflg",
        "colab_type": "code",
        "colab": {}
      },
      "source": [
        "import numpy as np\n",
        "import pandas as pd\n",
        "import seaborn as sns\n",
        "import matplotlib as plt\n",
        "%matplotlib inline"
      ],
      "execution_count": 0,
      "outputs": []
    },
    {
      "cell_type": "code",
      "metadata": {
        "id": "w3I99njqHfl6",
        "colab_type": "code",
        "colab": {},
        "outputId": "701579be-4744-4717-f7bb-2b8dc21b9797"
      },
      "source": [
        "# load the datasets\n",
        "train_df = pd.read_csv('train.csv')\n",
        "test_df = pd.read_csv('test.csv')\n",
        "z = test_df['EmployeeNo']\n",
        "train_df.head()"
      ],
      "execution_count": 0,
      "outputs": [
        {
          "output_type": "execute_result",
          "data": {
            "text/html": [
              "<div>\n",
              "<style scoped>\n",
              "    .dataframe tbody tr th:only-of-type {\n",
              "        vertical-align: middle;\n",
              "    }\n",
              "\n",
              "    .dataframe tbody tr th {\n",
              "        vertical-align: top;\n",
              "    }\n",
              "\n",
              "    .dataframe thead th {\n",
              "        text-align: right;\n",
              "    }\n",
              "</style>\n",
              "<table border=\"1\" class=\"dataframe\">\n",
              "  <thead>\n",
              "    <tr style=\"text-align: right;\">\n",
              "      <th></th>\n",
              "      <th>EmployeeNo</th>\n",
              "      <th>Division</th>\n",
              "      <th>Qualification</th>\n",
              "      <th>Gender</th>\n",
              "      <th>Channel_of_Recruitment</th>\n",
              "      <th>Trainings_Attended</th>\n",
              "      <th>Year_of_birth</th>\n",
              "      <th>Last_performance_score</th>\n",
              "      <th>Year_of_recruitment</th>\n",
              "      <th>Targets_met</th>\n",
              "      <th>Previous_Award</th>\n",
              "      <th>Training_score_average</th>\n",
              "      <th>State_Of_Origin</th>\n",
              "      <th>Foreign_schooled</th>\n",
              "      <th>Marital_Status</th>\n",
              "      <th>Past_Disciplinary_Action</th>\n",
              "      <th>Previous_IntraDepartmental_Movement</th>\n",
              "      <th>No_of_previous_employers</th>\n",
              "      <th>Promoted_or_Not</th>\n",
              "    </tr>\n",
              "  </thead>\n",
              "  <tbody>\n",
              "    <tr>\n",
              "      <th>0</th>\n",
              "      <td>YAK/S/00001</td>\n",
              "      <td>Commercial Sales and Marketing</td>\n",
              "      <td>MSc, MBA and PhD</td>\n",
              "      <td>Female</td>\n",
              "      <td>Direct Internal process</td>\n",
              "      <td>2</td>\n",
              "      <td>1986</td>\n",
              "      <td>12.5</td>\n",
              "      <td>2011</td>\n",
              "      <td>1</td>\n",
              "      <td>0</td>\n",
              "      <td>41</td>\n",
              "      <td>ANAMBRA</td>\n",
              "      <td>No</td>\n",
              "      <td>Married</td>\n",
              "      <td>No</td>\n",
              "      <td>No</td>\n",
              "      <td>0</td>\n",
              "      <td>0</td>\n",
              "    </tr>\n",
              "    <tr>\n",
              "      <th>1</th>\n",
              "      <td>YAK/S/00002</td>\n",
              "      <td>Customer Support and Field Operations</td>\n",
              "      <td>First Degree or HND</td>\n",
              "      <td>Male</td>\n",
              "      <td>Agency and others</td>\n",
              "      <td>2</td>\n",
              "      <td>1991</td>\n",
              "      <td>12.5</td>\n",
              "      <td>2015</td>\n",
              "      <td>0</td>\n",
              "      <td>0</td>\n",
              "      <td>52</td>\n",
              "      <td>ANAMBRA</td>\n",
              "      <td>Yes</td>\n",
              "      <td>Married</td>\n",
              "      <td>No</td>\n",
              "      <td>No</td>\n",
              "      <td>0</td>\n",
              "      <td>0</td>\n",
              "    </tr>\n",
              "    <tr>\n",
              "      <th>2</th>\n",
              "      <td>YAK/S/00003</td>\n",
              "      <td>Commercial Sales and Marketing</td>\n",
              "      <td>First Degree or HND</td>\n",
              "      <td>Male</td>\n",
              "      <td>Direct Internal process</td>\n",
              "      <td>2</td>\n",
              "      <td>1987</td>\n",
              "      <td>7.5</td>\n",
              "      <td>2012</td>\n",
              "      <td>0</td>\n",
              "      <td>0</td>\n",
              "      <td>42</td>\n",
              "      <td>KATSINA</td>\n",
              "      <td>Yes</td>\n",
              "      <td>Married</td>\n",
              "      <td>No</td>\n",
              "      <td>No</td>\n",
              "      <td>0</td>\n",
              "      <td>0</td>\n",
              "    </tr>\n",
              "    <tr>\n",
              "      <th>3</th>\n",
              "      <td>YAK/S/00004</td>\n",
              "      <td>Commercial Sales and Marketing</td>\n",
              "      <td>First Degree or HND</td>\n",
              "      <td>Male</td>\n",
              "      <td>Agency and others</td>\n",
              "      <td>3</td>\n",
              "      <td>1982</td>\n",
              "      <td>2.5</td>\n",
              "      <td>2009</td>\n",
              "      <td>0</td>\n",
              "      <td>0</td>\n",
              "      <td>42</td>\n",
              "      <td>NIGER</td>\n",
              "      <td>Yes</td>\n",
              "      <td>Single</td>\n",
              "      <td>No</td>\n",
              "      <td>No</td>\n",
              "      <td>1</td>\n",
              "      <td>0</td>\n",
              "    </tr>\n",
              "    <tr>\n",
              "      <th>4</th>\n",
              "      <td>YAK/S/00006</td>\n",
              "      <td>Information and Strategy</td>\n",
              "      <td>First Degree or HND</td>\n",
              "      <td>Male</td>\n",
              "      <td>Direct Internal process</td>\n",
              "      <td>3</td>\n",
              "      <td>1990</td>\n",
              "      <td>7.5</td>\n",
              "      <td>2012</td>\n",
              "      <td>0</td>\n",
              "      <td>0</td>\n",
              "      <td>77</td>\n",
              "      <td>AKWA IBOM</td>\n",
              "      <td>Yes</td>\n",
              "      <td>Married</td>\n",
              "      <td>No</td>\n",
              "      <td>No</td>\n",
              "      <td>1</td>\n",
              "      <td>0</td>\n",
              "    </tr>\n",
              "  </tbody>\n",
              "</table>\n",
              "</div>"
            ],
            "text/plain": [
              "    EmployeeNo                               Division        Qualification  \\\n",
              "0  YAK/S/00001         Commercial Sales and Marketing     MSc, MBA and PhD   \n",
              "1  YAK/S/00002  Customer Support and Field Operations  First Degree or HND   \n",
              "2  YAK/S/00003         Commercial Sales and Marketing  First Degree or HND   \n",
              "3  YAK/S/00004         Commercial Sales and Marketing  First Degree or HND   \n",
              "4  YAK/S/00006               Information and Strategy  First Degree or HND   \n",
              "\n",
              "   Gender   Channel_of_Recruitment  Trainings_Attended  Year_of_birth  \\\n",
              "0  Female  Direct Internal process                   2           1986   \n",
              "1    Male        Agency and others                   2           1991   \n",
              "2    Male  Direct Internal process                   2           1987   \n",
              "3    Male        Agency and others                   3           1982   \n",
              "4    Male  Direct Internal process                   3           1990   \n",
              "\n",
              "   Last_performance_score  Year_of_recruitment  Targets_met  Previous_Award  \\\n",
              "0                    12.5                 2011            1               0   \n",
              "1                    12.5                 2015            0               0   \n",
              "2                     7.5                 2012            0               0   \n",
              "3                     2.5                 2009            0               0   \n",
              "4                     7.5                 2012            0               0   \n",
              "\n",
              "   Training_score_average State_Of_Origin Foreign_schooled Marital_Status  \\\n",
              "0                      41         ANAMBRA               No        Married   \n",
              "1                      52         ANAMBRA              Yes        Married   \n",
              "2                      42         KATSINA              Yes        Married   \n",
              "3                      42           NIGER              Yes         Single   \n",
              "4                      77       AKWA IBOM              Yes        Married   \n",
              "\n",
              "  Past_Disciplinary_Action Previous_IntraDepartmental_Movement  \\\n",
              "0                       No                                  No   \n",
              "1                       No                                  No   \n",
              "2                       No                                  No   \n",
              "3                       No                                  No   \n",
              "4                       No                                  No   \n",
              "\n",
              "  No_of_previous_employers  Promoted_or_Not  \n",
              "0                        0                0  \n",
              "1                        0                0  \n",
              "2                        0                0  \n",
              "3                        1                0  \n",
              "4                        1                0  "
            ]
          },
          "metadata": {
            "tags": []
          },
          "execution_count": 2
        }
      ]
    },
    {
      "cell_type": "code",
      "metadata": {
        "id": "dYQ3KEViHfmR",
        "colab_type": "code",
        "colab": {},
        "outputId": "2b26b537-c8d7-40cb-f401-76f3690d9611"
      },
      "source": [
        "train_df['Qualification'].unique()"
      ],
      "execution_count": 0,
      "outputs": [
        {
          "output_type": "execute_result",
          "data": {
            "text/plain": [
              "array(['MSc, MBA and PhD', 'First Degree or HND', nan,\n",
              "       'Non-University Education'], dtype=object)"
            ]
          },
          "metadata": {
            "tags": []
          },
          "execution_count": 3
        }
      ]
    },
    {
      "cell_type": "code",
      "metadata": {
        "id": "p69JAxalHfmd",
        "colab_type": "code",
        "colab": {}
      },
      "source": [
        "y = train_df.iloc[:, -1]"
      ],
      "execution_count": 0,
      "outputs": []
    },
    {
      "cell_type": "code",
      "metadata": {
        "scrolled": true,
        "id": "u1tZhuL5Hfmr",
        "colab_type": "code",
        "colab": {},
        "outputId": "e8f1d0d5-af7b-4eef-cdce-0b0683c6c616"
      },
      "source": [
        "# merge the datasets for processing\n",
        "df = [train_df, test_df]\n",
        "df = pd.concat(df, keys=['x', 'y'], sort=False)\n",
        "df = df.drop(columns=['EmployeeNo', 'Promoted_or_Not'])\n",
        "df.head(10)"
      ],
      "execution_count": 0,
      "outputs": [
        {
          "output_type": "execute_result",
          "data": {
            "text/html": [
              "<div>\n",
              "<style scoped>\n",
              "    .dataframe tbody tr th:only-of-type {\n",
              "        vertical-align: middle;\n",
              "    }\n",
              "\n",
              "    .dataframe tbody tr th {\n",
              "        vertical-align: top;\n",
              "    }\n",
              "\n",
              "    .dataframe thead th {\n",
              "        text-align: right;\n",
              "    }\n",
              "</style>\n",
              "<table border=\"1\" class=\"dataframe\">\n",
              "  <thead>\n",
              "    <tr style=\"text-align: right;\">\n",
              "      <th></th>\n",
              "      <th></th>\n",
              "      <th>Division</th>\n",
              "      <th>Qualification</th>\n",
              "      <th>Gender</th>\n",
              "      <th>Channel_of_Recruitment</th>\n",
              "      <th>Trainings_Attended</th>\n",
              "      <th>Year_of_birth</th>\n",
              "      <th>Last_performance_score</th>\n",
              "      <th>Year_of_recruitment</th>\n",
              "      <th>Targets_met</th>\n",
              "      <th>Previous_Award</th>\n",
              "      <th>Training_score_average</th>\n",
              "      <th>State_Of_Origin</th>\n",
              "      <th>Foreign_schooled</th>\n",
              "      <th>Marital_Status</th>\n",
              "      <th>Past_Disciplinary_Action</th>\n",
              "      <th>Previous_IntraDepartmental_Movement</th>\n",
              "      <th>No_of_previous_employers</th>\n",
              "    </tr>\n",
              "  </thead>\n",
              "  <tbody>\n",
              "    <tr>\n",
              "      <th rowspan=\"10\" valign=\"top\">x</th>\n",
              "      <th>0</th>\n",
              "      <td>Commercial Sales and Marketing</td>\n",
              "      <td>MSc, MBA and PhD</td>\n",
              "      <td>Female</td>\n",
              "      <td>Direct Internal process</td>\n",
              "      <td>2</td>\n",
              "      <td>1986</td>\n",
              "      <td>12.5</td>\n",
              "      <td>2011</td>\n",
              "      <td>1</td>\n",
              "      <td>0</td>\n",
              "      <td>41</td>\n",
              "      <td>ANAMBRA</td>\n",
              "      <td>No</td>\n",
              "      <td>Married</td>\n",
              "      <td>No</td>\n",
              "      <td>No</td>\n",
              "      <td>0</td>\n",
              "    </tr>\n",
              "    <tr>\n",
              "      <th>1</th>\n",
              "      <td>Customer Support and Field Operations</td>\n",
              "      <td>First Degree or HND</td>\n",
              "      <td>Male</td>\n",
              "      <td>Agency and others</td>\n",
              "      <td>2</td>\n",
              "      <td>1991</td>\n",
              "      <td>12.5</td>\n",
              "      <td>2015</td>\n",
              "      <td>0</td>\n",
              "      <td>0</td>\n",
              "      <td>52</td>\n",
              "      <td>ANAMBRA</td>\n",
              "      <td>Yes</td>\n",
              "      <td>Married</td>\n",
              "      <td>No</td>\n",
              "      <td>No</td>\n",
              "      <td>0</td>\n",
              "    </tr>\n",
              "    <tr>\n",
              "      <th>2</th>\n",
              "      <td>Commercial Sales and Marketing</td>\n",
              "      <td>First Degree or HND</td>\n",
              "      <td>Male</td>\n",
              "      <td>Direct Internal process</td>\n",
              "      <td>2</td>\n",
              "      <td>1987</td>\n",
              "      <td>7.5</td>\n",
              "      <td>2012</td>\n",
              "      <td>0</td>\n",
              "      <td>0</td>\n",
              "      <td>42</td>\n",
              "      <td>KATSINA</td>\n",
              "      <td>Yes</td>\n",
              "      <td>Married</td>\n",
              "      <td>No</td>\n",
              "      <td>No</td>\n",
              "      <td>0</td>\n",
              "    </tr>\n",
              "    <tr>\n",
              "      <th>3</th>\n",
              "      <td>Commercial Sales and Marketing</td>\n",
              "      <td>First Degree or HND</td>\n",
              "      <td>Male</td>\n",
              "      <td>Agency and others</td>\n",
              "      <td>3</td>\n",
              "      <td>1982</td>\n",
              "      <td>2.5</td>\n",
              "      <td>2009</td>\n",
              "      <td>0</td>\n",
              "      <td>0</td>\n",
              "      <td>42</td>\n",
              "      <td>NIGER</td>\n",
              "      <td>Yes</td>\n",
              "      <td>Single</td>\n",
              "      <td>No</td>\n",
              "      <td>No</td>\n",
              "      <td>1</td>\n",
              "    </tr>\n",
              "    <tr>\n",
              "      <th>4</th>\n",
              "      <td>Information and Strategy</td>\n",
              "      <td>First Degree or HND</td>\n",
              "      <td>Male</td>\n",
              "      <td>Direct Internal process</td>\n",
              "      <td>3</td>\n",
              "      <td>1990</td>\n",
              "      <td>7.5</td>\n",
              "      <td>2012</td>\n",
              "      <td>0</td>\n",
              "      <td>0</td>\n",
              "      <td>77</td>\n",
              "      <td>AKWA IBOM</td>\n",
              "      <td>Yes</td>\n",
              "      <td>Married</td>\n",
              "      <td>No</td>\n",
              "      <td>No</td>\n",
              "      <td>1</td>\n",
              "    </tr>\n",
              "    <tr>\n",
              "      <th>5</th>\n",
              "      <td>Customer Support and Field Operations</td>\n",
              "      <td>First Degree or HND</td>\n",
              "      <td>Female</td>\n",
              "      <td>Agency and others</td>\n",
              "      <td>2</td>\n",
              "      <td>1990</td>\n",
              "      <td>7.5</td>\n",
              "      <td>2014</td>\n",
              "      <td>0</td>\n",
              "      <td>0</td>\n",
              "      <td>51</td>\n",
              "      <td>ENUGU</td>\n",
              "      <td>Yes</td>\n",
              "      <td>Married</td>\n",
              "      <td>No</td>\n",
              "      <td>Yes</td>\n",
              "      <td>1</td>\n",
              "    </tr>\n",
              "    <tr>\n",
              "      <th>6</th>\n",
              "      <td>Customer Support and Field Operations</td>\n",
              "      <td>MSc, MBA and PhD</td>\n",
              "      <td>Male</td>\n",
              "      <td>Direct Internal process</td>\n",
              "      <td>2</td>\n",
              "      <td>1988</td>\n",
              "      <td>7.5</td>\n",
              "      <td>2013</td>\n",
              "      <td>0</td>\n",
              "      <td>0</td>\n",
              "      <td>55</td>\n",
              "      <td>OYO</td>\n",
              "      <td>No</td>\n",
              "      <td>Single</td>\n",
              "      <td>No</td>\n",
              "      <td>No</td>\n",
              "      <td>1</td>\n",
              "    </tr>\n",
              "    <tr>\n",
              "      <th>7</th>\n",
              "      <td>Information and Strategy</td>\n",
              "      <td>First Degree or HND</td>\n",
              "      <td>Male</td>\n",
              "      <td>Agency and others</td>\n",
              "      <td>2</td>\n",
              "      <td>1993</td>\n",
              "      <td>10.0</td>\n",
              "      <td>2014</td>\n",
              "      <td>0</td>\n",
              "      <td>0</td>\n",
              "      <td>75</td>\n",
              "      <td>LAGOS</td>\n",
              "      <td>Yes</td>\n",
              "      <td>Married</td>\n",
              "      <td>No</td>\n",
              "      <td>No</td>\n",
              "      <td>0</td>\n",
              "    </tr>\n",
              "    <tr>\n",
              "      <th>8</th>\n",
              "      <td>Commercial Sales and Marketing</td>\n",
              "      <td>MSc, MBA and PhD</td>\n",
              "      <td>Male</td>\n",
              "      <td>Direct Internal process</td>\n",
              "      <td>2</td>\n",
              "      <td>1989</td>\n",
              "      <td>12.5</td>\n",
              "      <td>2014</td>\n",
              "      <td>1</td>\n",
              "      <td>0</td>\n",
              "      <td>46</td>\n",
              "      <td>ONDO</td>\n",
              "      <td>Yes</td>\n",
              "      <td>Married</td>\n",
              "      <td>No</td>\n",
              "      <td>No</td>\n",
              "      <td>0</td>\n",
              "    </tr>\n",
              "    <tr>\n",
              "      <th>9</th>\n",
              "      <td>Commercial Sales and Marketing</td>\n",
              "      <td>First Degree or HND</td>\n",
              "      <td>Female</td>\n",
              "      <td>Direct Internal process</td>\n",
              "      <td>2</td>\n",
              "      <td>1986</td>\n",
              "      <td>12.5</td>\n",
              "      <td>2016</td>\n",
              "      <td>1</td>\n",
              "      <td>0</td>\n",
              "      <td>42</td>\n",
              "      <td>LAGOS</td>\n",
              "      <td>Yes</td>\n",
              "      <td>Married</td>\n",
              "      <td>No</td>\n",
              "      <td>No</td>\n",
              "      <td>0</td>\n",
              "    </tr>\n",
              "  </tbody>\n",
              "</table>\n",
              "</div>"
            ],
            "text/plain": [
              "                                  Division        Qualification  Gender  \\\n",
              "x 0         Commercial Sales and Marketing     MSc, MBA and PhD  Female   \n",
              "  1  Customer Support and Field Operations  First Degree or HND    Male   \n",
              "  2         Commercial Sales and Marketing  First Degree or HND    Male   \n",
              "  3         Commercial Sales and Marketing  First Degree or HND    Male   \n",
              "  4               Information and Strategy  First Degree or HND    Male   \n",
              "  5  Customer Support and Field Operations  First Degree or HND  Female   \n",
              "  6  Customer Support and Field Operations     MSc, MBA and PhD    Male   \n",
              "  7               Information and Strategy  First Degree or HND    Male   \n",
              "  8         Commercial Sales and Marketing     MSc, MBA and PhD    Male   \n",
              "  9         Commercial Sales and Marketing  First Degree or HND  Female   \n",
              "\n",
              "      Channel_of_Recruitment  Trainings_Attended  Year_of_birth  \\\n",
              "x 0  Direct Internal process                   2           1986   \n",
              "  1        Agency and others                   2           1991   \n",
              "  2  Direct Internal process                   2           1987   \n",
              "  3        Agency and others                   3           1982   \n",
              "  4  Direct Internal process                   3           1990   \n",
              "  5        Agency and others                   2           1990   \n",
              "  6  Direct Internal process                   2           1988   \n",
              "  7        Agency and others                   2           1993   \n",
              "  8  Direct Internal process                   2           1989   \n",
              "  9  Direct Internal process                   2           1986   \n",
              "\n",
              "     Last_performance_score  Year_of_recruitment  Targets_met  Previous_Award  \\\n",
              "x 0                    12.5                 2011            1               0   \n",
              "  1                    12.5                 2015            0               0   \n",
              "  2                     7.5                 2012            0               0   \n",
              "  3                     2.5                 2009            0               0   \n",
              "  4                     7.5                 2012            0               0   \n",
              "  5                     7.5                 2014            0               0   \n",
              "  6                     7.5                 2013            0               0   \n",
              "  7                    10.0                 2014            0               0   \n",
              "  8                    12.5                 2014            1               0   \n",
              "  9                    12.5                 2016            1               0   \n",
              "\n",
              "     Training_score_average State_Of_Origin Foreign_schooled Marital_Status  \\\n",
              "x 0                      41         ANAMBRA               No        Married   \n",
              "  1                      52         ANAMBRA              Yes        Married   \n",
              "  2                      42         KATSINA              Yes        Married   \n",
              "  3                      42           NIGER              Yes         Single   \n",
              "  4                      77       AKWA IBOM              Yes        Married   \n",
              "  5                      51           ENUGU              Yes        Married   \n",
              "  6                      55             OYO               No         Single   \n",
              "  7                      75           LAGOS              Yes        Married   \n",
              "  8                      46            ONDO              Yes        Married   \n",
              "  9                      42           LAGOS              Yes        Married   \n",
              "\n",
              "    Past_Disciplinary_Action Previous_IntraDepartmental_Movement  \\\n",
              "x 0                       No                                  No   \n",
              "  1                       No                                  No   \n",
              "  2                       No                                  No   \n",
              "  3                       No                                  No   \n",
              "  4                       No                                  No   \n",
              "  5                       No                                 Yes   \n",
              "  6                       No                                  No   \n",
              "  7                       No                                  No   \n",
              "  8                       No                                  No   \n",
              "  9                       No                                  No   \n",
              "\n",
              "    No_of_previous_employers  \n",
              "x 0                        0  \n",
              "  1                        0  \n",
              "  2                        0  \n",
              "  3                        1  \n",
              "  4                        1  \n",
              "  5                        1  \n",
              "  6                        1  \n",
              "  7                        0  \n",
              "  8                        0  \n",
              "  9                        0  "
            ]
          },
          "metadata": {
            "tags": []
          },
          "execution_count": 5
        }
      ]
    },
    {
      "cell_type": "code",
      "metadata": {
        "id": "b8pNETu6Hfm4",
        "colab_type": "code",
        "colab": {},
        "outputId": "bc7c83c7-190b-4c4a-ab1a-02940c371aff"
      },
      "source": [
        "# check for null values\n",
        "df.isnull().sum()"
      ],
      "execution_count": 0,
      "outputs": [
        {
          "output_type": "execute_result",
          "data": {
            "text/plain": [
              "Division                                  0\n",
              "Qualification                          2409\n",
              "Gender                                    0\n",
              "Channel_of_Recruitment                    0\n",
              "Trainings_Attended                        0\n",
              "Year_of_birth                             0\n",
              "Last_performance_score                    0\n",
              "Year_of_recruitment                       0\n",
              "Targets_met                               0\n",
              "Previous_Award                            0\n",
              "Training_score_average                    0\n",
              "State_Of_Origin                           0\n",
              "Foreign_schooled                          0\n",
              "Marital_Status                            0\n",
              "Past_Disciplinary_Action                  0\n",
              "Previous_IntraDepartmental_Movement       0\n",
              "No_of_previous_employers                  0\n",
              "dtype: int64"
            ]
          },
          "metadata": {
            "tags": []
          },
          "execution_count": 6
        }
      ]
    },
    {
      "cell_type": "code",
      "metadata": {
        "id": "TsUEmkjsHfnF",
        "colab_type": "code",
        "colab": {}
      },
      "source": [
        "# filling the null values based on the \"Foreign_schooled \" column\n",
        "df_null = df.groupby('Targets_met').Qualification.transform(lambda x: x.fillna(x.mode()[0]))"
      ],
      "execution_count": 0,
      "outputs": []
    },
    {
      "cell_type": "code",
      "metadata": {
        "id": "eOsJC5UAHfnO",
        "colab_type": "code",
        "colab": {}
      },
      "source": [
        "# dropping the \"Qualification\" column that has null values and adding the clean coolumn\n",
        "df = df.drop(columns=['Qualification'])\n",
        "df['Qualification'] = df_null  "
      ],
      "execution_count": 0,
      "outputs": []
    },
    {
      "cell_type": "code",
      "metadata": {
        "id": "ah0CD_sxHfnc",
        "colab_type": "code",
        "colab": {},
        "outputId": "f995f0fe-218e-4f6b-a515-04720c9ca313"
      },
      "source": [
        "# data visualization\n",
        "sns.heatmap(train_df.corr())"
      ],
      "execution_count": 0,
      "outputs": [
        {
          "output_type": "execute_result",
          "data": {
            "text/plain": [
              "<matplotlib.axes._subplots.AxesSubplot at 0x7d31bf9208>"
            ]
          },
          "metadata": {
            "tags": []
          },
          "execution_count": 9
        },
        {
          "output_type": "display_data",
          "data": {
            "image/png": "[encoded data removed]",
            "text/plain": [
              "<Figure size 432x288 with 2 Axes>"
            ]
          },
          "metadata": {
            "tags": []
          }
        }
      ]
    },
    {
      "cell_type": "code",
      "metadata": {
        "id": "MNyofAM7Hfno",
        "colab_type": "code",
        "colab": {},
        "outputId": "e0e8f4b8-fea1-49d7-8944-6d3779baa7d4"
      },
      "source": [
        "df.isnull().sum()"
      ],
      "execution_count": 0,
      "outputs": [
        {
          "output_type": "execute_result",
          "data": {
            "text/plain": [
              "Division                               0\n",
              "Gender                                 0\n",
              "Channel_of_Recruitment                 0\n",
              "Trainings_Attended                     0\n",
              "Year_of_birth                          0\n",
              "Last_performance_score                 0\n",
              "Year_of_recruitment                    0\n",
              "Targets_met                            0\n",
              "Previous_Award                         0\n",
              "Training_score_average                 0\n",
              "State_Of_Origin                        0\n",
              "Foreign_schooled                       0\n",
              "Marital_Status                         0\n",
              "Past_Disciplinary_Action               0\n",
              "Previous_IntraDepartmental_Movement    0\n",
              "No_of_previous_employers               0\n",
              "Qualification                          0\n",
              "dtype: int64"
            ]
          },
          "metadata": {
            "tags": []
          },
          "execution_count": 10
        }
      ]
    },
    {
      "cell_type": "code",
      "metadata": {
        "id": "Pjb-yAORHfn3",
        "colab_type": "code",
        "colab": {},
        "outputId": "0b5a8e68-faa5-4ff2-f08e-d1ab7612c28a"
      },
      "source": [
        "# collecting columns with categorical datas\n",
        "cat_col = []\n",
        "for i in df.columns:\n",
        "    if df[i].dtype == 'O':\n",
        "        cat_col.append(i)\n",
        "    else:\n",
        "        pass\n",
        "    \n",
        "cat_col"
      ],
      "execution_count": 0,
      "outputs": [
        {
          "output_type": "execute_result",
          "data": {
            "text/plain": [
              "['Division',\n",
              " 'Gender',\n",
              " 'Channel_of_Recruitment',\n",
              " 'State_Of_Origin',\n",
              " 'Foreign_schooled',\n",
              " 'Marital_Status',\n",
              " 'Past_Disciplinary_Action',\n",
              " 'Previous_IntraDepartmental_Movement',\n",
              " 'No_of_previous_employers',\n",
              " 'Qualification']"
            ]
          },
          "metadata": {
            "tags": []
          },
          "execution_count": 11
        }
      ]
    },
    {
      "cell_type": "code",
      "metadata": {
        "scrolled": false,
        "id": "93S_td6YHfoI",
        "colab_type": "code",
        "colab": {},
        "outputId": "4e145d03-d3b5-4409-a15d-020912269f94"
      },
      "source": [
        "# using pandas's get dummies to encode\n",
        "df = pd.get_dummies(df, columns=cat_col)\n",
        "df.head()"
      ],
      "execution_count": 0,
      "outputs": [
        {
          "output_type": "execute_result",
          "data": {
            "text/html": [
              "<div>\n",
              "<style scoped>\n",
              "    .dataframe tbody tr th:only-of-type {\n",
              "        vertical-align: middle;\n",
              "    }\n",
              "\n",
              "    .dataframe tbody tr th {\n",
              "        vertical-align: top;\n",
              "    }\n",
              "\n",
              "    .dataframe thead th {\n",
              "        text-align: right;\n",
              "    }\n",
              "</style>\n",
              "<table border=\"1\" class=\"dataframe\">\n",
              "  <thead>\n",
              "    <tr style=\"text-align: right;\">\n",
              "      <th></th>\n",
              "      <th></th>\n",
              "      <th>Trainings_Attended</th>\n",
              "      <th>Year_of_birth</th>\n",
              "      <th>Last_performance_score</th>\n",
              "      <th>Year_of_recruitment</th>\n",
              "      <th>Targets_met</th>\n",
              "      <th>Previous_Award</th>\n",
              "      <th>Training_score_average</th>\n",
              "      <th>Division_Business Finance Operations</th>\n",
              "      <th>Division_Commercial Sales and Marketing</th>\n",
              "      <th>Division_Customer Support and Field Operations</th>\n",
              "      <th>...</th>\n",
              "      <th>No_of_previous_employers_0</th>\n",
              "      <th>No_of_previous_employers_1</th>\n",
              "      <th>No_of_previous_employers_2</th>\n",
              "      <th>No_of_previous_employers_3</th>\n",
              "      <th>No_of_previous_employers_4</th>\n",
              "      <th>No_of_previous_employers_5</th>\n",
              "      <th>No_of_previous_employers_More than 5</th>\n",
              "      <th>Qualification_First Degree or HND</th>\n",
              "      <th>Qualification_MSc, MBA and PhD</th>\n",
              "      <th>Qualification_Non-University Education</th>\n",
              "    </tr>\n",
              "  </thead>\n",
              "  <tbody>\n",
              "    <tr>\n",
              "      <th rowspan=\"5\" valign=\"top\">x</th>\n",
              "      <th>0</th>\n",
              "      <td>2</td>\n",
              "      <td>1986</td>\n",
              "      <td>12.5</td>\n",
              "      <td>2011</td>\n",
              "      <td>1</td>\n",
              "      <td>0</td>\n",
              "      <td>41</td>\n",
              "      <td>0</td>\n",
              "      <td>1</td>\n",
              "      <td>0</td>\n",
              "      <td>...</td>\n",
              "      <td>1</td>\n",
              "      <td>0</td>\n",
              "      <td>0</td>\n",
              "      <td>0</td>\n",
              "      <td>0</td>\n",
              "      <td>0</td>\n",
              "      <td>0</td>\n",
              "      <td>0</td>\n",
              "      <td>1</td>\n",
              "      <td>0</td>\n",
              "    </tr>\n",
              "    <tr>\n",
              "      <th>1</th>\n",
              "      <td>2</td>\n",
              "      <td>1991</td>\n",
              "      <td>12.5</td>\n",
              "      <td>2015</td>\n",
              "      <td>0</td>\n",
              "      <td>0</td>\n",
              "      <td>52</td>\n",
              "      <td>0</td>\n",
              "      <td>0</td>\n",
              "      <td>1</td>\n",
              "      <td>...</td>\n",
              "      <td>1</td>\n",
              "      <td>0</td>\n",
              "      <td>0</td>\n",
              "      <td>0</td>\n",
              "      <td>0</td>\n",
              "      <td>0</td>\n",
              "      <td>0</td>\n",
              "      <td>1</td>\n",
              "      <td>0</td>\n",
              "      <td>0</td>\n",
              "    </tr>\n",
              "    <tr>\n",
              "      <th>2</th>\n",
              "      <td>2</td>\n",
              "      <td>1987</td>\n",
              "      <td>7.5</td>\n",
              "      <td>2012</td>\n",
              "      <td>0</td>\n",
              "      <td>0</td>\n",
              "      <td>42</td>\n",
              "      <td>0</td>\n",
              "      <td>1</td>\n",
              "      <td>0</td>\n",
              "      <td>...</td>\n",
              "      <td>1</td>\n",
              "      <td>0</td>\n",
              "      <td>0</td>\n",
              "      <td>0</td>\n",
              "      <td>0</td>\n",
              "      <td>0</td>\n",
              "      <td>0</td>\n",
              "      <td>1</td>\n",
              "      <td>0</td>\n",
              "      <td>0</td>\n",
              "    </tr>\n",
              "    <tr>\n",
              "      <th>3</th>\n",
              "      <td>3</td>\n",
              "      <td>1982</td>\n",
              "      <td>2.5</td>\n",
              "      <td>2009</td>\n",
              "      <td>0</td>\n",
              "      <td>0</td>\n",
              "      <td>42</td>\n",
              "      <td>0</td>\n",
              "      <td>1</td>\n",
              "      <td>0</td>\n",
              "      <td>...</td>\n",
              "      <td>0</td>\n",
              "      <td>1</td>\n",
              "      <td>0</td>\n",
              "      <td>0</td>\n",
              "      <td>0</td>\n",
              "      <td>0</td>\n",
              "      <td>0</td>\n",
              "      <td>1</td>\n",
              "      <td>0</td>\n",
              "      <td>0</td>\n",
              "    </tr>\n",
              "    <tr>\n",
              "      <th>4</th>\n",
              "      <td>3</td>\n",
              "      <td>1990</td>\n",
              "      <td>7.5</td>\n",
              "      <td>2012</td>\n",
              "      <td>0</td>\n",
              "      <td>0</td>\n",
              "      <td>77</td>\n",
              "      <td>0</td>\n",
              "      <td>0</td>\n",
              "      <td>0</td>\n",
              "      <td>...</td>\n",
              "      <td>0</td>\n",
              "      <td>1</td>\n",
              "      <td>0</td>\n",
              "      <td>0</td>\n",
              "      <td>0</td>\n",
              "      <td>0</td>\n",
              "      <td>0</td>\n",
              "      <td>1</td>\n",
              "      <td>0</td>\n",
              "      <td>0</td>\n",
              "    </tr>\n",
              "  </tbody>\n",
              "</table>\n",
              "<p>5 rows × 77 columns</p>\n",
              "</div>"
            ],
            "text/plain": [
              "     Trainings_Attended  Year_of_birth  Last_performance_score  \\\n",
              "x 0                   2           1986                    12.5   \n",
              "  1                   2           1991                    12.5   \n",
              "  2                   2           1987                     7.5   \n",
              "  3                   3           1982                     2.5   \n",
              "  4                   3           1990                     7.5   \n",
              "\n",
              "     Year_of_recruitment  Targets_met  Previous_Award  Training_score_average  \\\n",
              "x 0                 2011            1               0                      41   \n",
              "  1                 2015            0               0                      52   \n",
              "  2                 2012            0               0                      42   \n",
              "  3                 2009            0               0                      42   \n",
              "  4                 2012            0               0                      77   \n",
              "\n",
              "     Division_Business Finance Operations  \\\n",
              "x 0                                     0   \n",
              "  1                                     0   \n",
              "  2                                     0   \n",
              "  3                                     0   \n",
              "  4                                     0   \n",
              "\n",
              "     Division_Commercial Sales and Marketing  \\\n",
              "x 0                                        1   \n",
              "  1                                        0   \n",
              "  2                                        1   \n",
              "  3                                        1   \n",
              "  4                                        0   \n",
              "\n",
              "     Division_Customer Support and Field Operations  ...  \\\n",
              "x 0                                               0  ...   \n",
              "  1                                               1  ...   \n",
              "  2                                               0  ...   \n",
              "  3                                               0  ...   \n",
              "  4                                               0  ...   \n",
              "\n",
              "     No_of_previous_employers_0  No_of_previous_employers_1  \\\n",
              "x 0                           1                           0   \n",
              "  1                           1                           0   \n",
              "  2                           1                           0   \n",
              "  3                           0                           1   \n",
              "  4                           0                           1   \n",
              "\n",
              "     No_of_previous_employers_2  No_of_previous_employers_3  \\\n",
              "x 0                           0                           0   \n",
              "  1                           0                           0   \n",
              "  2                           0                           0   \n",
              "  3                           0                           0   \n",
              "  4                           0                           0   \n",
              "\n",
              "     No_of_previous_employers_4  No_of_previous_employers_5  \\\n",
              "x 0                           0                           0   \n",
              "  1                           0                           0   \n",
              "  2                           0                           0   \n",
              "  3                           0                           0   \n",
              "  4                           0                           0   \n",
              "\n",
              "     No_of_previous_employers_More than 5  Qualification_First Degree or HND  \\\n",
              "x 0                                     0                                  0   \n",
              "  1                                     0                                  1   \n",
              "  2                                     0                                  1   \n",
              "  3                                     0                                  1   \n",
              "  4                                     0                                  1   \n",
              "\n",
              "     Qualification_MSc, MBA and PhD  Qualification_Non-University Education  \n",
              "x 0                               1                                       0  \n",
              "  1                               0                                       0  \n",
              "  2                               0                                       0  \n",
              "  3                               0                                       0  \n",
              "  4                               0                                       0  \n",
              "\n",
              "[5 rows x 77 columns]"
            ]
          },
          "metadata": {
            "tags": []
          },
          "execution_count": 12
        }
      ]
    },
    {
      "cell_type": "code",
      "metadata": {
        "scrolled": false,
        "id": "l1cT1NQpHfoP",
        "colab_type": "code",
        "colab": {},
        "outputId": "e86236b4-2841-478e-ea4f-552d406085d1"
      },
      "source": [
        "df.shape"
      ],
      "execution_count": 0,
      "outputs": [
        {
          "output_type": "execute_result",
          "data": {
            "text/plain": [
              "(54808, 77)"
            ]
          },
          "metadata": {
            "tags": []
          },
          "execution_count": 13
        }
      ]
    },
    {
      "cell_type": "code",
      "metadata": {
        "id": "Nf3jrzfEHfoY",
        "colab_type": "code",
        "colab": {},
        "outputId": "87ebdec6-f2a7-4677-ab78-31906a7107f0"
      },
      "source": [
        "# splitting the dataset back to test and train using the keys 'x' & 'y'\n",
        "train_df = df.loc['x']\n",
        "test_df = df.loc['y']\n",
        "train_df.shape\n",
        "test_df.shape"
      ],
      "execution_count": 0,
      "outputs": [
        {
          "output_type": "execute_result",
          "data": {
            "text/plain": [
              "(16496, 77)"
            ]
          },
          "metadata": {
            "tags": []
          },
          "execution_count": 14
        }
      ]
    },
    {
      "cell_type": "code",
      "metadata": {
        "id": "l3JVIWKHHfol",
        "colab_type": "code",
        "colab": {},
        "outputId": "fb9d6c1c-0d9a-4678-ee4c-c2155abf9736"
      },
      "source": [
        "train_df.shape"
      ],
      "execution_count": 0,
      "outputs": [
        {
          "output_type": "execute_result",
          "data": {
            "text/plain": [
              "(38312, 77)"
            ]
          },
          "metadata": {
            "tags": []
          },
          "execution_count": 15
        }
      ]
    },
    {
      "cell_type": "code",
      "metadata": {
        "id": "uiTHaJllHfow",
        "colab_type": "code",
        "colab": {}
      },
      "source": [
        ""
      ],
      "execution_count": 0,
      "outputs": []
    },
    {
      "cell_type": "code",
      "metadata": {
        "id": "6boHDPR-Hfo6",
        "colab_type": "code",
        "colab": {}
      },
      "source": [
        "X = train_df.iloc[:, :]\n",
        "# y = train_df.iloc[:, -1]\n",
        "Z = test_df.iloc[:,:]"
      ],
      "execution_count": 0,
      "outputs": []
    },
    {
      "cell_type": "code",
      "metadata": {
        "id": "_Ni1XYQqHfpD",
        "colab_type": "code",
        "colab": {}
      },
      "source": [
        "X_train, X_test, y_train, y_test = train_test_split(X, y, test_size=0.3, random_state=0)"
      ],
      "execution_count": 0,
      "outputs": []
    },
    {
      "cell_type": "code",
      "metadata": {
        "scrolled": true,
        "id": "Klj0N8OdHfpL",
        "colab_type": "code",
        "colab": {},
        "outputId": "25f45d77-4285-4433-878d-ecbdc54dc9d9"
      },
      "source": [
        "import xgboost as xgb\n",
        "import time\n",
        "\n",
        "\n",
        "start_time = time.time()\n",
        "clf = xgb.XGBClassifier(max_depth=5,\n",
        "                n_estimators=2500,\n",
        "                learning_rate=0.1, \n",
        "                colsample_bytree=0.9,\n",
        "                min_child_weight = 3,\n",
        "                seed=1200,\n",
        "                booster='dart'\n",
        "                \n",
        "                )\n",
        "                \n",
        "clf.fit(X_train, y_train, early_stopping_rounds=50, eval_metric=\"auc\",\n",
        "        eval_set=[(X_train, y_train), (X_test, y_test)])\n",
        "\n",
        "pred = clf.predict(X_test)\n",
        "print(f'Done in {time.time() - start_time} seconds')"
      ],
      "execution_count": 0,
      "outputs": [
        {
          "output_type": "stream",
          "text": [
            "[0]\tvalidation_0-auc:0.824092\tvalidation_1-auc:0.821592\n",
            "Multiple eval metrics have been passed: 'validation_1-auc' will be used for early stopping.\n",
            "\n",
            "Will train until validation_1-auc hasn't improved in 50 rounds.\n",
            "[1]\tvalidation_0-auc:0.829937\tvalidation_1-auc:0.825366\n",
            "[2]\tvalidation_0-auc:0.830352\tvalidation_1-auc:0.825268\n",
            "[3]\tvalidation_0-auc:0.855094\tvalidation_1-auc:0.845036\n",
            "[4]\tvalidation_0-auc:0.862011\tvalidation_1-auc:0.850151\n",
            "[5]\tvalidation_0-auc:0.864238\tvalidation_1-auc:0.852129\n",
            "[6]\tvalidation_0-auc:0.864637\tvalidation_1-auc:0.852033\n",
            "[7]\tvalidation_0-auc:0.866448\tvalidation_1-auc:0.854368\n",
            "[8]\tvalidation_0-auc:0.871076\tvalidation_1-auc:0.859204\n",
            "[9]\tvalidation_0-auc:0.871582\tvalidation_1-auc:0.859423\n",
            "[10]\tvalidation_0-auc:0.871506\tvalidation_1-auc:0.860193\n",
            "[11]\tvalidation_0-auc:0.874898\tvalidation_1-auc:0.864475\n",
            "[12]\tvalidation_0-auc:0.87594\tvalidation_1-auc:0.865411\n",
            "[13]\tvalidation_0-auc:0.877341\tvalidation_1-auc:0.866628\n",
            "[14]\tvalidation_0-auc:0.877109\tvalidation_1-auc:0.866107\n",
            "[15]\tvalidation_0-auc:0.878113\tvalidation_1-auc:0.867217\n",
            "[16]\tvalidation_0-auc:0.884218\tvalidation_1-auc:0.874888\n",
            "[17]\tvalidation_0-auc:0.886697\tvalidation_1-auc:0.879185\n",
            "[18]\tvalidation_0-auc:0.8906\tvalidation_1-auc:0.882612\n",
            "[19]\tvalidation_0-auc:0.890624\tvalidation_1-auc:0.882885\n",
            "[20]\tvalidation_0-auc:0.89176\tvalidation_1-auc:0.884327\n",
            "[21]\tvalidation_0-auc:0.893062\tvalidation_1-auc:0.885278\n",
            "[22]\tvalidation_0-auc:0.893322\tvalidation_1-auc:0.885328\n",
            "[23]\tvalidation_0-auc:0.894642\tvalidation_1-auc:0.8862\n",
            "[24]\tvalidation_0-auc:0.895164\tvalidation_1-auc:0.886833\n",
            "[25]\tvalidation_0-auc:0.896214\tvalidation_1-auc:0.887527\n",
            "[26]\tvalidation_0-auc:0.897143\tvalidation_1-auc:0.887887\n",
            "[27]\tvalidation_0-auc:0.898084\tvalidation_1-auc:0.888878\n",
            "[28]\tvalidation_0-auc:0.898377\tvalidation_1-auc:0.88893\n",
            "[29]\tvalidation_0-auc:0.899766\tvalidation_1-auc:0.88916\n",
            "[30]\tvalidation_0-auc:0.900268\tvalidation_1-auc:0.889804\n",
            "[31]\tvalidation_0-auc:0.900886\tvalidation_1-auc:0.890155\n",
            "[32]\tvalidation_0-auc:0.902154\tvalidation_1-auc:0.891006\n",
            "[33]\tvalidation_0-auc:0.903413\tvalidation_1-auc:0.891797\n",
            "[34]\tvalidation_0-auc:0.906303\tvalidation_1-auc:0.894336\n",
            "[35]\tvalidation_0-auc:0.907918\tvalidation_1-auc:0.895856\n",
            "[36]\tvalidation_0-auc:0.908239\tvalidation_1-auc:0.895704\n",
            "[37]\tvalidation_0-auc:0.908752\tvalidation_1-auc:0.896138\n",
            "[38]\tvalidation_0-auc:0.909548\tvalidation_1-auc:0.896407\n",
            "[39]\tvalidation_0-auc:0.909724\tvalidation_1-auc:0.896251\n",
            "[40]\tvalidation_0-auc:0.910026\tvalidation_1-auc:0.896291\n",
            "[41]\tvalidation_0-auc:0.91033\tvalidation_1-auc:0.896723\n",
            "[42]\tvalidation_0-auc:0.910416\tvalidation_1-auc:0.897039\n",
            "[43]\tvalidation_0-auc:0.910449\tvalidation_1-auc:0.897142\n",
            "[44]\tvalidation_0-auc:0.910753\tvalidation_1-auc:0.896984\n",
            "[45]\tvalidation_0-auc:0.91169\tvalidation_1-auc:0.897713\n",
            "[46]\tvalidation_0-auc:0.912693\tvalidation_1-auc:0.898476\n",
            "[47]\tvalidation_0-auc:0.913015\tvalidation_1-auc:0.898383\n",
            "[48]\tvalidation_0-auc:0.913632\tvalidation_1-auc:0.89877\n",
            "[49]\tvalidation_0-auc:0.913791\tvalidation_1-auc:0.898761\n",
            "[50]\tvalidation_0-auc:0.913936\tvalidation_1-auc:0.898883\n",
            "[51]\tvalidation_0-auc:0.914144\tvalidation_1-auc:0.89888\n",
            "[52]\tvalidation_0-auc:0.914521\tvalidation_1-auc:0.898924\n",
            "[53]\tvalidation_0-auc:0.915728\tvalidation_1-auc:0.900334\n",
            "[54]\tvalidation_0-auc:0.916124\tvalidation_1-auc:0.900376\n",
            "[55]\tvalidation_0-auc:0.916992\tvalidation_1-auc:0.901106\n",
            "[56]\tvalidation_0-auc:0.91734\tvalidation_1-auc:0.901359\n",
            "[57]\tvalidation_0-auc:0.917541\tvalidation_1-auc:0.901673\n",
            "[58]\tvalidation_0-auc:0.91769\tvalidation_1-auc:0.901902\n",
            "[59]\tvalidation_0-auc:0.918629\tvalidation_1-auc:0.902758\n",
            "[60]\tvalidation_0-auc:0.918721\tvalidation_1-auc:0.902682\n",
            "[61]\tvalidation_0-auc:0.919259\tvalidation_1-auc:0.902632\n",
            "[62]\tvalidation_0-auc:0.919535\tvalidation_1-auc:0.902742\n",
            "[63]\tvalidation_0-auc:0.919784\tvalidation_1-auc:0.902991\n",
            "[64]\tvalidation_0-auc:0.920203\tvalidation_1-auc:0.902817\n",
            "[65]\tvalidation_0-auc:0.920602\tvalidation_1-auc:0.902705\n",
            "[66]\tvalidation_0-auc:0.921399\tvalidation_1-auc:0.903262\n",
            "[67]\tvalidation_0-auc:0.921639\tvalidation_1-auc:0.90329\n",
            "[68]\tvalidation_0-auc:0.92195\tvalidation_1-auc:0.903473\n",
            "[69]\tvalidation_0-auc:0.922135\tvalidation_1-auc:0.903498\n",
            "[70]\tvalidation_0-auc:0.922503\tvalidation_1-auc:0.903352\n",
            "[71]\tvalidation_0-auc:0.92286\tvalidation_1-auc:0.904061\n",
            "[72]\tvalidation_0-auc:0.923134\tvalidation_1-auc:0.90417\n",
            "[73]\tvalidation_0-auc:0.923334\tvalidation_1-auc:0.904308\n",
            "[74]\tvalidation_0-auc:0.92351\tvalidation_1-auc:0.904136\n",
            "[75]\tvalidation_0-auc:0.923786\tvalidation_1-auc:0.904098\n",
            "[76]\tvalidation_0-auc:0.923999\tvalidation_1-auc:0.904086\n",
            "[77]\tvalidation_0-auc:0.924106\tvalidation_1-auc:0.904067\n",
            "[78]\tvalidation_0-auc:0.924347\tvalidation_1-auc:0.904235\n",
            "[79]\tvalidation_0-auc:0.924612\tvalidation_1-auc:0.904535\n",
            "[80]\tvalidation_0-auc:0.924998\tvalidation_1-auc:0.904754\n",
            "[81]\tvalidation_0-auc:0.92517\tvalidation_1-auc:0.904801\n",
            "[82]\tvalidation_0-auc:0.925253\tvalidation_1-auc:0.904771\n",
            "[83]\tvalidation_0-auc:0.925496\tvalidation_1-auc:0.904719\n",
            "[84]\tvalidation_0-auc:0.926035\tvalidation_1-auc:0.90535\n",
            "[85]\tvalidation_0-auc:0.926456\tvalidation_1-auc:0.905695\n",
            "[86]\tvalidation_0-auc:0.926603\tvalidation_1-auc:0.905826\n",
            "[87]\tvalidation_0-auc:0.926933\tvalidation_1-auc:0.90608\n",
            "[88]\tvalidation_0-auc:0.927092\tvalidation_1-auc:0.906276\n",
            "[89]\tvalidation_0-auc:0.927202\tvalidation_1-auc:0.906121\n",
            "[90]\tvalidation_0-auc:0.927372\tvalidation_1-auc:0.906102\n",
            "[91]\tvalidation_0-auc:0.927536\tvalidation_1-auc:0.906063\n",
            "[92]\tvalidation_0-auc:0.927734\tvalidation_1-auc:0.906113\n",
            "[93]\tvalidation_0-auc:0.92789\tvalidation_1-auc:0.906094\n",
            "[94]\tvalidation_0-auc:0.928066\tvalidation_1-auc:0.906323\n",
            "[95]\tvalidation_0-auc:0.928289\tvalidation_1-auc:0.906484\n",
            "[96]\tvalidation_0-auc:0.928616\tvalidation_1-auc:0.906347\n",
            "[97]\tvalidation_0-auc:0.928905\tvalidation_1-auc:0.906456\n",
            "[98]\tvalidation_0-auc:0.929368\tvalidation_1-auc:0.906806\n",
            "[99]\tvalidation_0-auc:0.929594\tvalidation_1-auc:0.906886\n",
            "[100]\tvalidation_0-auc:0.929748\tvalidation_1-auc:0.906947\n",
            "[101]\tvalidation_0-auc:0.92987\tvalidation_1-auc:0.906913\n",
            "[102]\tvalidation_0-auc:0.930021\tvalidation_1-auc:0.906898\n",
            "[103]\tvalidation_0-auc:0.93016\tvalidation_1-auc:0.906797\n",
            "[104]\tvalidation_0-auc:0.930311\tvalidation_1-auc:0.90704\n",
            "[105]\tvalidation_0-auc:0.930881\tvalidation_1-auc:0.907041\n",
            "[106]\tvalidation_0-auc:0.93115\tvalidation_1-auc:0.907008\n",
            "[107]\tvalidation_0-auc:0.931427\tvalidation_1-auc:0.907226\n",
            "[108]\tvalidation_0-auc:0.931678\tvalidation_1-auc:0.907178\n",
            "[109]\tvalidation_0-auc:0.931824\tvalidation_1-auc:0.907464\n",
            "[110]\tvalidation_0-auc:0.931939\tvalidation_1-auc:0.907438\n",
            "[111]\tvalidation_0-auc:0.932092\tvalidation_1-auc:0.907389\n",
            "[112]\tvalidation_0-auc:0.932102\tvalidation_1-auc:0.907394\n",
            "[113]\tvalidation_0-auc:0.93223\tvalidation_1-auc:0.907431\n",
            "[114]\tvalidation_0-auc:0.932504\tvalidation_1-auc:0.907452\n",
            "[115]\tvalidation_0-auc:0.93257\tvalidation_1-auc:0.907539\n",
            "[116]\tvalidation_0-auc:0.932729\tvalidation_1-auc:0.907675\n",
            "[117]\tvalidation_0-auc:0.932915\tvalidation_1-auc:0.907724\n",
            "[118]\tvalidation_0-auc:0.933131\tvalidation_1-auc:0.907659\n",
            "[119]\tvalidation_0-auc:0.93324\tvalidation_1-auc:0.907615\n",
            "[120]\tvalidation_0-auc:0.933678\tvalidation_1-auc:0.907728\n",
            "[121]\tvalidation_0-auc:0.933913\tvalidation_1-auc:0.907619\n",
            "[122]\tvalidation_0-auc:0.934076\tvalidation_1-auc:0.907682\n",
            "[123]\tvalidation_0-auc:0.934412\tvalidation_1-auc:0.907759\n",
            "[124]\tvalidation_0-auc:0.934517\tvalidation_1-auc:0.907792\n",
            "[125]\tvalidation_0-auc:0.934782\tvalidation_1-auc:0.907771\n",
            "[126]\tvalidation_0-auc:0.9349\tvalidation_1-auc:0.90779\n",
            "[127]\tvalidation_0-auc:0.935017\tvalidation_1-auc:0.90779\n",
            "[128]\tvalidation_0-auc:0.935134\tvalidation_1-auc:0.907855\n",
            "[129]\tvalidation_0-auc:0.935189\tvalidation_1-auc:0.907911\n",
            "[130]\tvalidation_0-auc:0.935328\tvalidation_1-auc:0.907807\n",
            "[131]\tvalidation_0-auc:0.935372\tvalidation_1-auc:0.907776\n",
            "[132]\tvalidation_0-auc:0.93547\tvalidation_1-auc:0.907723\n",
            "[133]\tvalidation_0-auc:0.935659\tvalidation_1-auc:0.907833\n",
            "[134]\tvalidation_0-auc:0.935839\tvalidation_1-auc:0.908069\n",
            "[135]\tvalidation_0-auc:0.935976\tvalidation_1-auc:0.90803\n",
            "[136]\tvalidation_0-auc:0.936209\tvalidation_1-auc:0.908141\n",
            "[137]\tvalidation_0-auc:0.936303\tvalidation_1-auc:0.908172\n",
            "[138]\tvalidation_0-auc:0.936448\tvalidation_1-auc:0.90815\n",
            "[139]\tvalidation_0-auc:0.936558\tvalidation_1-auc:0.908176\n",
            "[140]\tvalidation_0-auc:0.936653\tvalidation_1-auc:0.908206\n",
            "[141]\tvalidation_0-auc:0.936805\tvalidation_1-auc:0.908249\n"
          ],
          "name": "stdout"
        },
        {
          "output_type": "stream",
          "text": [
            "[142]\tvalidation_0-auc:0.936901\tvalidation_1-auc:0.908318\n",
            "[143]\tvalidation_0-auc:0.936978\tvalidation_1-auc:0.908273\n",
            "[144]\tvalidation_0-auc:0.937117\tvalidation_1-auc:0.908276\n",
            "[145]\tvalidation_0-auc:0.937262\tvalidation_1-auc:0.90828\n",
            "[146]\tvalidation_0-auc:0.93732\tvalidation_1-auc:0.908307\n",
            "[147]\tvalidation_0-auc:0.937344\tvalidation_1-auc:0.908301\n",
            "[148]\tvalidation_0-auc:0.937405\tvalidation_1-auc:0.908359\n",
            "[149]\tvalidation_0-auc:0.937511\tvalidation_1-auc:0.908379\n",
            "[150]\tvalidation_0-auc:0.937562\tvalidation_1-auc:0.908434\n",
            "[151]\tvalidation_0-auc:0.937687\tvalidation_1-auc:0.908436\n",
            "[152]\tvalidation_0-auc:0.937914\tvalidation_1-auc:0.908533\n",
            "[153]\tvalidation_0-auc:0.938121\tvalidation_1-auc:0.908504\n",
            "[154]\tvalidation_0-auc:0.938442\tvalidation_1-auc:0.908524\n",
            "[155]\tvalidation_0-auc:0.938591\tvalidation_1-auc:0.908464\n",
            "[156]\tvalidation_0-auc:0.938727\tvalidation_1-auc:0.908389\n",
            "[157]\tvalidation_0-auc:0.938851\tvalidation_1-auc:0.908371\n",
            "[158]\tvalidation_0-auc:0.938965\tvalidation_1-auc:0.908352\n",
            "[159]\tvalidation_0-auc:0.939195\tvalidation_1-auc:0.908374\n",
            "[160]\tvalidation_0-auc:0.93932\tvalidation_1-auc:0.908246\n",
            "[161]\tvalidation_0-auc:0.939455\tvalidation_1-auc:0.908153\n",
            "[162]\tvalidation_0-auc:0.939514\tvalidation_1-auc:0.908172\n",
            "[163]\tvalidation_0-auc:0.939662\tvalidation_1-auc:0.908186\n",
            "[164]\tvalidation_0-auc:0.939931\tvalidation_1-auc:0.908213\n",
            "[165]\tvalidation_0-auc:0.940037\tvalidation_1-auc:0.90813\n",
            "[166]\tvalidation_0-auc:0.940139\tvalidation_1-auc:0.90814\n",
            "[167]\tvalidation_0-auc:0.940237\tvalidation_1-auc:0.908135\n",
            "[168]\tvalidation_0-auc:0.940272\tvalidation_1-auc:0.908104\n",
            "[169]\tvalidation_0-auc:0.940512\tvalidation_1-auc:0.908028\n",
            "[170]\tvalidation_0-auc:0.940576\tvalidation_1-auc:0.908061\n",
            "[171]\tvalidation_0-auc:0.940647\tvalidation_1-auc:0.908037\n",
            "[172]\tvalidation_0-auc:0.94081\tvalidation_1-auc:0.908064\n",
            "[173]\tvalidation_0-auc:0.941297\tvalidation_1-auc:0.908137\n",
            "[174]\tvalidation_0-auc:0.941589\tvalidation_1-auc:0.908164\n",
            "[175]\tvalidation_0-auc:0.9417\tvalidation_1-auc:0.908274\n",
            "[176]\tvalidation_0-auc:0.941853\tvalidation_1-auc:0.908253\n",
            "[177]\tvalidation_0-auc:0.941998\tvalidation_1-auc:0.908262\n",
            "[178]\tvalidation_0-auc:0.942234\tvalidation_1-auc:0.908256\n",
            "[179]\tvalidation_0-auc:0.942362\tvalidation_1-auc:0.908253\n",
            "[180]\tvalidation_0-auc:0.942573\tvalidation_1-auc:0.908215\n",
            "[181]\tvalidation_0-auc:0.942701\tvalidation_1-auc:0.908182\n",
            "[182]\tvalidation_0-auc:0.942783\tvalidation_1-auc:0.908163\n",
            "[183]\tvalidation_0-auc:0.942974\tvalidation_1-auc:0.908166\n",
            "[184]\tvalidation_0-auc:0.943104\tvalidation_1-auc:0.908176\n",
            "[185]\tvalidation_0-auc:0.943262\tvalidation_1-auc:0.908257\n",
            "[186]\tvalidation_0-auc:0.943468\tvalidation_1-auc:0.908416\n",
            "[187]\tvalidation_0-auc:0.943515\tvalidation_1-auc:0.908377\n",
            "[188]\tvalidation_0-auc:0.94369\tvalidation_1-auc:0.908343\n",
            "[189]\tvalidation_0-auc:0.94378\tvalidation_1-auc:0.908305\n",
            "[190]\tvalidation_0-auc:0.943979\tvalidation_1-auc:0.908274\n",
            "[191]\tvalidation_0-auc:0.944178\tvalidation_1-auc:0.908395\n",
            "[192]\tvalidation_0-auc:0.944303\tvalidation_1-auc:0.908402\n",
            "[193]\tvalidation_0-auc:0.944425\tvalidation_1-auc:0.908413\n",
            "[194]\tvalidation_0-auc:0.944559\tvalidation_1-auc:0.908429\n",
            "[195]\tvalidation_0-auc:0.94463\tvalidation_1-auc:0.908434\n",
            "[196]\tvalidation_0-auc:0.944729\tvalidation_1-auc:0.908391\n",
            "[197]\tvalidation_0-auc:0.944882\tvalidation_1-auc:0.908423\n",
            "[198]\tvalidation_0-auc:0.94492\tvalidation_1-auc:0.908431\n",
            "[199]\tvalidation_0-auc:0.945064\tvalidation_1-auc:0.908393\n",
            "[200]\tvalidation_0-auc:0.945134\tvalidation_1-auc:0.908342\n",
            "[201]\tvalidation_0-auc:0.945278\tvalidation_1-auc:0.908339\n",
            "[202]\tvalidation_0-auc:0.945376\tvalidation_1-auc:0.908327\n",
            "Stopping. Best iteration:\n",
            "[152]\tvalidation_0-auc:0.937914\tvalidation_1-auc:0.908533\n",
            "\n",
            "Done in 105.07302284240723 seconds\n"
          ],
          "name": "stdout"
        },
        {
          "output_type": "stream",
          "text": [
            "C:\\Users\\SAMUEL PC\\Anaconda\\lib\\site-packages\\sklearn\\preprocessing\\label.py:151: DeprecationWarning: The truth value of an empty array is ambiguous. Returning False, but in future this will result in an error. Use `array.size > 0` to check that an array is not empty.\n",
            "  if diff:\n"
          ],
          "name": "stderr"
        }
      ]
    },
    {
      "cell_type": "code",
      "metadata": {
        "id": "gWs-DEoRHfpY",
        "colab_type": "code",
        "colab": {},
        "outputId": "27bb059b-6abc-456f-ff6e-1aa575f1a278"
      },
      "source": [
        "clf.score(X_train, y_train)\n",
        "# 0.9430233425311358\n",
        "# 0.9450696055684454"
      ],
      "execution_count": 0,
      "outputs": [
        {
          "output_type": "stream",
          "text": [
            "C:\\Users\\SAMUEL PC\\Anaconda\\lib\\site-packages\\sklearn\\preprocessing\\label.py:151: DeprecationWarning: The truth value of an empty array is ambiguous. Returning False, but in future this will result in an error. Use `array.size > 0` to check that an array is not empty.\n",
            "  if diff:\n"
          ],
          "name": "stderr"
        },
        {
          "output_type": "execute_result",
          "data": {
            "text/plain": [
              "0.9444403012901782"
            ]
          },
          "metadata": {
            "tags": []
          },
          "execution_count": 19
        }
      ]
    },
    {
      "cell_type": "code",
      "metadata": {
        "id": "4a3N-Pg0Hfpg",
        "colab_type": "code",
        "colab": {}
      },
      "source": [
        "# predictions = clf.predict(Z)\n",
        "# prediction = pd.DataFrame(predictions)\n",
        "# prediction.index = z\n",
        "# prediction.index.name = 'EmployeeNo'\n",
        "# prediction.columns=['Promoted_or_Not']\n",
        "# prediction.to_csv('predictions_9X.csv')"
      ],
      "execution_count": 0,
      "outputs": []
    },
    {
      "cell_type": "code",
      "metadata": {
        "id": "3tL8CMLdHfpo",
        "colab_type": "code",
        "colab": {},
        "outputId": "56567946-a4cc-4df7-f628-bfd56564bf47"
      },
      "source": [
        "# stacking\n",
        "pred = clf.predict(Z)\n",
        "merged = pd.read_csv('hy.csv')\n",
        "merged_values = merged['Promoted_or_Not'].values"
      ],
      "execution_count": 0,
      "outputs": [
        {
          "output_type": "stream",
          "text": [
            "C:\\Users\\SAMUEL PC\\Anaconda\\lib\\site-packages\\sklearn\\preprocessing\\label.py:151: DeprecationWarning: The truth value of an empty array is ambiguous. Returning False, but in future this will result in an error. Use `array.size > 0` to check that an array is not empty.\n",
            "  if diff:\n"
          ],
          "name": "stderr"
        }
      ]
    },
    {
      "cell_type": "code",
      "metadata": {
        "id": "3-gdMSFaHfpy",
        "colab_type": "code",
        "colab": {}
      },
      "source": [
        "sums = pred+merged_values\n",
        "merged['Promoted_or_Not'] = sums"
      ],
      "execution_count": 0,
      "outputs": []
    },
    {
      "cell_type": "code",
      "metadata": {
        "id": "bVt0RnGEHfp4",
        "colab_type": "code",
        "colab": {}
      },
      "source": [
        "merged['Promoted_or_Not'] = merged['Promoted_or_Not'].map(lambda x: x if x==0 else 1)"
      ],
      "execution_count": 0,
      "outputs": []
    },
    {
      "cell_type": "code",
      "metadata": {
        "id": "hS9d6ejjHfqB",
        "colab_type": "code",
        "colab": {},
        "outputId": "f32758d9-7199-41b2-e622-f4f62ddc7132"
      },
      "source": [
        "pd.value_counts(sums)"
      ],
      "execution_count": 0,
      "outputs": [
        {
          "output_type": "execute_result",
          "data": {
            "text/plain": [
              "0    15976\n",
              "2      486\n",
              "1       34\n",
              "dtype: int64"
            ]
          },
          "metadata": {
            "tags": []
          },
          "execution_count": 24
        }
      ]
    },
    {
      "cell_type": "code",
      "metadata": {
        "id": "Ggn2FN24HfqI",
        "colab_type": "code",
        "colab": {}
      },
      "source": [
        "merged.to_csv('hy_test3.csv', index=False)"
      ],
      "execution_count": 0,
      "outputs": []
    },
    {
      "cell_type": "code",
      "metadata": {
        "id": "f5QoxUURHfqQ",
        "colab_type": "code",
        "colab": {},
        "outputId": "e3ba4686-5d8b-41ab-d33e-08de6b89a799"
      },
      "source": [
        "merged['Promoted_or_Not'].value_counts()"
      ],
      "execution_count": 0,
      "outputs": [
        {
          "output_type": "execute_result",
          "data": {
            "text/plain": [
              "0    15976\n",
              "1      520\n",
              "Name: Promoted_or_Not, dtype: int64"
            ]
          },
          "metadata": {
            "tags": []
          },
          "execution_count": 26
        }
      ]
    },
    {
      "cell_type": "code",
      "metadata": {
        "id": "mcpR4PPsHfqY",
        "colab_type": "code",
        "colab": {},
        "outputId": "5282157b-1f53-42a1-deb3-b71aee089a59"
      },
      "source": [
        "clf_new = xgb.XGBClassifier()\n",
        "clf_new.fit(X_train, y_train)"
      ],
      "execution_count": 0,
      "outputs": [
        {
          "output_type": "execute_result",
          "data": {
            "text/plain": [
              "XGBClassifier(base_score=0.5, booster='gbtree', colsample_bylevel=1,\n",
              "       colsample_bynode=1, colsample_bytree=1, gamma=0, learning_rate=0.1,\n",
              "       max_delta_step=0, max_depth=3, min_child_weight=1, missing=None,\n",
              "       n_estimators=100, n_jobs=1, nthread=None,\n",
              "       objective='binary:logistic', random_state=0, reg_alpha=0,\n",
              "       reg_lambda=1, scale_pos_weight=1, seed=None, silent=None,\n",
              "       subsample=1, verbosity=1)"
            ]
          },
          "metadata": {
            "tags": []
          },
          "execution_count": 27
        }
      ]
    },
    {
      "cell_type": "code",
      "metadata": {
        "id": "1xxJCHjkHfqf",
        "colab_type": "code",
        "colab": {},
        "outputId": "50756456-e37b-4395-9ff2-2ebd67b2c83d"
      },
      "source": [
        "clf_new.score(X_train, y_train)"
      ],
      "execution_count": 0,
      "outputs": [
        {
          "output_type": "stream",
          "text": [
            "C:\\Users\\SAMUEL PC\\Anaconda\\lib\\site-packages\\sklearn\\preprocessing\\label.py:151: DeprecationWarning: The truth value of an empty array is ambiguous. Returning False, but in future this will result in an error. Use `array.size > 0` to check that an array is not empty.\n",
            "  if diff:\n"
          ],
          "name": "stderr"
        },
        {
          "output_type": "execute_result",
          "data": {
            "text/plain": [
              "0.9378029681557163"
            ]
          },
          "metadata": {
            "tags": []
          },
          "execution_count": 28
        }
      ]
    }
  ]
}